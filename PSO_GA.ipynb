{
 "cells": [
  {
   "cell_type": "code",
   "execution_count": 489,
   "metadata": {},
   "outputs": [],
   "source": [
    "%matplotlib inline\n",
    "import matplotlib.pyplot as plt"
   ]
  },
  {
   "cell_type": "code",
   "execution_count": 1,
   "metadata": {},
   "outputs": [
    {
     "name": "stderr",
     "output_type": "stream",
     "text": [
      "C:\\Users\\icmems\\Anaconda3\\lib\\site-packages\\deap\\tools\\_hypervolume\\pyhv.py:33: ImportWarning: Falling back to the python version of hypervolume module. Expect this to be very slow.\n",
      "  \"module. Expect this to be very slow.\", ImportWarning)\n",
      "C:\\Users\\icmems\\Anaconda3\\lib\\importlib\\_bootstrap.py:219: ImportWarning: can't resolve package from __spec__ or __package__, falling back on __name__ and __path__\n",
      "  return f(*args, **kwds)\n",
      "C:\\Users\\icmems\\Anaconda3\\lib\\importlib\\_bootstrap.py:219: ImportWarning: can't resolve package from __spec__ or __package__, falling back on __name__ and __path__\n",
      "  return f(*args, **kwds)\n",
      "C:\\Users\\icmems\\Anaconda3\\lib\\importlib\\_bootstrap.py:219: ImportWarning: can't resolve package from __spec__ or __package__, falling back on __name__ and __path__\n",
      "  return f(*args, **kwds)\n",
      "C:\\Users\\icmems\\Anaconda3\\lib\\importlib\\_bootstrap.py:219: ImportWarning: can't resolve package from __spec__ or __package__, falling back on __name__ and __path__\n",
      "  return f(*args, **kwds)\n",
      "C:\\Users\\icmems\\Anaconda3\\lib\\importlib\\_bootstrap.py:219: ImportWarning: can't resolve package from __spec__ or __package__, falling back on __name__ and __path__\n",
      "  return f(*args, **kwds)\n"
     ]
    },
    {
     "name": "stdout",
     "output_type": "stream",
     "text": [
      "Warning: xgboost.XGBClassifier is not available and will not be used by TPOT.\n"
     ]
    },
    {
     "name": "stderr",
     "output_type": "stream",
     "text": []
    },
    {
     "name": "stdout",
     "output_type": "stream",
     "text": [
      "Generation 1 - Current best internal CV score: 0.9732122963809369\n"
     ]
    },
    {
     "name": "stderr",
     "output_type": "stream",
     "text": []
    },
    {
     "name": "stdout",
     "output_type": "stream",
     "text": [
      "Generation 2 - Current best internal CV score: 0.9732122963809369\n"
     ]
    },
    {
     "name": "stderr",
     "output_type": "stream",
     "text": []
    },
    {
     "name": "stdout",
     "output_type": "stream",
     "text": [
      "Generation 3 - Current best internal CV score: 0.9732122963809369\n"
     ]
    },
    {
     "name": "stderr",
     "output_type": "stream",
     "text": []
    },
    {
     "name": "stdout",
     "output_type": "stream",
     "text": [
      "Generation 4 - Current best internal CV score: 0.9806450981359826\n"
     ]
    },
    {
     "name": "stderr",
     "output_type": "stream",
     "text": []
    },
    {
     "name": "stdout",
     "output_type": "stream",
     "text": [
      "Generation 5 - Current best internal CV score: 0.9806450981359826\n"
     ]
    },
    {
     "name": "stderr",
     "output_type": "stream",
     "text": []
    },
    {
     "name": "stdout",
     "output_type": "stream",
     "text": [
      "\n",
      "Best pipeline: RandomForestClassifier(KNeighborsClassifier(input_matrix, n_neighbors=9, p=2, weights=distance), bootstrap=True, criterion=gini, max_features=0.6000000000000001, min_samples_leaf=15, min_samples_split=20, n_estimators=100)\n",
      "0.9866666666666667\n"
     ]
    },
    {
     "data": {
      "text/plain": [
       "True"
      ]
     },
     "execution_count": 1,
     "metadata": {},
     "output_type": "execute_result"
    }
   ],
   "source": [
    "from tpot import TPOTClassifier\n",
    "from sklearn.datasets import load_digits\n",
    "from sklearn.model_selection import train_test_split\n",
    "\n",
    "digits = load_digits()\n",
    "X_train, X_test, y_train, y_test = train_test_split(digits.data, digits.target,\n",
    "                                                    train_size=0.75, test_size=0.25)\n",
    "\n",
    "tpot = TPOTClassifier(generations=5, population_size=50, verbosity=2)\n",
    "tpot.fit(X_train, y_train)\n",
    "print(tpot.score(X_test, y_test))\n",
    "tpot.export('tpot_mnist_pipeline.py')"
   ]
  },
  {
   "cell_type": "code",
   "execution_count": 2,
   "metadata": {},
   "outputs": [
    {
     "name": "stdout",
     "output_type": "stream",
     "text": [
      " 磁碟區 C 中的磁碟沒有標籤。\n",
      " 磁碟區序號:  8229-9EF4\n",
      "\n",
      " C:\\Users\\icmems\\Desktop\\score\\各科成績標準一覽表 的目錄\n",
      "\n",
      "2018/03/02  上午 10:05    <DIR>          .\n",
      "2018/03/02  上午 10:05    <DIR>          ..\n",
      "2018/03/02  上午 05:54    <DIR>          .ipynb_checkpoints\n",
      "2018/02/27  上午 03:46            23,040 100SAT_stat_27.xls\n",
      "2018/02/26  下午 08:42            36,352 106_individal_score.xls\n",
      "2018/02/26  下午 08:39            36,352 107_individal_score.xls\n",
      "2018/03/01  上午 07:49            44,544 27各科成績標準一覽表105~96.xls\n",
      "2018/03/02  上午 10:05             4,637 PSO_GA.ipynb\n",
      "2018/03/01  上午 06:15            14,207 total.xlsx\n",
      "2018/03/02  上午 10:05             1,134 tpot_mnist_pipeline.py\n",
      "2018/03/02  上午 06:03           388,718 Untitled.ipynb\n",
      "               8 個檔案         548,984 位元組\n",
      "               3 個目錄  31,639,281,664 位元組可用\n"
     ]
    }
   ],
   "source": [
    "ls"
   ]
  },
  {
   "cell_type": "code",
   "execution_count": 3,
   "metadata": {},
   "outputs": [
    {
     "data": {
      "text/plain": [
       "\u001b[1;32mimport\u001b[0m \u001b[0mnumpy\u001b[0m \u001b[1;32mas\u001b[0m \u001b[0mnp\u001b[0m\u001b[1;33m\n",
       "\u001b[0m\u001b[1;32mimport\u001b[0m \u001b[0mpandas\u001b[0m \u001b[1;32mas\u001b[0m \u001b[0mpd\u001b[0m\u001b[1;33m\n",
       "\u001b[0m\u001b[1;32mfrom\u001b[0m \u001b[0msklearn\u001b[0m\u001b[1;33m.\u001b[0m\u001b[0mensemble\u001b[0m \u001b[1;32mimport\u001b[0m \u001b[0mRandomForestClassifier\u001b[0m\u001b[1;33m\n",
       "\u001b[0m\u001b[1;32mfrom\u001b[0m \u001b[0msklearn\u001b[0m\u001b[1;33m.\u001b[0m\u001b[0mmodel_selection\u001b[0m \u001b[1;32mimport\u001b[0m \u001b[0mtrain_test_split\u001b[0m\u001b[1;33m\n",
       "\u001b[0m\u001b[1;32mfrom\u001b[0m \u001b[0msklearn\u001b[0m\u001b[1;33m.\u001b[0m\u001b[0mneighbors\u001b[0m \u001b[1;32mimport\u001b[0m \u001b[0mKNeighborsClassifier\u001b[0m\u001b[1;33m\n",
       "\u001b[0m\u001b[1;32mfrom\u001b[0m \u001b[0msklearn\u001b[0m\u001b[1;33m.\u001b[0m\u001b[0mpipeline\u001b[0m \u001b[1;32mimport\u001b[0m \u001b[0mmake_pipeline\u001b[0m\u001b[1;33m,\u001b[0m \u001b[0mmake_union\u001b[0m\u001b[1;33m\n",
       "\u001b[0m\u001b[1;32mfrom\u001b[0m \u001b[0mtpot\u001b[0m\u001b[1;33m.\u001b[0m\u001b[0mbuiltins\u001b[0m \u001b[1;32mimport\u001b[0m \u001b[0mStackingEstimator\u001b[0m\u001b[1;33m\n",
       "\u001b[0m\u001b[1;33m\n",
       "\u001b[0m\u001b[1;31m# NOTE: Make sure that the class is labeled 'target' in the data file\u001b[0m\u001b[1;33m\n",
       "\u001b[0m\u001b[0mtpot_data\u001b[0m \u001b[1;33m=\u001b[0m \u001b[0mpd\u001b[0m\u001b[1;33m.\u001b[0m\u001b[0mread_csv\u001b[0m\u001b[1;33m(\u001b[0m\u001b[1;34m'PATH/TO/DATA/FILE'\u001b[0m\u001b[1;33m,\u001b[0m \u001b[0msep\u001b[0m\u001b[1;33m=\u001b[0m\u001b[1;34m'COLUMN_SEPARATOR'\u001b[0m\u001b[1;33m,\u001b[0m \u001b[0mdtype\u001b[0m\u001b[1;33m=\u001b[0m\u001b[0mnp\u001b[0m\u001b[1;33m.\u001b[0m\u001b[0mfloat64\u001b[0m\u001b[1;33m)\u001b[0m\u001b[1;33m\n",
       "\u001b[0m\u001b[0mfeatures\u001b[0m \u001b[1;33m=\u001b[0m \u001b[0mtpot_data\u001b[0m\u001b[1;33m.\u001b[0m\u001b[0mdrop\u001b[0m\u001b[1;33m(\u001b[0m\u001b[1;34m'target'\u001b[0m\u001b[1;33m,\u001b[0m \u001b[0maxis\u001b[0m\u001b[1;33m=\u001b[0m\u001b[1;36m1\u001b[0m\u001b[1;33m)\u001b[0m\u001b[1;33m.\u001b[0m\u001b[0mvalues\u001b[0m\u001b[1;33m\n",
       "\u001b[0m\u001b[0mtraining_features\u001b[0m\u001b[1;33m,\u001b[0m \u001b[0mtesting_features\u001b[0m\u001b[1;33m,\u001b[0m \u001b[0mtraining_target\u001b[0m\u001b[1;33m,\u001b[0m \u001b[0mtesting_target\u001b[0m \u001b[1;33m=\u001b[0m \\\n",
       "            \u001b[0mtrain_test_split\u001b[0m\u001b[1;33m(\u001b[0m\u001b[0mfeatures\u001b[0m\u001b[1;33m,\u001b[0m \u001b[0mtpot_data\u001b[0m\u001b[1;33m[\u001b[0m\u001b[1;34m'target'\u001b[0m\u001b[1;33m]\u001b[0m\u001b[1;33m.\u001b[0m\u001b[0mvalues\u001b[0m\u001b[1;33m,\u001b[0m \u001b[0mrandom_state\u001b[0m\u001b[1;33m=\u001b[0m\u001b[1;36m42\u001b[0m\u001b[1;33m)\u001b[0m\u001b[1;33m\n",
       "\u001b[0m\u001b[1;33m\n",
       "\u001b[0m\u001b[1;31m# Score on the training set was:0.9806450981359826\u001b[0m\u001b[1;33m\n",
       "\u001b[0m\u001b[0mexported_pipeline\u001b[0m \u001b[1;33m=\u001b[0m \u001b[0mmake_pipeline\u001b[0m\u001b[1;33m(\u001b[0m\u001b[1;33m\n",
       "\u001b[0m    \u001b[0mStackingEstimator\u001b[0m\u001b[1;33m(\u001b[0m\u001b[0mestimator\u001b[0m\u001b[1;33m=\u001b[0m\u001b[0mKNeighborsClassifier\u001b[0m\u001b[1;33m(\u001b[0m\u001b[0mn_neighbors\u001b[0m\u001b[1;33m=\u001b[0m\u001b[1;36m9\u001b[0m\u001b[1;33m,\u001b[0m \u001b[0mp\u001b[0m\u001b[1;33m=\u001b[0m\u001b[1;36m2\u001b[0m\u001b[1;33m,\u001b[0m \u001b[0mweights\u001b[0m\u001b[1;33m=\u001b[0m\u001b[1;34m\"distance\"\u001b[0m\u001b[1;33m)\u001b[0m\u001b[1;33m)\u001b[0m\u001b[1;33m,\u001b[0m\u001b[1;33m\n",
       "\u001b[0m    \u001b[0mRandomForestClassifier\u001b[0m\u001b[1;33m(\u001b[0m\u001b[0mbootstrap\u001b[0m\u001b[1;33m=\u001b[0m\u001b[1;32mTrue\u001b[0m\u001b[1;33m,\u001b[0m \u001b[0mcriterion\u001b[0m\u001b[1;33m=\u001b[0m\u001b[1;34m\"gini\"\u001b[0m\u001b[1;33m,\u001b[0m \u001b[0mmax_features\u001b[0m\u001b[1;33m=\u001b[0m\u001b[1;36m0.6000000000000001\u001b[0m\u001b[1;33m,\u001b[0m \u001b[0mmin_samples_leaf\u001b[0m\u001b[1;33m=\u001b[0m\u001b[1;36m15\u001b[0m\u001b[1;33m,\u001b[0m \u001b[0mmin_samples_split\u001b[0m\u001b[1;33m=\u001b[0m\u001b[1;36m20\u001b[0m\u001b[1;33m,\u001b[0m \u001b[0mn_estimators\u001b[0m\u001b[1;33m=\u001b[0m\u001b[1;36m100\u001b[0m\u001b[1;33m)\u001b[0m\u001b[1;33m\n",
       "\u001b[0m\u001b[1;33m)\u001b[0m\u001b[1;33m\n",
       "\u001b[0m\u001b[1;33m\n",
       "\u001b[0m\u001b[0mexported_pipeline\u001b[0m\u001b[1;33m.\u001b[0m\u001b[0mfit\u001b[0m\u001b[1;33m(\u001b[0m\u001b[0mtraining_features\u001b[0m\u001b[1;33m,\u001b[0m \u001b[0mtraining_target\u001b[0m\u001b[1;33m)\u001b[0m\u001b[1;33m\n",
       "\u001b[0m\u001b[0mresults\u001b[0m \u001b[1;33m=\u001b[0m \u001b[0mexported_pipeline\u001b[0m\u001b[1;33m.\u001b[0m\u001b[0mpredict\u001b[0m\u001b[1;33m(\u001b[0m\u001b[0mtesting_features\u001b[0m\u001b[1;33m)\u001b[0m\u001b[1;33m\u001b[0m\u001b[0m\n"
      ]
     },
     "metadata": {},
     "output_type": "display_data"
    }
   ],
   "source": [
    "%pycat tpot_mnist_pipeline.py"
   ]
  },
  {
   "cell_type": "code",
   "execution_count": 4,
   "metadata": {},
   "outputs": [
    {
     "name": "stdout",
     "output_type": "stream",
     "text": [
      "[5 2 6 1 2 7 8 8 2 1 4 8 5 5 2 9 5 7 2 6 3 8 9 2 2 6 1 8 7 2 0 8 1 7 8 7 9\n",
      " 8 4 1 5 5 2 5 9 8 8 3 2 3 1 9 2 5 4 2 3 1 5 0 0 0 5 6 7 0 7 4 9 3 5 2 2 6\n",
      " 7 0 3 3 2 1 6 0 9 4 0 3 8 9 6 5 1 1 2 2 8 7 2 9 4 1 8 2 3 1 2 4 2 0 6 1 0\n",
      " 3 2 9 7 7 6 0 3 3 8 6 1 0 0 1 2 0 0 4 5 7 6 4 4 9 2 2 8 9 5 6 0 9 7 5 7 6\n",
      " 9 5 5 2 3 3 8 3 4 4 2 7 9 5 7 9 6 4 9 1 4 4 1 4 3 4 5 0 5 7 1 2 2 8 3 1 5\n",
      " 6 6 9 6 6 7 0 3 9 0 0 3 5 1 0 1 2 0 6 7 1 2 5 4 4 2 6 8 7 6 1 7 2 5 5 6 0\n",
      " 4 7 5 5 4 1 4 6 9 0 9 7 4 5 5 9 0 1 3 8 6 2 6 4 5 4 7 7 5 5 8 8 6 0 5 2 6\n",
      " 1 0 2 9 0 6 9 9 6 3 5 4 6 0 5 4 8 4 6 8 2 9 9 1 5 3 7 6 5 1 6 4 1 6 9 2 9\n",
      " 9 3 1 4 9 3 7 8 2 7 5 3 3 7 0 1 2 7 4 7 6 0 1 0 4 7 9 9 6 6 7 8 7 9 1 1 0\n",
      " 8 2 7 9 5 3 1 5 8 5 0 0 1 0 3 2 2 6 6 4 7 2 6 8 4 1 3 6 0 6 3 0 7 4 0 8 7\n",
      " 2 1 3 1 3 3 8 7 7 6 7 8 3 9 1 3 3 8 8 8 8 9 1 6 9 3 5 6 4 9 1 3 7 6 8 1 8\n",
      " 8 1 1 3 1 6 2 3 1 0 4 6 0 6 8 9 3 8 3 1 5 8 2 7 3 7 9 9 7 6 4 6 1 4 0 9 4\n",
      " 8 5 8 9 1 7]\n",
      "0.9866666666666667\n"
     ]
    }
   ],
   "source": [
    "import numpy as np\n",
    "import pandas as pd\n",
    "from sklearn.ensemble import RandomForestClassifier\n",
    "from sklearn.model_selection import train_test_split\n",
    "from sklearn.neighbors import KNeighborsClassifier\n",
    "from sklearn.pipeline import make_pipeline, make_union\n",
    "from tpot.builtins import StackingEstimator\n",
    "\n",
    "# Score on the training set was:0.9806450981359826\n",
    "exported_pipeline = make_pipeline(\n",
    "    StackingEstimator(estimator=KNeighborsClassifier(n_neighbors=9, p=2, weights=\"distance\")),\n",
    "    RandomForestClassifier(bootstrap=True, criterion=\"gini\", max_features=0.6000000000000001, min_samples_leaf=15, min_samples_split=20, n_estimators=100)\n",
    ")\n",
    "\n",
    "exported_pipeline.fit(X_train, y_train)\n",
    "results = exported_pipeline.predict(X_test)\n",
    "print(results)\n",
    "\n",
    "scores=exported_pipeline.score(X_test,y_test)\n",
    "print(scores)"
   ]
  },
  {
   "cell_type": "code",
   "execution_count": 358,
   "metadata": {},
   "outputs": [],
   "source": [
    "def sphere(x):\n",
    "    return (x**(2)).sum()"
   ]
  },
  {
   "cell_type": "code",
   "execution_count": 568,
   "metadata": {},
   "outputs": [
    {
     "data": {
      "image/png": "[encoded data removed]",
      "text/plain": [
       "<matplotlib.figure.Figure at 0x194d208d5f8>"
      ]
     },
     "metadata": {},
     "output_type": "display_data"
    }
   ],
   "source": [
    "x=np.linspace(0,10,100)\n",
    "plt.plot(x,x**2+2*np.sin(x)-2*x**1.5)\n",
    "\n",
    "def fun(x):\n",
    "    return x**2+2*np.sin(x)-2*x**1.5"
   ]
  },
  {
   "cell_type": "code",
   "execution_count": 569,
   "metadata": {},
   "outputs": [
    {
     "data": {
      "text/plain": [
       "-1.6047457905471294"
      ]
     },
     "execution_count": 569,
     "metadata": {},
     "output_type": "execute_result"
    }
   ],
   "source": [
    "min(x**2+2*np.sin(x)-2*x**1.5)"
   ]
  },
  {
   "cell_type": "code",
   "execution_count": 553,
   "metadata": {},
   "outputs": [],
   "source": [
    "def fun2(x):\n",
    "    return sum(x**2+2*np.sin(x)-2*x**1.5+1)#.reshape(-1,)"
   ]
  },
  {
   "cell_type": "code",
   "execution_count": 561,
   "metadata": {},
   "outputs": [],
   "source": [
    "def fun2(x):\n",
    "    return (x**2+2*np.sin(x)-2*x**1.5+1).sum()"
   ]
  },
  {
   "cell_type": "code",
   "execution_count": 562,
   "metadata": {},
   "outputs": [
    {
     "data": {
      "text/plain": [
       "3.734617744481247"
      ]
     },
     "execution_count": 562,
     "metadata": {},
     "output_type": "execute_result"
    }
   ],
   "source": [
    "fun2(np.array([[0,1,2,3]])) #fun2(np.array([[0,1,2,3]]))"
   ]
  },
  {
   "cell_type": "code",
   "execution_count": 560,
   "metadata": {},
   "outputs": [
    {
     "data": {
      "text/plain": [
       "array([ 1.        ,  1.68294197,  1.1617406 , -0.11006483])"
      ]
     },
     "execution_count": 560,
     "metadata": {},
     "output_type": "execute_result"
    }
   ],
   "source": [
    "fun2(np.array([[0,1,2,3]])) #sum(x**2+2*np.sin(x)-2*x**1.5+1)"
   ]
  },
  {
   "cell_type": "code",
   "execution_count": 556,
   "metadata": {},
   "outputs": [
    {
     "data": {
      "text/plain": [
       "array([[ 1.        ,  1.68294197,  1.1617406 , -0.11006483]])"
      ]
     },
     "execution_count": 556,
     "metadata": {},
     "output_type": "execute_result"
    }
   ],
   "source": [
    "fun2(np.array([[0,1,2,3]])) #if fun2 without sum"
   ]
  },
  {
   "cell_type": "code",
   "execution_count": 544,
   "metadata": {},
   "outputs": [
    {
     "data": {
      "text/plain": [
       "849.7820765902404"
      ]
     },
     "execution_count": 544,
     "metadata": {},
     "output_type": "execute_result"
    }
   ],
   "source": [
    "sum(x**2+2*np.sin(x)-2*x**1.5)"
   ]
  },
  {
   "cell_type": "code",
   "execution_count": 513,
   "metadata": {},
   "outputs": [
    {
     "data": {
      "text/plain": [
       "849.7820765902404"
      ]
     },
     "execution_count": 513,
     "metadata": {},
     "output_type": "execute_result"
    }
   ],
   "source": [
    "(x**2+2*np.sin(x)-2*x**1.5).sum()"
   ]
  },
  {
   "cell_type": "code",
   "execution_count": 540,
   "metadata": {},
   "outputs": [
    {
     "data": {
      "text/plain": [
       "(100,)"
      ]
     },
     "execution_count": 540,
     "metadata": {},
     "output_type": "execute_result"
    }
   ],
   "source": [
    "x.shape"
   ]
  },
  {
   "cell_type": "code",
   "execution_count": 518,
   "metadata": {},
   "outputs": [
    {
     "data": {
      "text/plain": [
       "849.7820765902404"
      ]
     },
     "execution_count": 518,
     "metadata": {},
     "output_type": "execute_result"
    }
   ],
   "source": [
    "fun2(x)"
   ]
  },
  {
   "cell_type": "code",
   "execution_count": 33,
   "metadata": {},
   "outputs": [],
   "source": [
    "# Initialization\n",
    "empty_particle={}\n",
    "best={}\n",
    "\n",
    "Position=[]\n",
    "cost=[]\n",
    "velocity=[]\n",
    "\n",
    "best.update({'Position':Position,'cost':cost})\n",
    "empty_particle.update({'Position':[],'cost':[],'velocity':[],'best':best})\n"
   ]
  },
  {
   "cell_type": "code",
   "execution_count": 85,
   "metadata": {},
   "outputs": [
    {
     "name": "stdout",
     "output_type": "stream",
     "text": [
      "{'Position': [], 'cost': [], 'velocity': [], 'best': {'Position': [], 'cost': []}}\n",
      "{'Position': [], 'cost': []}\n"
     ]
    }
   ],
   "source": [
    "print(empty_particle)\n",
    "print(best)"
   ]
  },
  {
   "cell_type": "code",
   "execution_count": 88,
   "metadata": {},
   "outputs": [
    {
     "data": {
      "text/plain": [
       "{'Position': [], 'cost': []}"
      ]
     },
     "execution_count": 88,
     "metadata": {},
     "output_type": "execute_result"
    }
   ],
   "source": [
    "np.tile(empty_particle,(2,))[0]['best']"
   ]
  },
  {
   "cell_type": "code",
   "execution_count": 181,
   "metadata": {},
   "outputs": [
    {
     "data": {
      "text/plain": [
       "{'Position': array([[0., 0., 0.]]),\n",
       " 'best': {'Position': [], 'cost': array([[0., 0., 0.]])},\n",
       " 'cost': [],\n",
       " 'velocity': []}"
      ]
     },
     "execution_count": 181,
     "metadata": {},
     "output_type": "execute_result"
    }
   ],
   "source": [
    "empty_particle['best']['cost']=np.zeros((1,3))\n",
    "empty_particle"
   ]
  },
  {
   "cell_type": "code",
   "execution_count": 67,
   "metadata": {},
   "outputs": [
    {
     "name": "stdout",
     "output_type": "stream",
     "text": [
      "0.0\n"
     ]
    }
   ],
   "source": [
    "temp=np.zeros(shape=(1,5))\n",
    "temp2= np.tile([1],(1,5))\n",
    "\n",
    "print(temp)\n",
    "#print(temp2)\n",
    "\n",
    "\n",
    "#for i in range(len(temp)):\n",
    "#    #temp = temp + temp2\n",
    "#    print(i)\n",
    "#\n",
    "#len(temp)"
   ]
  },
  {
   "cell_type": "code",
   "execution_count": 222,
   "metadata": {},
   "outputs": [
    {
     "data": {
      "text/plain": [
       "1.6312447012621796"
      ]
     },
     "execution_count": 222,
     "metadata": {},
     "output_type": "execute_result"
    }
   ],
   "source": [
    "sphere(np.array([[ 0.63863986, -0.68099012, -0.87157116]])).sum()"
   ]
  },
  {
   "cell_type": "code",
   "execution_count": 225,
   "metadata": {},
   "outputs": [
    {
     "data": {
      "text/plain": [
       "array([[0., 0., 0.]])"
      ]
     },
     "execution_count": 225,
     "metadata": {},
     "output_type": "execute_result"
    }
   ],
   "source": [
    "np.array([[0.83585283, 0.22482823, 0.53232209]])-np.array([[0.83585283, 0.22482823, 0.53232209]])"
   ]
  },
  {
   "cell_type": "code",
   "execution_count": 188,
   "metadata": {},
   "outputs": [
    {
     "data": {
      "text/plain": [
       "array([[0., 0., 0.]])"
      ]
     },
     "execution_count": 188,
     "metadata": {},
     "output_type": "execute_result"
    }
   ],
   "source": [
    "np.array([[0., 0., 0.]])*1+ 1.5*np.random.random((1,3))*(np.array([[ 0.10220843,  0.97049644, -0.25285742]])-np.array([[ 0.10220843,  0.97049644, -0.25285742]]))"
   ]
  },
  {
   "cell_type": "code",
   "execution_count": 193,
   "metadata": {},
   "outputs": [
    {
     "data": {
      "text/plain": [
       "array([[ 0.14764262,  0.80793289, -0.05876793]])"
      ]
     },
     "execution_count": 193,
     "metadata": {},
     "output_type": "execute_result"
    }
   ],
   "source": [
    "np.random.random((1,3))*1.5*(np.array([[ 0.10220843,  0.97049644, -0.25285742]]))"
   ]
  },
  {
   "cell_type": "code",
   "execution_count": 195,
   "metadata": {},
   "outputs": [
    {
     "data": {
      "text/plain": [
       "array([2, 6])"
      ]
     },
     "execution_count": 195,
     "metadata": {},
     "output_type": "execute_result"
    }
   ],
   "source": [
    "np.array([1,2])*np.array([2,3])"
   ]
  },
  {
   "cell_type": "code",
   "execution_count": 159,
   "metadata": {},
   "outputs": [
    {
     "name": "stdout",
     "output_type": "stream",
     "text": [
      "<class 'numpy.ndarray'>\n"
     ]
    }
   ],
   "source": [
    "print(type(np.random.uniform(-1,1,size=(1,3))))"
   ]
  },
  {
   "cell_type": "code",
   "execution_count": 168,
   "metadata": {},
   "outputs": [
    {
     "data": {
      "text/plain": [
       "array([[-0.06403444,  0.77041031]])"
      ]
     },
     "execution_count": 168,
     "metadata": {},
     "output_type": "execute_result"
    }
   ],
   "source": [
    "np.random.uniform(-1,1,size=(1,2))"
   ]
  },
  {
   "cell_type": "code",
   "execution_count": 144,
   "metadata": {},
   "outputs": [
    {
     "data": {
      "text/plain": [
       "(1, 3)"
      ]
     },
     "execution_count": 144,
     "metadata": {},
     "output_type": "execute_result"
    }
   ],
   "source": [
    "np.array([[ 0.90340023,  0.35946207, -0.11004333]]).shape"
   ]
  },
  {
   "cell_type": "code",
   "execution_count": 336,
   "metadata": {},
   "outputs": [],
   "source": [
    "empty_particle \\\n",
    "= [{'Position': [], 'cost': [], 'velocity': [], 'best': {'Position': [], 'cost': []}},\n",
    " {'Position': [], 'cost': [], 'velocity': [], 'best': {'Position': [], 'cost': []}},\n",
    " {'Position': [], 'cost': [], 'velocity': [], 'best': {'Position': [], 'cost': []}},\n",
    " {'Position': [], 'cost': [], 'velocity': [], 'best': {'Position': [], 'cost': []}},\n",
    " {'Position': [], 'cost': [], 'velocity': [], 'best': {'Position': [], 'cost': []}}]"
   ]
  },
  {
   "cell_type": "code",
   "execution_count": 341,
   "metadata": {},
   "outputs": [
    {
     "data": {
      "text/plain": [
       "{'Position': [], 'cost': []}"
      ]
     },
     "execution_count": 341,
     "metadata": {},
     "output_type": "execute_result"
    }
   ],
   "source": [
    "empty_particle[0]['best']"
   ]
  },
  {
   "cell_type": "code",
   "execution_count": 366,
   "metadata": {},
   "outputs": [],
   "source": [
    "for i in range(5):\n",
    "    empty_particle[i]['cost']=(123*i)\n",
    "    empty_particle[i]['Position']=(1*i)"
   ]
  },
  {
   "cell_type": "code",
   "execution_count": 367,
   "metadata": {},
   "outputs": [
    {
     "data": {
      "text/plain": [
       "[{'Position': 0,\n",
       "  'best': {'Position': [], 'cost': []},\n",
       "  'cost': 0,\n",
       "  'velocity': []},\n",
       " {'Position': 1,\n",
       "  'best': {'Position': [], 'cost': []},\n",
       "  'cost': 123,\n",
       "  'velocity': []},\n",
       " {'Position': 2,\n",
       "  'best': {'Position': [], 'cost': []},\n",
       "  'cost': 246,\n",
       "  'velocity': []},\n",
       " {'Position': 3,\n",
       "  'best': {'Position': [], 'cost': []},\n",
       "  'cost': 369,\n",
       "  'velocity': []},\n",
       " {'Position': 4,\n",
       "  'best': {'Position': [], 'cost': []},\n",
       "  'cost': 492,\n",
       "  'velocity': []}]"
      ]
     },
     "execution_count": 367,
     "metadata": {},
     "output_type": "execute_result"
    }
   ],
   "source": [
    "empty_particle"
   ]
  },
  {
   "cell_type": "code",
   "execution_count": 350,
   "metadata": {},
   "outputs": [
    {
     "data": {
      "text/plain": [
       "(1, 3)"
      ]
     },
     "execution_count": 350,
     "metadata": {},
     "output_type": "execute_result"
    }
   ],
   "source": [
    "np.array([[-0.61039629,  0.93426595,  0.19190323]]).shape"
   ]
  },
  {
   "cell_type": "code",
   "execution_count": 354,
   "metadata": {},
   "outputs": [
    {
     "data": {
      "text/plain": [
       "array([[0.37258363, 0.87285287, 0.03682685]])"
      ]
     },
     "execution_count": 354,
     "metadata": {},
     "output_type": "execute_result"
    }
   ],
   "source": [
    "np.array([[-0.61039629,  0.93426595,  0.19190323]])**2"
   ]
  },
  {
   "cell_type": "code",
   "execution_count": 356,
   "metadata": {},
   "outputs": [
    {
     "data": {
      "text/plain": [
       "6"
      ]
     },
     "execution_count": 356,
     "metadata": {},
     "output_type": "execute_result"
    }
   ],
   "source": [
    "sum([1,2,3])"
   ]
  },
  {
   "cell_type": "code",
   "execution_count": 357,
   "metadata": {},
   "outputs": [
    {
     "ename": "AttributeError",
     "evalue": "'list' object has no attribute 'sum'",
     "output_type": "error",
     "traceback": [
      "\u001b[1;31m---------------------------------------------------------------------------\u001b[0m",
      "\u001b[1;31mAttributeError\u001b[0m                            Traceback (most recent call last)",
      "\u001b[1;32m<ipython-input-357-3bc09a90a9f2>\u001b[0m in \u001b[0;36m<module>\u001b[1;34m()\u001b[0m\n\u001b[1;32m----> 1\u001b[1;33m \u001b[1;33m[\u001b[0m\u001b[1;36m1\u001b[0m\u001b[1;33m,\u001b[0m\u001b[1;36m2\u001b[0m\u001b[1;33m,\u001b[0m\u001b[1;36m3\u001b[0m\u001b[1;33m]\u001b[0m\u001b[1;33m.\u001b[0m\u001b[0msum\u001b[0m\u001b[1;33m(\u001b[0m\u001b[1;33m)\u001b[0m\u001b[1;33m\u001b[0m\u001b[0m\n\u001b[0m",
      "\u001b[1;31mAttributeError\u001b[0m: 'list' object has no attribute 'sum'"
     ]
    }
   ],
   "source": [
    "[1,2,3].sum()"
   ]
  },
  {
   "cell_type": "code",
   "execution_count": 355,
   "metadata": {},
   "outputs": [
    {
     "data": {
      "text/plain": [
       "array([-0.61039629,  0.93426595,  0.19190323])"
      ]
     },
     "execution_count": 355,
     "metadata": {},
     "output_type": "execute_result"
    }
   ],
   "source": [
    "sum(np.array([[-0.61039629,  0.93426595,  0.19190323]]))"
   ]
  },
  {
   "cell_type": "code",
   "execution_count": 353,
   "metadata": {},
   "outputs": [
    {
     "data": {
      "text/plain": [
       "0.51577289"
      ]
     },
     "execution_count": 353,
     "metadata": {},
     "output_type": "execute_result"
    }
   ],
   "source": [
    "np.array([[-0.61039629,  0.93426595,  0.19190323]]).sum()"
   ]
  },
  {
   "cell_type": "code",
   "execution_count": 359,
   "metadata": {},
   "outputs": [
    {
     "data": {
      "text/plain": [
       "1.2822633458595993"
      ]
     },
     "execution_count": 359,
     "metadata": {},
     "output_type": "execute_result"
    }
   ],
   "source": [
    "sphere(np.array([[-0.61039629,  0.93426595,  0.19190323]]))"
   ]
  },
  {
   "cell_type": "code",
   "execution_count": 416,
   "metadata": {},
   "outputs": [
    {
     "data": {
      "text/plain": [
       "array([{'Position': [], 'cost': [], 'velocity': [], 'best': {'Position': [], 'cost': array([[0., 0., 0.]])}},\n",
       "       {'Position': [], 'cost': [], 'velocity': [], 'best': {'Position': [], 'cost': array([[0., 0., 0.]])}},\n",
       "       {'Position': [], 'cost': [], 'velocity': [], 'best': {'Position': [], 'cost': array([[0., 0., 0.]])}},\n",
       "       {'Position': [], 'cost': [], 'velocity': [], 'best': {'Position': [], 'cost': array([[0., 0., 0.]])}},\n",
       "       {'Position': [], 'cost': [], 'velocity': [], 'best': {'Position': [], 'cost': array([[0., 0., 0.]])}}],\n",
       "      dtype=object)"
      ]
     },
     "execution_count": 416,
     "metadata": {},
     "output_type": "execute_result"
    }
   ],
   "source": [
    "test_particle={}\n",
    "test_particle.update({'Position':[],'cost':[],'velocity':[],'best':best})\n",
    "\n",
    "\n",
    "#test_particle['cost']=np.random.random()\n",
    "#test_particle['Position']=np.random.random()\n",
    "\n",
    "# Repeat copies of array\n",
    "particle=np.tile(test_particle,(5,))\n",
    "particle"
   ]
  },
  {
   "cell_type": "code",
   "execution_count": 423,
   "metadata": {},
   "outputs": [
    {
     "data": {
      "text/plain": [
       "[{'Position': [],\n",
       "  'best': {'Position': [], 'cost': array([[0., 0., 0.]])},\n",
       "  'cost': [],\n",
       "  'velocity': []},\n",
       " {'Position': [],\n",
       "  'best': {'Position': [], 'cost': array([[0., 0., 0.]])},\n",
       "  'cost': [],\n",
       "  'velocity': []},\n",
       " {'Position': [],\n",
       "  'best': {'Position': [], 'cost': array([[0., 0., 0.]])},\n",
       "  'cost': [],\n",
       "  'velocity': []},\n",
       " {'Position': [],\n",
       "  'best': {'Position': [], 'cost': array([[0., 0., 0.]])},\n",
       "  'cost': [],\n",
       "  'velocity': []},\n",
       " {'Position': [],\n",
       "  'best': {'Position': [], 'cost': array([[0., 0., 0.]])},\n",
       "  'cost': [],\n",
       "  'velocity': []}]"
      ]
     },
     "execution_count": 423,
     "metadata": {},
     "output_type": "execute_result"
    }
   ],
   "source": [
    "test_particle={}\n",
    "test_particle.update({'Position':[],'cost':[],'velocity':[],'best':best})\n",
    "particle=[]\n",
    "\n",
    "#test_particle['cost']=np.random.random()\n",
    "#test_particle['Position']=np.random.random()\n",
    "\n",
    "# Repeat copies of array\n",
    "for i in range(5):\n",
    "    particle.append(test_particle.copy())\n",
    "particle"
   ]
  },
  {
   "cell_type": "code",
   "execution_count": 421,
   "metadata": {},
   "outputs": [
    {
     "ename": "AttributeError",
     "evalue": "'list' object has no attribute 'shape'",
     "output_type": "error",
     "traceback": [
      "\u001b[1;31m---------------------------------------------------------------------------\u001b[0m",
      "\u001b[1;31mAttributeError\u001b[0m                            Traceback (most recent call last)",
      "\u001b[1;32m<ipython-input-421-ce6ce44383f2>\u001b[0m in \u001b[0;36m<module>\u001b[1;34m()\u001b[0m\n\u001b[1;32m----> 1\u001b[1;33m \u001b[0mparticle\u001b[0m\u001b[1;33m.\u001b[0m\u001b[0mshape\u001b[0m\u001b[1;33m\u001b[0m\u001b[0m\n\u001b[0m",
      "\u001b[1;31mAttributeError\u001b[0m: 'list' object has no attribute 'shape'"
     ]
    }
   ],
   "source": [
    "particle"
   ]
  },
  {
   "cell_type": "code",
   "execution_count": 418,
   "metadata": {},
   "outputs": [
    {
     "name": "stdout",
     "output_type": "stream",
     "text": [
      "0.8923571053707998\n",
      "0.881048265188984\n",
      "[{'Position': 0.881048265188984, 'cost': 0.8923571053707998, 'velocity': [], 'best': {'Position': [], 'cost': array([[0., 0., 0.]])}}\n",
      " {'Position': 0.881048265188984, 'cost': 0.8923571053707998, 'velocity': [], 'best': {'Position': [], 'cost': array([[0., 0., 0.]])}}\n",
      " {'Position': 0.881048265188984, 'cost': 0.8923571053707998, 'velocity': [], 'best': {'Position': [], 'cost': array([[0., 0., 0.]])}}\n",
      " {'Position': 0.881048265188984, 'cost': 0.8923571053707998, 'velocity': [], 'best': {'Position': [], 'cost': array([[0., 0., 0.]])}}\n",
      " {'Position': 0.881048265188984, 'cost': 0.8923571053707998, 'velocity': [], 'best': {'Position': [], 'cost': array([[0., 0., 0.]])}}]\n",
      "------------\n",
      "------------\n",
      "[{'Position': 0.881048265188984, 'cost': 0.8923571053707998, 'velocity': [], 'best': {'Position': [], 'cost': array([[0., 0., 0.]])}}\n",
      " {'Position': 0.881048265188984, 'cost': 0.8923571053707998, 'velocity': [], 'best': {'Position': [], 'cost': array([[0., 0., 0.]])}}\n",
      " {'Position': 0.881048265188984, 'cost': 0.8923571053707998, 'velocity': [], 'best': {'Position': [], 'cost': array([[0., 0., 0.]])}}\n",
      " {'Position': 0.881048265188984, 'cost': 0.8923571053707998, 'velocity': [], 'best': {'Position': [], 'cost': array([[0., 0., 0.]])}}\n",
      " {'Position': 0.881048265188984, 'cost': 0.8923571053707998, 'velocity': [], 'best': {'Position': [], 'cost': array([[0., 0., 0.]])}}]\n"
     ]
    }
   ],
   "source": [
    "particle[0]['cost']=np.random.random()\n",
    "particle[0]['Position']=np.random.random()\n",
    "print(particle[0]['cost'])\n",
    "print(particle[1]['Position'])\n",
    "print(particle)\n",
    "print('------------')\n",
    "#particle[1]['cost']=np.random.random()\n",
    "#particle[1]['Position']=np.random.random()\n",
    "#print(particle[2]['cost'])\n",
    "#print(particle[3]['Position'])\n",
    "print('------------')\n",
    "print(particle)"
   ]
  },
  {
   "cell_type": "code",
   "execution_count": 404,
   "metadata": {},
   "outputs": [
    {
     "ename": "IndexError",
     "evalue": "index 5 is out of bounds for axis 0 with size 5",
     "output_type": "error",
     "traceback": [
      "\u001b[1;31m---------------------------------------------------------------------------\u001b[0m",
      "\u001b[1;31mIndexError\u001b[0m                                Traceback (most recent call last)",
      "\u001b[1;32m<ipython-input-404-f017ad206503>\u001b[0m in \u001b[0;36m<module>\u001b[1;34m()\u001b[0m\n\u001b[1;32m----> 1\u001b[1;33m \u001b[0mprint\u001b[0m\u001b[1;33m(\u001b[0m\u001b[0mparticle\u001b[0m\u001b[1;33m[\u001b[0m\u001b[1;36m5\u001b[0m\u001b[1;33m]\u001b[0m\u001b[1;33m)\u001b[0m\u001b[1;33m\u001b[0m\u001b[0m\n\u001b[0m",
      "\u001b[1;31mIndexError\u001b[0m: index 5 is out of bounds for axis 0 with size 5"
     ]
    }
   ],
   "source": [
    "particle=\n",
    "particle[0]['cost']=np.random.random()\n",
    "particle[0]['Position']=np.random.random()\n",
    "print(particle[0]['cost'])\n",
    "print(particle[0]['Position'])\n",
    "print('------------')\n",
    "particle[1]['cost']=np.random.random()\n",
    "particle[1]['Position']=np.random.random()\n",
    "print(particle[1]['cost'])\n",
    "print(particle[1]['Position'])\n",
    "print('------------')\n",
    "print(particle)"
   ]
  },
  {
   "cell_type": "code",
   "execution_count": 424,
   "metadata": {},
   "outputs": [
    {
     "name": "stdout",
     "output_type": "stream",
     "text": [
      "[{'Position': [], 'cost': [], 'velocity': [], 'best': {'Position': [], 'cost': array([[0., 0., 0.]])}}\n",
      " {'Position': [], 'cost': [], 'velocity': [], 'best': {'Position': [], 'cost': array([[0., 0., 0.]])}}\n",
      " {'Position': [], 'cost': [], 'velocity': [], 'best': {'Position': [], 'cost': array([[0., 0., 0.]])}}\n",
      " {'Position': [], 'cost': [], 'velocity': [], 'best': {'Position': [], 'cost': array([[0., 0., 0.]])}}\n",
      " {'Position': [], 'cost': [], 'velocity': [], 'best': {'Position': [], 'cost': array([[0., 0., 0.]])}}]\n",
      "(5,)\n"
     ]
    }
   ],
   "source": [
    "print(np.array(particle))\n",
    "print(np.array(particle).shape)"
   ]
  },
  {
   "cell_type": "code",
   "execution_count": 398,
   "metadata": {},
   "outputs": [
    {
     "data": {
      "text/plain": [
       "array([{'Position': 0.25106061535629043, 'cost': 0.9387438887406816, 'velocity': [], 'best': {'Position': [], 'cost': array([[0., 0., 0.]])}},\n",
       "       {'Position': 0.25106061535629043, 'cost': 0.9387438887406816, 'velocity': [], 'best': {'Position': [], 'cost': array([[0., 0., 0.]])}},\n",
       "       {'Position': 0.25106061535629043, 'cost': 0.9387438887406816, 'velocity': [], 'best': {'Position': [], 'cost': array([[0., 0., 0.]])}},\n",
       "       {'Position': 0.25106061535629043, 'cost': 0.9387438887406816, 'velocity': [], 'best': {'Position': [], 'cost': array([[0., 0., 0.]])}},\n",
       "       {'Position': 0.25106061535629043, 'cost': 0.9387438887406816, 'velocity': [], 'best': {'Position': [], 'cost': array([[0., 0., 0.]])}}],\n",
       "      dtype=object)"
      ]
     },
     "execution_count": 398,
     "metadata": {},
     "output_type": "execute_result"
    }
   ],
   "source": [
    "particle"
   ]
  },
  {
   "cell_type": "code",
   "execution_count": null,
   "metadata": {},
   "outputs": [],
   "source": [
    "\n",
    "for i in range(2):\n",
    "    particle[i]['cost']=np.random.random()\n",
    "    particle[i]['Position']=np.random.random()\n",
    "    print(particle[i])\n",
    "    print(i)\n",
    "    print(particle)\n",
    "    print('-------')\n",
    "    \n",
    "particle"
   ]
  },
  {
   "cell_type": "code",
   "execution_count": 425,
   "metadata": {},
   "outputs": [
    {
     "name": "stdout",
     "output_type": "stream",
     "text": [
      "{'Position': 0.2518224267633803, 'cost': 0.31236958533360093, 'velocity': [], 'best': {'Position': [], 'cost': array([[0., 0., 0.]])}}\n",
      "0\n",
      "[{'Position': 0.2518224267633803, 'cost': 0.31236958533360093, 'velocity': [], 'best': {'Position': [], 'cost': array([[0., 0., 0.]])}}, {'Position': [], 'cost': [], 'velocity': [], 'best': {'Position': [], 'cost': array([[0., 0., 0.]])}}, {'Position': [], 'cost': [], 'velocity': [], 'best': {'Position': [], 'cost': array([[0., 0., 0.]])}}, {'Position': [], 'cost': [], 'velocity': [], 'best': {'Position': [], 'cost': array([[0., 0., 0.]])}}, {'Position': [], 'cost': [], 'velocity': [], 'best': {'Position': [], 'cost': array([[0., 0., 0.]])}}]\n",
      "-------\n",
      "{'Position': 0.9972690529043281, 'cost': 0.23187826024930625, 'velocity': [], 'best': {'Position': [], 'cost': array([[0., 0., 0.]])}}\n",
      "1\n",
      "[{'Position': 0.2518224267633803, 'cost': 0.31236958533360093, 'velocity': [], 'best': {'Position': [], 'cost': array([[0., 0., 0.]])}}, {'Position': 0.9972690529043281, 'cost': 0.23187826024930625, 'velocity': [], 'best': {'Position': [], 'cost': array([[0., 0., 0.]])}}, {'Position': [], 'cost': [], 'velocity': [], 'best': {'Position': [], 'cost': array([[0., 0., 0.]])}}, {'Position': [], 'cost': [], 'velocity': [], 'best': {'Position': [], 'cost': array([[0., 0., 0.]])}}, {'Position': [], 'cost': [], 'velocity': [], 'best': {'Position': [], 'cost': array([[0., 0., 0.]])}}]\n",
      "-------\n",
      "{'Position': 0.01520425226230504, 'cost': 0.6982031507922648, 'velocity': [], 'best': {'Position': [], 'cost': array([[0., 0., 0.]])}}\n",
      "2\n",
      "[{'Position': 0.2518224267633803, 'cost': 0.31236958533360093, 'velocity': [], 'best': {'Position': [], 'cost': array([[0., 0., 0.]])}}, {'Position': 0.9972690529043281, 'cost': 0.23187826024930625, 'velocity': [], 'best': {'Position': [], 'cost': array([[0., 0., 0.]])}}, {'Position': 0.01520425226230504, 'cost': 0.6982031507922648, 'velocity': [], 'best': {'Position': [], 'cost': array([[0., 0., 0.]])}}, {'Position': [], 'cost': [], 'velocity': [], 'best': {'Position': [], 'cost': array([[0., 0., 0.]])}}, {'Position': [], 'cost': [], 'velocity': [], 'best': {'Position': [], 'cost': array([[0., 0., 0.]])}}]\n",
      "-------\n",
      "{'Position': 0.4178409068906689, 'cost': 0.7345123325505366, 'velocity': [], 'best': {'Position': [], 'cost': array([[0., 0., 0.]])}}\n",
      "3\n",
      "[{'Position': 0.2518224267633803, 'cost': 0.31236958533360093, 'velocity': [], 'best': {'Position': [], 'cost': array([[0., 0., 0.]])}}, {'Position': 0.9972690529043281, 'cost': 0.23187826024930625, 'velocity': [], 'best': {'Position': [], 'cost': array([[0., 0., 0.]])}}, {'Position': 0.01520425226230504, 'cost': 0.6982031507922648, 'velocity': [], 'best': {'Position': [], 'cost': array([[0., 0., 0.]])}}, {'Position': 0.4178409068906689, 'cost': 0.7345123325505366, 'velocity': [], 'best': {'Position': [], 'cost': array([[0., 0., 0.]])}}, {'Position': [], 'cost': [], 'velocity': [], 'best': {'Position': [], 'cost': array([[0., 0., 0.]])}}]\n",
      "-------\n",
      "{'Position': 0.30596906287800396, 'cost': 0.6604642801736658, 'velocity': [], 'best': {'Position': [], 'cost': array([[0., 0., 0.]])}}\n",
      "4\n",
      "[{'Position': 0.2518224267633803, 'cost': 0.31236958533360093, 'velocity': [], 'best': {'Position': [], 'cost': array([[0., 0., 0.]])}}, {'Position': 0.9972690529043281, 'cost': 0.23187826024930625, 'velocity': [], 'best': {'Position': [], 'cost': array([[0., 0., 0.]])}}, {'Position': 0.01520425226230504, 'cost': 0.6982031507922648, 'velocity': [], 'best': {'Position': [], 'cost': array([[0., 0., 0.]])}}, {'Position': 0.4178409068906689, 'cost': 0.7345123325505366, 'velocity': [], 'best': {'Position': [], 'cost': array([[0., 0., 0.]])}}, {'Position': 0.30596906287800396, 'cost': 0.6604642801736658, 'velocity': [], 'best': {'Position': [], 'cost': array([[0., 0., 0.]])}}]\n",
      "-------\n"
     ]
    },
    {
     "data": {
      "text/plain": [
       "[{'Position': 0.2518224267633803,\n",
       "  'best': {'Position': [], 'cost': array([[0., 0., 0.]])},\n",
       "  'cost': 0.31236958533360093,\n",
       "  'velocity': []},\n",
       " {'Position': 0.9972690529043281,\n",
       "  'best': {'Position': [], 'cost': array([[0., 0., 0.]])},\n",
       "  'cost': 0.23187826024930625,\n",
       "  'velocity': []},\n",
       " {'Position': 0.01520425226230504,\n",
       "  'best': {'Position': [], 'cost': array([[0., 0., 0.]])},\n",
       "  'cost': 0.6982031507922648,\n",
       "  'velocity': []},\n",
       " {'Position': 0.4178409068906689,\n",
       "  'best': {'Position': [], 'cost': array([[0., 0., 0.]])},\n",
       "  'cost': 0.7345123325505366,\n",
       "  'velocity': []},\n",
       " {'Position': 0.30596906287800396,\n",
       "  'best': {'Position': [], 'cost': array([[0., 0., 0.]])},\n",
       "  'cost': 0.6604642801736658,\n",
       "  'velocity': []}]"
      ]
     },
     "execution_count": 425,
     "metadata": {},
     "output_type": "execute_result"
    }
   ],
   "source": [
    "\n",
    "for i in range(5):\n",
    "    particle[i]['cost']=np.random.random()\n",
    "    particle[i]['Position']=np.random.random()\n",
    "    print(particle[i])\n",
    "    print(i)\n",
    "    print(particle)\n",
    "    print('-------')\n",
    "    \n",
    "particle"
   ]
  },
  {
   "cell_type": "code",
   "execution_count": 541,
   "metadata": {},
   "outputs": [
    {
     "name": "stderr",
     "output_type": "stream",
     "text": [
      "C:\\Users\\icmems\\Anaconda3\\lib\\site-packages\\ipykernel\\__main__.py:2: RuntimeWarning: invalid value encountered in power\n",
      "  from ipykernel import kernelapp as app\n"
     ]
    },
    {
     "data": {
      "text/plain": [
       "array([nan])"
      ]
     },
     "execution_count": 541,
     "metadata": {},
     "output_type": "execute_result"
    }
   ],
   "source": [
    "fun2(np.array([-0.50395551,  2.97566172, -0.23960787]))"
   ]
  },
  {
   "cell_type": "code",
   "execution_count": 526,
   "metadata": {},
   "outputs": [
    {
     "data": {
      "text/plain": [
       "(10,)"
      ]
     },
     "execution_count": 526,
     "metadata": {},
     "output_type": "execute_result"
    }
   ],
   "source": [
    "np.linspace(1,2,10).shape"
   ]
  },
  {
   "cell_type": "code",
   "execution_count": 563,
   "metadata": {},
   "outputs": [
    {
     "data": {
      "text/plain": [
       "1.8990766337110436"
      ]
     },
     "execution_count": 563,
     "metadata": {},
     "output_type": "execute_result"
    }
   ],
   "source": [
    "fun2(np.array([[0.4899572 , 4.54166367, 4.45447864]]))"
   ]
  },
  {
   "cell_type": "code",
   "execution_count": 542,
   "metadata": {},
   "outputs": [
    {
     "data": {
      "text/plain": [
       "array([[-0.58184492,  0.50137197,  0.78852473]])"
      ]
     },
     "execution_count": 542,
     "metadata": {},
     "output_type": "execute_result"
    }
   ],
   "source": [
    "(np.random.uniform(-1,1,size=(1,3)))"
   ]
  },
  {
   "cell_type": "code",
   "execution_count": 570,
   "metadata": {},
   "outputs": [
    {
     "name": "stdout",
     "output_type": "stream",
     "text": [
      "empty particle\n",
      ": []\n"
     ]
    },
    {
     "name": "stderr",
     "output_type": "stream",
     "text": [
      "C:\\Users\\icmems\\Anaconda3\\lib\\site-packages\\ipykernel\\__main__.py:2: RuntimeWarning: invalid value encountered in power\n",
      "  from ipykernel import kernelapp as app\n"
     ]
    },
    {
     "name": "stdout",
     "output_type": "stream",
     "text": [
      "{'Position': array([[-0.88727844,  0.50168747,  2.97718413]]), 'cost': nan, 'velocity': array([[0., 0., 0.]]), 'best': {'Position': [], 'cost': []}}\n",
      "{'Position': array([[-0.88727844,  0.50168747,  2.97718413]]), 'cost': nan, 'velocity': array([[0., 0., 0.]]), 'best': {'Position': array([[-0.88727844,  0.50168747,  2.97718413]]), 'cost': nan}}\n",
      "\n",
      "\n",
      "{'Position': array([[2.66794629, 1.43329293, 0.54577102]]), 'cost': 3.447837436654265, 'velocity': array([[0., 0., 0.]]), 'best': {'Position': array([[-0.88727844,  0.50168747,  2.97718413]]), 'cost': nan}}\n",
      "{'Position': array([[2.66794629, 1.43329293, 0.54577102]]), 'cost': 3.447837436654265, 'velocity': array([[0., 0., 0.]]), 'best': {'Position': array([[2.66794629, 1.43329293, 0.54577102]]), 'cost': 3.447837436654265}}\n",
      "\n",
      "\n",
      "{'Position': array([[0.08865702, 4.7273759 , 1.72669458]]), 'cost': 3.3427677673111638, 'velocity': array([[0., 0., 0.]]), 'best': {'Position': array([[2.66794629, 1.43329293, 0.54577102]]), 'cost': 3.447837436654265}}\n",
      "{'Position': array([[0.08865702, 4.7273759 , 1.72669458]]), 'cost': 3.3427677673111638, 'velocity': array([[0., 0., 0.]]), 'best': {'Position': array([[0.08865702, 4.7273759 , 1.72669458]]), 'cost': 3.3427677673111638}}\n",
      "\n",
      "\n",
      "{'Position': array([[0.83057622, 3.95412661, 0.65789422]]), 'cost': 2.698576655772638, 'velocity': array([[0., 0., 0.]]), 'best': {'Position': array([[0.08865702, 4.7273759 , 1.72669458]]), 'cost': 3.3427677673111638}}\n",
      "{'Position': array([[0.83057622, 3.95412661, 0.65789422]]), 'cost': 2.698576655772638, 'velocity': array([[0., 0., 0.]]), 'best': {'Position': array([[0.83057622, 3.95412661, 0.65789422]]), 'cost': 2.698576655772638}}\n",
      "\n",
      "\n",
      "{'Position': array([[ 0.73815427, -0.17189838,  5.86844581]]), 'cost': nan, 'velocity': array([[0., 0., 0.]]), 'best': {'Position': array([[0.83057622, 3.95412661, 0.65789422]]), 'cost': 2.698576655772638}}\n",
      "{'Position': array([[ 0.73815427, -0.17189838,  5.86844581]]), 'cost': nan, 'velocity': array([[0., 0., 0.]]), 'best': {'Position': array([[ 0.73815427, -0.17189838,  5.86844581]]), 'cost': nan}}\n",
      "\n",
      "\n",
      "{'Position': array([[-0.10495185,  1.35896063,  0.79231077]]), 'cost': nan, 'velocity': array([[0., 0., 0.]]), 'best': {'Position': array([[ 0.73815427, -0.17189838,  5.86844581]]), 'cost': nan}}\n",
      "{'Position': array([[-0.10495185,  1.35896063,  0.79231077]]), 'cost': nan, 'velocity': array([[0., 0., 0.]]), 'best': {'Position': array([[-0.10495185,  1.35896063,  0.79231077]]), 'cost': nan}}\n",
      "\n",
      "\n",
      "{'Position': array([[0.93243242, 3.69166549, 0.66427521]]), 'cost': 2.663021534441599, 'velocity': array([[0., 0., 0.]]), 'best': {'Position': array([[-0.10495185,  1.35896063,  0.79231077]]), 'cost': nan}}\n",
      "{'Position': array([[0.93243242, 3.69166549, 0.66427521]]), 'cost': 2.663021534441599, 'velocity': array([[0., 0., 0.]]), 'best': {'Position': array([[0.93243242, 3.69166549, 0.66427521]]), 'cost': 2.663021534441599}}\n",
      "\n",
      "\n",
      "{'Position': array([[0.23548747, 4.42008355, 3.15959723]]), 'cost': 1.0444674786882286, 'velocity': array([[0., 0., 0.]]), 'best': {'Position': array([[0.93243242, 3.69166549, 0.66427521]]), 'cost': 2.663021534441599}}\n",
      "{'Position': array([[0.23548747, 4.42008355, 3.15959723]]), 'cost': 1.0444674786882286, 'velocity': array([[0., 0., 0.]]), 'best': {'Position': array([[0.23548747, 4.42008355, 3.15959723]]), 'cost': 1.0444674786882286}}\n",
      "\n",
      "\n",
      "{'Position': array([[4.3007687 , 5.70998477, 2.72713979]]), 'cost': 5.2915903454114925, 'velocity': array([[0., 0., 0.]]), 'best': {'Position': array([[0.23548747, 4.42008355, 3.15959723]]), 'cost': 1.0444674786882286}}\n",
      "{'Position': array([[4.3007687 , 5.70998477, 2.72713979]]), 'cost': 5.2915903454114925, 'velocity': array([[0., 0., 0.]]), 'best': {'Position': array([[4.3007687 , 5.70998477, 2.72713979]]), 'cost': 5.2915903454114925}}\n",
      "\n",
      "\n",
      "{'Position': array([[ 4.78354748, -0.74683215,  0.0221977 ]]), 'cost': nan, 'velocity': array([[0., 0., 0.]]), 'best': {'Position': array([[4.3007687 , 5.70998477, 2.72713979]]), 'cost': 5.2915903454114925}}\n",
      "{'Position': array([[ 4.78354748, -0.74683215,  0.0221977 ]]), 'cost': nan, 'velocity': array([[0., 0., 0.]]), 'best': {'Position': array([[ 4.78354748, -0.74683215,  0.0221977 ]]), 'cost': nan}}\n",
      "\n",
      "\n",
      "{'Position': array([[ 1.3722527 , -0.66511211, -0.29687368]]), 'cost': nan, 'velocity': array([[0., 0., 0.]]), 'best': {'Position': array([[ 4.78354748, -0.74683215,  0.0221977 ]]), 'cost': nan}}\n",
      "{'Position': array([[ 1.3722527 , -0.66511211, -0.29687368]]), 'cost': nan, 'velocity': array([[0., 0., 0.]]), 'best': {'Position': array([[ 1.3722527 , -0.66511211, -0.29687368]]), 'cost': nan}}\n",
      "\n",
      "\n",
      "{'Position': array([[2.52715583, 3.79151671, 5.46989717]]), 'cost': 3.7853512895878563, 'velocity': array([[0., 0., 0.]]), 'best': {'Position': array([[ 1.3722527 , -0.66511211, -0.29687368]]), 'cost': nan}}\n",
      "{'Position': array([[2.52715583, 3.79151671, 5.46989717]]), 'cost': 3.7853512895878563, 'velocity': array([[0., 0., 0.]]), 'best': {'Position': array([[2.52715583, 3.79151671, 5.46989717]]), 'cost': 3.7853512895878563}}\n",
      "\n",
      "\n",
      "{'Position': array([[-0.02529027,  5.0101899 ,  2.94294733]]), 'cost': nan, 'velocity': array([[0., 0., 0.]]), 'best': {'Position': array([[2.52715583, 3.79151671, 5.46989717]]), 'cost': 3.7853512895878563}}\n",
      "{'Position': array([[-0.02529027,  5.0101899 ,  2.94294733]]), 'cost': nan, 'velocity': array([[0., 0., 0.]]), 'best': {'Position': array([[-0.02529027,  5.0101899 ,  2.94294733]]), 'cost': nan}}\n",
      "\n",
      "\n",
      "{'Position': array([[-0.08711035,  1.28969323,  3.2184508 ]]), 'cost': nan, 'velocity': array([[0., 0., 0.]]), 'best': {'Position': array([[-0.02529027,  5.0101899 ,  2.94294733]]), 'cost': nan}}\n",
      "{'Position': array([[-0.08711035,  1.28969323,  3.2184508 ]]), 'cost': nan, 'velocity': array([[0., 0., 0.]]), 'best': {'Position': array([[-0.08711035,  1.28969323,  3.2184508 ]]), 'cost': nan}}\n",
      "\n",
      "\n",
      "{'Position': array([[4.47473565, 0.35467078, 2.8094602 ]]), 'cost': 1.673120720952852, 'velocity': array([[0., 0., 0.]]), 'best': {'Position': array([[-0.08711035,  1.28969323,  3.2184508 ]]), 'cost': nan}}\n",
      "{'Position': array([[4.47473565, 0.35467078, 2.8094602 ]]), 'cost': 1.673120720952852, 'velocity': array([[0., 0., 0.]]), 'best': {'Position': array([[4.47473565, 0.35467078, 2.8094602 ]]), 'cost': 1.673120720952852}}\n",
      "\n",
      "\n",
      "{'Position': array([[1.78465089, 1.69634278, 3.1740755 ]]), 'cost': 2.514213156721114, 'velocity': array([[0., 0., 0.]]), 'best': {'Position': array([[4.47473565, 0.35467078, 2.8094602 ]]), 'cost': 1.673120720952852}}\n",
      "{'Position': array([[1.78465089, 1.69634278, 3.1740755 ]]), 'cost': 2.514213156721114, 'velocity': array([[0., 0., 0.]]), 'best': {'Position': array([[1.78465089, 1.69634278, 3.1740755 ]]), 'cost': 2.514213156721114}}\n",
      "\n",
      "\n",
      "{'Position': array([[4.63130758, 4.37626904, 2.09272683]]), 'cost': 1.5341765072876532, 'velocity': array([[0., 0., 0.]]), 'best': {'Position': array([[1.78465089, 1.69634278, 3.1740755 ]]), 'cost': 2.514213156721114}}\n",
      "{'Position': array([[4.63130758, 4.37626904, 2.09272683]]), 'cost': 1.5341765072876532, 'velocity': array([[0., 0., 0.]]), 'best': {'Position': array([[4.63130758, 4.37626904, 2.09272683]]), 'cost': 1.5341765072876532}}\n",
      "\n",
      "\n",
      "{'Position': array([[-0.46056069,  1.18929802,  1.43605155]]), 'cost': nan, 'velocity': array([[0., 0., 0.]]), 'best': {'Position': array([[4.63130758, 4.37626904, 2.09272683]]), 'cost': 1.5341765072876532}}\n",
      "{'Position': array([[-0.46056069,  1.18929802,  1.43605155]]), 'cost': nan, 'velocity': array([[0., 0., 0.]]), 'best': {'Position': array([[-0.46056069,  1.18929802,  1.43605155]]), 'cost': nan}}\n",
      "\n",
      "\n",
      "{'Position': array([[0.67276108, 3.96835226, 3.5792637 ]]), 'cost': 0.48141717896242264, 'velocity': array([[0., 0., 0.]]), 'best': {'Position': array([[-0.46056069,  1.18929802,  1.43605155]]), 'cost': nan}}\n",
      "{'Position': array([[0.67276108, 3.96835226, 3.5792637 ]]), 'cost': 0.48141717896242264, 'velocity': array([[0., 0., 0.]]), 'best': {'Position': array([[0.67276108, 3.96835226, 3.5792637 ]]), 'cost': 0.48141717896242264}}\n",
      "\n",
      "\n",
      "{'Position': array([[ 5.59550064, -0.08021946,  3.48133173]]), 'cost': nan, 'velocity': array([[0., 0., 0.]]), 'best': {'Position': array([[0.67276108, 3.96835226, 3.5792637 ]]), 'cost': 0.48141717896242264}}\n",
      "{'Position': array([[ 5.59550064, -0.08021946,  3.48133173]]), 'cost': nan, 'velocity': array([[0., 0., 0.]]), 'best': {'Position': array([[ 5.59550064, -0.08021946,  3.48133173]]), 'cost': nan}}\n",
      "\n",
      "\n",
      "{'Position': array([[0.81037569, 3.55175594, 1.33754907]]), 'cost': 2.717949855804971, 'velocity': array([[0., 0., 0.]]), 'best': {'Position': array([[ 5.59550064, -0.08021946,  3.48133173]]), 'cost': nan}}\n",
      "{'Position': array([[0.81037569, 3.55175594, 1.33754907]]), 'cost': 2.717949855804971, 'velocity': array([[0., 0., 0.]]), 'best': {'Position': array([[0.81037569, 3.55175594, 1.33754907]]), 'cost': 2.717949855804971}}\n",
      "\n",
      "\n",
      "{'Position': array([[ 2.71676088, -0.39944072,  0.57142593]]), 'cost': nan, 'velocity': array([[0., 0., 0.]]), 'best': {'Position': array([[0.81037569, 3.55175594, 1.33754907]]), 'cost': 2.717949855804971}}\n",
      "{'Position': array([[ 2.71676088, -0.39944072,  0.57142593]]), 'cost': nan, 'velocity': array([[0., 0., 0.]]), 'best': {'Position': array([[ 2.71676088, -0.39944072,  0.57142593]]), 'cost': nan}}\n",
      "\n",
      "\n",
      "{'Position': array([[4.86127974, 0.50022016, 1.16686844]]), 'cost': 4.39914018254939, 'velocity': array([[0., 0., 0.]]), 'best': {'Position': array([[ 2.71676088, -0.39944072,  0.57142593]]), 'cost': nan}}\n",
      "{'Position': array([[4.86127974, 0.50022016, 1.16686844]]), 'cost': 4.39914018254939, 'velocity': array([[0., 0., 0.]]), 'best': {'Position': array([[4.86127974, 0.50022016, 1.16686844]]), 'cost': 4.39914018254939}}\n",
      "\n",
      "\n",
      "{'Position': array([[-0.26991215,  1.92757461,  2.55668803]]), 'cost': nan, 'velocity': array([[0., 0., 0.]]), 'best': {'Position': array([[4.86127974, 0.50022016, 1.16686844]]), 'cost': 4.39914018254939}}\n",
      "{'Position': array([[-0.26991215,  1.92757461,  2.55668803]]), 'cost': nan, 'velocity': array([[0., 0., 0.]]), 'best': {'Position': array([[-0.26991215,  1.92757461,  2.55668803]]), 'cost': nan}}\n",
      "\n",
      "\n",
      "{'Position': array([[2.21684941, 2.80339017, 4.22505746]]), 'cost': 0.7597199308782008, 'velocity': array([[0., 0., 0.]]), 'best': {'Position': array([[-0.26991215,  1.92757461,  2.55668803]]), 'cost': nan}}\n",
      "{'Position': array([[2.21684941, 2.80339017, 4.22505746]]), 'cost': 0.7597199308782008, 'velocity': array([[0., 0., 0.]]), 'best': {'Position': array([[2.21684941, 2.80339017, 4.22505746]]), 'cost': 0.7597199308782008}}\n",
      "\n",
      "\n",
      "{'Position': array([[3.20942735, 2.78252321, 4.69704032]]), 'cost': 0.5307612469369953, 'velocity': array([[0., 0., 0.]]), 'best': {'Position': array([[2.21684941, 2.80339017, 4.22505746]]), 'cost': 0.7597199308782008}}\n",
      "{'Position': array([[3.20942735, 2.78252321, 4.69704032]]), 'cost': 0.5307612469369953, 'velocity': array([[0., 0., 0.]]), 'best': {'Position': array([[3.20942735, 2.78252321, 4.69704032]]), 'cost': 0.5307612469369953}}\n",
      "\n",
      "\n",
      "{'Position': array([[1.62136865, 4.77193427, 3.89574463]]), 'cost': 1.8526803283570628, 'velocity': array([[0., 0., 0.]]), 'best': {'Position': array([[3.20942735, 2.78252321, 4.69704032]]), 'cost': 0.5307612469369953}}\n",
      "{'Position': array([[1.62136865, 4.77193427, 3.89574463]]), 'cost': 1.8526803283570628, 'velocity': array([[0., 0., 0.]]), 'best': {'Position': array([[1.62136865, 4.77193427, 3.89574463]]), 'cost': 1.8526803283570628}}\n",
      "\n",
      "\n",
      "{'Position': array([[5.32041239, 0.75299165, 1.79289194]]), 'cost': 6.112922861436472, 'velocity': array([[0., 0., 0.]]), 'best': {'Position': array([[1.62136865, 4.77193427, 3.89574463]]), 'cost': 1.8526803283570628}}\n",
      "{'Position': array([[5.32041239, 0.75299165, 1.79289194]]), 'cost': 6.112922861436472, 'velocity': array([[0., 0., 0.]]), 'best': {'Position': array([[5.32041239, 0.75299165, 1.79289194]]), 'cost': 6.112922861436472}}\n",
      "\n",
      "\n",
      "{'Position': array([[-0.69875204,  2.61474362,  5.37693586]]), 'cost': nan, 'velocity': array([[0., 0., 0.]]), 'best': {'Position': array([[5.32041239, 0.75299165, 1.79289194]]), 'cost': 6.112922861436472}}\n",
      "{'Position': array([[-0.69875204,  2.61474362,  5.37693586]]), 'cost': nan, 'velocity': array([[0., 0., 0.]]), 'best': {'Position': array([[-0.69875204,  2.61474362,  5.37693586]]), 'cost': nan}}\n",
      "\n",
      "\n",
      "{'Position': array([[ 0.96451324,  2.2996147 , -0.21342755]]), 'cost': nan, 'velocity': array([[0., 0., 0.]]), 'best': {'Position': array([[-0.69875204,  2.61474362,  5.37693586]]), 'cost': nan}}\n",
      "{'Position': array([[ 0.96451324,  2.2996147 , -0.21342755]]), 'cost': nan, 'velocity': array([[0., 0., 0.]]), 'best': {'Position': array([[ 0.96451324,  2.2996147 , -0.21342755]]), 'cost': nan}}\n",
      "\n",
      "\n",
      "{'Position': array([[4.53674656, 1.81879987, 3.79629408]]), 'cost': 1.0282402723794437, 'velocity': array([[0., 0., 0.]]), 'best': {'Position': array([[ 0.96451324,  2.2996147 , -0.21342755]]), 'cost': nan}}\n",
      "{'Position': array([[4.53674656, 1.81879987, 3.79629408]]), 'cost': 1.0282402723794437, 'velocity': array([[0., 0., 0.]]), 'best': {'Position': array([[4.53674656, 1.81879987, 3.79629408]]), 'cost': 1.0282402723794437}}\n",
      "\n",
      "\n",
      "{'Position': array([[ 5.50358088,  1.06057722, -0.09622676]]), 'cost': nan, 'velocity': array([[0., 0., 0.]]), 'best': {'Position': array([[4.53674656, 1.81879987, 3.79629408]]), 'cost': 1.0282402723794437}}\n",
      "{'Position': array([[ 5.50358088,  1.06057722, -0.09622676]]), 'cost': nan, 'velocity': array([[0., 0., 0.]]), 'best': {'Position': array([[ 5.50358088,  1.06057722, -0.09622676]]), 'cost': nan}}\n",
      "\n",
      "\n",
      "{'Position': array([[0.32169694, 3.17880779, 3.85385099]]), 'cost': 0.48011183648084366, 'velocity': array([[0., 0., 0.]]), 'best': {'Position': array([[ 5.50358088,  1.06057722, -0.09622676]]), 'cost': nan}}\n",
      "{'Position': array([[0.32169694, 3.17880779, 3.85385099]]), 'cost': 0.48011183648084366, 'velocity': array([[0., 0., 0.]]), 'best': {'Position': array([[0.32169694, 3.17880779, 3.85385099]]), 'cost': 0.48011183648084366}}\n",
      "\n",
      "\n",
      "{'Position': array([[-0.58981476, -0.75937397,  2.7994534 ]]), 'cost': nan, 'velocity': array([[0., 0., 0.]]), 'best': {'Position': array([[0.32169694, 3.17880779, 3.85385099]]), 'cost': 0.48011183648084366}}\n",
      "{'Position': array([[-0.58981476, -0.75937397,  2.7994534 ]]), 'cost': nan, 'velocity': array([[0., 0., 0.]]), 'best': {'Position': array([[-0.58981476, -0.75937397,  2.7994534 ]]), 'cost': nan}}\n",
      "\n",
      "\n",
      "{'Position': array([[ 1.68799669, -0.70297969,  3.94610315]]), 'cost': nan, 'velocity': array([[0., 0., 0.]]), 'best': {'Position': array([[-0.58981476, -0.75937397,  2.7994534 ]]), 'cost': nan}}\n",
      "{'Position': array([[ 1.68799669, -0.70297969,  3.94610315]]), 'cost': nan, 'velocity': array([[0., 0., 0.]]), 'best': {'Position': array([[ 1.68799669, -0.70297969,  3.94610315]]), 'cost': nan}}\n",
      "\n",
      "\n",
      "{'Position': array([[2.88147877, 4.95124731, 1.03459405]]), 'cost': 3.256944832189066, 'velocity': array([[0., 0., 0.]]), 'best': {'Position': array([[ 1.68799669, -0.70297969,  3.94610315]]), 'cost': nan}}\n",
      "{'Position': array([[2.88147877, 4.95124731, 1.03459405]]), 'cost': 3.256944832189066, 'velocity': array([[0., 0., 0.]]), 'best': {'Position': array([[2.88147877, 4.95124731, 1.03459405]]), 'cost': 3.256944832189066}}\n",
      "\n",
      "\n",
      "{'Position': array([[2.81424148, 1.31997823, 2.28470815]]), 'cost': 2.592276491205626, 'velocity': array([[0., 0., 0.]]), 'best': {'Position': array([[2.88147877, 4.95124731, 1.03459405]]), 'cost': 3.256944832189066}}\n",
      "{'Position': array([[2.81424148, 1.31997823, 2.28470815]]), 'cost': 2.592276491205626, 'velocity': array([[0., 0., 0.]]), 'best': {'Position': array([[2.81424148, 1.31997823, 2.28470815]]), 'cost': 2.592276491205626}}\n",
      "\n",
      "\n",
      "{'Position': array([[3.07210708, 0.40912423, 0.62267502]]), 'cost': 2.8185362715124676, 'velocity': array([[0., 0., 0.]]), 'best': {'Position': array([[2.81424148, 1.31997823, 2.28470815]]), 'cost': 2.592276491205626}}\n",
      "{'Position': array([[3.07210708, 0.40912423, 0.62267502]]), 'cost': 2.8185362715124676, 'velocity': array([[0., 0., 0.]]), 'best': {'Position': array([[3.07210708, 0.40912423, 0.62267502]]), 'cost': 2.8185362715124676}}\n",
      "\n",
      "\n",
      "{'Position': array([[4.68243936, 2.86213233, 0.41092754]]), 'cost': 2.1617252758715066, 'velocity': array([[0., 0., 0.]]), 'best': {'Position': array([[3.07210708, 0.40912423, 0.62267502]]), 'cost': 2.8185362715124676}}\n",
      "{'Position': array([[4.68243936, 2.86213233, 0.41092754]]), 'cost': 2.1617252758715066, 'velocity': array([[0., 0., 0.]]), 'best': {'Position': array([[4.68243936, 2.86213233, 0.41092754]]), 'cost': 2.1617252758715066}}\n",
      "\n",
      "\n",
      "{'Position': array([[-0.52921786,  2.7492802 ,  0.42316732]]), 'cost': nan, 'velocity': array([[0., 0., 0.]]), 'best': {'Position': array([[4.68243936, 2.86213233, 0.41092754]]), 'cost': 2.1617252758715066}}\n",
      "{'Position': array([[-0.52921786,  2.7492802 ,  0.42316732]]), 'cost': nan, 'velocity': array([[0., 0., 0.]]), 'best': {'Position': array([[-0.52921786,  2.7492802 ,  0.42316732]]), 'cost': nan}}\n",
      "\n",
      "\n",
      "{'Position': array([[ 2.97060021, -0.89969658,  0.54158935]]), 'cost': nan, 'velocity': array([[0., 0., 0.]]), 'best': {'Position': array([[-0.52921786,  2.7492802 ,  0.42316732]]), 'cost': nan}}\n",
      "{'Position': array([[ 2.97060021, -0.89969658,  0.54158935]]), 'cost': nan, 'velocity': array([[0., 0., 0.]]), 'best': {'Position': array([[ 2.97060021, -0.89969658,  0.54158935]]), 'cost': nan}}\n",
      "\n",
      "\n",
      "{'Position': array([[4.08040842, 2.1319042 , 1.54136898]]), 'cost': 2.111566186799989, 'velocity': array([[0., 0., 0.]]), 'best': {'Position': array([[ 2.97060021, -0.89969658,  0.54158935]]), 'cost': nan}}\n",
      "{'Position': array([[4.08040842, 2.1319042 , 1.54136898]]), 'cost': 2.111566186799989, 'velocity': array([[0., 0., 0.]]), 'best': {'Position': array([[4.08040842, 2.1319042 , 1.54136898]]), 'cost': 2.111566186799989}}\n",
      "\n",
      "\n",
      "{'Position': array([[ 5.42044323, -0.8596541 ,  2.76450835]]), 'cost': nan, 'velocity': array([[0., 0., 0.]]), 'best': {'Position': array([[4.08040842, 2.1319042 , 1.54136898]]), 'cost': 2.111566186799989}}\n",
      "{'Position': array([[ 5.42044323, -0.8596541 ,  2.76450835]]), 'cost': nan, 'velocity': array([[0., 0., 0.]]), 'best': {'Position': array([[ 5.42044323, -0.8596541 ,  2.76450835]]), 'cost': nan}}\n",
      "\n",
      "\n",
      "{'Position': array([[-0.50695072, -0.12766017, -0.40300585]]), 'cost': nan, 'velocity': array([[0., 0., 0.]]), 'best': {'Position': array([[ 5.42044323, -0.8596541 ,  2.76450835]]), 'cost': nan}}\n",
      "{'Position': array([[-0.50695072, -0.12766017, -0.40300585]]), 'cost': nan, 'velocity': array([[0., 0., 0.]]), 'best': {'Position': array([[-0.50695072, -0.12766017, -0.40300585]]), 'cost': nan}}\n",
      "\n",
      "\n",
      "{'Position': array([[2.39373985, 0.75001389, 5.02050453]]), 'cost': 4.111097697917686, 'velocity': array([[0., 0., 0.]]), 'best': {'Position': array([[-0.50695072, -0.12766017, -0.40300585]]), 'cost': nan}}\n",
      "{'Position': array([[2.39373985, 0.75001389, 5.02050453]]), 'cost': 4.111097697917686, 'velocity': array([[0., 0., 0.]]), 'best': {'Position': array([[2.39373985, 0.75001389, 5.02050453]]), 'cost': 4.111097697917686}}\n",
      "\n",
      "\n",
      "{'Position': array([[1.12503076, 3.86501555, 4.17723187]]), 'cost': 0.754948759160091, 'velocity': array([[0., 0., 0.]]), 'best': {'Position': array([[2.39373985, 0.75001389, 5.02050453]]), 'cost': 4.111097697917686}}\n",
      "{'Position': array([[1.12503076, 3.86501555, 4.17723187]]), 'cost': 0.754948759160091, 'velocity': array([[0., 0., 0.]]), 'best': {'Position': array([[1.12503076, 3.86501555, 4.17723187]]), 'cost': 0.754948759160091}}\n",
      "\n",
      "\n",
      "{'Position': array([[5.11495251, 1.17931697, 4.28090047]]), 'cost': 3.65925464965058, 'velocity': array([[0., 0., 0.]]), 'best': {'Position': array([[1.12503076, 3.86501555, 4.17723187]]), 'cost': 0.754948759160091}}\n",
      "{'Position': array([[5.11495251, 1.17931697, 4.28090047]]), 'cost': 3.65925464965058, 'velocity': array([[0., 0., 0.]]), 'best': {'Position': array([[5.11495251, 1.17931697, 4.28090047]]), 'cost': 3.65925464965058}}\n",
      "\n",
      "\n",
      "{'Position': array([[1.96559888, 4.10010354, 1.40479018]]), 'cost': 2.3839221992781234, 'velocity': array([[0., 0., 0.]]), 'best': {'Position': array([[5.11495251, 1.17931697, 4.28090047]]), 'cost': 3.65925464965058}}\n",
      "{'Position': array([[1.96559888, 4.10010354, 1.40479018]]), 'cost': 2.3839221992781234, 'velocity': array([[0., 0., 0.]]), 'best': {'Position': array([[1.96559888, 4.10010354, 1.40479018]]), 'cost': 2.3839221992781234}}\n",
      "\n",
      "\n",
      "{'Position': array([[2.16802857, 4.51696252, 5.59641471]]), 'cost': 5.783899159971362, 'velocity': array([[0., 0., 0.]]), 'best': {'Position': array([[1.96559888, 4.10010354, 1.40479018]]), 'cost': 2.3839221992781234}}\n",
      "{'Position': array([[2.16802857, 4.51696252, 5.59641471]]), 'cost': 5.783899159971362, 'velocity': array([[0., 0., 0.]]), 'best': {'Position': array([[2.16802857, 4.51696252, 5.59641471]]), 'cost': 5.783899159971362}}\n",
      "\n",
      "\n",
      "{'Position': array([[4.4712161 , 4.27891417, 3.1538342 ]]), 'cost': -0.347208669013396, 'velocity': array([[0., 0., 0.]]), 'best': {'Position': array([[2.16802857, 4.51696252, 5.59641471]]), 'cost': 5.783899159971362}}\n",
      "{'Position': array([[4.4712161 , 4.27891417, 3.1538342 ]]), 'cost': -0.347208669013396, 'velocity': array([[0., 0., 0.]]), 'best': {'Position': array([[4.4712161 , 4.27891417, 3.1538342 ]]), 'cost': -0.347208669013396}}\n",
      "\n",
      "\n",
      "{'Position': array([[-0.83577118, -0.281576  ,  1.0221263 ]]), 'cost': nan, 'velocity': array([[0., 0., 0.]]), 'best': {'Position': array([[4.4712161 , 4.27891417, 3.1538342 ]]), 'cost': -0.347208669013396}}\n",
      "{'Position': array([[-0.83577118, -0.281576  ,  1.0221263 ]]), 'cost': nan, 'velocity': array([[0., 0., 0.]]), 'best': {'Position': array([[-0.83577118, -0.281576  ,  1.0221263 ]]), 'cost': nan}}\n",
      "\n",
      "\n",
      "{'Position': array([[4.43476459, 3.84176999, 5.11461278]]), 'cost': 1.6608646906840665, 'velocity': array([[0., 0., 0.]]), 'best': {'Position': array([[-0.83577118, -0.281576  ,  1.0221263 ]]), 'cost': nan}}\n",
      "{'Position': array([[4.43476459, 3.84176999, 5.11461278]]), 'cost': 1.6608646906840665, 'velocity': array([[0., 0., 0.]]), 'best': {'Position': array([[4.43476459, 3.84176999, 5.11461278]]), 'cost': 1.6608646906840665}}\n",
      "\n",
      "\n",
      "{'Position': array([[5.43791187, 5.91797674, 3.93798639]]), 'cost': 9.676546273074612, 'velocity': array([[0., 0., 0.]]), 'best': {'Position': array([[4.43476459, 3.84176999, 5.11461278]]), 'cost': 1.6608646906840665}}\n",
      "{'Position': array([[5.43791187, 5.91797674, 3.93798639]]), 'cost': 9.676546273074612, 'velocity': array([[0., 0., 0.]]), 'best': {'Position': array([[5.43791187, 5.91797674, 3.93798639]]), 'cost': 9.676546273074612}}\n",
      "\n",
      "\n",
      "{'Position': array([[ 5.78596856,  0.46260638, -0.03035242]]), 'cost': nan, 'velocity': array([[0., 0., 0.]]), 'best': {'Position': array([[5.43791187, 5.91797674, 3.93798639]]), 'cost': 9.676546273074612}}\n",
      "{'Position': array([[ 5.78596856,  0.46260638, -0.03035242]]), 'cost': nan, 'velocity': array([[0., 0., 0.]]), 'best': {'Position': array([[ 5.78596856,  0.46260638, -0.03035242]]), 'cost': nan}}\n",
      "\n",
      "\n",
      "{'Position': array([[4.61473735, 2.79639881, 4.42853963]]), 'cost': 0.6757831925142721, 'velocity': array([[0., 0., 0.]]), 'best': {'Position': array([[ 5.78596856,  0.46260638, -0.03035242]]), 'cost': nan}}\n",
      "{'Position': array([[4.61473735, 2.79639881, 4.42853963]]), 'cost': 0.6757831925142721, 'velocity': array([[0., 0., 0.]]), 'best': {'Position': array([[4.61473735, 2.79639881, 4.42853963]]), 'cost': 0.6757831925142721}}\n",
      "\n",
      "\n",
      "{'Position': array([[-0.7242297 ,  0.03680941, -0.4287103 ]]), 'cost': nan, 'velocity': array([[0., 0., 0.]]), 'best': {'Position': array([[4.61473735, 2.79639881, 4.42853963]]), 'cost': 0.6757831925142721}}\n",
      "{'Position': array([[-0.7242297 ,  0.03680941, -0.4287103 ]]), 'cost': nan, 'velocity': array([[0., 0., 0.]]), 'best': {'Position': array([[-0.7242297 ,  0.03680941, -0.4287103 ]]), 'cost': nan}}\n",
      "\n",
      "\n",
      "{'Position': array([[1.69629889, 4.26995578, 2.95018831]]), 'cost': 1.170978493701221, 'velocity': array([[0., 0., 0.]]), 'best': {'Position': array([[-0.7242297 ,  0.03680941, -0.4287103 ]]), 'cost': nan}}\n",
      "{'Position': array([[1.69629889, 4.26995578, 2.95018831]]), 'cost': 1.170978493701221, 'velocity': array([[0., 0., 0.]]), 'best': {'Position': array([[1.69629889, 4.26995578, 2.95018831]]), 'cost': 1.170978493701221}}\n",
      "\n",
      "\n",
      "{'Position': array([[ 3.65231249,  4.69434678, -0.90593393]]), 'cost': nan, 'velocity': array([[0., 0., 0.]]), 'best': {'Position': array([[1.69629889, 4.26995578, 2.95018831]]), 'cost': 1.170978493701221}}\n",
      "{'Position': array([[ 3.65231249,  4.69434678, -0.90593393]]), 'cost': nan, 'velocity': array([[0., 0., 0.]]), 'best': {'Position': array([[ 3.65231249,  4.69434678, -0.90593393]]), 'cost': nan}}\n",
      "\n",
      "\n",
      "{'Position': array([[3.29070742, 5.57558272, 0.58659512]]), 'cost': 5.601565573785779, 'velocity': array([[0., 0., 0.]]), 'best': {'Position': array([[ 3.65231249,  4.69434678, -0.90593393]]), 'cost': nan}}\n",
      "{'Position': array([[3.29070742, 5.57558272, 0.58659512]]), 'cost': 5.601565573785779, 'velocity': array([[0., 0., 0.]]), 'best': {'Position': array([[3.29070742, 5.57558272, 0.58659512]]), 'cost': 5.601565573785779}}\n",
      "\n",
      "\n",
      "{'Position': array([[1.12170552, 0.13632878, 4.17390441]]), 'cost': 2.5234420090490475, 'velocity': array([[0., 0., 0.]]), 'best': {'Position': array([[3.29070742, 5.57558272, 0.58659512]]), 'cost': 5.601565573785779}}\n",
      "{'Position': array([[1.12170552, 0.13632878, 4.17390441]]), 'cost': 2.5234420090490475, 'velocity': array([[0., 0., 0.]]), 'best': {'Position': array([[1.12170552, 0.13632878, 4.17390441]]), 'cost': 2.5234420090490475}}\n",
      "\n",
      "\n",
      "{'Position': array([[5.35775456, 1.26094613, 1.58865753]]), 'cost': 6.486401437452251, 'velocity': array([[0., 0., 0.]]), 'best': {'Position': array([[1.12170552, 0.13632878, 4.17390441]]), 'cost': 2.5234420090490475}}\n",
      "{'Position': array([[5.35775456, 1.26094613, 1.58865753]]), 'cost': 6.486401437452251, 'velocity': array([[0., 0., 0.]]), 'best': {'Position': array([[5.35775456, 1.26094613, 1.58865753]]), 'cost': 6.486401437452251}}\n",
      "\n",
      "\n",
      "{'Position': array([[3.11498879, 2.75500803, 0.67544467]]), 'cost': 1.5558227155796667, 'velocity': array([[0., 0., 0.]]), 'best': {'Position': array([[5.35775456, 1.26094613, 1.58865753]]), 'cost': 6.486401437452251}}\n",
      "{'Position': array([[3.11498879, 2.75500803, 0.67544467]]), 'cost': 1.5558227155796667, 'velocity': array([[0., 0., 0.]]), 'best': {'Position': array([[3.11498879, 2.75500803, 0.67544467]]), 'cost': 1.5558227155796667}}\n",
      "\n",
      "\n",
      "{'Position': array([[1.53627366, 1.42974136, 3.02144696]]), 'cost': 3.0207020333832255, 'velocity': array([[0., 0., 0.]]), 'best': {'Position': array([[3.11498879, 2.75500803, 0.67544467]]), 'cost': 1.5558227155796667}}\n",
      "{'Position': array([[1.53627366, 1.42974136, 3.02144696]]), 'cost': 3.0207020333832255, 'velocity': array([[0., 0., 0.]]), 'best': {'Position': array([[1.53627366, 1.42974136, 3.02144696]]), 'cost': 3.0207020333832255}}\n",
      "\n",
      "\n",
      "{'Position': array([[4.27048072, 0.4886845 , 3.98212326]]), 'cost': 0.7480681052376368, 'velocity': array([[0., 0., 0.]]), 'best': {'Position': array([[1.53627366, 1.42974136, 3.02144696]]), 'cost': 3.0207020333832255}}\n",
      "{'Position': array([[4.27048072, 0.4886845 , 3.98212326]]), 'cost': 0.7480681052376368, 'velocity': array([[0., 0., 0.]]), 'best': {'Position': array([[4.27048072, 0.4886845 , 3.98212326]]), 'cost': 0.7480681052376368}}\n",
      "\n",
      "\n",
      "{'Position': array([[-0.19388153,  2.61613148,  1.70526012]]), 'cost': nan, 'velocity': array([[0., 0., 0.]]), 'best': {'Position': array([[4.27048072, 0.4886845 , 3.98212326]]), 'cost': 0.7480681052376368}}\n",
      "{'Position': array([[-0.19388153,  2.61613148,  1.70526012]]), 'cost': nan, 'velocity': array([[0., 0., 0.]]), 'best': {'Position': array([[-0.19388153,  2.61613148,  1.70526012]]), 'cost': nan}}\n",
      "\n",
      "\n",
      "{'Position': array([[3.94278991, 2.42248901, 3.16001896]]), 'cost': -0.18968440025099387, 'velocity': array([[0., 0., 0.]]), 'best': {'Position': array([[-0.19388153,  2.61613148,  1.70526012]]), 'cost': nan}}\n",
      "{'Position': array([[3.94278991, 2.42248901, 3.16001896]]), 'cost': -0.18968440025099387, 'velocity': array([[0., 0., 0.]]), 'best': {'Position': array([[3.94278991, 2.42248901, 3.16001896]]), 'cost': -0.18968440025099387}}\n",
      "\n",
      "\n",
      "{'Position': array([[ 2.9643706 ,  2.32745061, -0.31276001]]), 'cost': nan, 'velocity': array([[0., 0., 0.]]), 'best': {'Position': array([[3.94278991, 2.42248901, 3.16001896]]), 'cost': -0.18968440025099387}}\n",
      "{'Position': array([[ 2.9643706 ,  2.32745061, -0.31276001]]), 'cost': nan, 'velocity': array([[0., 0., 0.]]), 'best': {'Position': array([[ 2.9643706 ,  2.32745061, -0.31276001]]), 'cost': nan}}\n",
      "\n",
      "\n",
      "{'Position': array([[5.38638521, 1.74289928, 1.10644117]]), 'cost': 6.539395421801895, 'velocity': array([[0., 0., 0.]]), 'best': {'Position': array([[ 2.9643706 ,  2.32745061, -0.31276001]]), 'cost': nan}}\n",
      "{'Position': array([[5.38638521, 1.74289928, 1.10644117]]), 'cost': 6.539395421801895, 'velocity': array([[0., 0., 0.]]), 'best': {'Position': array([[5.38638521, 1.74289928, 1.10644117]]), 'cost': 6.539395421801895}}\n",
      "\n",
      "\n",
      "{'Position': array([[ 5.53126747, -0.90353759, -0.8750989 ]]), 'cost': nan, 'velocity': array([[0., 0., 0.]]), 'best': {'Position': array([[5.38638521, 1.74289928, 1.10644117]]), 'cost': 6.539395421801895}}\n",
      "{'Position': array([[ 5.53126747, -0.90353759, -0.8750989 ]]), 'cost': nan, 'velocity': array([[0., 0., 0.]]), 'best': {'Position': array([[ 5.53126747, -0.90353759, -0.8750989 ]]), 'cost': nan}}\n",
      "\n",
      "\n",
      "{'Position': array([[3.60207653, 2.93573834, 5.22454912]]), 'cost': 2.049260528765002, 'velocity': array([[0., 0., 0.]]), 'best': {'Position': array([[ 5.53126747, -0.90353759, -0.8750989 ]]), 'cost': nan}}\n",
      "{'Position': array([[3.60207653, 2.93573834, 5.22454912]]), 'cost': 2.049260528765002, 'velocity': array([[0., 0., 0.]]), 'best': {'Position': array([[3.60207653, 2.93573834, 5.22454912]]), 'cost': 2.049260528765002}}\n",
      "\n",
      "\n",
      "{'Position': array([[3.48835720e+00, 9.05877699e-01, 2.19665424e-03]]), 'cost': 2.1327675090821776, 'velocity': array([[0., 0., 0.]]), 'best': {'Position': array([[3.60207653, 2.93573834, 5.22454912]]), 'cost': 2.049260528765002}}\n",
      "{'Position': array([[3.48835720e+00, 9.05877699e-01, 2.19665424e-03]]), 'cost': 2.1327675090821776, 'velocity': array([[0., 0., 0.]]), 'best': {'Position': array([[3.48835720e+00, 9.05877699e-01, 2.19665424e-03]]), 'cost': 2.1327675090821776}}\n",
      "\n",
      "\n",
      "{'Position': array([[-0.57616041,  5.2649755 ,  4.25970419]]), 'cost': nan, 'velocity': array([[0., 0., 0.]]), 'best': {'Position': array([[3.48835720e+00, 9.05877699e-01, 2.19665424e-03]]), 'cost': 2.1327675090821776}}\n",
      "{'Position': array([[-0.57616041,  5.2649755 ,  4.25970419]]), 'cost': nan, 'velocity': array([[0., 0., 0.]]), 'best': {'Position': array([[-0.57616041,  5.2649755 ,  4.25970419]]), 'cost': nan}}\n",
      "\n",
      "\n",
      "{'Position': array([[2.77477956, 4.16510798, 1.81505793]]), 'cost': 1.1562793325548846, 'velocity': array([[0., 0., 0.]]), 'best': {'Position': array([[-0.57616041,  5.2649755 ,  4.25970419]]), 'cost': nan}}\n",
      "{'Position': array([[2.77477956, 4.16510798, 1.81505793]]), 'cost': 1.1562793325548846, 'velocity': array([[0., 0., 0.]]), 'best': {'Position': array([[2.77477956, 4.16510798, 1.81505793]]), 'cost': 1.1562793325548846}}\n",
      "\n",
      "\n",
      "{'Position': array([[-0.6471386 ,  2.39445737,  2.78647776]]), 'cost': nan, 'velocity': array([[0., 0., 0.]]), 'best': {'Position': array([[2.77477956, 4.16510798, 1.81505793]]), 'cost': 1.1562793325548846}}\n",
      "{'Position': array([[-0.6471386 ,  2.39445737,  2.78647776]]), 'cost': nan, 'velocity': array([[0., 0., 0.]]), 'best': {'Position': array([[-0.6471386 ,  2.39445737,  2.78647776]]), 'cost': nan}}\n",
      "\n",
      "\n",
      "{'Position': array([[1.7477395 , 2.15092368, 4.45592813]]), 'cost': 2.5010352743490127, 'velocity': array([[0., 0., 0.]]), 'best': {'Position': array([[-0.6471386 ,  2.39445737,  2.78647776]]), 'cost': nan}}\n",
      "{'Position': array([[1.7477395 , 2.15092368, 4.45592813]]), 'cost': 2.5010352743490127, 'velocity': array([[0., 0., 0.]]), 'best': {'Position': array([[1.7477395 , 2.15092368, 4.45592813]]), 'cost': 2.5010352743490127}}\n",
      "\n",
      "\n",
      "{'Position': array([[4.94081267, 2.92382001, 0.47036779]]), 'cost': 2.963098983835604, 'velocity': array([[0., 0., 0.]]), 'best': {'Position': array([[1.7477395 , 2.15092368, 4.45592813]]), 'cost': 2.5010352743490127}}\n",
      "{'Position': array([[4.94081267, 2.92382001, 0.47036779]]), 'cost': 2.963098983835604, 'velocity': array([[0., 0., 0.]]), 'best': {'Position': array([[4.94081267, 2.92382001, 0.47036779]]), 'cost': 2.963098983835604}}\n",
      "\n",
      "\n",
      "{'Position': array([[1.26910644, 0.41216058, 4.6310811 ]]), 'cost': 3.6241283166354465, 'velocity': array([[0., 0., 0.]]), 'best': {'Position': array([[4.94081267, 2.92382001, 0.47036779]]), 'cost': 2.963098983835604}}\n",
      "{'Position': array([[1.26910644, 0.41216058, 4.6310811 ]]), 'cost': 3.6241283166354465, 'velocity': array([[0., 0., 0.]]), 'best': {'Position': array([[1.26910644, 0.41216058, 4.6310811 ]]), 'cost': 3.6241283166354465}}\n",
      "\n",
      "\n",
      "{'Position': array([[3.48039418, 0.29748674, 5.29849867]]), 'cost': 3.8279605355989434, 'velocity': array([[0., 0., 0.]]), 'best': {'Position': array([[1.26910644, 0.41216058, 4.6310811 ]]), 'cost': 3.6241283166354465}}\n",
      "{'Position': array([[3.48039418, 0.29748674, 5.29849867]]), 'cost': 3.8279605355989434, 'velocity': array([[0., 0., 0.]]), 'best': {'Position': array([[3.48039418, 0.29748674, 5.29849867]]), 'cost': 3.8279605355989434}}\n",
      "\n",
      "\n",
      "{'Position': array([[ 4.41970691, -0.04597301,  3.17830969]]), 'cost': nan, 'velocity': array([[0., 0., 0.]]), 'best': {'Position': array([[3.48039418, 0.29748674, 5.29849867]]), 'cost': 3.8279605355989434}}\n",
      "{'Position': array([[ 4.41970691, -0.04597301,  3.17830969]]), 'cost': nan, 'velocity': array([[0., 0., 0.]]), 'best': {'Position': array([[ 4.41970691, -0.04597301,  3.17830969]]), 'cost': nan}}\n",
      "\n",
      "\n",
      "{'Position': array([[2.26820333, 0.93903274, 3.51884919]]), 'cost': 1.9653510541840022, 'velocity': array([[0., 0., 0.]]), 'best': {'Position': array([[ 4.41970691, -0.04597301,  3.17830969]]), 'cost': nan}}\n",
      "{'Position': array([[2.26820333, 0.93903274, 3.51884919]]), 'cost': 1.9653510541840022, 'velocity': array([[0., 0., 0.]]), 'best': {'Position': array([[2.26820333, 0.93903274, 3.51884919]]), 'cost': 1.9653510541840022}}\n",
      "\n",
      "\n",
      "{'Position': array([[5.85949874, 0.17723319, 2.29757599]]), 'cost': 8.187071924559646, 'velocity': array([[0., 0., 0.]]), 'best': {'Position': array([[2.26820333, 0.93903274, 3.51884919]]), 'cost': 1.9653510541840022}}\n",
      "{'Position': array([[5.85949874, 0.17723319, 2.29757599]]), 'cost': 8.187071924559646, 'velocity': array([[0., 0., 0.]]), 'best': {'Position': array([[5.85949874, 0.17723319, 2.29757599]]), 'cost': 8.187071924559646}}\n",
      "\n",
      "\n",
      "{'Position': array([[0.16243344, 5.85743498, 4.0100178 ]]), 'cost': 6.843412749908801, 'velocity': array([[0., 0., 0.]]), 'best': {'Position': array([[5.85949874, 0.17723319, 2.29757599]]), 'cost': 8.187071924559646}}\n",
      "{'Position': array([[0.16243344, 5.85743498, 4.0100178 ]]), 'cost': 6.843412749908801, 'velocity': array([[0., 0., 0.]]), 'best': {'Position': array([[0.16243344, 5.85743498, 4.0100178 ]]), 'cost': 6.843412749908801}}\n",
      "\n",
      "\n",
      "{'Position': array([[ 5.56581294,  2.15500308, -0.68893977]]), 'cost': nan, 'velocity': array([[0., 0., 0.]]), 'best': {'Position': array([[0.16243344, 5.85743498, 4.0100178 ]]), 'cost': 6.843412749908801}}\n",
      "{'Position': array([[ 5.56581294,  2.15500308, -0.68893977]]), 'cost': nan, 'velocity': array([[0., 0., 0.]]), 'best': {'Position': array([[ 5.56581294,  2.15500308, -0.68893977]]), 'cost': nan}}\n",
      "\n",
      "\n",
      "{'Position': array([[3.33376219, 3.44155022, 5.27984576]]), 'cost': 1.9684744722463936, 'velocity': array([[0., 0., 0.]]), 'best': {'Position': array([[ 5.56581294,  2.15500308, -0.68893977]]), 'cost': nan}}\n",
      "{'Position': array([[3.33376219, 3.44155022, 5.27984576]]), 'cost': 1.9684744722463936, 'velocity': array([[0., 0., 0.]]), 'best': {'Position': array([[3.33376219, 3.44155022, 5.27984576]]), 'cost': 1.9684744722463936}}\n",
      "\n",
      "\n",
      "{'Position': array([[ 3.83535215,  4.14317627, -0.15714896]]), 'cost': nan, 'velocity': array([[0., 0., 0.]]), 'best': {'Position': array([[3.33376219, 3.44155022, 5.27984576]]), 'cost': 1.9684744722463936}}\n",
      "{'Position': array([[ 3.83535215,  4.14317627, -0.15714896]]), 'cost': nan, 'velocity': array([[0., 0., 0.]]), 'best': {'Position': array([[ 3.83535215,  4.14317627, -0.15714896]]), 'cost': nan}}\n",
      "\n",
      "\n",
      "{'Position': array([[1.69148317, 2.291714  , 5.80015157]]), 'cost': 8.037783157313799, 'velocity': array([[0., 0., 0.]]), 'best': {'Position': array([[ 3.83535215,  4.14317627, -0.15714896]]), 'cost': nan}}\n",
      "{'Position': array([[1.69148317, 2.291714  , 5.80015157]]), 'cost': 8.037783157313799, 'velocity': array([[0., 0., 0.]]), 'best': {'Position': array([[1.69148317, 2.291714  , 5.80015157]]), 'cost': 8.037783157313799}}\n",
      "\n",
      "\n",
      "{'Position': array([[1.60232306, 4.38515673, 3.16069567]]), 'cost': 1.1933371929645356, 'velocity': array([[0., 0., 0.]]), 'best': {'Position': array([[1.69148317, 2.291714  , 5.80015157]]), 'cost': 8.037783157313799}}\n",
      "{'Position': array([[1.60232306, 4.38515673, 3.16069567]]), 'cost': 1.1933371929645356, 'velocity': array([[0., 0., 0.]]), 'best': {'Position': array([[1.60232306, 4.38515673, 3.16069567]]), 'cost': 1.1933371929645356}}\n",
      "\n",
      "\n",
      "{'Position': array([[ 1.85887301,  4.74173953, -0.88778752]]), 'cost': nan, 'velocity': array([[0., 0., 0.]]), 'best': {'Position': array([[1.60232306, 4.38515673, 3.16069567]]), 'cost': 1.1933371929645356}}\n",
      "{'Position': array([[ 1.85887301,  4.74173953, -0.88778752]]), 'cost': nan, 'velocity': array([[0., 0., 0.]]), 'best': {'Position': array([[ 1.85887301,  4.74173953, -0.88778752]]), 'cost': nan}}\n",
      "\n",
      "\n",
      "{'Position': array([[ 2.64075555, -0.85856211, -0.24861302]]), 'cost': nan, 'velocity': array([[0., 0., 0.]]), 'best': {'Position': array([[ 1.85887301,  4.74173953, -0.88778752]]), 'cost': nan}}\n",
      "{'Position': array([[ 2.64075555, -0.85856211, -0.24861302]]), 'cost': nan, 'velocity': array([[0., 0., 0.]]), 'best': {'Position': array([[ 2.64075555, -0.85856211, -0.24861302]]), 'cost': nan}}\n",
      "\n",
      "\n",
      "{'Position': array([[ 4.89631606,  4.47476539, -0.76050063]]), 'cost': nan, 'velocity': array([[0., 0., 0.]]), 'best': {'Position': array([[ 2.64075555, -0.85856211, -0.24861302]]), 'cost': nan}}\n",
      "{'Position': array([[ 4.89631606,  4.47476539, -0.76050063]]), 'cost': nan, 'velocity': array([[0., 0., 0.]]), 'best': {'Position': array([[ 4.89631606,  4.47476539, -0.76050063]]), 'cost': nan}}\n",
      "\n",
      "\n",
      "{'Position': array([[2.36069984, 3.40287807, 3.70735557]]), 'cost': -0.3693523640182912, 'velocity': array([[0., 0., 0.]]), 'best': {'Position': array([[ 4.89631606,  4.47476539, -0.76050063]]), 'cost': nan}}\n",
      "{'Position': array([[2.36069984, 3.40287807, 3.70735557]]), 'cost': -0.3693523640182912, 'velocity': array([[0., 0., 0.]]), 'best': {'Position': array([[2.36069984, 3.40287807, 3.70735557]]), 'cost': -0.3693523640182912}}\n",
      "\n",
      "\n",
      "{'Position': array([[5.42724305, 1.48165785, 3.38343653]]), 'cost': 4.75940706962885, 'velocity': array([[0., 0., 0.]]), 'best': {'Position': array([[2.36069984, 3.40287807, 3.70735557]]), 'cost': -0.3693523640182912}}\n",
      "{'Position': array([[5.42724305, 1.48165785, 3.38343653]]), 'cost': 4.75940706962885, 'velocity': array([[0., 0., 0.]]), 'best': {'Position': array([[5.42724305, 1.48165785, 3.38343653]]), 'cost': 4.75940706962885}}\n",
      "\n",
      "\n",
      "{'Position': array([[ 2.08363968,  2.65479106, -0.44573041]]), 'cost': nan, 'velocity': array([[0., 0., 0.]]), 'best': {'Position': array([[5.42724305, 1.48165785, 3.38343653]]), 'cost': 4.75940706962885}}\n",
      "{'Position': array([[ 2.08363968,  2.65479106, -0.44573041]]), 'cost': nan, 'velocity': array([[0., 0., 0.]]), 'best': {'Position': array([[ 2.08363968,  2.65479106, -0.44573041]]), 'cost': nan}}\n",
      "\n",
      "\n",
      "{'Position': array([[5.86561987, 3.88591307, 2.03098548]]), 'cost': 6.735495350617822, 'velocity': array([[0., 0., 0.]]), 'best': {'Position': array([[ 2.08363968,  2.65479106, -0.44573041]]), 'cost': nan}}\n",
      "{'Position': array([[5.86561987, 3.88591307, 2.03098548]]), 'cost': 6.735495350617822, 'velocity': array([[0., 0., 0.]]), 'best': {'Position': array([[5.86561987, 3.88591307, 2.03098548]]), 'cost': 6.735495350617822}}\n",
      "\n",
      "\n",
      "{'Position': array([[ 0.20013798, -0.59455355, -0.09289528]]), 'cost': nan, 'velocity': array([[0., 0., 0.]]), 'best': {'Position': array([[5.86561987, 3.88591307, 2.03098548]]), 'cost': 6.735495350617822}}\n",
      "{'Position': array([[ 0.20013798, -0.59455355, -0.09289528]]), 'cost': nan, 'velocity': array([[0., 0., 0.]]), 'best': {'Position': array([[ 0.20013798, -0.59455355, -0.09289528]]), 'cost': nan}}\n",
      "\n",
      "\n",
      "{'Position': array([[1.73262021, 2.88008692, 4.77302796]]), 'cost': 2.381020002630807, 'velocity': array([[0., 0., 0.]]), 'best': {'Position': array([[ 0.20013798, -0.59455355, -0.09289528]]), 'cost': nan}}\n",
      "{'Position': array([[1.73262021, 2.88008692, 4.77302796]]), 'cost': 2.381020002630807, 'velocity': array([[0., 0., 0.]]), 'best': {'Position': array([[1.73262021, 2.88008692, 4.77302796]]), 'cost': 2.381020002630807}}\n",
      "\n",
      "\n",
      "{'Position': array([[ 1.95723418,  4.8561356 , -0.68476241]]), 'cost': nan, 'velocity': array([[0., 0., 0.]]), 'best': {'Position': array([[1.73262021, 2.88008692, 4.77302796]]), 'cost': 2.381020002630807}}\n",
      "{'Position': array([[ 1.95723418,  4.8561356 , -0.68476241]]), 'cost': nan, 'velocity': array([[0., 0., 0.]]), 'best': {'Position': array([[ 1.95723418,  4.8561356 , -0.68476241]]), 'cost': nan}}\n",
      "\n",
      "\n",
      "{'Position': array([[4.79040823, 0.10523619, 2.80346934]]), 'cost': 2.2723032092688635, 'velocity': array([[0., 0., 0.]]), 'best': {'Position': array([[ 1.95723418,  4.8561356 , -0.68476241]]), 'cost': nan}}\n",
      "{'Position': array([[4.79040823, 0.10523619, 2.80346934]]), 'cost': 2.2723032092688635, 'velocity': array([[0., 0., 0.]]), 'best': {'Position': array([[4.79040823, 0.10523619, 2.80346934]]), 'cost': 2.2723032092688635}}\n",
      "\n",
      "\n",
      "{'Position': array([[2.18306488, 0.06550158, 2.91685694]]), 'cost': 2.0435572907201616, 'velocity': array([[0., 0., 0.]]), 'best': {'Position': array([[4.79040823, 0.10523619, 2.80346934]]), 'cost': 2.2723032092688635}}\n",
      "{'Position': array([[2.18306488, 0.06550158, 2.91685694]]), 'cost': 2.0435572907201616, 'velocity': array([[0., 0., 0.]]), 'best': {'Position': array([[2.18306488, 0.06550158, 2.91685694]]), 'cost': 2.0435572907201616}}\n",
      "\n",
      "\n",
      "{'Position': array([[3.97932191, 0.69277271, 5.99589314]]), 'cost': 8.097028366020224, 'velocity': array([[0., 0., 0.]]), 'best': {'Position': array([[2.18306488, 0.06550158, 2.91685694]]), 'cost': 2.0435572907201616}}\n",
      "{'Position': array([[3.97932191, 0.69277271, 5.99589314]]), 'cost': 8.097028366020224, 'velocity': array([[0., 0., 0.]]), 'best': {'Position': array([[3.97932191, 0.69277271, 5.99589314]]), 'cost': 8.097028366020224}}\n",
      "\n",
      "\n",
      "After initialization:\n",
      "[{'Position': array([[-0.88727844,  0.50168747,  2.97718413]]), 'cost': nan, 'velocity': array([[0., 0., 0.]]), 'best': {'Position': array([[3.97932191, 0.69277271, 5.99589314]]), 'cost': 8.097028366020224}}, {'Position': array([[2.66794629, 1.43329293, 0.54577102]]), 'cost': 3.447837436654265, 'velocity': array([[0., 0., 0.]]), 'best': {'Position': array([[3.97932191, 0.69277271, 5.99589314]]), 'cost': 8.097028366020224}}, {'Position': array([[0.08865702, 4.7273759 , 1.72669458]]), 'cost': 3.3427677673111638, 'velocity': array([[0., 0., 0.]]), 'best': {'Position': array([[3.97932191, 0.69277271, 5.99589314]]), 'cost': 8.097028366020224}}, {'Position': array([[0.83057622, 3.95412661, 0.65789422]]), 'cost': 2.698576655772638, 'velocity': array([[0., 0., 0.]]), 'best': {'Position': array([[3.97932191, 0.69277271, 5.99589314]]), 'cost': 8.097028366020224}}, {'Position': array([[ 0.73815427, -0.17189838,  5.86844581]]), 'cost': nan, 'velocity': array([[0., 0., 0.]]), 'best': {'Position': array([[3.97932191, 0.69277271, 5.99589314]]), 'cost': 8.097028366020224}}, {'Position': array([[-0.10495185,  1.35896063,  0.79231077]]), 'cost': nan, 'velocity': array([[0., 0., 0.]]), 'best': {'Position': array([[3.97932191, 0.69277271, 5.99589314]]), 'cost': 8.097028366020224}}, {'Position': array([[0.93243242, 3.69166549, 0.66427521]]), 'cost': 2.663021534441599, 'velocity': array([[0., 0., 0.]]), 'best': {'Position': array([[3.97932191, 0.69277271, 5.99589314]]), 'cost': 8.097028366020224}}, {'Position': array([[0.23548747, 4.42008355, 3.15959723]]), 'cost': 1.0444674786882286, 'velocity': array([[0., 0., 0.]]), 'best': {'Position': array([[3.97932191, 0.69277271, 5.99589314]]), 'cost': 8.097028366020224}}, {'Position': array([[4.3007687 , 5.70998477, 2.72713979]]), 'cost': 5.2915903454114925, 'velocity': array([[0., 0., 0.]]), 'best': {'Position': array([[3.97932191, 0.69277271, 5.99589314]]), 'cost': 8.097028366020224}}, {'Position': array([[ 4.78354748, -0.74683215,  0.0221977 ]]), 'cost': nan, 'velocity': array([[0., 0., 0.]]), 'best': {'Position': array([[3.97932191, 0.69277271, 5.99589314]]), 'cost': 8.097028366020224}}, {'Position': array([[ 1.3722527 , -0.66511211, -0.29687368]]), 'cost': nan, 'velocity': array([[0., 0., 0.]]), 'best': {'Position': array([[3.97932191, 0.69277271, 5.99589314]]), 'cost': 8.097028366020224}}, {'Position': array([[2.52715583, 3.79151671, 5.46989717]]), 'cost': 3.7853512895878563, 'velocity': array([[0., 0., 0.]]), 'best': {'Position': array([[3.97932191, 0.69277271, 5.99589314]]), 'cost': 8.097028366020224}}, {'Position': array([[-0.02529027,  5.0101899 ,  2.94294733]]), 'cost': nan, 'velocity': array([[0., 0., 0.]]), 'best': {'Position': array([[3.97932191, 0.69277271, 5.99589314]]), 'cost': 8.097028366020224}}, {'Position': array([[-0.08711035,  1.28969323,  3.2184508 ]]), 'cost': nan, 'velocity': array([[0., 0., 0.]]), 'best': {'Position': array([[3.97932191, 0.69277271, 5.99589314]]), 'cost': 8.097028366020224}}, {'Position': array([[4.47473565, 0.35467078, 2.8094602 ]]), 'cost': 1.673120720952852, 'velocity': array([[0., 0., 0.]]), 'best': {'Position': array([[3.97932191, 0.69277271, 5.99589314]]), 'cost': 8.097028366020224}}, {'Position': array([[1.78465089, 1.69634278, 3.1740755 ]]), 'cost': 2.514213156721114, 'velocity': array([[0., 0., 0.]]), 'best': {'Position': array([[3.97932191, 0.69277271, 5.99589314]]), 'cost': 8.097028366020224}}, {'Position': array([[4.63130758, 4.37626904, 2.09272683]]), 'cost': 1.5341765072876532, 'velocity': array([[0., 0., 0.]]), 'best': {'Position': array([[3.97932191, 0.69277271, 5.99589314]]), 'cost': 8.097028366020224}}, {'Position': array([[-0.46056069,  1.18929802,  1.43605155]]), 'cost': nan, 'velocity': array([[0., 0., 0.]]), 'best': {'Position': array([[3.97932191, 0.69277271, 5.99589314]]), 'cost': 8.097028366020224}}, {'Position': array([[0.67276108, 3.96835226, 3.5792637 ]]), 'cost': 0.48141717896242264, 'velocity': array([[0., 0., 0.]]), 'best': {'Position': array([[3.97932191, 0.69277271, 5.99589314]]), 'cost': 8.097028366020224}}, {'Position': array([[ 5.59550064, -0.08021946,  3.48133173]]), 'cost': nan, 'velocity': array([[0., 0., 0.]]), 'best': {'Position': array([[3.97932191, 0.69277271, 5.99589314]]), 'cost': 8.097028366020224}}, {'Position': array([[0.81037569, 3.55175594, 1.33754907]]), 'cost': 2.717949855804971, 'velocity': array([[0., 0., 0.]]), 'best': {'Position': array([[3.97932191, 0.69277271, 5.99589314]]), 'cost': 8.097028366020224}}, {'Position': array([[ 2.71676088, -0.39944072,  0.57142593]]), 'cost': nan, 'velocity': array([[0., 0., 0.]]), 'best': {'Position': array([[3.97932191, 0.69277271, 5.99589314]]), 'cost': 8.097028366020224}}, {'Position': array([[4.86127974, 0.50022016, 1.16686844]]), 'cost': 4.39914018254939, 'velocity': array([[0., 0., 0.]]), 'best': {'Position': array([[3.97932191, 0.69277271, 5.99589314]]), 'cost': 8.097028366020224}}, {'Position': array([[-0.26991215,  1.92757461,  2.55668803]]), 'cost': nan, 'velocity': array([[0., 0., 0.]]), 'best': {'Position': array([[3.97932191, 0.69277271, 5.99589314]]), 'cost': 8.097028366020224}}, {'Position': array([[2.21684941, 2.80339017, 4.22505746]]), 'cost': 0.7597199308782008, 'velocity': array([[0., 0., 0.]]), 'best': {'Position': array([[3.97932191, 0.69277271, 5.99589314]]), 'cost': 8.097028366020224}}, {'Position': array([[3.20942735, 2.78252321, 4.69704032]]), 'cost': 0.5307612469369953, 'velocity': array([[0., 0., 0.]]), 'best': {'Position': array([[3.97932191, 0.69277271, 5.99589314]]), 'cost': 8.097028366020224}}, {'Position': array([[1.62136865, 4.77193427, 3.89574463]]), 'cost': 1.8526803283570628, 'velocity': array([[0., 0., 0.]]), 'best': {'Position': array([[3.97932191, 0.69277271, 5.99589314]]), 'cost': 8.097028366020224}}, {'Position': array([[5.32041239, 0.75299165, 1.79289194]]), 'cost': 6.112922861436472, 'velocity': array([[0., 0., 0.]]), 'best': {'Position': array([[3.97932191, 0.69277271, 5.99589314]]), 'cost': 8.097028366020224}}, {'Position': array([[-0.69875204,  2.61474362,  5.37693586]]), 'cost': nan, 'velocity': array([[0., 0., 0.]]), 'best': {'Position': array([[3.97932191, 0.69277271, 5.99589314]]), 'cost': 8.097028366020224}}, {'Position': array([[ 0.96451324,  2.2996147 , -0.21342755]]), 'cost': nan, 'velocity': array([[0., 0., 0.]]), 'best': {'Position': array([[3.97932191, 0.69277271, 5.99589314]]), 'cost': 8.097028366020224}}, {'Position': array([[4.53674656, 1.81879987, 3.79629408]]), 'cost': 1.0282402723794437, 'velocity': array([[0., 0., 0.]]), 'best': {'Position': array([[3.97932191, 0.69277271, 5.99589314]]), 'cost': 8.097028366020224}}, {'Position': array([[ 5.50358088,  1.06057722, -0.09622676]]), 'cost': nan, 'velocity': array([[0., 0., 0.]]), 'best': {'Position': array([[3.97932191, 0.69277271, 5.99589314]]), 'cost': 8.097028366020224}}, {'Position': array([[0.32169694, 3.17880779, 3.85385099]]), 'cost': 0.48011183648084366, 'velocity': array([[0., 0., 0.]]), 'best': {'Position': array([[3.97932191, 0.69277271, 5.99589314]]), 'cost': 8.097028366020224}}, {'Position': array([[-0.58981476, -0.75937397,  2.7994534 ]]), 'cost': nan, 'velocity': array([[0., 0., 0.]]), 'best': {'Position': array([[3.97932191, 0.69277271, 5.99589314]]), 'cost': 8.097028366020224}}, {'Position': array([[ 1.68799669, -0.70297969,  3.94610315]]), 'cost': nan, 'velocity': array([[0., 0., 0.]]), 'best': {'Position': array([[3.97932191, 0.69277271, 5.99589314]]), 'cost': 8.097028366020224}}, {'Position': array([[2.88147877, 4.95124731, 1.03459405]]), 'cost': 3.256944832189066, 'velocity': array([[0., 0., 0.]]), 'best': {'Position': array([[3.97932191, 0.69277271, 5.99589314]]), 'cost': 8.097028366020224}}, {'Position': array([[2.81424148, 1.31997823, 2.28470815]]), 'cost': 2.592276491205626, 'velocity': array([[0., 0., 0.]]), 'best': {'Position': array([[3.97932191, 0.69277271, 5.99589314]]), 'cost': 8.097028366020224}}, {'Position': array([[3.07210708, 0.40912423, 0.62267502]]), 'cost': 2.8185362715124676, 'velocity': array([[0., 0., 0.]]), 'best': {'Position': array([[3.97932191, 0.69277271, 5.99589314]]), 'cost': 8.097028366020224}}, {'Position': array([[4.68243936, 2.86213233, 0.41092754]]), 'cost': 2.1617252758715066, 'velocity': array([[0., 0., 0.]]), 'best': {'Position': array([[3.97932191, 0.69277271, 5.99589314]]), 'cost': 8.097028366020224}}, {'Position': array([[-0.52921786,  2.7492802 ,  0.42316732]]), 'cost': nan, 'velocity': array([[0., 0., 0.]]), 'best': {'Position': array([[3.97932191, 0.69277271, 5.99589314]]), 'cost': 8.097028366020224}}, {'Position': array([[ 2.97060021, -0.89969658,  0.54158935]]), 'cost': nan, 'velocity': array([[0., 0., 0.]]), 'best': {'Position': array([[3.97932191, 0.69277271, 5.99589314]]), 'cost': 8.097028366020224}}, {'Position': array([[4.08040842, 2.1319042 , 1.54136898]]), 'cost': 2.111566186799989, 'velocity': array([[0., 0., 0.]]), 'best': {'Position': array([[3.97932191, 0.69277271, 5.99589314]]), 'cost': 8.097028366020224}}, {'Position': array([[ 5.42044323, -0.8596541 ,  2.76450835]]), 'cost': nan, 'velocity': array([[0., 0., 0.]]), 'best': {'Position': array([[3.97932191, 0.69277271, 5.99589314]]), 'cost': 8.097028366020224}}, {'Position': array([[-0.50695072, -0.12766017, -0.40300585]]), 'cost': nan, 'velocity': array([[0., 0., 0.]]), 'best': {'Position': array([[3.97932191, 0.69277271, 5.99589314]]), 'cost': 8.097028366020224}}, {'Position': array([[2.39373985, 0.75001389, 5.02050453]]), 'cost': 4.111097697917686, 'velocity': array([[0., 0., 0.]]), 'best': {'Position': array([[3.97932191, 0.69277271, 5.99589314]]), 'cost': 8.097028366020224}}, {'Position': array([[1.12503076, 3.86501555, 4.17723187]]), 'cost': 0.754948759160091, 'velocity': array([[0., 0., 0.]]), 'best': {'Position': array([[3.97932191, 0.69277271, 5.99589314]]), 'cost': 8.097028366020224}}, {'Position': array([[5.11495251, 1.17931697, 4.28090047]]), 'cost': 3.65925464965058, 'velocity': array([[0., 0., 0.]]), 'best': {'Position': array([[3.97932191, 0.69277271, 5.99589314]]), 'cost': 8.097028366020224}}, {'Position': array([[1.96559888, 4.10010354, 1.40479018]]), 'cost': 2.3839221992781234, 'velocity': array([[0., 0., 0.]]), 'best': {'Position': array([[3.97932191, 0.69277271, 5.99589314]]), 'cost': 8.097028366020224}}, {'Position': array([[2.16802857, 4.51696252, 5.59641471]]), 'cost': 5.783899159971362, 'velocity': array([[0., 0., 0.]]), 'best': {'Position': array([[3.97932191, 0.69277271, 5.99589314]]), 'cost': 8.097028366020224}}, {'Position': array([[4.4712161 , 4.27891417, 3.1538342 ]]), 'cost': -0.347208669013396, 'velocity': array([[0., 0., 0.]]), 'best': {'Position': array([[3.97932191, 0.69277271, 5.99589314]]), 'cost': 8.097028366020224}}, {'Position': array([[-0.83577118, -0.281576  ,  1.0221263 ]]), 'cost': nan, 'velocity': array([[0., 0., 0.]]), 'best': {'Position': array([[3.97932191, 0.69277271, 5.99589314]]), 'cost': 8.097028366020224}}, {'Position': array([[4.43476459, 3.84176999, 5.11461278]]), 'cost': 1.6608646906840665, 'velocity': array([[0., 0., 0.]]), 'best': {'Position': array([[3.97932191, 0.69277271, 5.99589314]]), 'cost': 8.097028366020224}}, {'Position': array([[5.43791187, 5.91797674, 3.93798639]]), 'cost': 9.676546273074612, 'velocity': array([[0., 0., 0.]]), 'best': {'Position': array([[3.97932191, 0.69277271, 5.99589314]]), 'cost': 8.097028366020224}}, {'Position': array([[ 5.78596856,  0.46260638, -0.03035242]]), 'cost': nan, 'velocity': array([[0., 0., 0.]]), 'best': {'Position': array([[3.97932191, 0.69277271, 5.99589314]]), 'cost': 8.097028366020224}}, {'Position': array([[4.61473735, 2.79639881, 4.42853963]]), 'cost': 0.6757831925142721, 'velocity': array([[0., 0., 0.]]), 'best': {'Position': array([[3.97932191, 0.69277271, 5.99589314]]), 'cost': 8.097028366020224}}, {'Position': array([[-0.7242297 ,  0.03680941, -0.4287103 ]]), 'cost': nan, 'velocity': array([[0., 0., 0.]]), 'best': {'Position': array([[3.97932191, 0.69277271, 5.99589314]]), 'cost': 8.097028366020224}}, {'Position': array([[1.69629889, 4.26995578, 2.95018831]]), 'cost': 1.170978493701221, 'velocity': array([[0., 0., 0.]]), 'best': {'Position': array([[3.97932191, 0.69277271, 5.99589314]]), 'cost': 8.097028366020224}}, {'Position': array([[ 3.65231249,  4.69434678, -0.90593393]]), 'cost': nan, 'velocity': array([[0., 0., 0.]]), 'best': {'Position': array([[3.97932191, 0.69277271, 5.99589314]]), 'cost': 8.097028366020224}}, {'Position': array([[3.29070742, 5.57558272, 0.58659512]]), 'cost': 5.601565573785779, 'velocity': array([[0., 0., 0.]]), 'best': {'Position': array([[3.97932191, 0.69277271, 5.99589314]]), 'cost': 8.097028366020224}}, {'Position': array([[1.12170552, 0.13632878, 4.17390441]]), 'cost': 2.5234420090490475, 'velocity': array([[0., 0., 0.]]), 'best': {'Position': array([[3.97932191, 0.69277271, 5.99589314]]), 'cost': 8.097028366020224}}, {'Position': array([[5.35775456, 1.26094613, 1.58865753]]), 'cost': 6.486401437452251, 'velocity': array([[0., 0., 0.]]), 'best': {'Position': array([[3.97932191, 0.69277271, 5.99589314]]), 'cost': 8.097028366020224}}, {'Position': array([[3.11498879, 2.75500803, 0.67544467]]), 'cost': 1.5558227155796667, 'velocity': array([[0., 0., 0.]]), 'best': {'Position': array([[3.97932191, 0.69277271, 5.99589314]]), 'cost': 8.097028366020224}}, {'Position': array([[1.53627366, 1.42974136, 3.02144696]]), 'cost': 3.0207020333832255, 'velocity': array([[0., 0., 0.]]), 'best': {'Position': array([[3.97932191, 0.69277271, 5.99589314]]), 'cost': 8.097028366020224}}, {'Position': array([[4.27048072, 0.4886845 , 3.98212326]]), 'cost': 0.7480681052376368, 'velocity': array([[0., 0., 0.]]), 'best': {'Position': array([[3.97932191, 0.69277271, 5.99589314]]), 'cost': 8.097028366020224}}, {'Position': array([[-0.19388153,  2.61613148,  1.70526012]]), 'cost': nan, 'velocity': array([[0., 0., 0.]]), 'best': {'Position': array([[3.97932191, 0.69277271, 5.99589314]]), 'cost': 8.097028366020224}}, {'Position': array([[3.94278991, 2.42248901, 3.16001896]]), 'cost': -0.18968440025099387, 'velocity': array([[0., 0., 0.]]), 'best': {'Position': array([[3.97932191, 0.69277271, 5.99589314]]), 'cost': 8.097028366020224}}, {'Position': array([[ 2.9643706 ,  2.32745061, -0.31276001]]), 'cost': nan, 'velocity': array([[0., 0., 0.]]), 'best': {'Position': array([[3.97932191, 0.69277271, 5.99589314]]), 'cost': 8.097028366020224}}, {'Position': array([[5.38638521, 1.74289928, 1.10644117]]), 'cost': 6.539395421801895, 'velocity': array([[0., 0., 0.]]), 'best': {'Position': array([[3.97932191, 0.69277271, 5.99589314]]), 'cost': 8.097028366020224}}, {'Position': array([[ 5.53126747, -0.90353759, -0.8750989 ]]), 'cost': nan, 'velocity': array([[0., 0., 0.]]), 'best': {'Position': array([[3.97932191, 0.69277271, 5.99589314]]), 'cost': 8.097028366020224}}, {'Position': array([[3.60207653, 2.93573834, 5.22454912]]), 'cost': 2.049260528765002, 'velocity': array([[0., 0., 0.]]), 'best': {'Position': array([[3.97932191, 0.69277271, 5.99589314]]), 'cost': 8.097028366020224}}, {'Position': array([[3.48835720e+00, 9.05877699e-01, 2.19665424e-03]]), 'cost': 2.1327675090821776, 'velocity': array([[0., 0., 0.]]), 'best': {'Position': array([[3.97932191, 0.69277271, 5.99589314]]), 'cost': 8.097028366020224}}, {'Position': array([[-0.57616041,  5.2649755 ,  4.25970419]]), 'cost': nan, 'velocity': array([[0., 0., 0.]]), 'best': {'Position': array([[3.97932191, 0.69277271, 5.99589314]]), 'cost': 8.097028366020224}}, {'Position': array([[2.77477956, 4.16510798, 1.81505793]]), 'cost': 1.1562793325548846, 'velocity': array([[0., 0., 0.]]), 'best': {'Position': array([[3.97932191, 0.69277271, 5.99589314]]), 'cost': 8.097028366020224}}, {'Position': array([[-0.6471386 ,  2.39445737,  2.78647776]]), 'cost': nan, 'velocity': array([[0., 0., 0.]]), 'best': {'Position': array([[3.97932191, 0.69277271, 5.99589314]]), 'cost': 8.097028366020224}}, {'Position': array([[1.7477395 , 2.15092368, 4.45592813]]), 'cost': 2.5010352743490127, 'velocity': array([[0., 0., 0.]]), 'best': {'Position': array([[3.97932191, 0.69277271, 5.99589314]]), 'cost': 8.097028366020224}}, {'Position': array([[4.94081267, 2.92382001, 0.47036779]]), 'cost': 2.963098983835604, 'velocity': array([[0., 0., 0.]]), 'best': {'Position': array([[3.97932191, 0.69277271, 5.99589314]]), 'cost': 8.097028366020224}}, {'Position': array([[1.26910644, 0.41216058, 4.6310811 ]]), 'cost': 3.6241283166354465, 'velocity': array([[0., 0., 0.]]), 'best': {'Position': array([[3.97932191, 0.69277271, 5.99589314]]), 'cost': 8.097028366020224}}, {'Position': array([[3.48039418, 0.29748674, 5.29849867]]), 'cost': 3.8279605355989434, 'velocity': array([[0., 0., 0.]]), 'best': {'Position': array([[3.97932191, 0.69277271, 5.99589314]]), 'cost': 8.097028366020224}}, {'Position': array([[ 4.41970691, -0.04597301,  3.17830969]]), 'cost': nan, 'velocity': array([[0., 0., 0.]]), 'best': {'Position': array([[3.97932191, 0.69277271, 5.99589314]]), 'cost': 8.097028366020224}}, {'Position': array([[2.26820333, 0.93903274, 3.51884919]]), 'cost': 1.9653510541840022, 'velocity': array([[0., 0., 0.]]), 'best': {'Position': array([[3.97932191, 0.69277271, 5.99589314]]), 'cost': 8.097028366020224}}, {'Position': array([[5.85949874, 0.17723319, 2.29757599]]), 'cost': 8.187071924559646, 'velocity': array([[0., 0., 0.]]), 'best': {'Position': array([[3.97932191, 0.69277271, 5.99589314]]), 'cost': 8.097028366020224}}, {'Position': array([[0.16243344, 5.85743498, 4.0100178 ]]), 'cost': 6.843412749908801, 'velocity': array([[0., 0., 0.]]), 'best': {'Position': array([[3.97932191, 0.69277271, 5.99589314]]), 'cost': 8.097028366020224}}, {'Position': array([[ 5.56581294,  2.15500308, -0.68893977]]), 'cost': nan, 'velocity': array([[0., 0., 0.]]), 'best': {'Position': array([[3.97932191, 0.69277271, 5.99589314]]), 'cost': 8.097028366020224}}, {'Position': array([[3.33376219, 3.44155022, 5.27984576]]), 'cost': 1.9684744722463936, 'velocity': array([[0., 0., 0.]]), 'best': {'Position': array([[3.97932191, 0.69277271, 5.99589314]]), 'cost': 8.097028366020224}}, {'Position': array([[ 3.83535215,  4.14317627, -0.15714896]]), 'cost': nan, 'velocity': array([[0., 0., 0.]]), 'best': {'Position': array([[3.97932191, 0.69277271, 5.99589314]]), 'cost': 8.097028366020224}}, {'Position': array([[1.69148317, 2.291714  , 5.80015157]]), 'cost': 8.037783157313799, 'velocity': array([[0., 0., 0.]]), 'best': {'Position': array([[3.97932191, 0.69277271, 5.99589314]]), 'cost': 8.097028366020224}}, {'Position': array([[1.60232306, 4.38515673, 3.16069567]]), 'cost': 1.1933371929645356, 'velocity': array([[0., 0., 0.]]), 'best': {'Position': array([[3.97932191, 0.69277271, 5.99589314]]), 'cost': 8.097028366020224}}, {'Position': array([[ 1.85887301,  4.74173953, -0.88778752]]), 'cost': nan, 'velocity': array([[0., 0., 0.]]), 'best': {'Position': array([[3.97932191, 0.69277271, 5.99589314]]), 'cost': 8.097028366020224}}, {'Position': array([[ 2.64075555, -0.85856211, -0.24861302]]), 'cost': nan, 'velocity': array([[0., 0., 0.]]), 'best': {'Position': array([[3.97932191, 0.69277271, 5.99589314]]), 'cost': 8.097028366020224}}, {'Position': array([[ 4.89631606,  4.47476539, -0.76050063]]), 'cost': nan, 'velocity': array([[0., 0., 0.]]), 'best': {'Position': array([[3.97932191, 0.69277271, 5.99589314]]), 'cost': 8.097028366020224}}, {'Position': array([[2.36069984, 3.40287807, 3.70735557]]), 'cost': -0.3693523640182912, 'velocity': array([[0., 0., 0.]]), 'best': {'Position': array([[3.97932191, 0.69277271, 5.99589314]]), 'cost': 8.097028366020224}}, {'Position': array([[5.42724305, 1.48165785, 3.38343653]]), 'cost': 4.75940706962885, 'velocity': array([[0., 0., 0.]]), 'best': {'Position': array([[3.97932191, 0.69277271, 5.99589314]]), 'cost': 8.097028366020224}}, {'Position': array([[ 2.08363968,  2.65479106, -0.44573041]]), 'cost': nan, 'velocity': array([[0., 0., 0.]]), 'best': {'Position': array([[3.97932191, 0.69277271, 5.99589314]]), 'cost': 8.097028366020224}}, {'Position': array([[5.86561987, 3.88591307, 2.03098548]]), 'cost': 6.735495350617822, 'velocity': array([[0., 0., 0.]]), 'best': {'Position': array([[3.97932191, 0.69277271, 5.99589314]]), 'cost': 8.097028366020224}}, {'Position': array([[ 0.20013798, -0.59455355, -0.09289528]]), 'cost': nan, 'velocity': array([[0., 0., 0.]]), 'best': {'Position': array([[3.97932191, 0.69277271, 5.99589314]]), 'cost': 8.097028366020224}}, {'Position': array([[1.73262021, 2.88008692, 4.77302796]]), 'cost': 2.381020002630807, 'velocity': array([[0., 0., 0.]]), 'best': {'Position': array([[3.97932191, 0.69277271, 5.99589314]]), 'cost': 8.097028366020224}}, {'Position': array([[ 1.95723418,  4.8561356 , -0.68476241]]), 'cost': nan, 'velocity': array([[0., 0., 0.]]), 'best': {'Position': array([[3.97932191, 0.69277271, 5.99589314]]), 'cost': 8.097028366020224}}, {'Position': array([[4.79040823, 0.10523619, 2.80346934]]), 'cost': 2.2723032092688635, 'velocity': array([[0., 0., 0.]]), 'best': {'Position': array([[3.97932191, 0.69277271, 5.99589314]]), 'cost': 8.097028366020224}}, {'Position': array([[2.18306488, 0.06550158, 2.91685694]]), 'cost': 2.0435572907201616, 'velocity': array([[0., 0., 0.]]), 'best': {'Position': array([[3.97932191, 0.69277271, 5.99589314]]), 'cost': 8.097028366020224}}, {'Position': array([[3.97932191, 0.69277271, 5.99589314]]), 'cost': 8.097028366020224, 'velocity': array([[0., 0., 0.]]), 'best': {'Position': array([[3.97932191, 0.69277271, 5.99589314]]), 'cost': 8.097028366020224}}]\n",
      "Personal cost:2.306113538280087, Global best cost:8.097028366020224\n",
      "Personal cost:2.0398813622609273, Global best cost:2.306113538280087\n",
      "Personal cost:0.46446299001155156, Global best cost:2.0398813622609273\n",
      "Personal cost:-0.5791301753396967, Global best cost:0.46446299001155156\n",
      "Personal cost:-0.8462687577981924, Global best cost:-0.5791301753396967\n",
      "\n",
      " [{'Position': array([[-1.58727844, -0.19831253,  2.27718413]]), 'cost': nan, 'velocity': array([[-0.7, -0.7, -0.7]]), 'best': {'Position': array([[3.73476459, 3.14176999, 4.41461278]]), 'cost': -0.8462687577981924}}, {'Position': array([[ 1.96794629,  0.73329293, -0.15422898]]), 'cost': nan, 'velocity': array([[-0.7, -0.7, -0.7]]), 'best': {'Position': array([[3.73476459, 3.14176999, 4.41461278]]), 'cost': -0.8462687577981924}}, {'Position': array([[-0.61134298,  4.0273759 ,  1.02669458]]), 'cost': nan, 'velocity': array([[-0.7, -0.7, -0.7]]), 'best': {'Position': array([[3.73476459, 3.14176999, 4.41461278]]), 'cost': -0.8462687577981924}}, {'Position': array([[ 0.13057622,  3.25412661, -0.04210578]]), 'cost': nan, 'velocity': array([[-0.7, -0.7, -0.7]]), 'best': {'Position': array([[3.73476459, 3.14176999, 4.41461278]]), 'cost': -0.8462687577981924}}, {'Position': array([[ 0.03815427, -0.87189838,  5.16844581]]), 'cost': nan, 'velocity': array([[-0.7, -0.7, -0.7]]), 'best': {'Position': array([[3.73476459, 3.14176999, 4.41461278]]), 'cost': -0.8462687577981924}}, {'Position': array([[-0.80495185,  0.65896063,  0.09231077]]), 'cost': nan, 'velocity': array([[-0.7, -0.7, -0.7]]), 'best': {'Position': array([[3.73476459, 3.14176999, 4.41461278]]), 'cost': -0.8462687577981924}}, {'Position': array([[ 0.23243242,  2.99166549, -0.03572479]]), 'cost': nan, 'velocity': array([[-0.7, -0.7, -0.7]]), 'best': {'Position': array([[3.73476459, 3.14176999, 4.41461278]]), 'cost': -0.8462687577981924}}, {'Position': array([[-0.46451253,  3.72008355,  2.45959723]]), 'cost': nan, 'velocity': array([[-0.7, -0.7, -0.7]]), 'best': {'Position': array([[3.73476459, 3.14176999, 4.41461278]]), 'cost': -0.8462687577981924}}, {'Position': array([[3.6007687 , 5.00998477, 2.02713979]]), 'cost': 2.306113538280087, 'velocity': array([[-0.7, -0.7, -0.7]]), 'best': {'Position': array([[3.73476459, 3.14176999, 4.41461278]]), 'cost': -0.8462687577981924}}, {'Position': array([[ 4.08354748, -1.44683215, -0.6778023 ]]), 'cost': nan, 'velocity': array([[-0.7, -0.7, -0.7]]), 'best': {'Position': array([[3.73476459, 3.14176999, 4.41461278]]), 'cost': -0.8462687577981924}}, {'Position': array([[ 0.6722527 , -1.36511211, -0.99687368]]), 'cost': nan, 'velocity': array([[-0.7, -0.7, -0.7]]), 'best': {'Position': array([[3.73476459, 3.14176999, 4.41461278]]), 'cost': -0.8462687577981924}}, {'Position': array([[1.82715583, 3.09151671, 4.76989717]]), 'cost': 2.0398813622609273, 'velocity': array([[-0.7, -0.7, -0.7]]), 'best': {'Position': array([[3.73476459, 3.14176999, 4.41461278]]), 'cost': -0.8462687577981924}}, {'Position': array([[-0.72529027,  4.3101899 ,  2.24294733]]), 'cost': nan, 'velocity': array([[-0.7, -0.7, -0.7]]), 'best': {'Position': array([[3.73476459, 3.14176999, 4.41461278]]), 'cost': -0.8462687577981924}}, {'Position': array([[-0.78711035,  0.58969323,  2.5184508 ]]), 'cost': nan, 'velocity': array([[-0.7, -0.7, -0.7]]), 'best': {'Position': array([[3.73476459, 3.14176999, 4.41461278]]), 'cost': -0.8462687577981924}}, {'Position': array([[ 3.77473565, -0.34532922,  2.1094602 ]]), 'cost': nan, 'velocity': array([[-0.7, -0.7, -0.7]]), 'best': {'Position': array([[3.73476459, 3.14176999, 4.41461278]]), 'cost': -0.8462687577981924}}, {'Position': array([[1.08465089, 0.99634278, 2.4740755 ]]), 'cost': 3.9442167683945684, 'velocity': array([[-0.7, -0.7, -0.7]]), 'best': {'Position': array([[3.73476459, 3.14176999, 4.41461278]]), 'cost': -0.8462687577981924}}, {'Position': array([[3.93130758, 3.67626904, 1.39272683]]), 'cost': 0.46446299001155156, 'velocity': array([[-0.7, -0.7, -0.7]]), 'best': {'Position': array([[3.73476459, 3.14176999, 4.41461278]]), 'cost': -0.8462687577981924}}, {'Position': array([[-1.16056069,  0.48929802,  0.73605155]]), 'cost': nan, 'velocity': array([[-0.7, -0.7, -0.7]]), 'best': {'Position': array([[3.73476459, 3.14176999, 4.41461278]]), 'cost': -0.8462687577981924}}, {'Position': array([[-0.02723892,  3.26835226,  2.8792637 ]]), 'cost': nan, 'velocity': array([[-0.7, -0.7, -0.7]]), 'best': {'Position': array([[3.73476459, 3.14176999, 4.41461278]]), 'cost': -0.8462687577981924}}, {'Position': array([[ 4.89550064, -0.78021946,  2.78133173]]), 'cost': nan, 'velocity': array([[-0.7, -0.7, -0.7]]), 'best': {'Position': array([[3.73476459, 3.14176999, 4.41461278]]), 'cost': -0.8462687577981924}}, {'Position': array([[0.11037569, 2.85175594, 0.63754907]]), 'cost': 2.8104487484854053, 'velocity': array([[-0.7, -0.7, -0.7]]), 'best': {'Position': array([[3.73476459, 3.14176999, 4.41461278]]), 'cost': -0.8462687577981924}}, {'Position': array([[ 2.01676088, -1.09944072, -0.12857407]]), 'cost': nan, 'velocity': array([[-0.7, -0.7, -0.7]]), 'best': {'Position': array([[3.73476459, 3.14176999, 4.41461278]]), 'cost': -0.8462687577981924}}, {'Position': array([[ 4.16127974, -0.19977984,  0.46686844]]), 'cost': nan, 'velocity': array([[-0.7, -0.7, -0.7]]), 'best': {'Position': array([[3.73476459, 3.14176999, 4.41461278]]), 'cost': -0.8462687577981924}}, {'Position': array([[-0.96991215,  1.22757461,  1.85668803]]), 'cost': nan, 'velocity': array([[-0.7, -0.7, -0.7]]), 'best': {'Position': array([[3.73476459, 3.14176999, 4.41461278]]), 'cost': -0.8462687577981924}}, {'Position': array([[1.51684941, 2.10339017, 3.52505746]]), 'cost': 2.048790510168902, 'velocity': array([[-0.7, -0.7, -0.7]]), 'best': {'Position': array([[3.73476459, 3.14176999, 4.41461278]]), 'cost': -0.8462687577981924}}, {'Position': array([[2.50942735, 2.08252321, 3.99704032]]), 'cost': 1.0830599802743643, 'velocity': array([[-0.7, -0.7, -0.7]]), 'best': {'Position': array([[3.73476459, 3.14176999, 4.41461278]]), 'cost': -0.8462687577981924}}, {'Position': array([[0.92136865, 4.07193427, 3.19574463]]), 'cost': 0.8951284352857145, 'velocity': array([[-0.7, -0.7, -0.7]]), 'best': {'Position': array([[3.73476459, 3.14176999, 4.41461278]]), 'cost': -0.8462687577981924}}, {'Position': array([[4.62041239, 0.05299165, 1.09289194]]), 'cost': 3.2630060270788928, 'velocity': array([[-0.7, -0.7, -0.7]]), 'best': {'Position': array([[3.73476459, 3.14176999, 4.41461278]]), 'cost': -0.8462687577981924}}, {'Position': array([[-1.39875204,  1.91474362,  4.67693586]]), 'cost': nan, 'velocity': array([[-0.7, -0.7, -0.7]]), 'best': {'Position': array([[3.73476459, 3.14176999, 4.41461278]]), 'cost': -0.8462687577981924}}, {'Position': array([[ 0.26451324,  1.5996147 , -0.91342755]]), 'cost': nan, 'velocity': array([[-0.7, -0.7, -0.7]]), 'best': {'Position': array([[3.73476459, 3.14176999, 4.41461278]]), 'cost': -0.8462687577981924}}, {'Position': array([[3.83674656, 1.11879987, 3.09629408]]), 'cost': 0.8741029118287909, 'velocity': array([[-0.7, -0.7, -0.7]]), 'best': {'Position': array([[3.73476459, 3.14176999, 4.41461278]]), 'cost': -0.8462687577981924}}, {'Position': array([[ 4.80358088,  0.36057722, -0.79622676]]), 'cost': nan, 'velocity': array([[-0.7, -0.7, -0.7]]), 'best': {'Position': array([[3.73476459, 3.14176999, 4.41461278]]), 'cost': -0.8462687577981924}}, {'Position': array([[-0.37830306,  2.47880779,  3.15385099]]), 'cost': nan, 'velocity': array([[-0.7, -0.7, -0.7]]), 'best': {'Position': array([[3.73476459, 3.14176999, 4.41461278]]), 'cost': -0.8462687577981924}}, {'Position': array([[-1.28981476, -1.45937397,  2.0994534 ]]), 'cost': nan, 'velocity': array([[-0.7, -0.7, -0.7]]), 'best': {'Position': array([[3.73476459, 3.14176999, 4.41461278]]), 'cost': -0.8462687577981924}}, {'Position': array([[ 0.98799669, -1.40297969,  3.24610315]]), 'cost': nan, 'velocity': array([[-0.7, -0.7, -0.7]]), 'best': {'Position': array([[3.73476459, 3.14176999, 4.41461278]]), 'cost': -0.8462687577981924}}, {'Position': array([[2.18147877, 4.25124731, 0.33459405]]), 'cost': 2.08608799050461, 'velocity': array([[-0.7, -0.7, -0.7]]), 'best': {'Position': array([[3.73476459, 3.14176999, 4.41461278]]), 'cost': -0.8462687577981924}}, {'Position': array([[2.11424148, 0.61997823, 1.58470815]]), 'cost': 4.124847925456752, 'velocity': array([[-0.7, -0.7, -0.7]]), 'best': {'Position': array([[3.73476459, 3.14176999, 4.41461278]]), 'cost': -0.8462687577981924}}, {'Position': array([[ 2.37210708, -0.29087577, -0.07732498]]), 'cost': nan, 'velocity': array([[-0.7, -0.7, -0.7]]), 'best': {'Position': array([[3.73476459, 3.14176999, 4.41461278]]), 'cost': -0.8462687577981924}}, {'Position': array([[ 3.98243936,  2.16213233, -0.28907246]]), 'cost': nan, 'velocity': array([[-0.7, -0.7, -0.7]]), 'best': {'Position': array([[3.73476459, 3.14176999, 4.41461278]]), 'cost': -0.8462687577981924}}, {'Position': array([[-1.22921786,  2.0492802 , -0.27683268]]), 'cost': nan, 'velocity': array([[-0.7, -0.7, -0.7]]), 'best': {'Position': array([[3.73476459, 3.14176999, 4.41461278]]), 'cost': -0.8462687577981924}}, {'Position': array([[ 2.27060021, -1.59969658, -0.15841065]]), 'cost': nan, 'velocity': array([[-0.7, -0.7, -0.7]]), 'best': {'Position': array([[3.73476459, 3.14176999, 4.41461278]]), 'cost': -0.8462687577981924}}, {'Position': array([[3.38040842, 1.4319042 , 0.84136898]]), 'cost': 2.783391813005837, 'velocity': array([[-0.7, -0.7, -0.7]]), 'best': {'Position': array([[3.73476459, 3.14176999, 4.41461278]]), 'cost': -0.8462687577981924}}, {'Position': array([[ 4.72044323, -1.5596541 ,  2.06450835]]), 'cost': nan, 'velocity': array([[-0.7, -0.7, -0.7]]), 'best': {'Position': array([[3.73476459, 3.14176999, 4.41461278]]), 'cost': -0.8462687577981924}}, {'Position': array([[-1.20695072, -0.82766017, -1.10300585]]), 'cost': nan, 'velocity': array([[-0.7, -0.7, -0.7]]), 'best': {'Position': array([[3.73476459, 3.14176999, 4.41461278]]), 'cost': -0.8462687577981924}}, {'Position': array([[1.69373985, 0.05001389, 4.32050453]]), 'cost': 2.382511235943668, 'velocity': array([[-0.7, -0.7, -0.7]]), 'best': {'Position': array([[3.73476459, 3.14176999, 4.41461278]]), 'cost': -0.8462687577981924}}, {'Position': array([[0.42503076, 3.16501555, 3.47723187]]), 'cost': 0.6243752710974855, 'velocity': array([[-0.7, -0.7, -0.7]]), 'best': {'Position': array([[3.73476459, 3.14176999, 4.41461278]]), 'cost': -0.8462687577981924}}, {'Position': array([[4.41495251, 0.47931697, 3.58090047]]), 'cost': 0.9345716623661611, 'velocity': array([[-0.7, -0.7, -0.7]]), 'best': {'Position': array([[3.73476459, 3.14176999, 4.41461278]]), 'cost': -0.8462687577981924}}, {'Position': array([[1.26559888, 3.40010354, 0.70479018]]), 'cost': 2.7811255581303076, 'velocity': array([[-0.7, -0.7, -0.7]]), 'best': {'Position': array([[3.73476459, 3.14176999, 4.41461278]]), 'cost': -0.8462687577981924}}, {'Position': array([[1.46802857, 3.81696252, 4.89641471]]), 'cost': 2.3307854311365244, 'velocity': array([[-0.7, -0.7, -0.7]]), 'best': {'Position': array([[3.73476459, 3.14176999, 4.41461278]]), 'cost': -0.8462687577981924}}, {'Position': array([[3.7712161 , 3.57891417, 2.4538342 ]]), 'cost': -0.5791301753396967, 'velocity': array([[-0.7, -0.7, -0.7]]), 'best': {'Position': array([[3.73476459, 3.14176999, 4.41461278]]), 'cost': -0.8462687577981924}}, {'Position': array([[-1.53577118, -0.981576  ,  0.3221263 ]]), 'cost': nan, 'velocity': array([[-0.7, -0.7, -0.7]]), 'best': {'Position': array([[3.73476459, 3.14176999, 4.41461278]]), 'cost': -0.8462687577981924}}, {'Position': array([[3.73476459, 3.14176999, 4.41461278]]), 'cost': -0.8462687577981924, 'velocity': array([[-0.7, -0.7, -0.7]]), 'best': {'Position': array([[3.73476459, 3.14176999, 4.41461278]]), 'cost': -0.8462687577981924}}, {'Position': array([[4.73791187, 5.21797674, 3.23798639]]), 'cost': 3.1003814552755937, 'velocity': array([[-0.7, -0.7, -0.7]]), 'best': {'Position': array([[3.73476459, 3.14176999, 4.41461278]]), 'cost': -0.8462687577981924}}, {'Position': array([[ 5.08596856, -0.23739362, -0.73035242]]), 'cost': nan, 'velocity': array([[-0.7, -0.7, -0.7]]), 'best': {'Position': array([[3.73476459, 3.14176999, 4.41461278]]), 'cost': -0.8462687577981924}}, {'Position': array([[3.91473735, 2.09639881, 3.72853963]]), 'cost': -0.11339572297884981, 'velocity': array([[-0.7, -0.7, -0.7]]), 'best': {'Position': array([[3.73476459, 3.14176999, 4.41461278]]), 'cost': -0.8462687577981924}}, {'Position': array([[-1.4242297 , -0.66319059, -1.1287103 ]]), 'cost': nan, 'velocity': array([[-0.7, -0.7, -0.7]]), 'best': {'Position': array([[3.73476459, 3.14176999, 4.41461278]]), 'cost': -0.8462687577981924}}, {'Position': array([[0.99629889, 3.56995578, 2.25018831]]), 'cost': 1.9744827486684455, 'velocity': array([[-0.7, -0.7, -0.7]]), 'best': {'Position': array([[3.73476459, 3.14176999, 4.41461278]]), 'cost': -0.8462687577981924}}, {'Position': array([[ 2.95231249,  3.99434678, -1.60593393]]), 'cost': nan, 'velocity': array([[-0.7, -0.7, -0.7]]), 'best': {'Position': array([[3.73476459, 3.14176999, 4.41461278]]), 'cost': -0.8462687577981924}}, {'Position': array([[ 2.59070742,  4.87558272, -0.11340488]]), 'cost': nan, 'velocity': array([[-0.7, -0.7, -0.7]]), 'best': {'Position': array([[3.73476459, 3.14176999, 4.41461278]]), 'cost': -0.8462687577981924}}, {'Position': array([[ 0.42170552, -0.56367122,  3.47390441]]), 'cost': nan, 'velocity': array([[-0.7, -0.7, -0.7]]), 'best': {'Position': array([[3.73476459, 3.14176999, 4.41461278]]), 'cost': -0.8462687577981924}}, {'Position': array([[4.65775456, 0.56094613, 0.88865753]]), 'cost': 3.798180045295598, 'velocity': array([[-0.7, -0.7, -0.7]]), 'best': {'Position': array([[3.73476459, 3.14176999, 4.41461278]]), 'cost': -0.8462687577981924}}, {'Position': array([[ 2.41498879,  2.05500803, -0.02455533]]), 'cost': nan, 'velocity': array([[-0.7, -0.7, -0.7]]), 'best': {'Position': array([[3.73476459, 3.14176999, 4.41461278]]), 'cost': -0.8462687577981924}}, {'Position': array([[0.83627366, 0.72974136, 2.32144696]]), 'cost': 4.050814765825738, 'velocity': array([[-0.7, -0.7, -0.7]]), 'best': {'Position': array([[3.73476459, 3.14176999, 4.41461278]]), 'cost': -0.8462687577981924}}, {'Position': array([[ 3.57048072, -0.2113155 ,  3.28212326]]), 'cost': nan, 'velocity': array([[-0.7, -0.7, -0.7]]), 'best': {'Position': array([[3.73476459, 3.14176999, 4.41461278]]), 'cost': -0.8462687577981924}}, {'Position': array([[-0.89388153,  1.91613148,  1.00526012]]), 'cost': nan, 'velocity': array([[-0.7, -0.7, -0.7]]), 'best': {'Position': array([[3.73476459, 3.14176999, 4.41461278]]), 'cost': -0.8462687577981924}}, {'Position': array([[3.24278991, 1.72248901, 2.46001896]]), 'cost': 1.6521734600071643, 'velocity': array([[-0.7, -0.7, -0.7]]), 'best': {'Position': array([[3.73476459, 3.14176999, 4.41461278]]), 'cost': -0.8462687577981924}}, {'Position': array([[ 2.2643706 ,  1.62745061, -1.01276001]]), 'cost': nan, 'velocity': array([[-0.7, -0.7, -0.7]]), 'best': {'Position': array([[3.73476459, 3.14176999, 4.41461278]]), 'cost': -0.8462687577981924}}, {'Position': array([[4.68638521, 1.04289928, 0.40644117]]), 'cost': 3.795605052410953, 'velocity': array([[-0.7, -0.7, -0.7]]), 'best': {'Position': array([[3.73476459, 3.14176999, 4.41461278]]), 'cost': -0.8462687577981924}}, {'Position': array([[ 4.83126747, -1.60353759, -1.5750989 ]]), 'cost': nan, 'velocity': array([[-0.7, -0.7, -0.7]]), 'best': {'Position': array([[3.73476459, 3.14176999, 4.41461278]]), 'cost': -0.8462687577981924}}, {'Position': array([[2.90207653, 2.23573834, 4.52454912]]), 'cost': 1.153764805977894, 'velocity': array([[-0.7, -0.7, -0.7]]), 'best': {'Position': array([[3.73476459, 3.14176999, 4.41461278]]), 'cost': -0.8462687577981924}}, {'Position': array([[ 2.7883572 ,  0.2058777 , -0.69780335]]), 'cost': nan, 'velocity': array([[-0.7, -0.7, -0.7]]), 'best': {'Position': array([[3.73476459, 3.14176999, 4.41461278]]), 'cost': -0.8462687577981924}}, {'Position': array([[-1.27616041,  4.5649755 ,  3.55970419]]), 'cost': nan, 'velocity': array([[-0.7, -0.7, -0.7]]), 'best': {'Position': array([[3.73476459, 3.14176999, 4.41461278]]), 'cost': -0.8462687577981924}}, {'Position': array([[2.07477956, 3.46510798, 1.11505793]]), 'cost': 2.233996119653298, 'velocity': array([[-0.7, -0.7, -0.7]]), 'best': {'Position': array([[3.73476459, 3.14176999, 4.41461278]]), 'cost': -0.8462687577981924}}, {'Position': array([[-1.3471386 ,  1.69445737,  2.08647776]]), 'cost': nan, 'velocity': array([[-0.7, -0.7, -0.7]]), 'best': {'Position': array([[3.73476459, 3.14176999, 4.41461278]]), 'cost': -0.8462687577981924}}, {'Position': array([[1.0477395 , 1.45092368, 3.75592813]]), 'cost': 2.67688804785768, 'velocity': array([[-0.7, -0.7, -0.7]]), 'best': {'Position': array([[3.73476459, 3.14176999, 4.41461278]]), 'cost': -0.8462687577981924}}, {'Position': array([[ 4.24081267,  2.22382001, -0.22963221]]), 'cost': nan, 'velocity': array([[-0.7, -0.7, -0.7]]), 'best': {'Position': array([[3.73476459, 3.14176999, 4.41461278]]), 'cost': -0.8462687577981924}}, {'Position': array([[ 0.56910644, -0.28783942,  3.9310811 ]]), 'cost': nan, 'velocity': array([[-0.7, -0.7, -0.7]]), 'best': {'Position': array([[3.73476459, 3.14176999, 4.41461278]]), 'cost': -0.8462687577981924}}, {'Position': array([[ 2.78039418, -0.40251326,  4.59849867]]), 'cost': nan, 'velocity': array([[-0.7, -0.7, -0.7]]), 'best': {'Position': array([[3.73476459, 3.14176999, 4.41461278]]), 'cost': -0.8462687577981924}}, {'Position': array([[ 3.71970691, -0.74597301,  2.47830969]]), 'cost': nan, 'velocity': array([[-0.7, -0.7, -0.7]]), 'best': {'Position': array([[3.73476459, 3.14176999, 4.41461278]]), 'cost': -0.8462687577981924}}, {'Position': array([[1.56820333, 0.23903274, 2.81884919]]), 'cost': 2.943406047984145, 'velocity': array([[-0.7, -0.7, -0.7]]), 'best': {'Position': array([[3.73476459, 3.14176999, 4.41461278]]), 'cost': -0.8462687577981924}}, {'Position': array([[ 5.15949874, -0.52276681,  1.59757599]]), 'cost': nan, 'velocity': array([[-0.7, -0.7, -0.7]]), 'best': {'Position': array([[3.73476459, 3.14176999, 4.41461278]]), 'cost': -0.8462687577981924}}, {'Position': array([[-0.53756656,  5.15743498,  3.3100178 ]]), 'cost': nan, 'velocity': array([[-0.7, -0.7, -0.7]]), 'best': {'Position': array([[3.73476459, 3.14176999, 4.41461278]]), 'cost': -0.8462687577981924}}, {'Position': array([[ 4.86581294,  1.45500308, -1.38893977]]), 'cost': nan, 'velocity': array([[-0.7, -0.7, -0.7]]), 'best': {'Position': array([[3.73476459, 3.14176999, 4.41461278]]), 'cost': -0.8462687577981924}}, {'Position': array([[2.63376219, 2.74155022, 4.57984576]]), 'cost': 0.9672342664451001, 'velocity': array([[-0.7, -0.7, -0.7]]), 'best': {'Position': array([[3.73476459, 3.14176999, 4.41461278]]), 'cost': -0.8462687577981924}}, {'Position': array([[ 3.13535215,  3.44317627, -0.85714896]]), 'cost': nan, 'velocity': array([[-0.7, -0.7, -0.7]]), 'best': {'Position': array([[3.73476459, 3.14176999, 4.41461278]]), 'cost': -0.8462687577981924}}, {'Position': array([[0.99148317, 1.591714  , 5.10015157]]), 'cost': 5.323176745936314, 'velocity': array([[-0.7, -0.7, -0.7]]), 'best': {'Position': array([[3.73476459, 3.14176999, 4.41461278]]), 'cost': -0.8462687577981924}}, {'Position': array([[0.90232306, 3.68515673, 2.46069567]]), 'cost': 1.6608758734926334, 'velocity': array([[-0.7, -0.7, -0.7]]), 'best': {'Position': array([[3.73476459, 3.14176999, 4.41461278]]), 'cost': -0.8462687577981924}}, {'Position': array([[ 1.15887301,  4.04173953, -1.58778752]]), 'cost': nan, 'velocity': array([[-0.7, -0.7, -0.7]]), 'best': {'Position': array([[3.73476459, 3.14176999, 4.41461278]]), 'cost': -0.8462687577981924}}, {'Position': array([[ 1.94075555, -1.55856211, -0.94861302]]), 'cost': nan, 'velocity': array([[-0.7, -0.7, -0.7]]), 'best': {'Position': array([[3.73476459, 3.14176999, 4.41461278]]), 'cost': -0.8462687577981924}}, {'Position': array([[ 4.19631606,  3.77476539, -1.46050063]]), 'cost': nan, 'velocity': array([[-0.7, -0.7, -0.7]]), 'best': {'Position': array([[3.73476459, 3.14176999, 4.41461278]]), 'cost': -0.8462687577981924}}, {'Position': array([[1.66069984, 2.70287807, 3.00735557]]), 'cost': 1.618733302988315, 'velocity': array([[-0.7, -0.7, -0.7]]), 'best': {'Position': array([[3.73476459, 3.14176999, 4.41461278]]), 'cost': -0.8462687577981924}}, {'Position': array([[4.72724305, 0.78165785, 2.68343653]]), 'cost': 2.7224863258574326, 'velocity': array([[-0.7, -0.7, -0.7]]), 'best': {'Position': array([[3.73476459, 3.14176999, 4.41461278]]), 'cost': -0.8462687577981924}}, {'Position': array([[ 1.38363968,  1.95479106, -1.14573041]]), 'cost': nan, 'velocity': array([[-0.7, -0.7, -0.7]]), 'best': {'Position': array([[3.73476459, 3.14176999, 4.41461278]]), 'cost': -0.8462687577981924}}, {'Position': array([[5.16561987, 3.18591307, 1.33098548]]), 'cost': 3.736206471112989, 'velocity': array([[-0.7, -0.7, -0.7]]), 'best': {'Position': array([[3.73476459, 3.14176999, 4.41461278]]), 'cost': -0.8462687577981924}}, {'Position': array([[-0.49986202, -1.29455355, -0.79289528]]), 'cost': nan, 'velocity': array([[-0.7, -0.7, -0.7]]), 'best': {'Position': array([[3.73476459, 3.14176999, 4.41461278]]), 'cost': -0.8462687577981924}}, {'Position': array([[1.03262021, 2.18008692, 4.07302796]]), 'cost': 2.1844203494544567, 'velocity': array([[-0.7, -0.7, -0.7]]), 'best': {'Position': array([[3.73476459, 3.14176999, 4.41461278]]), 'cost': -0.8462687577981924}}, {'Position': array([[ 1.25723418,  4.1561356 , -1.38476241]]), 'cost': nan, 'velocity': array([[-0.7, -0.7, -0.7]]), 'best': {'Position': array([[3.73476459, 3.14176999, 4.41461278]]), 'cost': -0.8462687577981924}}, {'Position': array([[ 4.09040823, -0.59476381,  2.10346934]]), 'cost': nan, 'velocity': array([[-0.7, -0.7, -0.7]]), 'best': {'Position': array([[3.73476459, 3.14176999, 4.41461278]]), 'cost': -0.8462687577981924}}, {'Position': array([[ 1.48306488, -0.63449842,  2.21685694]]), 'cost': nan, 'velocity': array([[-0.7, -0.7, -0.7]]), 'best': {'Position': array([[3.73476459, 3.14176999, 4.41461278]]), 'cost': -0.8462687577981924}}, {'Position': array([[ 3.27932191, -0.00722729,  5.29589314]]), 'cost': nan, 'velocity': array([[-0.7, -0.7, -0.7]]), 'best': {'Position': array([[3.73476459, 3.14176999, 4.41461278]]), 'cost': -0.8462687577981924}}]\n",
      "\n",
      " [{'Position': array([[-2.28727844, -0.89831253,  1.57718413]]), 'cost': nan, 'velocity': array([[-0.7, -0.7, -0.7]]), 'best': {'Position': array([[3.73476459, 3.14176999, 4.41461278]]), 'cost': -0.8462687577981924}}, {'Position': array([[ 1.26794629,  0.03329293, -0.85422898]]), 'cost': nan, 'velocity': array([[-0.7, -0.7, -0.7]]), 'best': {'Position': array([[3.73476459, 3.14176999, 4.41461278]]), 'cost': -0.8462687577981924}}, {'Position': array([[-1.31134298,  3.3273759 ,  0.32669458]]), 'cost': nan, 'velocity': array([[-0.7, -0.7, -0.7]]), 'best': {'Position': array([[3.73476459, 3.14176999, 4.41461278]]), 'cost': -0.8462687577981924}}, {'Position': array([[-0.56942378,  2.55412661, -0.74210578]]), 'cost': nan, 'velocity': array([[-0.7, -0.7, -0.7]]), 'best': {'Position': array([[3.73476459, 3.14176999, 4.41461278]]), 'cost': -0.8462687577981924}}, {'Position': array([[-0.66184573, -1.57189838,  4.46844581]]), 'cost': nan, 'velocity': array([[-0.7, -0.7, -0.7]]), 'best': {'Position': array([[3.73476459, 3.14176999, 4.41461278]]), 'cost': -0.8462687577981924}}, {'Position': array([[-1.50495185, -0.04103937, -0.60768923]]), 'cost': nan, 'velocity': array([[-0.7, -0.7, -0.7]]), 'best': {'Position': array([[3.73476459, 3.14176999, 4.41461278]]), 'cost': -0.8462687577981924}}, {'Position': array([[-0.46756758,  2.29166549, -0.73572479]]), 'cost': nan, 'velocity': array([[-0.7, -0.7, -0.7]]), 'best': {'Position': array([[3.73476459, 3.14176999, 4.41461278]]), 'cost': -0.8462687577981924}}, {'Position': array([[-1.16451253,  3.02008355,  1.75959723]]), 'cost': nan, 'velocity': array([[-0.7, -0.7, -0.7]]), 'best': {'Position': array([[3.73476459, 3.14176999, 4.41461278]]), 'cost': -0.8462687577981924}}, {'Position': array([[2.9007687 , 4.30998477, 1.32713979]]), 'cost': 1.4951810046531002, 'velocity': array([[-0.7, -0.7, -0.7]]), 'best': {'Position': array([[3.73476459, 3.14176999, 4.41461278]]), 'cost': -0.8462687577981924}}, {'Position': array([[ 3.38354748, -2.14683215, -1.3778023 ]]), 'cost': nan, 'velocity': array([[-0.7, -0.7, -0.7]]), 'best': {'Position': array([[3.73476459, 3.14176999, 4.41461278]]), 'cost': -0.8462687577981924}}, {'Position': array([[-0.0277473 , -2.06511211, -1.69687368]]), 'cost': nan, 'velocity': array([[-0.7, -0.7, -0.7]]), 'best': {'Position': array([[3.73476459, 3.14176999, 4.41461278]]), 'cost': -0.8462687577981924}}, {'Position': array([[1.12715583, 2.39151671, 4.06989717]]), 'cost': 1.9111693811888077, 'velocity': array([[-0.7, -0.7, -0.7]]), 'best': {'Position': array([[3.73476459, 3.14176999, 4.41461278]]), 'cost': -0.8462687577981924}}, {'Position': array([[-1.42529027,  3.6101899 ,  1.54294733]]), 'cost': nan, 'velocity': array([[-0.7, -0.7, -0.7]]), 'best': {'Position': array([[3.73476459, 3.14176999, 4.41461278]]), 'cost': -0.8462687577981924}}, {'Position': array([[-1.48711035, -0.11030677,  1.8184508 ]]), 'cost': nan, 'velocity': array([[-0.7, -0.7, -0.7]]), 'best': {'Position': array([[3.73476459, 3.14176999, 4.41461278]]), 'cost': -0.8462687577981924}}, {'Position': array([[ 3.07473565, -1.04532922,  1.4094602 ]]), 'cost': nan, 'velocity': array([[-0.7, -0.7, -0.7]]), 'best': {'Position': array([[3.73476459, 3.14176999, 4.41461278]]), 'cost': -0.8462687577981924}}, {'Position': array([[0.38465089, 0.29634278, 1.7740755 ]]), 'cost': 4.150754216659504, 'velocity': array([[-0.7, -0.7, -0.7]]), 'best': {'Position': array([[3.73476459, 3.14176999, 4.41461278]]), 'cost': -0.8462687577981924}}, {'Position': array([[3.23130758, 2.97626904, 0.69272683]]), 'cost': 1.1671783106347002, 'velocity': array([[-0.7, -0.7, -0.7]]), 'best': {'Position': array([[3.73476459, 3.14176999, 4.41461278]]), 'cost': -0.8462687577981924}}, {'Position': array([[-1.86056069, -0.21070198,  0.03605155]]), 'cost': nan, 'velocity': array([[-0.7, -0.7, -0.7]]), 'best': {'Position': array([[3.73476459, 3.14176999, 4.41461278]]), 'cost': -0.8462687577981924}}, {'Position': array([[-0.72723892,  2.56835226,  2.1792637 ]]), 'cost': nan, 'velocity': array([[-0.7, -0.7, -0.7]]), 'best': {'Position': array([[3.73476459, 3.14176999, 4.41461278]]), 'cost': -0.8462687577981924}}, {'Position': array([[ 4.19550064, -1.48021946,  2.08133173]]), 'cost': nan, 'velocity': array([[-0.7, -0.7, -0.7]]), 'best': {'Position': array([[3.73476459, 3.14176999, 4.41461278]]), 'cost': -0.8462687577981924}}, {'Position': array([[-0.58962431,  2.15175594, -0.06245093]]), 'cost': nan, 'velocity': array([[-0.7, -0.7, -0.7]]), 'best': {'Position': array([[3.73476459, 3.14176999, 4.41461278]]), 'cost': -0.8462687577981924}}, {'Position': array([[ 1.31676088, -1.79944072, -0.82857407]]), 'cost': nan, 'velocity': array([[-0.7, -0.7, -0.7]]), 'best': {'Position': array([[3.73476459, 3.14176999, 4.41461278]]), 'cost': -0.8462687577981924}}, {'Position': array([[ 3.46127974, -0.89977984, -0.23313156]]), 'cost': nan, 'velocity': array([[-0.7, -0.7, -0.7]]), 'best': {'Position': array([[3.73476459, 3.14176999, 4.41461278]]), 'cost': -0.8462687577981924}}, {'Position': array([[-1.66991215,  0.52757461,  1.15668803]]), 'cost': nan, 'velocity': array([[-0.7, -0.7, -0.7]]), 'best': {'Position': array([[3.73476459, 3.14176999, 4.41461278]]), 'cost': -0.8462687577981924}}, {'Position': array([[0.81684941, 1.40339017, 2.82505746]]), 'cost': 3.372035205589656, 'velocity': array([[-0.7, -0.7, -0.7]]), 'best': {'Position': array([[3.73476459, 3.14176999, 4.41461278]]), 'cost': -0.8462687577981924}}, {'Position': array([[1.80942735, 1.38252321, 3.29704032]]), 'cost': 2.561778126474432, 'velocity': array([[-0.7, -0.7, -0.7]]), 'best': {'Position': array([[3.73476459, 3.14176999, 4.41461278]]), 'cost': -0.8462687577981924}}, {'Position': array([[0.22136865, 3.37193427, 2.49574463]]), 'cost': 1.3564734677576693, 'velocity': array([[-0.7, -0.7, -0.7]]), 'best': {'Position': array([[3.73476459, 3.14176999, 4.41461278]]), 'cost': -0.8462687577981924}}, {'Position': array([[ 3.92041239, -0.64700835,  0.39289194]]), 'cost': nan, 'velocity': array([[-0.7, -0.7, -0.7]]), 'best': {'Position': array([[3.73476459, 3.14176999, 4.41461278]]), 'cost': -0.8462687577981924}}, {'Position': array([[-2.09875204,  1.21474362,  3.97693586]]), 'cost': nan, 'velocity': array([[-0.7, -0.7, -0.7]]), 'best': {'Position': array([[3.73476459, 3.14176999, 4.41461278]]), 'cost': -0.8462687577981924}}, {'Position': array([[-0.43548676,  0.8996147 , -1.61342755]]), 'cost': nan, 'velocity': array([[-0.7, -0.7, -0.7]]), 'best': {'Position': array([[3.73476459, 3.14176999, 4.41461278]]), 'cost': -0.8462687577981924}}, {'Position': array([[3.13674656, 0.41879987, 2.39629408]]), 'cost': 1.8643417819975276, 'velocity': array([[-0.7, -0.7, -0.7]]), 'best': {'Position': array([[3.73476459, 3.14176999, 4.41461278]]), 'cost': -0.8462687577981924}}, {'Position': array([[ 4.10358088, -0.33942278, -1.49622676]]), 'cost': nan, 'velocity': array([[-0.7, -0.7, -0.7]]), 'best': {'Position': array([[3.73476459, 3.14176999, 4.41461278]]), 'cost': -0.8462687577981924}}, {'Position': array([[-1.07830306,  1.77880779,  2.45385099]]), 'cost': nan, 'velocity': array([[-0.7, -0.7, -0.7]]), 'best': {'Position': array([[3.73476459, 3.14176999, 4.41461278]]), 'cost': -0.8462687577981924}}, {'Position': array([[-1.98981476, -2.15937397,  1.3994534 ]]), 'cost': nan, 'velocity': array([[-0.7, -0.7, -0.7]]), 'best': {'Position': array([[3.73476459, 3.14176999, 4.41461278]]), 'cost': -0.8462687577981924}}, {'Position': array([[ 0.28799669, -2.10297969,  2.54610315]]), 'cost': nan, 'velocity': array([[-0.7, -0.7, -0.7]]), 'best': {'Position': array([[3.73476459, 3.14176999, 4.41461278]]), 'cost': -0.8462687577981924}}, {'Position': array([[ 1.48147877,  3.55124731, -0.36540595]]), 'cost': nan, 'velocity': array([[-0.7, -0.7, -0.7]]), 'best': {'Position': array([[3.73476459, 3.14176999, 4.41461278]]), 'cost': -0.8462687577981924}}, {'Position': array([[ 1.41424148, -0.08002177,  0.88470815]]), 'cost': nan, 'velocity': array([[-0.7, -0.7, -0.7]]), 'best': {'Position': array([[3.73476459, 3.14176999, 4.41461278]]), 'cost': -0.8462687577981924}}, {'Position': array([[ 1.67210708, -0.99087577, -0.77732498]]), 'cost': nan, 'velocity': array([[-0.7, -0.7, -0.7]]), 'best': {'Position': array([[3.73476459, 3.14176999, 4.41461278]]), 'cost': -0.8462687577981924}}, {'Position': array([[ 3.28243936,  1.46213233, -0.98907246]]), 'cost': nan, 'velocity': array([[-0.7, -0.7, -0.7]]), 'best': {'Position': array([[3.73476459, 3.14176999, 4.41461278]]), 'cost': -0.8462687577981924}}, {'Position': array([[-1.92921786,  1.3492802 , -0.97683268]]), 'cost': nan, 'velocity': array([[-0.7, -0.7, -0.7]]), 'best': {'Position': array([[3.73476459, 3.14176999, 4.41461278]]), 'cost': -0.8462687577981924}}, {'Position': array([[ 1.57060021, -2.29969658, -0.85841065]]), 'cost': nan, 'velocity': array([[-0.7, -0.7, -0.7]]), 'best': {'Position': array([[3.73476459, 3.14176999, 4.41461278]]), 'cost': -0.8462687577981924}}, {'Position': array([[2.68040842, 0.7319042 , 0.14136898]]), 'cost': 3.113328521898514, 'velocity': array([[-0.7, -0.7, -0.7]]), 'best': {'Position': array([[3.73476459, 3.14176999, 4.41461278]]), 'cost': -0.8462687577981924}}, {'Position': array([[ 4.02044323, -2.2596541 ,  1.36450835]]), 'cost': nan, 'velocity': array([[-0.7, -0.7, -0.7]]), 'best': {'Position': array([[3.73476459, 3.14176999, 4.41461278]]), 'cost': -0.8462687577981924}}, {'Position': array([[-1.90695072, -1.52766017, -1.80300585]]), 'cost': nan, 'velocity': array([[-0.7, -0.7, -0.7]]), 'best': {'Position': array([[3.73476459, 3.14176999, 4.41461278]]), 'cost': -0.8462687577981924}}, {'Position': array([[ 0.99373985, -0.64998611,  3.62050453]]), 'cost': nan, 'velocity': array([[-0.7, -0.7, -0.7]]), 'best': {'Position': array([[3.73476459, 3.14176999, 4.41461278]]), 'cost': -0.8462687577981924}}, {'Position': array([[-0.27496924,  2.46501555,  2.77723187]]), 'cost': nan, 'velocity': array([[-0.7, -0.7, -0.7]]), 'best': {'Position': array([[3.73476459, 3.14176999, 4.41461278]]), 'cost': -0.8462687577981924}}, {'Position': array([[ 3.71495251, -0.22068303,  2.88090047]]), 'cost': nan, 'velocity': array([[-0.7, -0.7, -0.7]]), 'best': {'Position': array([[3.73476459, 3.14176999, 4.41461278]]), 'cost': -0.8462687577981924}}, {'Position': array([[0.56559888, 2.70010354, 0.00479018]]), 'cost': 2.821469115880478, 'velocity': array([[-0.7, -0.7, -0.7]]), 'best': {'Position': array([[3.73476459, 3.14176999, 4.41461278]]), 'cost': -0.8462687577981924}}, {'Position': array([[0.76802857, 3.11696252, 4.19641471]]), 'cost': 1.069344417440698, 'velocity': array([[-0.7, -0.7, -0.7]]), 'best': {'Position': array([[3.73476459, 3.14176999, 4.41461278]]), 'cost': -0.8462687577981924}}, {'Position': array([[3.0712161 , 2.87891417, 1.7538342 ]]), 'cost': 1.2436649893808314, 'velocity': array([[-0.7, -0.7, -0.7]]), 'best': {'Position': array([[3.73476459, 3.14176999, 4.41461278]]), 'cost': -0.8462687577981924}}, {'Position': array([[-2.23577118, -1.681576  , -0.3778737 ]]), 'cost': nan, 'velocity': array([[-0.7, -0.7, -0.7]]), 'best': {'Position': array([[3.73476459, 3.14176999, 4.41461278]]), 'cost': -0.8462687577981924}}, {'Position': array([[3.03476459, 2.44176999, 3.71461278]]), 'cost': -0.1357065465899403, 'velocity': array([[-0.7, -0.7, -0.7]]), 'best': {'Position': array([[3.73476459, 3.14176999, 4.41461278]]), 'cost': -0.8462687577981924}}, {'Position': array([[4.03791187, 4.51797674, 2.53798639]]), 'cost': 0.24808933346331408, 'velocity': array([[-0.7, -0.7, -0.7]]), 'best': {'Position': array([[3.73476459, 3.14176999, 4.41461278]]), 'cost': -0.8462687577981924}}, {'Position': array([[ 4.38596856, -0.93739362, -1.43035242]]), 'cost': nan, 'velocity': array([[-0.7, -0.7, -0.7]]), 'best': {'Position': array([[3.73476459, 3.14176999, 4.41461278]]), 'cost': -0.8462687577981924}}, {'Position': array([[3.21473735, 1.39639881, 3.02853963]]), 'cost': 1.1366152595623746, 'velocity': array([[-0.7, -0.7, -0.7]]), 'best': {'Position': array([[3.73476459, 3.14176999, 4.41461278]]), 'cost': -0.8462687577981924}}, {'Position': array([[-2.1242297 , -1.36319059, -1.8287103 ]]), 'cost': nan, 'velocity': array([[-0.7, -0.7, -0.7]]), 'best': {'Position': array([[3.73476459, 3.14176999, 4.41461278]]), 'cost': -0.8462687577981924}}, {'Position': array([[0.29629889, 2.86995578, 1.55018831]]), 'cost': 2.9409854518162524, 'velocity': array([[-0.7, -0.7, -0.7]]), 'best': {'Position': array([[3.73476459, 3.14176999, 4.41461278]]), 'cost': -0.8462687577981924}}, {'Position': array([[ 2.25231249,  3.29434678, -2.30593393]]), 'cost': nan, 'velocity': array([[-0.7, -0.7, -0.7]]), 'best': {'Position': array([[3.73476459, 3.14176999, 4.41461278]]), 'cost': -0.8462687577981924}}, {'Position': array([[ 1.89070742,  4.17558272, -0.81340488]]), 'cost': nan, 'velocity': array([[-0.7, -0.7, -0.7]]), 'best': {'Position': array([[3.73476459, 3.14176999, 4.41461278]]), 'cost': -0.8462687577981924}}, {'Position': array([[-0.27829448, -1.26367122,  2.77390441]]), 'cost': nan, 'velocity': array([[-0.7, -0.7, -0.7]]), 'best': {'Position': array([[3.73476459, 3.14176999, 4.41461278]]), 'cost': -0.8462687577981924}}, {'Position': array([[ 3.95775456, -0.13905387,  0.18865753]]), 'cost': nan, 'velocity': array([[-0.7, -0.7, -0.7]]), 'best': {'Position': array([[3.73476459, 3.14176999, 4.41461278]]), 'cost': -0.8462687577981924}}, {'Position': array([[ 1.71498879,  1.35500803, -0.72455533]]), 'cost': nan, 'velocity': array([[-0.7, -0.7, -0.7]]), 'best': {'Position': array([[3.73476459, 3.14176999, 4.41461278]]), 'cost': -0.8462687577981924}}, {'Position': array([[0.13627366, 0.02974136, 1.62144696]]), 'cost': 3.736916079245222, 'velocity': array([[-0.7, -0.7, -0.7]]), 'best': {'Position': array([[3.73476459, 3.14176999, 4.41461278]]), 'cost': -0.8462687577981924}}, {'Position': array([[ 2.87048072, -0.9113155 ,  2.58212326]]), 'cost': nan, 'velocity': array([[-0.7, -0.7, -0.7]]), 'best': {'Position': array([[3.73476459, 3.14176999, 4.41461278]]), 'cost': -0.8462687577981924}}, {'Position': array([[-1.59388153,  1.21613148,  0.30526012]]), 'cost': nan, 'velocity': array([[-0.7, -0.7, -0.7]]), 'best': {'Position': array([[3.73476459, 3.14176999, 4.41461278]]), 'cost': -0.8462687577981924}}, {'Position': array([[2.54278991, 1.02248901, 1.76001896]]), 'cost': 3.560097831199707, 'velocity': array([[-0.7, -0.7, -0.7]]), 'best': {'Position': array([[3.73476459, 3.14176999, 4.41461278]]), 'cost': -0.8462687577981924}}, {'Position': array([[ 1.5643706 ,  0.92745061, -1.71276001]]), 'cost': nan, 'velocity': array([[-0.7, -0.7, -0.7]]), 'best': {'Position': array([[3.73476459, 3.14176999, 4.41461278]]), 'cost': -0.8462687577981924}}, {'Position': array([[ 3.98638521,  0.34289928, -0.29355883]]), 'cost': nan, 'velocity': array([[-0.7, -0.7, -0.7]]), 'best': {'Position': array([[3.73476459, 3.14176999, 4.41461278]]), 'cost': -0.8462687577981924}}, {'Position': array([[ 4.13126747, -2.30353759, -2.2750989 ]]), 'cost': nan, 'velocity': array([[-0.7, -0.7, -0.7]]), 'best': {'Position': array([[3.73476459, 3.14176999, 4.41461278]]), 'cost': -0.8462687577981924}}, {'Position': array([[2.20207653, 1.53573834, 3.82454912]]), 'cost': 1.8852015885196516, 'velocity': array([[-0.7, -0.7, -0.7]]), 'best': {'Position': array([[3.73476459, 3.14176999, 4.41461278]]), 'cost': -0.8462687577981924}}, {'Position': array([[ 2.0883572 , -0.4941223 , -1.39780335]]), 'cost': nan, 'velocity': array([[-0.7, -0.7, -0.7]]), 'best': {'Position': array([[3.73476459, 3.14176999, 4.41461278]]), 'cost': -0.8462687577981924}}, {'Position': array([[-1.97616041,  3.8649755 ,  2.85970419]]), 'cost': nan, 'velocity': array([[-0.7, -0.7, -0.7]]), 'best': {'Position': array([[3.73476459, 3.14176999, 4.41461278]]), 'cost': -0.8462687577981924}}, {'Position': array([[1.37477956, 2.76510798, 0.41505793]]), 'cost': 3.2569374763009042, 'velocity': array([[-0.7, -0.7, -0.7]]), 'best': {'Position': array([[3.73476459, 3.14176999, 4.41461278]]), 'cost': -0.8462687577981924}}, {'Position': array([[-2.0471386 ,  0.99445737,  1.38647776]]), 'cost': nan, 'velocity': array([[-0.7, -0.7, -0.7]]), 'best': {'Position': array([[3.73476459, 3.14176999, 4.41461278]]), 'cost': -0.8462687577981924}}, {'Position': array([[0.3477395 , 0.75092368, 3.05592813]]), 'cost': 2.8449761302574217, 'velocity': array([[-0.7, -0.7, -0.7]]), 'best': {'Position': array([[3.73476459, 3.14176999, 4.41461278]]), 'cost': -0.8462687577981924}}, {'Position': array([[ 3.54081267,  1.52382001, -0.92963221]]), 'cost': nan, 'velocity': array([[-0.7, -0.7, -0.7]]), 'best': {'Position': array([[3.73476459, 3.14176999, 4.41461278]]), 'cost': -0.8462687577981924}}, {'Position': array([[-0.13089356, -0.98783942,  3.2310811 ]]), 'cost': nan, 'velocity': array([[-0.7, -0.7, -0.7]]), 'best': {'Position': array([[3.73476459, 3.14176999, 4.41461278]]), 'cost': -0.8462687577981924}}, {'Position': array([[ 2.08039418, -1.10251326,  3.89849867]]), 'cost': nan, 'velocity': array([[-0.7, -0.7, -0.7]]), 'best': {'Position': array([[3.73476459, 3.14176999, 4.41461278]]), 'cost': -0.8462687577981924}}, {'Position': array([[ 3.01970691, -1.44597301,  1.77830969]]), 'cost': nan, 'velocity': array([[-0.7, -0.7, -0.7]]), 'best': {'Position': array([[3.73476459, 3.14176999, 4.41461278]]), 'cost': -0.8462687577981924}}, {'Position': array([[ 0.86820333, -0.46096726,  2.11884919]]), 'cost': nan, 'velocity': array([[-0.7, -0.7, -0.7]]), 'best': {'Position': array([[3.73476459, 3.14176999, 4.41461278]]), 'cost': -0.8462687577981924}}, {'Position': array([[ 4.45949874, -1.22276681,  0.89757599]]), 'cost': nan, 'velocity': array([[-0.7, -0.7, -0.7]]), 'best': {'Position': array([[3.73476459, 3.14176999, 4.41461278]]), 'cost': -0.8462687577981924}}, {'Position': array([[-1.23756656,  4.45743498,  2.6100178 ]]), 'cost': nan, 'velocity': array([[-0.7, -0.7, -0.7]]), 'best': {'Position': array([[3.73476459, 3.14176999, 4.41461278]]), 'cost': -0.8462687577981924}}, {'Position': array([[ 4.16581294,  0.75500308, -2.08893977]]), 'cost': nan, 'velocity': array([[-0.7, -0.7, -0.7]]), 'best': {'Position': array([[3.73476459, 3.14176999, 4.41461278]]), 'cost': -0.8462687577981924}}, {'Position': array([[1.93376219, 2.04155022, 3.87984576]]), 'cost': 1.769985940721889, 'velocity': array([[-0.7, -0.7, -0.7]]), 'best': {'Position': array([[3.73476459, 3.14176999, 4.41461278]]), 'cost': -0.8462687577981924}}, {'Position': array([[ 2.43535215,  2.74317627, -1.55714896]]), 'cost': nan, 'velocity': array([[-0.7, -0.7, -0.7]]), 'best': {'Position': array([[3.73476459, 3.14176999, 4.41461278]]), 'cost': -0.8462687577981924}}, {'Position': array([[0.29148317, 0.891714  , 4.40015157]]), 'cost': 3.010367748207909, 'velocity': array([[-0.7, -0.7, -0.7]]), 'best': {'Position': array([[3.73476459, 3.14176999, 4.41461278]]), 'cost': -0.8462687577981924}}, {'Position': array([[0.20232306, 2.98515673, 1.76069567]]), 'cost': 2.5598191091568934, 'velocity': array([[-0.7, -0.7, -0.7]]), 'best': {'Position': array([[3.73476459, 3.14176999, 4.41461278]]), 'cost': -0.8462687577981924}}, {'Position': array([[ 0.45887301,  3.34173953, -2.28778752]]), 'cost': nan, 'velocity': array([[-0.7, -0.7, -0.7]]), 'best': {'Position': array([[3.73476459, 3.14176999, 4.41461278]]), 'cost': -0.8462687577981924}}, {'Position': array([[ 1.24075555, -2.25856211, -1.64861302]]), 'cost': nan, 'velocity': array([[-0.7, -0.7, -0.7]]), 'best': {'Position': array([[3.73476459, 3.14176999, 4.41461278]]), 'cost': -0.8462687577981924}}, {'Position': array([[ 3.49631606,  3.07476539, -2.16050063]]), 'cost': nan, 'velocity': array([[-0.7, -0.7, -0.7]]), 'best': {'Position': array([[3.73476459, 3.14176999, 4.41461278]]), 'cost': -0.8462687577981924}}, {'Position': array([[0.96069984, 2.00287807, 2.30735557]]), 'cost': 3.6332275367223112, 'velocity': array([[-0.7, -0.7, -0.7]]), 'best': {'Position': array([[3.73476459, 3.14176999, 4.41461278]]), 'cost': -0.8462687577981924}}, {'Position': array([[4.02724305, 0.08165785, 1.98343653]]), 'cost': 1.808854095643659, 'velocity': array([[-0.7, -0.7, -0.7]]), 'best': {'Position': array([[3.73476459, 3.14176999, 4.41461278]]), 'cost': -0.8462687577981924}}, {'Position': array([[ 0.68363968,  1.25479106, -1.84573041]]), 'cost': nan, 'velocity': array([[-0.7, -0.7, -0.7]]), 'best': {'Position': array([[3.73476459, 3.14176999, 4.41461278]]), 'cost': -0.8462687577981924}}, {'Position': array([[4.46561987, 2.48591307, 0.63098548]]), 'cost': 2.2646140974248237, 'velocity': array([[-0.7, -0.7, -0.7]]), 'best': {'Position': array([[3.73476459, 3.14176999, 4.41461278]]), 'cost': -0.8462687577981924}}, {'Position': array([[-1.19986202, -1.99455355, -1.49289528]]), 'cost': nan, 'velocity': array([[-0.7, -0.7, -0.7]]), 'best': {'Position': array([[3.73476459, 3.14176999, 4.41461278]]), 'cost': -0.8462687577981924}}, {'Position': array([[0.33262021, 1.48008692, 3.37302796]]), 'cost': 2.4900273138987923, 'velocity': array([[-0.7, -0.7, -0.7]]), 'best': {'Position': array([[3.73476459, 3.14176999, 4.41461278]]), 'cost': -0.8462687577981924}}, {'Position': array([[ 0.55723418,  3.4561356 , -2.08476241]]), 'cost': nan, 'velocity': array([[-0.7, -0.7, -0.7]]), 'best': {'Position': array([[3.73476459, 3.14176999, 4.41461278]]), 'cost': -0.8462687577981924}}, {'Position': array([[ 3.39040823, -1.29476381,  1.40346934]]), 'cost': nan, 'velocity': array([[-0.7, -0.7, -0.7]]), 'best': {'Position': array([[3.73476459, 3.14176999, 4.41461278]]), 'cost': -0.8462687577981924}}, {'Position': array([[ 0.78306488, -1.33449842,  1.51685694]]), 'cost': nan, 'velocity': array([[-0.7, -0.7, -0.7]]), 'best': {'Position': array([[3.73476459, 3.14176999, 4.41461278]]), 'cost': -0.8462687577981924}}, {'Position': array([[ 2.57932191, -0.70722729,  4.59589314]]), 'cost': nan, 'velocity': array([[-0.7, -0.7, -0.7]]), 'best': {'Position': array([[3.73476459, 3.14176999, 4.41461278]]), 'cost': -0.8462687577981924}}]\n",
      "\n",
      " [{'Position': array([[-2.98727844, -1.59831253,  0.87718413]]), 'cost': nan, 'velocity': array([[-0.7, -0.7, -0.7]]), 'best': {'Position': array([[3.73476459, 3.14176999, 4.41461278]]), 'cost': -0.8462687577981924}}, {'Position': array([[ 0.56794629, -0.66670707, -1.55422898]]), 'cost': nan, 'velocity': array([[-0.7, -0.7, -0.7]]), 'best': {'Position': array([[3.73476459, 3.14176999, 4.41461278]]), 'cost': -0.8462687577981924}}, {'Position': array([[-2.01134298,  2.6273759 , -0.37330542]]), 'cost': nan, 'velocity': array([[-0.7, -0.7, -0.7]]), 'best': {'Position': array([[3.73476459, 3.14176999, 4.41461278]]), 'cost': -0.8462687577981924}}, {'Position': array([[-1.26942378,  1.85412661, -1.44210578]]), 'cost': nan, 'velocity': array([[-0.7, -0.7, -0.7]]), 'best': {'Position': array([[3.73476459, 3.14176999, 4.41461278]]), 'cost': -0.8462687577981924}}, {'Position': array([[-1.36184573, -2.27189838,  3.76844581]]), 'cost': nan, 'velocity': array([[-0.7, -0.7, -0.7]]), 'best': {'Position': array([[3.73476459, 3.14176999, 4.41461278]]), 'cost': -0.8462687577981924}}, {'Position': array([[-2.20495185, -0.74103937, -1.30768923]]), 'cost': nan, 'velocity': array([[-0.7, -0.7, -0.7]]), 'best': {'Position': array([[3.73476459, 3.14176999, 4.41461278]]), 'cost': -0.8462687577981924}}, {'Position': array([[-1.16756758,  1.59166549, -1.43572479]]), 'cost': nan, 'velocity': array([[-0.7, -0.7, -0.7]]), 'best': {'Position': array([[3.73476459, 3.14176999, 4.41461278]]), 'cost': -0.8462687577981924}}, {'Position': array([[-1.86451253,  2.32008355,  1.05959723]]), 'cost': nan, 'velocity': array([[-0.7, -0.7, -0.7]]), 'best': {'Position': array([[3.73476459, 3.14176999, 4.41461278]]), 'cost': -0.8462687577981924}}, {'Position': array([[2.2007687 , 3.60998477, 0.62713979]]), 'cost': 1.9146431913811006, 'velocity': array([[-0.7, -0.7, -0.7]]), 'best': {'Position': array([[3.73476459, 3.14176999, 4.41461278]]), 'cost': -0.8462687577981924}}, {'Position': array([[ 2.68354748, -2.84683215, -2.0778023 ]]), 'cost': nan, 'velocity': array([[-0.7, -0.7, -0.7]]), 'best': {'Position': array([[3.73476459, 3.14176999, 4.41461278]]), 'cost': -0.8462687577981924}}, {'Position': array([[-0.7277473 , -2.76511211, -2.39687368]]), 'cost': nan, 'velocity': array([[-0.7, -0.7, -0.7]]), 'best': {'Position': array([[3.73476459, 3.14176999, 4.41461278]]), 'cost': -0.8462687577981924}}, {'Position': array([[0.42715583, 1.69151671, 3.36989717]]), 'cost': 2.4305578190209545, 'velocity': array([[-0.7, -0.7, -0.7]]), 'best': {'Position': array([[3.73476459, 3.14176999, 4.41461278]]), 'cost': -0.8462687577981924}}, {'Position': array([[-2.12529027,  2.9101899 ,  0.84294733]]), 'cost': nan, 'velocity': array([[-0.7, -0.7, -0.7]]), 'best': {'Position': array([[3.73476459, 3.14176999, 4.41461278]]), 'cost': -0.8462687577981924}}, {'Position': array([[-2.18711035, -0.81030677,  1.1184508 ]]), 'cost': nan, 'velocity': array([[-0.7, -0.7, -0.7]]), 'best': {'Position': array([[3.73476459, 3.14176999, 4.41461278]]), 'cost': -0.8462687577981924}}, {'Position': array([[ 2.37473565, -1.74532922,  0.7094602 ]]), 'cost': nan, 'velocity': array([[-0.7, -0.7, -0.7]]), 'best': {'Position': array([[3.73476459, 3.14176999, 4.41461278]]), 'cost': -0.8462687577981924}}, {'Position': array([[-0.31534911, -0.40365722,  1.0740755 ]]), 'cost': nan, 'velocity': array([[-0.7, -0.7, -0.7]]), 'best': {'Position': array([[3.73476459, 3.14176999, 4.41461278]]), 'cost': -0.8462687577981924}}, {'Position': array([[ 2.53130758,  2.27626904, -0.00727317]]), 'cost': nan, 'velocity': array([[-0.7, -0.7, -0.7]]), 'best': {'Position': array([[3.73476459, 3.14176999, 4.41461278]]), 'cost': -0.8462687577981924}}, {'Position': array([[-2.56056069, -0.91070198, -0.66394845]]), 'cost': nan, 'velocity': array([[-0.7, -0.7, -0.7]]), 'best': {'Position': array([[3.73476459, 3.14176999, 4.41461278]]), 'cost': -0.8462687577981924}}, {'Position': array([[-1.42723892,  1.86835226,  1.4792637 ]]), 'cost': nan, 'velocity': array([[-0.7, -0.7, -0.7]]), 'best': {'Position': array([[3.73476459, 3.14176999, 4.41461278]]), 'cost': -0.8462687577981924}}, {'Position': array([[ 3.49550064, -2.18021946,  1.38133173]]), 'cost': nan, 'velocity': array([[-0.7, -0.7, -0.7]]), 'best': {'Position': array([[3.73476459, 3.14176999, 4.41461278]]), 'cost': -0.8462687577981924}}, {'Position': array([[-1.28962431,  1.45175594, -0.76245093]]), 'cost': nan, 'velocity': array([[-0.7, -0.7, -0.7]]), 'best': {'Position': array([[3.73476459, 3.14176999, 4.41461278]]), 'cost': -0.8462687577981924}}, {'Position': array([[ 0.61676088, -2.49944072, -1.52857407]]), 'cost': nan, 'velocity': array([[-0.7, -0.7, -0.7]]), 'best': {'Position': array([[3.73476459, 3.14176999, 4.41461278]]), 'cost': -0.8462687577981924}}, {'Position': array([[ 2.76127974, -1.59977984, -0.93313156]]), 'cost': nan, 'velocity': array([[-0.7, -0.7, -0.7]]), 'best': {'Position': array([[3.73476459, 3.14176999, 4.41461278]]), 'cost': -0.8462687577981924}}, {'Position': array([[-2.36991215, -0.17242539,  0.45668803]]), 'cost': nan, 'velocity': array([[-0.7, -0.7, -0.7]]), 'best': {'Position': array([[3.73476459, 3.14176999, 4.41461278]]), 'cost': -0.8462687577981924}}, {'Position': array([[0.11684941, 0.70339017, 2.12505746]]), 'cost': 3.796273934991067, 'velocity': array([[-0.7, -0.7, -0.7]]), 'best': {'Position': array([[3.73476459, 3.14176999, 4.41461278]]), 'cost': -0.8462687577981924}}, {'Position': array([[1.10942735, 0.68252321, 2.59704032]]), 'cost': 3.6944765561697683, 'velocity': array([[-0.7, -0.7, -0.7]]), 'best': {'Position': array([[3.73476459, 3.14176999, 4.41461278]]), 'cost': -0.8462687577981924}}, {'Position': array([[-0.47863135,  2.67193427,  1.79574463]]), 'cost': nan, 'velocity': array([[-0.7, -0.7, -0.7]]), 'best': {'Position': array([[3.73476459, 3.14176999, 4.41461278]]), 'cost': -0.8462687577981924}}, {'Position': array([[ 3.22041239, -1.34700835, -0.30710806]]), 'cost': nan, 'velocity': array([[-0.7, -0.7, -0.7]]), 'best': {'Position': array([[3.73476459, 3.14176999, 4.41461278]]), 'cost': -0.8462687577981924}}, {'Position': array([[-2.79875204,  0.51474362,  3.27693586]]), 'cost': nan, 'velocity': array([[-0.7, -0.7, -0.7]]), 'best': {'Position': array([[3.73476459, 3.14176999, 4.41461278]]), 'cost': -0.8462687577981924}}, {'Position': array([[-1.13548676,  0.1996147 , -2.31342755]]), 'cost': nan, 'velocity': array([[-0.7, -0.7, -0.7]]), 'best': {'Position': array([[3.73476459, 3.14176999, 4.41461278]]), 'cost': -0.8462687577981924}}, {'Position': array([[ 2.43674656, -0.28120013,  1.69629408]]), 'cost': nan, 'velocity': array([[-0.7, -0.7, -0.7]]), 'best': {'Position': array([[3.73476459, 3.14176999, 4.41461278]]), 'cost': -0.8462687577981924}}, {'Position': array([[ 3.40358088, -1.03942278, -2.19622676]]), 'cost': nan, 'velocity': array([[-0.7, -0.7, -0.7]]), 'best': {'Position': array([[3.73476459, 3.14176999, 4.41461278]]), 'cost': -0.8462687577981924}}, {'Position': array([[-1.77830306,  1.07880779,  1.75385099]]), 'cost': nan, 'velocity': array([[-0.7, -0.7, -0.7]]), 'best': {'Position': array([[3.73476459, 3.14176999, 4.41461278]]), 'cost': -0.8462687577981924}}, {'Position': array([[-2.68981476, -2.85937397,  0.6994534 ]]), 'cost': nan, 'velocity': array([[-0.7, -0.7, -0.7]]), 'best': {'Position': array([[3.73476459, 3.14176999, 4.41461278]]), 'cost': -0.8462687577981924}}, {'Position': array([[-0.41200331, -2.80297969,  1.84610315]]), 'cost': nan, 'velocity': array([[-0.7, -0.7, -0.7]]), 'best': {'Position': array([[3.73476459, 3.14176999, 4.41461278]]), 'cost': -0.8462687577981924}}, {'Position': array([[ 0.78147877,  2.85124731, -1.06540595]]), 'cost': nan, 'velocity': array([[-0.7, -0.7, -0.7]]), 'best': {'Position': array([[3.73476459, 3.14176999, 4.41461278]]), 'cost': -0.8462687577981924}}, {'Position': array([[ 0.71424148, -0.78002177,  0.18470815]]), 'cost': nan, 'velocity': array([[-0.7, -0.7, -0.7]]), 'best': {'Position': array([[3.73476459, 3.14176999, 4.41461278]]), 'cost': -0.8462687577981924}}, {'Position': array([[ 0.97210708, -1.69087577, -1.47732498]]), 'cost': nan, 'velocity': array([[-0.7, -0.7, -0.7]]), 'best': {'Position': array([[3.73476459, 3.14176999, 4.41461278]]), 'cost': -0.8462687577981924}}, {'Position': array([[ 2.58243936,  0.76213233, -1.68907246]]), 'cost': nan, 'velocity': array([[-0.7, -0.7, -0.7]]), 'best': {'Position': array([[3.73476459, 3.14176999, 4.41461278]]), 'cost': -0.8462687577981924}}, {'Position': array([[-2.62921786,  0.6492802 , -1.67683268]]), 'cost': nan, 'velocity': array([[-0.7, -0.7, -0.7]]), 'best': {'Position': array([[3.73476459, 3.14176999, 4.41461278]]), 'cost': -0.8462687577981924}}, {'Position': array([[ 0.87060021, -2.99969658, -1.55841065]]), 'cost': nan, 'velocity': array([[-0.7, -0.7, -0.7]]), 'best': {'Position': array([[3.73476459, 3.14176999, 4.41461278]]), 'cost': -0.8462687577981924}}, {'Position': array([[ 1.98040842,  0.0319042 , -0.55863102]]), 'cost': nan, 'velocity': array([[-0.7, -0.7, -0.7]]), 'best': {'Position': array([[3.73476459, 3.14176999, 4.41461278]]), 'cost': -0.8462687577981924}}, {'Position': array([[ 3.32044323, -2.9596541 ,  0.66450835]]), 'cost': nan, 'velocity': array([[-0.7, -0.7, -0.7]]), 'best': {'Position': array([[3.73476459, 3.14176999, 4.41461278]]), 'cost': -0.8462687577981924}}, {'Position': array([[-2.60695072, -2.22766017, -2.50300585]]), 'cost': nan, 'velocity': array([[-0.7, -0.7, -0.7]]), 'best': {'Position': array([[3.73476459, 3.14176999, 4.41461278]]), 'cost': -0.8462687577981924}}, {'Position': array([[ 0.29373985, -1.34998611,  2.92050453]]), 'cost': nan, 'velocity': array([[-0.7, -0.7, -0.7]]), 'best': {'Position': array([[3.73476459, 3.14176999, 4.41461278]]), 'cost': -0.8462687577981924}}, {'Position': array([[-0.97496924,  1.76501555,  2.07723187]]), 'cost': nan, 'velocity': array([[-0.7, -0.7, -0.7]]), 'best': {'Position': array([[3.73476459, 3.14176999, 4.41461278]]), 'cost': -0.8462687577981924}}, {'Position': array([[ 3.01495251, -0.92068303,  2.18090047]]), 'cost': nan, 'velocity': array([[-0.7, -0.7, -0.7]]), 'best': {'Position': array([[3.73476459, 3.14176999, 4.41461278]]), 'cost': -0.8462687577981924}}, {'Position': array([[-0.13440112,  2.00010354, -0.69520982]]), 'cost': nan, 'velocity': array([[-0.7, -0.7, -0.7]]), 'best': {'Position': array([[3.73476459, 3.14176999, 4.41461278]]), 'cost': -0.8462687577981924}}, {'Position': array([[0.06802857, 2.41696252, 3.49641471]]), 'cost': 1.2118015794965031, 'velocity': array([[-0.7, -0.7, -0.7]]), 'best': {'Position': array([[3.73476459, 3.14176999, 4.41461278]]), 'cost': -0.8462687577981924}}, {'Position': array([[2.3712161 , 2.17891417, 1.0538342 ]]), 'cost': 3.3547438059855135, 'velocity': array([[-0.7, -0.7, -0.7]]), 'best': {'Position': array([[3.73476459, 3.14176999, 4.41461278]]), 'cost': -0.8462687577981924}}, {'Position': array([[-2.93577118, -2.381576  , -1.0778737 ]]), 'cost': nan, 'velocity': array([[-0.7, -0.7, -0.7]]), 'best': {'Position': array([[3.73476459, 3.14176999, 4.41461278]]), 'cost': -0.8462687577981924}}, {'Position': array([[2.33476459, 1.74176999, 3.01461278]]), 'cost': 2.040308769357062, 'velocity': array([[-0.7, -0.7, -0.7]]), 'best': {'Position': array([[3.73476459, 3.14176999, 4.41461278]]), 'cost': -0.8462687577981924}}, {'Position': array([[3.33791187, 3.81797674, 1.83798639]]), 'cost': 0.28307086595085806, 'velocity': array([[-0.7, -0.7, -0.7]]), 'best': {'Position': array([[3.73476459, 3.14176999, 4.41461278]]), 'cost': -0.8462687577981924}}, {'Position': array([[ 3.68596856, -1.63739362, -2.13035242]]), 'cost': nan, 'velocity': array([[-0.7, -0.7, -0.7]]), 'best': {'Position': array([[3.73476459, 3.14176999, 4.41461278]]), 'cost': -0.8462687577981924}}, {'Position': array([[2.51473735, 0.69639881, 2.32853963]]), 'cost': 2.8953757252832766, 'velocity': array([[-0.7, -0.7, -0.7]]), 'best': {'Position': array([[3.73476459, 3.14176999, 4.41461278]]), 'cost': -0.8462687577981924}}, {'Position': array([[-2.8242297 , -2.06319059, -2.5287103 ]]), 'cost': nan, 'velocity': array([[-0.7, -0.7, -0.7]]), 'best': {'Position': array([[3.73476459, 3.14176999, 4.41461278]]), 'cost': -0.8462687577981924}}, {'Position': array([[-0.40370111,  2.16995578,  0.85018831]]), 'cost': nan, 'velocity': array([[-0.7, -0.7, -0.7]]), 'best': {'Position': array([[3.73476459, 3.14176999, 4.41461278]]), 'cost': -0.8462687577981924}}, {'Position': array([[ 1.55231249,  2.59434678, -3.00593393]]), 'cost': nan, 'velocity': array([[-0.7, -0.7, -0.7]]), 'best': {'Position': array([[3.73476459, 3.14176999, 4.41461278]]), 'cost': -0.8462687577981924}}, {'Position': array([[ 1.19070742,  3.47558272, -1.51340488]]), 'cost': nan, 'velocity': array([[-0.7, -0.7, -0.7]]), 'best': {'Position': array([[3.73476459, 3.14176999, 4.41461278]]), 'cost': -0.8462687577981924}}, {'Position': array([[-0.97829448, -1.96367122,  2.07390441]]), 'cost': nan, 'velocity': array([[-0.7, -0.7, -0.7]]), 'best': {'Position': array([[3.73476459, 3.14176999, 4.41461278]]), 'cost': -0.8462687577981924}}, {'Position': array([[ 3.25775456, -0.83905387, -0.51134247]]), 'cost': nan, 'velocity': array([[-0.7, -0.7, -0.7]]), 'best': {'Position': array([[3.73476459, 3.14176999, 4.41461278]]), 'cost': -0.8462687577981924}}, {'Position': array([[ 1.01498879,  0.65500803, -1.42455533]]), 'cost': nan, 'velocity': array([[-0.7, -0.7, -0.7]]), 'best': {'Position': array([[3.73476459, 3.14176999, 4.41461278]]), 'cost': -0.8462687577981924}}, {'Position': array([[-0.56372634, -0.67025864,  0.92144696]]), 'cost': nan, 'velocity': array([[-0.7, -0.7, -0.7]]), 'best': {'Position': array([[3.73476459, 3.14176999, 4.41461278]]), 'cost': -0.8462687577981924}}, {'Position': array([[ 2.17048072, -1.6113155 ,  1.88212326]]), 'cost': nan, 'velocity': array([[-0.7, -0.7, -0.7]]), 'best': {'Position': array([[3.73476459, 3.14176999, 4.41461278]]), 'cost': -0.8462687577981924}}, {'Position': array([[-2.29388153,  0.51613148, -0.39473988]]), 'cost': nan, 'velocity': array([[-0.7, -0.7, -0.7]]), 'best': {'Position': array([[3.73476459, 3.14176999, 4.41461278]]), 'cost': -0.8462687577981924}}, {'Position': array([[1.84278991, 0.32248901, 1.06001896]]), 'cost': 4.376419011529338, 'velocity': array([[-0.7, -0.7, -0.7]]), 'best': {'Position': array([[3.73476459, 3.14176999, 4.41461278]]), 'cost': -0.8462687577981924}}, {'Position': array([[ 0.8643706 ,  0.22745061, -2.41276001]]), 'cost': nan, 'velocity': array([[-0.7, -0.7, -0.7]]), 'best': {'Position': array([[3.73476459, 3.14176999, 4.41461278]]), 'cost': -0.8462687577981924}}, {'Position': array([[ 3.28638521, -0.35710072, -0.99355883]]), 'cost': nan, 'velocity': array([[-0.7, -0.7, -0.7]]), 'best': {'Position': array([[3.73476459, 3.14176999, 4.41461278]]), 'cost': -0.8462687577981924}}, {'Position': array([[ 3.43126747, -3.00353759, -2.9750989 ]]), 'cost': nan, 'velocity': array([[-0.7, -0.7, -0.7]]), 'best': {'Position': array([[3.73476459, 3.14176999, 4.41461278]]), 'cost': -0.8462687577981924}}, {'Position': array([[1.50207653, 0.83573834, 3.12454912]]), 'cost': 2.97438629375272, 'velocity': array([[-0.7, -0.7, -0.7]]), 'best': {'Position': array([[3.73476459, 3.14176999, 4.41461278]]), 'cost': -0.8462687577981924}}, {'Position': array([[ 1.3883572 , -1.1941223 , -2.09780335]]), 'cost': nan, 'velocity': array([[-0.7, -0.7, -0.7]]), 'best': {'Position': array([[3.73476459, 3.14176999, 4.41461278]]), 'cost': -0.8462687577981924}}, {'Position': array([[-2.67616041,  3.1649755 ,  2.15970419]]), 'cost': nan, 'velocity': array([[-0.7, -0.7, -0.7]]), 'best': {'Position': array([[3.73476459, 3.14176999, 4.41461278]]), 'cost': -0.8462687577981924}}, {'Position': array([[ 0.67477956,  2.06510798, -0.28494207]]), 'cost': nan, 'velocity': array([[-0.7, -0.7, -0.7]]), 'best': {'Position': array([[3.73476459, 3.14176999, 4.41461278]]), 'cost': -0.8462687577981924}}, {'Position': array([[-2.7471386 ,  0.29445737,  0.68647776]]), 'cost': nan, 'velocity': array([[-0.7, -0.7, -0.7]]), 'best': {'Position': array([[3.73476459, 3.14176999, 4.41461278]]), 'cost': -0.8462687577981924}}, {'Position': array([[-0.3522605 ,  0.05092368,  2.35592813]]), 'cost': nan, 'velocity': array([[-0.7, -0.7, -0.7]]), 'best': {'Position': array([[3.73476459, 3.14176999, 4.41461278]]), 'cost': -0.8462687577981924}}, {'Position': array([[ 2.84081267,  0.82382001, -1.62963221]]), 'cost': nan, 'velocity': array([[-0.7, -0.7, -0.7]]), 'best': {'Position': array([[3.73476459, 3.14176999, 4.41461278]]), 'cost': -0.8462687577981924}}, {'Position': array([[-0.83089356, -1.68783942,  2.5310811 ]]), 'cost': nan, 'velocity': array([[-0.7, -0.7, -0.7]]), 'best': {'Position': array([[3.73476459, 3.14176999, 4.41461278]]), 'cost': -0.8462687577981924}}, {'Position': array([[ 1.38039418, -1.80251326,  3.19849867]]), 'cost': nan, 'velocity': array([[-0.7, -0.7, -0.7]]), 'best': {'Position': array([[3.73476459, 3.14176999, 4.41461278]]), 'cost': -0.8462687577981924}}, {'Position': array([[ 2.31970691, -2.14597301,  1.07830969]]), 'cost': nan, 'velocity': array([[-0.7, -0.7, -0.7]]), 'best': {'Position': array([[3.73476459, 3.14176999, 4.41461278]]), 'cost': -0.8462687577981924}}, {'Position': array([[ 0.16820333, -1.16096726,  1.41884919]]), 'cost': nan, 'velocity': array([[-0.7, -0.7, -0.7]]), 'best': {'Position': array([[3.73476459, 3.14176999, 4.41461278]]), 'cost': -0.8462687577981924}}, {'Position': array([[ 3.75949874, -1.92276681,  0.19757599]]), 'cost': nan, 'velocity': array([[-0.7, -0.7, -0.7]]), 'best': {'Position': array([[3.73476459, 3.14176999, 4.41461278]]), 'cost': -0.8462687577981924}}, {'Position': array([[-1.93756656,  3.75743498,  1.9100178 ]]), 'cost': nan, 'velocity': array([[-0.7, -0.7, -0.7]]), 'best': {'Position': array([[3.73476459, 3.14176999, 4.41461278]]), 'cost': -0.8462687577981924}}, {'Position': array([[ 3.46581294,  0.05500308, -2.78893977]]), 'cost': nan, 'velocity': array([[-0.7, -0.7, -0.7]]), 'best': {'Position': array([[3.73476459, 3.14176999, 4.41461278]]), 'cost': -0.8462687577981924}}, {'Position': array([[1.23376219, 1.34155022, 3.17984576]]), 'cost': 3.002824949745859, 'velocity': array([[-0.7, -0.7, -0.7]]), 'best': {'Position': array([[3.73476459, 3.14176999, 4.41461278]]), 'cost': -0.8462687577981924}}, {'Position': array([[ 1.73535215,  2.04317627, -2.25714896]]), 'cost': nan, 'velocity': array([[-0.7, -0.7, -0.7]]), 'best': {'Position': array([[3.73476459, 3.14176999, 4.41461278]]), 'cost': -0.8462687577981924}}, {'Position': array([[-0.40851683,  0.191714  ,  3.70015157]]), 'cost': nan, 'velocity': array([[-0.7, -0.7, -0.7]]), 'best': {'Position': array([[3.73476459, 3.14176999, 4.41461278]]), 'cost': -0.8462687577981924}}, {'Position': array([[-0.49767694,  2.28515673,  1.06069567]]), 'cost': nan, 'velocity': array([[-0.7, -0.7, -0.7]]), 'best': {'Position': array([[3.73476459, 3.14176999, 4.41461278]]), 'cost': -0.8462687577981924}}, {'Position': array([[-0.24112699,  2.64173953, -2.98778752]]), 'cost': nan, 'velocity': array([[-0.7, -0.7, -0.7]]), 'best': {'Position': array([[3.73476459, 3.14176999, 4.41461278]]), 'cost': -0.8462687577981924}}, {'Position': array([[ 0.54075555, -2.95856211, -2.34861302]]), 'cost': nan, 'velocity': array([[-0.7, -0.7, -0.7]]), 'best': {'Position': array([[3.73476459, 3.14176999, 4.41461278]]), 'cost': -0.8462687577981924}}, {'Position': array([[ 2.79631606,  2.37476539, -2.86050063]]), 'cost': nan, 'velocity': array([[-0.7, -0.7, -0.7]]), 'best': {'Position': array([[3.73476459, 3.14176999, 4.41461278]]), 'cost': -0.8462687577981924}}, {'Position': array([[0.26069984, 1.30287807, 1.60735557]]), 'cost': 4.475686700697718, 'velocity': array([[-0.7, -0.7, -0.7]]), 'best': {'Position': array([[3.73476459, 3.14176999, 4.41461278]]), 'cost': -0.8462687577981924}}, {'Position': array([[ 3.32724305, -0.61834215,  1.28343653]]), 'cost': nan, 'velocity': array([[-0.7, -0.7, -0.7]]), 'best': {'Position': array([[3.73476459, 3.14176999, 4.41461278]]), 'cost': -0.8462687577981924}}, {'Position': array([[-0.01636032,  0.55479106, -2.54573041]]), 'cost': nan, 'velocity': array([[-0.7, -0.7, -0.7]]), 'best': {'Position': array([[3.73476459, 3.14176999, 4.41461278]]), 'cost': -0.8462687577981924}}, {'Position': array([[ 3.76561987,  1.78591307, -0.06901452]]), 'cost': nan, 'velocity': array([[-0.7, -0.7, -0.7]]), 'best': {'Position': array([[3.73476459, 3.14176999, 4.41461278]]), 'cost': -0.8462687577981924}}, {'Position': array([[-1.89986202, -2.69455355, -2.19289528]]), 'cost': nan, 'velocity': array([[-0.7, -0.7, -0.7]]), 'best': {'Position': array([[3.73476459, 3.14176999, 4.41461278]]), 'cost': -0.8462687577981924}}, {'Position': array([[-0.36737979,  0.78008692,  2.67302796]]), 'cost': nan, 'velocity': array([[-0.7, -0.7, -0.7]]), 'best': {'Position': array([[3.73476459, 3.14176999, 4.41461278]]), 'cost': -0.8462687577981924}}, {'Position': array([[-0.14276582,  2.7561356 , -2.78476241]]), 'cost': nan, 'velocity': array([[-0.7, -0.7, -0.7]]), 'best': {'Position': array([[3.73476459, 3.14176999, 4.41461278]]), 'cost': -0.8462687577981924}}, {'Position': array([[ 2.69040823, -1.99476381,  0.70346934]]), 'cost': nan, 'velocity': array([[-0.7, -0.7, -0.7]]), 'best': {'Position': array([[3.73476459, 3.14176999, 4.41461278]]), 'cost': -0.8462687577981924}}, {'Position': array([[ 0.08306488, -2.03449842,  0.81685694]]), 'cost': nan, 'velocity': array([[-0.7, -0.7, -0.7]]), 'best': {'Position': array([[3.73476459, 3.14176999, 4.41461278]]), 'cost': -0.8462687577981924}}, {'Position': array([[ 1.87932191, -1.40722729,  3.89589314]]), 'cost': nan, 'velocity': array([[-0.7, -0.7, -0.7]]), 'best': {'Position': array([[3.73476459, 3.14176999, 4.41461278]]), 'cost': -0.8462687577981924}}]\n",
      "\n",
      " [{'Position': array([[-3.68727844, -2.29831253,  0.17718413]]), 'cost': nan, 'velocity': array([[-0.7, -0.7, -0.7]]), 'best': {'Position': array([[3.73476459, 3.14176999, 4.41461278]]), 'cost': -0.8462687577981924}}, {'Position': array([[-0.13205371, -1.36670707, -2.25422898]]), 'cost': nan, 'velocity': array([[-0.7, -0.7, -0.7]]), 'best': {'Position': array([[3.73476459, 3.14176999, 4.41461278]]), 'cost': -0.8462687577981924}}, {'Position': array([[-2.71134298,  1.9273759 , -1.07330542]]), 'cost': nan, 'velocity': array([[-0.7, -0.7, -0.7]]), 'best': {'Position': array([[3.73476459, 3.14176999, 4.41461278]]), 'cost': -0.8462687577981924}}, {'Position': array([[-1.96942378,  1.15412661, -2.14210578]]), 'cost': nan, 'velocity': array([[-0.7, -0.7, -0.7]]), 'best': {'Position': array([[3.73476459, 3.14176999, 4.41461278]]), 'cost': -0.8462687577981924}}, {'Position': array([[-2.06184573, -2.97189838,  3.06844581]]), 'cost': nan, 'velocity': array([[-0.7, -0.7, -0.7]]), 'best': {'Position': array([[3.73476459, 3.14176999, 4.41461278]]), 'cost': -0.8462687577981924}}, {'Position': array([[-2.90495185, -1.44103937, -2.00768923]]), 'cost': nan, 'velocity': array([[-0.7, -0.7, -0.7]]), 'best': {'Position': array([[3.73476459, 3.14176999, 4.41461278]]), 'cost': -0.8462687577981924}}, {'Position': array([[-1.86756758,  0.89166549, -2.13572479]]), 'cost': nan, 'velocity': array([[-0.7, -0.7, -0.7]]), 'best': {'Position': array([[3.73476459, 3.14176999, 4.41461278]]), 'cost': -0.8462687577981924}}, {'Position': array([[-2.56451253,  1.62008355,  0.35959723]]), 'cost': nan, 'velocity': array([[-0.7, -0.7, -0.7]]), 'best': {'Position': array([[3.73476459, 3.14176999, 4.41461278]]), 'cost': -0.8462687577981924}}, {'Position': array([[ 1.5007687 ,  2.90998477, -0.07286021]]), 'cost': nan, 'velocity': array([[-0.7, -0.7, -0.7]]), 'best': {'Position': array([[3.73476459, 3.14176999, 4.41461278]]), 'cost': -0.8462687577981924}}, {'Position': array([[ 1.98354748, -3.54683215, -2.7778023 ]]), 'cost': nan, 'velocity': array([[-0.7, -0.7, -0.7]]), 'best': {'Position': array([[3.73476459, 3.14176999, 4.41461278]]), 'cost': -0.8462687577981924}}, {'Position': array([[-1.4277473 , -3.46511211, -3.09687368]]), 'cost': nan, 'velocity': array([[-0.7, -0.7, -0.7]]), 'best': {'Position': array([[3.73476459, 3.14176999, 4.41461278]]), 'cost': -0.8462687577981924}}, {'Position': array([[-0.27284417,  0.99151671,  2.66989717]]), 'cost': nan, 'velocity': array([[-0.7, -0.7, -0.7]]), 'best': {'Position': array([[3.73476459, 3.14176999, 4.41461278]]), 'cost': -0.8462687577981924}}, {'Position': array([[-2.82529027,  2.2101899 ,  0.14294733]]), 'cost': nan, 'velocity': array([[-0.7, -0.7, -0.7]]), 'best': {'Position': array([[3.73476459, 3.14176999, 4.41461278]]), 'cost': -0.8462687577981924}}, {'Position': array([[-2.88711035, -1.51030677,  0.4184508 ]]), 'cost': nan, 'velocity': array([[-0.7, -0.7, -0.7]]), 'best': {'Position': array([[3.73476459, 3.14176999, 4.41461278]]), 'cost': -0.8462687577981924}}, {'Position': array([[ 1.67473565, -2.44532922,  0.0094602 ]]), 'cost': nan, 'velocity': array([[-0.7, -0.7, -0.7]]), 'best': {'Position': array([[3.73476459, 3.14176999, 4.41461278]]), 'cost': -0.8462687577981924}}, {'Position': array([[-1.01534911, -1.10365722,  0.3740755 ]]), 'cost': nan, 'velocity': array([[-0.7, -0.7, -0.7]]), 'best': {'Position': array([[3.73476459, 3.14176999, 4.41461278]]), 'cost': -0.8462687577981924}}, {'Position': array([[ 1.83130758,  1.57626904, -0.70727317]]), 'cost': nan, 'velocity': array([[-0.7, -0.7, -0.7]]), 'best': {'Position': array([[3.73476459, 3.14176999, 4.41461278]]), 'cost': -0.8462687577981924}}, {'Position': array([[-3.26056069, -1.61070198, -1.36394845]]), 'cost': nan, 'velocity': array([[-0.7, -0.7, -0.7]]), 'best': {'Position': array([[3.73476459, 3.14176999, 4.41461278]]), 'cost': -0.8462687577981924}}, {'Position': array([[-2.12723892,  1.16835226,  0.7792637 ]]), 'cost': nan, 'velocity': array([[-0.7, -0.7, -0.7]]), 'best': {'Position': array([[3.73476459, 3.14176999, 4.41461278]]), 'cost': -0.8462687577981924}}, {'Position': array([[ 2.79550064, -2.88021946,  0.68133173]]), 'cost': nan, 'velocity': array([[-0.7, -0.7, -0.7]]), 'best': {'Position': array([[3.73476459, 3.14176999, 4.41461278]]), 'cost': -0.8462687577981924}}, {'Position': array([[-1.98962431,  0.75175594, -1.46245093]]), 'cost': nan, 'velocity': array([[-0.7, -0.7, -0.7]]), 'best': {'Position': array([[3.73476459, 3.14176999, 4.41461278]]), 'cost': -0.8462687577981924}}, {'Position': array([[-0.08323912, -3.19944072, -2.22857407]]), 'cost': nan, 'velocity': array([[-0.7, -0.7, -0.7]]), 'best': {'Position': array([[3.73476459, 3.14176999, 4.41461278]]), 'cost': -0.8462687577981924}}, {'Position': array([[ 2.06127974, -2.29977984, -1.63313156]]), 'cost': nan, 'velocity': array([[-0.7, -0.7, -0.7]]), 'best': {'Position': array([[3.73476459, 3.14176999, 4.41461278]]), 'cost': -0.8462687577981924}}, {'Position': array([[-3.06991215, -0.87242539, -0.24331197]]), 'cost': nan, 'velocity': array([[-0.7, -0.7, -0.7]]), 'best': {'Position': array([[3.73476459, 3.14176999, 4.41461278]]), 'cost': -0.8462687577981924}}, {'Position': array([[-0.58315059,  0.00339017,  1.42505746]]), 'cost': nan, 'velocity': array([[-0.7, -0.7, -0.7]]), 'best': {'Position': array([[3.73476459, 3.14176999, 4.41461278]]), 'cost': -0.8462687577981924}}, {'Position': array([[ 0.40942735, -0.01747679,  1.89704032]]), 'cost': nan, 'velocity': array([[-0.7, -0.7, -0.7]]), 'best': {'Position': array([[3.73476459, 3.14176999, 4.41461278]]), 'cost': -0.8462687577981924}}, {'Position': array([[-1.17863135,  1.97193427,  1.09574463]]), 'cost': nan, 'velocity': array([[-0.7, -0.7, -0.7]]), 'best': {'Position': array([[3.73476459, 3.14176999, 4.41461278]]), 'cost': -0.8462687577981924}}, {'Position': array([[ 2.52041239, -2.04700835, -1.00710806]]), 'cost': nan, 'velocity': array([[-0.7, -0.7, -0.7]]), 'best': {'Position': array([[3.73476459, 3.14176999, 4.41461278]]), 'cost': -0.8462687577981924}}, {'Position': array([[-3.49875204, -0.18525638,  2.57693586]]), 'cost': nan, 'velocity': array([[-0.7, -0.7, -0.7]]), 'best': {'Position': array([[3.73476459, 3.14176999, 4.41461278]]), 'cost': -0.8462687577981924}}, {'Position': array([[-1.83548676, -0.5003853 , -3.01342755]]), 'cost': nan, 'velocity': array([[-0.7, -0.7, -0.7]]), 'best': {'Position': array([[3.73476459, 3.14176999, 4.41461278]]), 'cost': -0.8462687577981924}}, {'Position': array([[ 1.73674656, -0.98120013,  0.99629408]]), 'cost': nan, 'velocity': array([[-0.7, -0.7, -0.7]]), 'best': {'Position': array([[3.73476459, 3.14176999, 4.41461278]]), 'cost': -0.8462687577981924}}, {'Position': array([[ 2.70358088, -1.73942278, -2.89622676]]), 'cost': nan, 'velocity': array([[-0.7, -0.7, -0.7]]), 'best': {'Position': array([[3.73476459, 3.14176999, 4.41461278]]), 'cost': -0.8462687577981924}}, {'Position': array([[-2.47830306,  0.37880779,  1.05385099]]), 'cost': nan, 'velocity': array([[-0.7, -0.7, -0.7]]), 'best': {'Position': array([[3.73476459, 3.14176999, 4.41461278]]), 'cost': -0.8462687577981924}}, {'Position': array([[-3.38981476e+00, -3.55937397e+00, -5.46596089e-04]]), 'cost': nan, 'velocity': array([[-0.7, -0.7, -0.7]]), 'best': {'Position': array([[3.73476459, 3.14176999, 4.41461278]]), 'cost': -0.8462687577981924}}, {'Position': array([[-1.11200331, -3.50297969,  1.14610315]]), 'cost': nan, 'velocity': array([[-0.7, -0.7, -0.7]]), 'best': {'Position': array([[3.73476459, 3.14176999, 4.41461278]]), 'cost': -0.8462687577981924}}, {'Position': array([[ 0.08147877,  2.15124731, -1.76540595]]), 'cost': nan, 'velocity': array([[-0.7, -0.7, -0.7]]), 'best': {'Position': array([[3.73476459, 3.14176999, 4.41461278]]), 'cost': -0.8462687577981924}}, {'Position': array([[ 0.01424148, -1.48002177, -0.51529185]]), 'cost': nan, 'velocity': array([[-0.7, -0.7, -0.7]]), 'best': {'Position': array([[3.73476459, 3.14176999, 4.41461278]]), 'cost': -0.8462687577981924}}, {'Position': array([[ 0.27210708, -2.39087577, -2.17732498]]), 'cost': nan, 'velocity': array([[-0.7, -0.7, -0.7]]), 'best': {'Position': array([[3.73476459, 3.14176999, 4.41461278]]), 'cost': -0.8462687577981924}}, {'Position': array([[ 1.88243936,  0.06213233, -2.38907246]]), 'cost': nan, 'velocity': array([[-0.7, -0.7, -0.7]]), 'best': {'Position': array([[3.73476459, 3.14176999, 4.41461278]]), 'cost': -0.8462687577981924}}, {'Position': array([[-3.32921786, -0.0507198 , -2.37683268]]), 'cost': nan, 'velocity': array([[-0.7, -0.7, -0.7]]), 'best': {'Position': array([[3.73476459, 3.14176999, 4.41461278]]), 'cost': -0.8462687577981924}}, {'Position': array([[ 0.17060021, -3.69969658, -2.25841065]]), 'cost': nan, 'velocity': array([[-0.7, -0.7, -0.7]]), 'best': {'Position': array([[3.73476459, 3.14176999, 4.41461278]]), 'cost': -0.8462687577981924}}, {'Position': array([[ 1.28040842, -0.6680958 , -1.25863102]]), 'cost': nan, 'velocity': array([[-0.7, -0.7, -0.7]]), 'best': {'Position': array([[3.73476459, 3.14176999, 4.41461278]]), 'cost': -0.8462687577981924}}, {'Position': array([[ 2.62044323, -3.6596541 , -0.03549165]]), 'cost': nan, 'velocity': array([[-0.7, -0.7, -0.7]]), 'best': {'Position': array([[3.73476459, 3.14176999, 4.41461278]]), 'cost': -0.8462687577981924}}, {'Position': array([[-3.30695072, -2.92766017, -3.20300585]]), 'cost': nan, 'velocity': array([[-0.7, -0.7, -0.7]]), 'best': {'Position': array([[3.73476459, 3.14176999, 4.41461278]]), 'cost': -0.8462687577981924}}, {'Position': array([[-0.40626015, -2.04998611,  2.22050453]]), 'cost': nan, 'velocity': array([[-0.7, -0.7, -0.7]]), 'best': {'Position': array([[3.73476459, 3.14176999, 4.41461278]]), 'cost': -0.8462687577981924}}, {'Position': array([[-1.67496924,  1.06501555,  1.37723187]]), 'cost': nan, 'velocity': array([[-0.7, -0.7, -0.7]]), 'best': {'Position': array([[3.73476459, 3.14176999, 4.41461278]]), 'cost': -0.8462687577981924}}, {'Position': array([[ 2.31495251, -1.62068303,  1.48090047]]), 'cost': nan, 'velocity': array([[-0.7, -0.7, -0.7]]), 'best': {'Position': array([[3.73476459, 3.14176999, 4.41461278]]), 'cost': -0.8462687577981924}}, {'Position': array([[-0.83440112,  1.30010354, -1.39520982]]), 'cost': nan, 'velocity': array([[-0.7, -0.7, -0.7]]), 'best': {'Position': array([[3.73476459, 3.14176999, 4.41461278]]), 'cost': -0.8462687577981924}}, {'Position': array([[-0.63197143,  1.71696252,  2.79641471]]), 'cost': nan, 'velocity': array([[-0.7, -0.7, -0.7]]), 'best': {'Position': array([[3.73476459, 3.14176999, 4.41461278]]), 'cost': -0.8462687577981924}}, {'Position': array([[1.6712161 , 1.47891417, 0.3538342 ]]), 'cost': 4.440901823907751, 'velocity': array([[-0.7, -0.7, -0.7]]), 'best': {'Position': array([[3.73476459, 3.14176999, 4.41461278]]), 'cost': -0.8462687577981924}}, {'Position': array([[-3.63577118, -3.081576  , -1.7778737 ]]), 'cost': nan, 'velocity': array([[-0.7, -0.7, -0.7]]), 'best': {'Position': array([[3.73476459, 3.14176999, 4.41461278]]), 'cost': -0.8462687577981924}}, {'Position': array([[1.63476459, 1.04176999, 2.31461278]]), 'cost': 3.959662762188435, 'velocity': array([[-0.7, -0.7, -0.7]]), 'best': {'Position': array([[3.73476459, 3.14176999, 4.41461278]]), 'cost': -0.8462687577981924}}, {'Position': array([[2.63791187, 3.11797674, 1.13798639]]), 'cost': 1.7954320426982586, 'velocity': array([[-0.7, -0.7, -0.7]]), 'best': {'Position': array([[3.73476459, 3.14176999, 4.41461278]]), 'cost': -0.8462687577981924}}, {'Position': array([[ 2.98596856, -2.33739362, -2.83035242]]), 'cost': nan, 'velocity': array([[-0.7, -0.7, -0.7]]), 'best': {'Position': array([[3.73476459, 3.14176999, 4.41461278]]), 'cost': -0.8462687577981924}}, {'Position': array([[ 1.81473735, -0.00360119,  1.62853963]]), 'cost': nan, 'velocity': array([[-0.7, -0.7, -0.7]]), 'best': {'Position': array([[3.73476459, 3.14176999, 4.41461278]]), 'cost': -0.8462687577981924}}, {'Position': array([[-3.5242297 , -2.76319059, -3.2287103 ]]), 'cost': nan, 'velocity': array([[-0.7, -0.7, -0.7]]), 'best': {'Position': array([[3.73476459, 3.14176999, 4.41461278]]), 'cost': -0.8462687577981924}}, {'Position': array([[-1.10370111,  1.46995578,  0.15018831]]), 'cost': nan, 'velocity': array([[-0.7, -0.7, -0.7]]), 'best': {'Position': array([[3.73476459, 3.14176999, 4.41461278]]), 'cost': -0.8462687577981924}}, {'Position': array([[ 0.85231249,  1.89434678, -3.70593393]]), 'cost': nan, 'velocity': array([[-0.7, -0.7, -0.7]]), 'best': {'Position': array([[3.73476459, 3.14176999, 4.41461278]]), 'cost': -0.8462687577981924}}, {'Position': array([[ 0.49070742,  2.77558272, -2.21340488]]), 'cost': nan, 'velocity': array([[-0.7, -0.7, -0.7]]), 'best': {'Position': array([[3.73476459, 3.14176999, 4.41461278]]), 'cost': -0.8462687577981924}}, {'Position': array([[-1.67829448, -2.66367122,  1.37390441]]), 'cost': nan, 'velocity': array([[-0.7, -0.7, -0.7]]), 'best': {'Position': array([[3.73476459, 3.14176999, 4.41461278]]), 'cost': -0.8462687577981924}}, {'Position': array([[ 2.55775456, -1.53905387, -1.21134247]]), 'cost': nan, 'velocity': array([[-0.7, -0.7, -0.7]]), 'best': {'Position': array([[3.73476459, 3.14176999, 4.41461278]]), 'cost': -0.8462687577981924}}, {'Position': array([[ 0.31498879, -0.04499197, -2.12455533]]), 'cost': nan, 'velocity': array([[-0.7, -0.7, -0.7]]), 'best': {'Position': array([[3.73476459, 3.14176999, 4.41461278]]), 'cost': -0.8462687577981924}}, {'Position': array([[-1.26372634, -1.37025864,  0.22144696]]), 'cost': nan, 'velocity': array([[-0.7, -0.7, -0.7]]), 'best': {'Position': array([[3.73476459, 3.14176999, 4.41461278]]), 'cost': -0.8462687577981924}}, {'Position': array([[ 1.47048072, -2.3113155 ,  1.18212326]]), 'cost': nan, 'velocity': array([[-0.7, -0.7, -0.7]]), 'best': {'Position': array([[3.73476459, 3.14176999, 4.41461278]]), 'cost': -0.8462687577981924}}, {'Position': array([[-2.99388153, -0.18386852, -1.09473988]]), 'cost': nan, 'velocity': array([[-0.7, -0.7, -0.7]]), 'best': {'Position': array([[3.73476459, 3.14176999, 4.41461278]]), 'cost': -0.8462687577981924}}, {'Position': array([[ 1.14278991, -0.37751099,  0.36001896]]), 'cost': nan, 'velocity': array([[-0.7, -0.7, -0.7]]), 'best': {'Position': array([[3.73476459, 3.14176999, 4.41461278]]), 'cost': -0.8462687577981924}}, {'Position': array([[ 0.1643706 , -0.47254939, -3.11276001]]), 'cost': nan, 'velocity': array([[-0.7, -0.7, -0.7]]), 'best': {'Position': array([[3.73476459, 3.14176999, 4.41461278]]), 'cost': -0.8462687577981924}}, {'Position': array([[ 2.58638521, -1.05710072, -1.69355883]]), 'cost': nan, 'velocity': array([[-0.7, -0.7, -0.7]]), 'best': {'Position': array([[3.73476459, 3.14176999, 4.41461278]]), 'cost': -0.8462687577981924}}, {'Position': array([[ 2.73126747, -3.70353759, -3.6750989 ]]), 'cost': nan, 'velocity': array([[-0.7, -0.7, -0.7]]), 'best': {'Position': array([[3.73476459, 3.14176999, 4.41461278]]), 'cost': -0.8462687577981924}}, {'Position': array([[0.80207653, 0.13573834, 2.42454912]]), 'cost': 3.47556302513866, 'velocity': array([[-0.7, -0.7, -0.7]]), 'best': {'Position': array([[3.73476459, 3.14176999, 4.41461278]]), 'cost': -0.8462687577981924}}, {'Position': array([[ 0.6883572 , -1.8941223 , -2.79780335]]), 'cost': nan, 'velocity': array([[-0.7, -0.7, -0.7]]), 'best': {'Position': array([[3.73476459, 3.14176999, 4.41461278]]), 'cost': -0.8462687577981924}}, {'Position': array([[-3.37616041,  2.4649755 ,  1.45970419]]), 'cost': nan, 'velocity': array([[-0.7, -0.7, -0.7]]), 'best': {'Position': array([[3.73476459, 3.14176999, 4.41461278]]), 'cost': -0.8462687577981924}}, {'Position': array([[-0.02522044,  1.36510798, -0.98494207]]), 'cost': nan, 'velocity': array([[-0.7, -0.7, -0.7]]), 'best': {'Position': array([[3.73476459, 3.14176999, 4.41461278]]), 'cost': -0.8462687577981924}}, {'Position': array([[-3.4471386 , -0.40554263, -0.01352224]]), 'cost': nan, 'velocity': array([[-0.7, -0.7, -0.7]]), 'best': {'Position': array([[3.73476459, 3.14176999, 4.41461278]]), 'cost': -0.8462687577981924}}, {'Position': array([[-1.0522605 , -0.64907632,  1.65592813]]), 'cost': nan, 'velocity': array([[-0.7, -0.7, -0.7]]), 'best': {'Position': array([[3.73476459, 3.14176999, 4.41461278]]), 'cost': -0.8462687577981924}}, {'Position': array([[ 2.14081267,  0.12382001, -2.32963221]]), 'cost': nan, 'velocity': array([[-0.7, -0.7, -0.7]]), 'best': {'Position': array([[3.73476459, 3.14176999, 4.41461278]]), 'cost': -0.8462687577981924}}, {'Position': array([[-1.53089356, -2.38783942,  1.8310811 ]]), 'cost': nan, 'velocity': array([[-0.7, -0.7, -0.7]]), 'best': {'Position': array([[3.73476459, 3.14176999, 4.41461278]]), 'cost': -0.8462687577981924}}, {'Position': array([[ 0.68039418, -2.50251326,  2.49849867]]), 'cost': nan, 'velocity': array([[-0.7, -0.7, -0.7]]), 'best': {'Position': array([[3.73476459, 3.14176999, 4.41461278]]), 'cost': -0.8462687577981924}}, {'Position': array([[ 1.61970691, -2.84597301,  0.37830969]]), 'cost': nan, 'velocity': array([[-0.7, -0.7, -0.7]]), 'best': {'Position': array([[3.73476459, 3.14176999, 4.41461278]]), 'cost': -0.8462687577981924}}, {'Position': array([[-0.53179667, -1.86096726,  0.71884919]]), 'cost': nan, 'velocity': array([[-0.7, -0.7, -0.7]]), 'best': {'Position': array([[3.73476459, 3.14176999, 4.41461278]]), 'cost': -0.8462687577981924}}, {'Position': array([[ 3.05949874, -2.62276681, -0.50242401]]), 'cost': nan, 'velocity': array([[-0.7, -0.7, -0.7]]), 'best': {'Position': array([[3.73476459, 3.14176999, 4.41461278]]), 'cost': -0.8462687577981924}}, {'Position': array([[-2.63756656,  3.05743498,  1.2100178 ]]), 'cost': nan, 'velocity': array([[-0.7, -0.7, -0.7]]), 'best': {'Position': array([[3.73476459, 3.14176999, 4.41461278]]), 'cost': -0.8462687577981924}}, {'Position': array([[ 2.76581294, -0.64499692, -3.48893977]]), 'cost': nan, 'velocity': array([[-0.7, -0.7, -0.7]]), 'best': {'Position': array([[3.73476459, 3.14176999, 4.41461278]]), 'cost': -0.8462687577981924}}, {'Position': array([[0.53376219, 0.64155022, 2.47984576]]), 'cost': 3.6716106756883384, 'velocity': array([[-0.7, -0.7, -0.7]]), 'best': {'Position': array([[3.73476459, 3.14176999, 4.41461278]]), 'cost': -0.8462687577981924}}, {'Position': array([[ 1.03535215,  1.34317627, -2.95714896]]), 'cost': nan, 'velocity': array([[-0.7, -0.7, -0.7]]), 'best': {'Position': array([[3.73476459, 3.14176999, 4.41461278]]), 'cost': -0.8462687577981924}}, {'Position': array([[-1.10851683, -0.508286  ,  3.00015157]]), 'cost': nan, 'velocity': array([[-0.7, -0.7, -0.7]]), 'best': {'Position': array([[3.73476459, 3.14176999, 4.41461278]]), 'cost': -0.8462687577981924}}, {'Position': array([[-1.19767694,  1.58515673,  0.36069567]]), 'cost': nan, 'velocity': array([[-0.7, -0.7, -0.7]]), 'best': {'Position': array([[3.73476459, 3.14176999, 4.41461278]]), 'cost': -0.8462687577981924}}, {'Position': array([[-0.94112699,  1.94173953, -3.68778752]]), 'cost': nan, 'velocity': array([[-0.7, -0.7, -0.7]]), 'best': {'Position': array([[3.73476459, 3.14176999, 4.41461278]]), 'cost': -0.8462687577981924}}, {'Position': array([[-0.15924445, -3.65856211, -3.04861302]]), 'cost': nan, 'velocity': array([[-0.7, -0.7, -0.7]]), 'best': {'Position': array([[3.73476459, 3.14176999, 4.41461278]]), 'cost': -0.8462687577981924}}, {'Position': array([[ 2.09631606,  1.67476539, -3.56050063]]), 'cost': nan, 'velocity': array([[-0.7, -0.7, -0.7]]), 'best': {'Position': array([[3.73476459, 3.14176999, 4.41461278]]), 'cost': -0.8462687577981924}}, {'Position': array([[-0.43930016,  0.60287807,  0.90735557]]), 'cost': nan, 'velocity': array([[-0.7, -0.7, -0.7]]), 'best': {'Position': array([[3.73476459, 3.14176999, 4.41461278]]), 'cost': -0.8462687577981924}}, {'Position': array([[ 2.62724305, -1.31834215,  0.58343653]]), 'cost': nan, 'velocity': array([[-0.7, -0.7, -0.7]]), 'best': {'Position': array([[3.73476459, 3.14176999, 4.41461278]]), 'cost': -0.8462687577981924}}, {'Position': array([[-0.71636032, -0.14520894, -3.24573041]]), 'cost': nan, 'velocity': array([[-0.7, -0.7, -0.7]]), 'best': {'Position': array([[3.73476459, 3.14176999, 4.41461278]]), 'cost': -0.8462687577981924}}, {'Position': array([[ 3.06561987,  1.08591307, -0.76901452]]), 'cost': nan, 'velocity': array([[-0.7, -0.7, -0.7]]), 'best': {'Position': array([[3.73476459, 3.14176999, 4.41461278]]), 'cost': -0.8462687577981924}}, {'Position': array([[-2.59986202, -3.39455355, -2.89289528]]), 'cost': nan, 'velocity': array([[-0.7, -0.7, -0.7]]), 'best': {'Position': array([[3.73476459, 3.14176999, 4.41461278]]), 'cost': -0.8462687577981924}}, {'Position': array([[-1.06737979,  0.08008692,  1.97302796]]), 'cost': nan, 'velocity': array([[-0.7, -0.7, -0.7]]), 'best': {'Position': array([[3.73476459, 3.14176999, 4.41461278]]), 'cost': -0.8462687577981924}}, {'Position': array([[-0.84276582,  2.0561356 , -3.48476241]]), 'cost': nan, 'velocity': array([[-0.7, -0.7, -0.7]]), 'best': {'Position': array([[3.73476459, 3.14176999, 4.41461278]]), 'cost': -0.8462687577981924}}, {'Position': array([[ 1.99040823, -2.69476381,  0.00346934]]), 'cost': nan, 'velocity': array([[-0.7, -0.7, -0.7]]), 'best': {'Position': array([[3.73476459, 3.14176999, 4.41461278]]), 'cost': -0.8462687577981924}}, {'Position': array([[-0.61693512, -2.73449842,  0.11685694]]), 'cost': nan, 'velocity': array([[-0.7, -0.7, -0.7]]), 'best': {'Position': array([[3.73476459, 3.14176999, 4.41461278]]), 'cost': -0.8462687577981924}}, {'Position': array([[ 1.17932191, -2.10722729,  3.19589314]]), 'cost': nan, 'velocity': array([[-0.7, -0.7, -0.7]]), 'best': {'Position': array([[3.73476459, 3.14176999, 4.41461278]]), 'cost': -0.8462687577981924}}]\n",
      "\n",
      " [{'Position': array([[-4.38727844, -2.99831253, -0.52281587]]), 'cost': nan, 'velocity': array([[-0.7, -0.7, -0.7]]), 'best': {'Position': array([[3.73476459, 3.14176999, 4.41461278]]), 'cost': -0.8462687577981924}}, {'Position': array([[-0.83205371, -2.06670707, -2.95422898]]), 'cost': nan, 'velocity': array([[-0.7, -0.7, -0.7]]), 'best': {'Position': array([[3.73476459, 3.14176999, 4.41461278]]), 'cost': -0.8462687577981924}}, {'Position': array([[-3.41134298,  1.2273759 , -1.77330542]]), 'cost': nan, 'velocity': array([[-0.7, -0.7, -0.7]]), 'best': {'Position': array([[3.73476459, 3.14176999, 4.41461278]]), 'cost': -0.8462687577981924}}, {'Position': array([[-2.66942378,  0.45412661, -2.84210578]]), 'cost': nan, 'velocity': array([[-0.7, -0.7, -0.7]]), 'best': {'Position': array([[3.73476459, 3.14176999, 4.41461278]]), 'cost': -0.8462687577981924}}, {'Position': array([[-2.76184573, -3.67189838,  2.36844581]]), 'cost': nan, 'velocity': array([[-0.7, -0.7, -0.7]]), 'best': {'Position': array([[3.73476459, 3.14176999, 4.41461278]]), 'cost': -0.8462687577981924}}, {'Position': array([[-3.60495185, -2.14103937, -2.70768923]]), 'cost': nan, 'velocity': array([[-0.7, -0.7, -0.7]]), 'best': {'Position': array([[3.73476459, 3.14176999, 4.41461278]]), 'cost': -0.8462687577981924}}, {'Position': array([[-2.56756758,  0.19166549, -2.83572479]]), 'cost': nan, 'velocity': array([[-0.7, -0.7, -0.7]]), 'best': {'Position': array([[3.73476459, 3.14176999, 4.41461278]]), 'cost': -0.8462687577981924}}, {'Position': array([[-3.26451253,  0.92008355, -0.34040277]]), 'cost': nan, 'velocity': array([[-0.7, -0.7, -0.7]]), 'best': {'Position': array([[3.73476459, 3.14176999, 4.41461278]]), 'cost': -0.8462687577981924}}, {'Position': array([[ 0.8007687 ,  2.20998477, -0.77286021]]), 'cost': nan, 'velocity': array([[-0.7, -0.7, -0.7]]), 'best': {'Position': array([[3.73476459, 3.14176999, 4.41461278]]), 'cost': -0.8462687577981924}}, {'Position': array([[ 1.28354748, -4.24683215, -3.4778023 ]]), 'cost': nan, 'velocity': array([[-0.7, -0.7, -0.7]]), 'best': {'Position': array([[3.73476459, 3.14176999, 4.41461278]]), 'cost': -0.8462687577981924}}, {'Position': array([[-2.1277473 , -4.16511211, -3.79687368]]), 'cost': nan, 'velocity': array([[-0.7, -0.7, -0.7]]), 'best': {'Position': array([[3.73476459, 3.14176999, 4.41461278]]), 'cost': -0.8462687577981924}}, {'Position': array([[-0.97284417,  0.29151671,  1.96989717]]), 'cost': nan, 'velocity': array([[-0.7, -0.7, -0.7]]), 'best': {'Position': array([[3.73476459, 3.14176999, 4.41461278]]), 'cost': -0.8462687577981924}}, {'Position': array([[-3.52529027,  1.5101899 , -0.55705267]]), 'cost': nan, 'velocity': array([[-0.7, -0.7, -0.7]]), 'best': {'Position': array([[3.73476459, 3.14176999, 4.41461278]]), 'cost': -0.8462687577981924}}, {'Position': array([[-3.58711035, -2.21030677, -0.2815492 ]]), 'cost': nan, 'velocity': array([[-0.7, -0.7, -0.7]]), 'best': {'Position': array([[3.73476459, 3.14176999, 4.41461278]]), 'cost': -0.8462687577981924}}, {'Position': array([[ 0.97473565, -3.14532922, -0.6905398 ]]), 'cost': nan, 'velocity': array([[-0.7, -0.7, -0.7]]), 'best': {'Position': array([[3.73476459, 3.14176999, 4.41461278]]), 'cost': -0.8462687577981924}}, {'Position': array([[-1.71534911, -1.80365722, -0.3259245 ]]), 'cost': nan, 'velocity': array([[-0.7, -0.7, -0.7]]), 'best': {'Position': array([[3.73476459, 3.14176999, 4.41461278]]), 'cost': -0.8462687577981924}}, {'Position': array([[ 1.13130758,  0.87626904, -1.40727317]]), 'cost': nan, 'velocity': array([[-0.7, -0.7, -0.7]]), 'best': {'Position': array([[3.73476459, 3.14176999, 4.41461278]]), 'cost': -0.8462687577981924}}, {'Position': array([[-3.96056069, -2.31070198, -2.06394845]]), 'cost': nan, 'velocity': array([[-0.7, -0.7, -0.7]]), 'best': {'Position': array([[3.73476459, 3.14176999, 4.41461278]]), 'cost': -0.8462687577981924}}, {'Position': array([[-2.82723892,  0.46835226,  0.0792637 ]]), 'cost': nan, 'velocity': array([[-0.7, -0.7, -0.7]]), 'best': {'Position': array([[3.73476459, 3.14176999, 4.41461278]]), 'cost': -0.8462687577981924}}, {'Position': array([[ 2.09550064, -3.58021946, -0.01866827]]), 'cost': nan, 'velocity': array([[-0.7, -0.7, -0.7]]), 'best': {'Position': array([[3.73476459, 3.14176999, 4.41461278]]), 'cost': -0.8462687577981924}}, {'Position': array([[-2.68962431,  0.05175594, -2.16245093]]), 'cost': nan, 'velocity': array([[-0.7, -0.7, -0.7]]), 'best': {'Position': array([[3.73476459, 3.14176999, 4.41461278]]), 'cost': -0.8462687577981924}}, {'Position': array([[-0.78323912, -3.89944072, -2.92857407]]), 'cost': nan, 'velocity': array([[-0.7, -0.7, -0.7]]), 'best': {'Position': array([[3.73476459, 3.14176999, 4.41461278]]), 'cost': -0.8462687577981924}}, {'Position': array([[ 1.36127974, -2.99977984, -2.33313156]]), 'cost': nan, 'velocity': array([[-0.7, -0.7, -0.7]]), 'best': {'Position': array([[3.73476459, 3.14176999, 4.41461278]]), 'cost': -0.8462687577981924}}, {'Position': array([[-3.76991215, -1.57242539, -0.94331197]]), 'cost': nan, 'velocity': array([[-0.7, -0.7, -0.7]]), 'best': {'Position': array([[3.73476459, 3.14176999, 4.41461278]]), 'cost': -0.8462687577981924}}, {'Position': array([[-1.28315059, -0.69660983,  0.72505746]]), 'cost': nan, 'velocity': array([[-0.7, -0.7, -0.7]]), 'best': {'Position': array([[3.73476459, 3.14176999, 4.41461278]]), 'cost': -0.8462687577981924}}, {'Position': array([[-0.29057265, -0.71747679,  1.19704032]]), 'cost': nan, 'velocity': array([[-0.7, -0.7, -0.7]]), 'best': {'Position': array([[3.73476459, 3.14176999, 4.41461278]]), 'cost': -0.8462687577981924}}, {'Position': array([[-1.87863135,  1.27193427,  0.39574463]]), 'cost': nan, 'velocity': array([[-0.7, -0.7, -0.7]]), 'best': {'Position': array([[3.73476459, 3.14176999, 4.41461278]]), 'cost': -0.8462687577981924}}, {'Position': array([[ 1.82041239, -2.74700835, -1.70710806]]), 'cost': nan, 'velocity': array([[-0.7, -0.7, -0.7]]), 'best': {'Position': array([[3.73476459, 3.14176999, 4.41461278]]), 'cost': -0.8462687577981924}}, {'Position': array([[-4.19875204, -0.88525638,  1.87693586]]), 'cost': nan, 'velocity': array([[-0.7, -0.7, -0.7]]), 'best': {'Position': array([[3.73476459, 3.14176999, 4.41461278]]), 'cost': -0.8462687577981924}}, {'Position': array([[-2.53548676, -1.2003853 , -3.71342755]]), 'cost': nan, 'velocity': array([[-0.7, -0.7, -0.7]]), 'best': {'Position': array([[3.73476459, 3.14176999, 4.41461278]]), 'cost': -0.8462687577981924}}, {'Position': array([[ 1.03674656, -1.68120013,  0.29629408]]), 'cost': nan, 'velocity': array([[-0.7, -0.7, -0.7]]), 'best': {'Position': array([[3.73476459, 3.14176999, 4.41461278]]), 'cost': -0.8462687577981924}}, {'Position': array([[ 2.00358088, -2.43942278, -3.59622676]]), 'cost': nan, 'velocity': array([[-0.7, -0.7, -0.7]]), 'best': {'Position': array([[3.73476459, 3.14176999, 4.41461278]]), 'cost': -0.8462687577981924}}, {'Position': array([[-3.17830306, -0.32119221,  0.35385099]]), 'cost': nan, 'velocity': array([[-0.7, -0.7, -0.7]]), 'best': {'Position': array([[3.73476459, 3.14176999, 4.41461278]]), 'cost': -0.8462687577981924}}, {'Position': array([[-4.08981476, -4.25937397, -0.7005466 ]]), 'cost': nan, 'velocity': array([[-0.7, -0.7, -0.7]]), 'best': {'Position': array([[3.73476459, 3.14176999, 4.41461278]]), 'cost': -0.8462687577981924}}, {'Position': array([[-1.81200331, -4.20297969,  0.44610315]]), 'cost': nan, 'velocity': array([[-0.7, -0.7, -0.7]]), 'best': {'Position': array([[3.73476459, 3.14176999, 4.41461278]]), 'cost': -0.8462687577981924}}, {'Position': array([[-0.61852123,  1.45124731, -2.46540595]]), 'cost': nan, 'velocity': array([[-0.7, -0.7, -0.7]]), 'best': {'Position': array([[3.73476459, 3.14176999, 4.41461278]]), 'cost': -0.8462687577981924}}, {'Position': array([[-0.68575852, -2.18002177, -1.21529185]]), 'cost': nan, 'velocity': array([[-0.7, -0.7, -0.7]]), 'best': {'Position': array([[3.73476459, 3.14176999, 4.41461278]]), 'cost': -0.8462687577981924}}, {'Position': array([[-0.42789292, -3.09087577, -2.87732498]]), 'cost': nan, 'velocity': array([[-0.7, -0.7, -0.7]]), 'best': {'Position': array([[3.73476459, 3.14176999, 4.41461278]]), 'cost': -0.8462687577981924}}, {'Position': array([[ 1.18243936, -0.63786767, -3.08907246]]), 'cost': nan, 'velocity': array([[-0.7, -0.7, -0.7]]), 'best': {'Position': array([[3.73476459, 3.14176999, 4.41461278]]), 'cost': -0.8462687577981924}}, {'Position': array([[-4.02921786, -0.7507198 , -3.07683268]]), 'cost': nan, 'velocity': array([[-0.7, -0.7, -0.7]]), 'best': {'Position': array([[3.73476459, 3.14176999, 4.41461278]]), 'cost': -0.8462687577981924}}, {'Position': array([[-0.52939979, -4.39969658, -2.95841065]]), 'cost': nan, 'velocity': array([[-0.7, -0.7, -0.7]]), 'best': {'Position': array([[3.73476459, 3.14176999, 4.41461278]]), 'cost': -0.8462687577981924}}, {'Position': array([[ 0.58040842, -1.3680958 , -1.95863102]]), 'cost': nan, 'velocity': array([[-0.7, -0.7, -0.7]]), 'best': {'Position': array([[3.73476459, 3.14176999, 4.41461278]]), 'cost': -0.8462687577981924}}, {'Position': array([[ 1.92044323, -4.3596541 , -0.73549165]]), 'cost': nan, 'velocity': array([[-0.7, -0.7, -0.7]]), 'best': {'Position': array([[3.73476459, 3.14176999, 4.41461278]]), 'cost': -0.8462687577981924}}, {'Position': array([[-4.00695072, -3.62766017, -3.90300585]]), 'cost': nan, 'velocity': array([[-0.7, -0.7, -0.7]]), 'best': {'Position': array([[3.73476459, 3.14176999, 4.41461278]]), 'cost': -0.8462687577981924}}, {'Position': array([[-1.10626015, -2.74998611,  1.52050453]]), 'cost': nan, 'velocity': array([[-0.7, -0.7, -0.7]]), 'best': {'Position': array([[3.73476459, 3.14176999, 4.41461278]]), 'cost': -0.8462687577981924}}, {'Position': array([[-2.37496924,  0.36501555,  0.67723187]]), 'cost': nan, 'velocity': array([[-0.7, -0.7, -0.7]]), 'best': {'Position': array([[3.73476459, 3.14176999, 4.41461278]]), 'cost': -0.8462687577981924}}, {'Position': array([[ 1.61495251, -2.32068303,  0.78090047]]), 'cost': nan, 'velocity': array([[-0.7, -0.7, -0.7]]), 'best': {'Position': array([[3.73476459, 3.14176999, 4.41461278]]), 'cost': -0.8462687577981924}}, {'Position': array([[-1.53440112,  0.60010354, -2.09520982]]), 'cost': nan, 'velocity': array([[-0.7, -0.7, -0.7]]), 'best': {'Position': array([[3.73476459, 3.14176999, 4.41461278]]), 'cost': -0.8462687577981924}}, {'Position': array([[-1.33197143,  1.01696252,  2.09641471]]), 'cost': nan, 'velocity': array([[-0.7, -0.7, -0.7]]), 'best': {'Position': array([[3.73476459, 3.14176999, 4.41461278]]), 'cost': -0.8462687577981924}}, {'Position': array([[ 0.9712161 ,  0.77891417, -0.3461658 ]]), 'cost': nan, 'velocity': array([[-0.7, -0.7, -0.7]]), 'best': {'Position': array([[3.73476459, 3.14176999, 4.41461278]]), 'cost': -0.8462687577981924}}, {'Position': array([[-4.33577118, -3.781576  , -2.4778737 ]]), 'cost': nan, 'velocity': array([[-0.7, -0.7, -0.7]]), 'best': {'Position': array([[3.73476459, 3.14176999, 4.41461278]]), 'cost': -0.8462687577981924}}, {'Position': array([[0.93476459, 0.34176999, 1.61461278]]), 'cost': 4.5644559352862775, 'velocity': array([[-0.7, -0.7, -0.7]]), 'best': {'Position': array([[3.73476459, 3.14176999, 4.41461278]]), 'cost': -0.8462687577981924}}, {'Position': array([[1.93791187, 2.41797674, 0.43798639]]), 'cost': 3.3380624262912995, 'velocity': array([[-0.7, -0.7, -0.7]]), 'best': {'Position': array([[3.73476459, 3.14176999, 4.41461278]]), 'cost': -0.8462687577981924}}, {'Position': array([[ 2.28596856, -3.03739362, -3.53035242]]), 'cost': nan, 'velocity': array([[-0.7, -0.7, -0.7]]), 'best': {'Position': array([[3.73476459, 3.14176999, 4.41461278]]), 'cost': -0.8462687577981924}}, {'Position': array([[ 1.11473735, -0.70360119,  0.92853963]]), 'cost': nan, 'velocity': array([[-0.7, -0.7, -0.7]]), 'best': {'Position': array([[3.73476459, 3.14176999, 4.41461278]]), 'cost': -0.8462687577981924}}, {'Position': array([[-4.2242297 , -3.46319059, -3.9287103 ]]), 'cost': nan, 'velocity': array([[-0.7, -0.7, -0.7]]), 'best': {'Position': array([[3.73476459, 3.14176999, 4.41461278]]), 'cost': -0.8462687577981924}}, {'Position': array([[-1.80370111,  0.76995578, -0.54981169]]), 'cost': nan, 'velocity': array([[-0.7, -0.7, -0.7]]), 'best': {'Position': array([[3.73476459, 3.14176999, 4.41461278]]), 'cost': -0.8462687577981924}}, {'Position': array([[ 0.15231249,  1.19434678, -4.40593393]]), 'cost': nan, 'velocity': array([[-0.7, -0.7, -0.7]]), 'best': {'Position': array([[3.73476459, 3.14176999, 4.41461278]]), 'cost': -0.8462687577981924}}, {'Position': array([[-0.20929258,  2.07558272, -2.91340488]]), 'cost': nan, 'velocity': array([[-0.7, -0.7, -0.7]]), 'best': {'Position': array([[3.73476459, 3.14176999, 4.41461278]]), 'cost': -0.8462687577981924}}, {'Position': array([[-2.37829448, -3.36367122,  0.67390441]]), 'cost': nan, 'velocity': array([[-0.7, -0.7, -0.7]]), 'best': {'Position': array([[3.73476459, 3.14176999, 4.41461278]]), 'cost': -0.8462687577981924}}, {'Position': array([[ 1.85775456, -2.23905387, -1.91134247]]), 'cost': nan, 'velocity': array([[-0.7, -0.7, -0.7]]), 'best': {'Position': array([[3.73476459, 3.14176999, 4.41461278]]), 'cost': -0.8462687577981924}}, {'Position': array([[-0.38501121, -0.74499197, -2.82455533]]), 'cost': nan, 'velocity': array([[-0.7, -0.7, -0.7]]), 'best': {'Position': array([[3.73476459, 3.14176999, 4.41461278]]), 'cost': -0.8462687577981924}}, {'Position': array([[-1.96372634, -2.07025864, -0.47855304]]), 'cost': nan, 'velocity': array([[-0.7, -0.7, -0.7]]), 'best': {'Position': array([[3.73476459, 3.14176999, 4.41461278]]), 'cost': -0.8462687577981924}}, {'Position': array([[ 0.77048072, -3.0113155 ,  0.48212326]]), 'cost': nan, 'velocity': array([[-0.7, -0.7, -0.7]]), 'best': {'Position': array([[3.73476459, 3.14176999, 4.41461278]]), 'cost': -0.8462687577981924}}, {'Position': array([[-3.69388153, -0.88386852, -1.79473988]]), 'cost': nan, 'velocity': array([[-0.7, -0.7, -0.7]]), 'best': {'Position': array([[3.73476459, 3.14176999, 4.41461278]]), 'cost': -0.8462687577981924}}, {'Position': array([[ 0.44278991, -1.07751099, -0.33998104]]), 'cost': nan, 'velocity': array([[-0.7, -0.7, -0.7]]), 'best': {'Position': array([[3.73476459, 3.14176999, 4.41461278]]), 'cost': -0.8462687577981924}}, {'Position': array([[-0.5356294 , -1.17254939, -3.81276001]]), 'cost': nan, 'velocity': array([[-0.7, -0.7, -0.7]]), 'best': {'Position': array([[3.73476459, 3.14176999, 4.41461278]]), 'cost': -0.8462687577981924}}, {'Position': array([[ 1.88638521, -1.75710072, -2.39355883]]), 'cost': nan, 'velocity': array([[-0.7, -0.7, -0.7]]), 'best': {'Position': array([[3.73476459, 3.14176999, 4.41461278]]), 'cost': -0.8462687577981924}}, {'Position': array([[ 2.03126747, -4.40353759, -4.3750989 ]]), 'cost': nan, 'velocity': array([[-0.7, -0.7, -0.7]]), 'best': {'Position': array([[3.73476459, 3.14176999, 4.41461278]]), 'cost': -0.8462687577981924}}, {'Position': array([[ 0.10207653, -0.56426166,  1.72454912]]), 'cost': nan, 'velocity': array([[-0.7, -0.7, -0.7]]), 'best': {'Position': array([[3.73476459, 3.14176999, 4.41461278]]), 'cost': -0.8462687577981924}}, {'Position': array([[-0.0116428 , -2.5941223 , -3.49780335]]), 'cost': nan, 'velocity': array([[-0.7, -0.7, -0.7]]), 'best': {'Position': array([[3.73476459, 3.14176999, 4.41461278]]), 'cost': -0.8462687577981924}}, {'Position': array([[-4.07616041,  1.7649755 ,  0.75970419]]), 'cost': nan, 'velocity': array([[-0.7, -0.7, -0.7]]), 'best': {'Position': array([[3.73476459, 3.14176999, 4.41461278]]), 'cost': -0.8462687577981924}}, {'Position': array([[-0.72522044,  0.66510798, -1.68494207]]), 'cost': nan, 'velocity': array([[-0.7, -0.7, -0.7]]), 'best': {'Position': array([[3.73476459, 3.14176999, 4.41461278]]), 'cost': -0.8462687577981924}}, {'Position': array([[-4.1471386 , -1.10554263, -0.71352224]]), 'cost': nan, 'velocity': array([[-0.7, -0.7, -0.7]]), 'best': {'Position': array([[3.73476459, 3.14176999, 4.41461278]]), 'cost': -0.8462687577981924}}, {'Position': array([[-1.7522605 , -1.34907632,  0.95592813]]), 'cost': nan, 'velocity': array([[-0.7, -0.7, -0.7]]), 'best': {'Position': array([[3.73476459, 3.14176999, 4.41461278]]), 'cost': -0.8462687577981924}}, {'Position': array([[ 1.44081267, -0.57617999, -3.02963221]]), 'cost': nan, 'velocity': array([[-0.7, -0.7, -0.7]]), 'best': {'Position': array([[3.73476459, 3.14176999, 4.41461278]]), 'cost': -0.8462687577981924}}, {'Position': array([[-2.23089356, -3.08783942,  1.1310811 ]]), 'cost': nan, 'velocity': array([[-0.7, -0.7, -0.7]]), 'best': {'Position': array([[3.73476459, 3.14176999, 4.41461278]]), 'cost': -0.8462687577981924}}, {'Position': array([[-0.01960582, -3.20251326,  1.79849867]]), 'cost': nan, 'velocity': array([[-0.7, -0.7, -0.7]]), 'best': {'Position': array([[3.73476459, 3.14176999, 4.41461278]]), 'cost': -0.8462687577981924}}, {'Position': array([[ 0.91970691, -3.54597301, -0.32169031]]), 'cost': nan, 'velocity': array([[-0.7, -0.7, -0.7]]), 'best': {'Position': array([[3.73476459, 3.14176999, 4.41461278]]), 'cost': -0.8462687577981924}}, {'Position': array([[-1.23179667, -2.56096726,  0.01884919]]), 'cost': nan, 'velocity': array([[-0.7, -0.7, -0.7]]), 'best': {'Position': array([[3.73476459, 3.14176999, 4.41461278]]), 'cost': -0.8462687577981924}}, {'Position': array([[ 2.35949874, -3.32276681, -1.20242401]]), 'cost': nan, 'velocity': array([[-0.7, -0.7, -0.7]]), 'best': {'Position': array([[3.73476459, 3.14176999, 4.41461278]]), 'cost': -0.8462687577981924}}, {'Position': array([[-3.33756656,  2.35743498,  0.5100178 ]]), 'cost': nan, 'velocity': array([[-0.7, -0.7, -0.7]]), 'best': {'Position': array([[3.73476459, 3.14176999, 4.41461278]]), 'cost': -0.8462687577981924}}, {'Position': array([[ 2.06581294, -1.34499692, -4.18893977]]), 'cost': nan, 'velocity': array([[-0.7, -0.7, -0.7]]), 'best': {'Position': array([[3.73476459, 3.14176999, 4.41461278]]), 'cost': -0.8462687577981924}}, {'Position': array([[-0.16623781, -0.05844978,  1.77984576]]), 'cost': nan, 'velocity': array([[-0.7, -0.7, -0.7]]), 'best': {'Position': array([[3.73476459, 3.14176999, 4.41461278]]), 'cost': -0.8462687577981924}}, {'Position': array([[ 0.33535215,  0.64317627, -3.65714896]]), 'cost': nan, 'velocity': array([[-0.7, -0.7, -0.7]]), 'best': {'Position': array([[3.73476459, 3.14176999, 4.41461278]]), 'cost': -0.8462687577981924}}, {'Position': array([[-1.80851683, -1.208286  ,  2.30015157]]), 'cost': nan, 'velocity': array([[-0.7, -0.7, -0.7]]), 'best': {'Position': array([[3.73476459, 3.14176999, 4.41461278]]), 'cost': -0.8462687577981924}}, {'Position': array([[-1.89767694,  0.88515673, -0.33930433]]), 'cost': nan, 'velocity': array([[-0.7, -0.7, -0.7]]), 'best': {'Position': array([[3.73476459, 3.14176999, 4.41461278]]), 'cost': -0.8462687577981924}}, {'Position': array([[-1.64112699,  1.24173953, -4.38778752]]), 'cost': nan, 'velocity': array([[-0.7, -0.7, -0.7]]), 'best': {'Position': array([[3.73476459, 3.14176999, 4.41461278]]), 'cost': -0.8462687577981924}}, {'Position': array([[-0.85924445, -4.35856211, -3.74861302]]), 'cost': nan, 'velocity': array([[-0.7, -0.7, -0.7]]), 'best': {'Position': array([[3.73476459, 3.14176999, 4.41461278]]), 'cost': -0.8462687577981924}}, {'Position': array([[ 1.39631606,  0.97476539, -4.26050063]]), 'cost': nan, 'velocity': array([[-0.7, -0.7, -0.7]]), 'best': {'Position': array([[3.73476459, 3.14176999, 4.41461278]]), 'cost': -0.8462687577981924}}, {'Position': array([[-1.13930016, -0.09712193,  0.20735557]]), 'cost': nan, 'velocity': array([[-0.7, -0.7, -0.7]]), 'best': {'Position': array([[3.73476459, 3.14176999, 4.41461278]]), 'cost': -0.8462687577981924}}, {'Position': array([[ 1.92724305, -2.01834215, -0.11656347]]), 'cost': nan, 'velocity': array([[-0.7, -0.7, -0.7]]), 'best': {'Position': array([[3.73476459, 3.14176999, 4.41461278]]), 'cost': -0.8462687577981924}}, {'Position': array([[-1.41636032, -0.84520894, -3.94573041]]), 'cost': nan, 'velocity': array([[-0.7, -0.7, -0.7]]), 'best': {'Position': array([[3.73476459, 3.14176999, 4.41461278]]), 'cost': -0.8462687577981924}}, {'Position': array([[ 2.36561987,  0.38591307, -1.46901452]]), 'cost': nan, 'velocity': array([[-0.7, -0.7, -0.7]]), 'best': {'Position': array([[3.73476459, 3.14176999, 4.41461278]]), 'cost': -0.8462687577981924}}, {'Position': array([[-3.29986202, -4.09455355, -3.59289528]]), 'cost': nan, 'velocity': array([[-0.7, -0.7, -0.7]]), 'best': {'Position': array([[3.73476459, 3.14176999, 4.41461278]]), 'cost': -0.8462687577981924}}, {'Position': array([[-1.76737979, -0.61991308,  1.27302796]]), 'cost': nan, 'velocity': array([[-0.7, -0.7, -0.7]]), 'best': {'Position': array([[3.73476459, 3.14176999, 4.41461278]]), 'cost': -0.8462687577981924}}, {'Position': array([[-1.54276582,  1.3561356 , -4.18476241]]), 'cost': nan, 'velocity': array([[-0.7, -0.7, -0.7]]), 'best': {'Position': array([[3.73476459, 3.14176999, 4.41461278]]), 'cost': -0.8462687577981924}}, {'Position': array([[ 1.29040823, -3.39476381, -0.69653066]]), 'cost': nan, 'velocity': array([[-0.7, -0.7, -0.7]]), 'best': {'Position': array([[3.73476459, 3.14176999, 4.41461278]]), 'cost': -0.8462687577981924}}, {'Position': array([[-1.31693512, -3.43449842, -0.58314306]]), 'cost': nan, 'velocity': array([[-0.7, -0.7, -0.7]]), 'best': {'Position': array([[3.73476459, 3.14176999, 4.41461278]]), 'cost': -0.8462687577981924}}, {'Position': array([[ 0.47932191, -2.80722729,  2.49589314]]), 'cost': nan, 'velocity': array([[-0.7, -0.7, -0.7]]), 'best': {'Position': array([[3.73476459, 3.14176999, 4.41461278]]), 'cost': -0.8462687577981924}}]\n",
      "\n",
      " [{'Position': array([[-5.08727844, -3.69831253, -1.22281587]]), 'cost': nan, 'velocity': array([[-0.7, -0.7, -0.7]]), 'best': {'Position': array([[3.73476459, 3.14176999, 4.41461278]]), 'cost': -0.8462687577981924}}, {'Position': array([[-1.53205371, -2.76670707, -3.65422898]]), 'cost': nan, 'velocity': array([[-0.7, -0.7, -0.7]]), 'best': {'Position': array([[3.73476459, 3.14176999, 4.41461278]]), 'cost': -0.8462687577981924}}, {'Position': array([[-4.11134298,  0.5273759 , -2.47330542]]), 'cost': nan, 'velocity': array([[-0.7, -0.7, -0.7]]), 'best': {'Position': array([[3.73476459, 3.14176999, 4.41461278]]), 'cost': -0.8462687577981924}}, {'Position': array([[-3.36942378, -0.24587339, -3.54210578]]), 'cost': nan, 'velocity': array([[-0.7, -0.7, -0.7]]), 'best': {'Position': array([[3.73476459, 3.14176999, 4.41461278]]), 'cost': -0.8462687577981924}}, {'Position': array([[-3.46184573, -4.37189838,  1.66844581]]), 'cost': nan, 'velocity': array([[-0.7, -0.7, -0.7]]), 'best': {'Position': array([[3.73476459, 3.14176999, 4.41461278]]), 'cost': -0.8462687577981924}}, {'Position': array([[-4.30495185, -2.84103937, -3.40768923]]), 'cost': nan, 'velocity': array([[-0.7, -0.7, -0.7]]), 'best': {'Position': array([[3.73476459, 3.14176999, 4.41461278]]), 'cost': -0.8462687577981924}}, {'Position': array([[-3.26756758, -0.50833451, -3.53572479]]), 'cost': nan, 'velocity': array([[-0.7, -0.7, -0.7]]), 'best': {'Position': array([[3.73476459, 3.14176999, 4.41461278]]), 'cost': -0.8462687577981924}}, {'Position': array([[-3.96451253,  0.22008355, -1.04040277]]), 'cost': nan, 'velocity': array([[-0.7, -0.7, -0.7]]), 'best': {'Position': array([[3.73476459, 3.14176999, 4.41461278]]), 'cost': -0.8462687577981924}}, {'Position': array([[ 0.1007687 ,  1.50998477, -1.47286021]]), 'cost': nan, 'velocity': array([[-0.7, -0.7, -0.7]]), 'best': {'Position': array([[3.73476459, 3.14176999, 4.41461278]]), 'cost': -0.8462687577981924}}, {'Position': array([[ 0.58354748, -4.94683215, -4.1778023 ]]), 'cost': nan, 'velocity': array([[-0.7, -0.7, -0.7]]), 'best': {'Position': array([[3.73476459, 3.14176999, 4.41461278]]), 'cost': -0.8462687577981924}}, {'Position': array([[-2.8277473 , -4.86511211, -4.49687368]]), 'cost': nan, 'velocity': array([[-0.7, -0.7, -0.7]]), 'best': {'Position': array([[3.73476459, 3.14176999, 4.41461278]]), 'cost': -0.8462687577981924}}, {'Position': array([[-1.67284417, -0.40848329,  1.26989717]]), 'cost': nan, 'velocity': array([[-0.7, -0.7, -0.7]]), 'best': {'Position': array([[3.73476459, 3.14176999, 4.41461278]]), 'cost': -0.8462687577981924}}, {'Position': array([[-4.22529027,  0.8101899 , -1.25705267]]), 'cost': nan, 'velocity': array([[-0.7, -0.7, -0.7]]), 'best': {'Position': array([[3.73476459, 3.14176999, 4.41461278]]), 'cost': -0.8462687577981924}}, {'Position': array([[-4.28711035, -2.91030677, -0.9815492 ]]), 'cost': nan, 'velocity': array([[-0.7, -0.7, -0.7]]), 'best': {'Position': array([[3.73476459, 3.14176999, 4.41461278]]), 'cost': -0.8462687577981924}}, {'Position': array([[ 0.27473565, -3.84532922, -1.3905398 ]]), 'cost': nan, 'velocity': array([[-0.7, -0.7, -0.7]]), 'best': {'Position': array([[3.73476459, 3.14176999, 4.41461278]]), 'cost': -0.8462687577981924}}, {'Position': array([[-2.41534911, -2.50365722, -1.0259245 ]]), 'cost': nan, 'velocity': array([[-0.7, -0.7, -0.7]]), 'best': {'Position': array([[3.73476459, 3.14176999, 4.41461278]]), 'cost': -0.8462687577981924}}, {'Position': array([[ 0.43130758,  0.17626904, -2.10727317]]), 'cost': nan, 'velocity': array([[-0.7, -0.7, -0.7]]), 'best': {'Position': array([[3.73476459, 3.14176999, 4.41461278]]), 'cost': -0.8462687577981924}}, {'Position': array([[-4.66056069, -3.01070198, -2.76394845]]), 'cost': nan, 'velocity': array([[-0.7, -0.7, -0.7]]), 'best': {'Position': array([[3.73476459, 3.14176999, 4.41461278]]), 'cost': -0.8462687577981924}}, {'Position': array([[-3.52723892, -0.23164774, -0.6207363 ]]), 'cost': nan, 'velocity': array([[-0.7, -0.7, -0.7]]), 'best': {'Position': array([[3.73476459, 3.14176999, 4.41461278]]), 'cost': -0.8462687577981924}}, {'Position': array([[ 1.39550064, -4.28021946, -0.71866827]]), 'cost': nan, 'velocity': array([[-0.7, -0.7, -0.7]]), 'best': {'Position': array([[3.73476459, 3.14176999, 4.41461278]]), 'cost': -0.8462687577981924}}, {'Position': array([[-3.38962431, -0.64824406, -2.86245093]]), 'cost': nan, 'velocity': array([[-0.7, -0.7, -0.7]]), 'best': {'Position': array([[3.73476459, 3.14176999, 4.41461278]]), 'cost': -0.8462687577981924}}, {'Position': array([[-1.48323912, -4.59944072, -3.62857407]]), 'cost': nan, 'velocity': array([[-0.7, -0.7, -0.7]]), 'best': {'Position': array([[3.73476459, 3.14176999, 4.41461278]]), 'cost': -0.8462687577981924}}, {'Position': array([[ 0.66127974, -3.69977984, -3.03313156]]), 'cost': nan, 'velocity': array([[-0.7, -0.7, -0.7]]), 'best': {'Position': array([[3.73476459, 3.14176999, 4.41461278]]), 'cost': -0.8462687577981924}}, {'Position': array([[-4.46991215, -2.27242539, -1.64331197]]), 'cost': nan, 'velocity': array([[-0.7, -0.7, -0.7]]), 'best': {'Position': array([[3.73476459, 3.14176999, 4.41461278]]), 'cost': -0.8462687577981924}}, {'Position': array([[-1.98315059, -1.39660983,  0.02505746]]), 'cost': nan, 'velocity': array([[-0.7, -0.7, -0.7]]), 'best': {'Position': array([[3.73476459, 3.14176999, 4.41461278]]), 'cost': -0.8462687577981924}}, {'Position': array([[-0.99057265, -1.41747679,  0.49704032]]), 'cost': nan, 'velocity': array([[-0.7, -0.7, -0.7]]), 'best': {'Position': array([[3.73476459, 3.14176999, 4.41461278]]), 'cost': -0.8462687577981924}}, {'Position': array([[-2.57863135,  0.57193427, -0.30425537]]), 'cost': nan, 'velocity': array([[-0.7, -0.7, -0.7]]), 'best': {'Position': array([[3.73476459, 3.14176999, 4.41461278]]), 'cost': -0.8462687577981924}}, {'Position': array([[ 1.12041239, -3.44700835, -2.40710806]]), 'cost': nan, 'velocity': array([[-0.7, -0.7, -0.7]]), 'best': {'Position': array([[3.73476459, 3.14176999, 4.41461278]]), 'cost': -0.8462687577981924}}, {'Position': array([[-4.89875204, -1.58525638,  1.17693586]]), 'cost': nan, 'velocity': array([[-0.7, -0.7, -0.7]]), 'best': {'Position': array([[3.73476459, 3.14176999, 4.41461278]]), 'cost': -0.8462687577981924}}, {'Position': array([[-3.23548676, -1.9003853 , -4.41342755]]), 'cost': nan, 'velocity': array([[-0.7, -0.7, -0.7]]), 'best': {'Position': array([[3.73476459, 3.14176999, 4.41461278]]), 'cost': -0.8462687577981924}}, {'Position': array([[ 0.33674656, -2.38120013, -0.40370592]]), 'cost': nan, 'velocity': array([[-0.7, -0.7, -0.7]]), 'best': {'Position': array([[3.73476459, 3.14176999, 4.41461278]]), 'cost': -0.8462687577981924}}, {'Position': array([[ 1.30358088, -3.13942278, -4.29622676]]), 'cost': nan, 'velocity': array([[-0.7, -0.7, -0.7]]), 'best': {'Position': array([[3.73476459, 3.14176999, 4.41461278]]), 'cost': -0.8462687577981924}}, {'Position': array([[-3.87830306, -1.02119221, -0.34614901]]), 'cost': nan, 'velocity': array([[-0.7, -0.7, -0.7]]), 'best': {'Position': array([[3.73476459, 3.14176999, 4.41461278]]), 'cost': -0.8462687577981924}}, {'Position': array([[-4.78981476, -4.95937397, -1.4005466 ]]), 'cost': nan, 'velocity': array([[-0.7, -0.7, -0.7]]), 'best': {'Position': array([[3.73476459, 3.14176999, 4.41461278]]), 'cost': -0.8462687577981924}}, {'Position': array([[-2.51200331, -4.90297969, -0.25389685]]), 'cost': nan, 'velocity': array([[-0.7, -0.7, -0.7]]), 'best': {'Position': array([[3.73476459, 3.14176999, 4.41461278]]), 'cost': -0.8462687577981924}}, {'Position': array([[-1.31852123,  0.75124731, -3.16540595]]), 'cost': nan, 'velocity': array([[-0.7, -0.7, -0.7]]), 'best': {'Position': array([[3.73476459, 3.14176999, 4.41461278]]), 'cost': -0.8462687577981924}}, {'Position': array([[-1.38575852, -2.88002177, -1.91529185]]), 'cost': nan, 'velocity': array([[-0.7, -0.7, -0.7]]), 'best': {'Position': array([[3.73476459, 3.14176999, 4.41461278]]), 'cost': -0.8462687577981924}}, {'Position': array([[-1.12789292, -3.79087577, -3.57732498]]), 'cost': nan, 'velocity': array([[-0.7, -0.7, -0.7]]), 'best': {'Position': array([[3.73476459, 3.14176999, 4.41461278]]), 'cost': -0.8462687577981924}}, {'Position': array([[ 0.48243936, -1.33786767, -3.78907246]]), 'cost': nan, 'velocity': array([[-0.7, -0.7, -0.7]]), 'best': {'Position': array([[3.73476459, 3.14176999, 4.41461278]]), 'cost': -0.8462687577981924}}, {'Position': array([[-4.72921786, -1.4507198 , -3.77683268]]), 'cost': nan, 'velocity': array([[-0.7, -0.7, -0.7]]), 'best': {'Position': array([[3.73476459, 3.14176999, 4.41461278]]), 'cost': -0.8462687577981924}}, {'Position': array([[-1.22939979, -5.09969658, -3.65841065]]), 'cost': nan, 'velocity': array([[-0.7, -0.7, -0.7]]), 'best': {'Position': array([[3.73476459, 3.14176999, 4.41461278]]), 'cost': -0.8462687577981924}}, {'Position': array([[-0.11959158, -2.0680958 , -2.65863102]]), 'cost': nan, 'velocity': array([[-0.7, -0.7, -0.7]]), 'best': {'Position': array([[3.73476459, 3.14176999, 4.41461278]]), 'cost': -0.8462687577981924}}, {'Position': array([[ 1.22044323, -5.0596541 , -1.43549165]]), 'cost': nan, 'velocity': array([[-0.7, -0.7, -0.7]]), 'best': {'Position': array([[3.73476459, 3.14176999, 4.41461278]]), 'cost': -0.8462687577981924}}, {'Position': array([[-4.70695072, -4.32766017, -4.60300585]]), 'cost': nan, 'velocity': array([[-0.7, -0.7, -0.7]]), 'best': {'Position': array([[3.73476459, 3.14176999, 4.41461278]]), 'cost': -0.8462687577981924}}, {'Position': array([[-1.80626015, -3.44998611,  0.82050453]]), 'cost': nan, 'velocity': array([[-0.7, -0.7, -0.7]]), 'best': {'Position': array([[3.73476459, 3.14176999, 4.41461278]]), 'cost': -0.8462687577981924}}, {'Position': array([[-3.07496924, -0.33498445, -0.02276813]]), 'cost': nan, 'velocity': array([[-0.7, -0.7, -0.7]]), 'best': {'Position': array([[3.73476459, 3.14176999, 4.41461278]]), 'cost': -0.8462687577981924}}, {'Position': array([[ 0.91495251, -3.02068303,  0.08090047]]), 'cost': nan, 'velocity': array([[-0.7, -0.7, -0.7]]), 'best': {'Position': array([[3.73476459, 3.14176999, 4.41461278]]), 'cost': -0.8462687577981924}}, {'Position': array([[-2.23440112, -0.09989646, -2.79520982]]), 'cost': nan, 'velocity': array([[-0.7, -0.7, -0.7]]), 'best': {'Position': array([[3.73476459, 3.14176999, 4.41461278]]), 'cost': -0.8462687577981924}}, {'Position': array([[-2.03197143,  0.31696252,  1.39641471]]), 'cost': nan, 'velocity': array([[-0.7, -0.7, -0.7]]), 'best': {'Position': array([[3.73476459, 3.14176999, 4.41461278]]), 'cost': -0.8462687577981924}}, {'Position': array([[ 0.2712161 ,  0.07891417, -1.0461658 ]]), 'cost': nan, 'velocity': array([[-0.7, -0.7, -0.7]]), 'best': {'Position': array([[3.73476459, 3.14176999, 4.41461278]]), 'cost': -0.8462687577981924}}, {'Position': array([[-5.03577118, -4.481576  , -3.1778737 ]]), 'cost': nan, 'velocity': array([[-0.7, -0.7, -0.7]]), 'best': {'Position': array([[3.73476459, 3.14176999, 4.41461278]]), 'cost': -0.8462687577981924}}, {'Position': array([[ 0.23476459, -0.35823001,  0.91461278]]), 'cost': nan, 'velocity': array([[-0.7, -0.7, -0.7]]), 'best': {'Position': array([[3.73476459, 3.14176999, 4.41461278]]), 'cost': -0.8462687577981924}}, {'Position': array([[ 1.23791187,  1.71797674, -0.26201361]]), 'cost': nan, 'velocity': array([[-0.7, -0.7, -0.7]]), 'best': {'Position': array([[3.73476459, 3.14176999, 4.41461278]]), 'cost': -0.8462687577981924}}, {'Position': array([[ 1.58596856, -3.73739362, -4.23035242]]), 'cost': nan, 'velocity': array([[-0.7, -0.7, -0.7]]), 'best': {'Position': array([[3.73476459, 3.14176999, 4.41461278]]), 'cost': -0.8462687577981924}}, {'Position': array([[ 0.41473735, -1.40360119,  0.22853963]]), 'cost': nan, 'velocity': array([[-0.7, -0.7, -0.7]]), 'best': {'Position': array([[3.73476459, 3.14176999, 4.41461278]]), 'cost': -0.8462687577981924}}, {'Position': array([[-4.9242297 , -4.16319059, -4.6287103 ]]), 'cost': nan, 'velocity': array([[-0.7, -0.7, -0.7]]), 'best': {'Position': array([[3.73476459, 3.14176999, 4.41461278]]), 'cost': -0.8462687577981924}}, {'Position': array([[-2.50370111,  0.06995578, -1.24981169]]), 'cost': nan, 'velocity': array([[-0.7, -0.7, -0.7]]), 'best': {'Position': array([[3.73476459, 3.14176999, 4.41461278]]), 'cost': -0.8462687577981924}}, {'Position': array([[-0.54768751,  0.49434678, -5.10593393]]), 'cost': nan, 'velocity': array([[-0.7, -0.7, -0.7]]), 'best': {'Position': array([[3.73476459, 3.14176999, 4.41461278]]), 'cost': -0.8462687577981924}}, {'Position': array([[-0.90929258,  1.37558272, -3.61340488]]), 'cost': nan, 'velocity': array([[-0.7, -0.7, -0.7]]), 'best': {'Position': array([[3.73476459, 3.14176999, 4.41461278]]), 'cost': -0.8462687577981924}}, {'Position': array([[-3.07829448, -4.06367122, -0.02609559]]), 'cost': nan, 'velocity': array([[-0.7, -0.7, -0.7]]), 'best': {'Position': array([[3.73476459, 3.14176999, 4.41461278]]), 'cost': -0.8462687577981924}}, {'Position': array([[ 1.15775456, -2.93905387, -2.61134247]]), 'cost': nan, 'velocity': array([[-0.7, -0.7, -0.7]]), 'best': {'Position': array([[3.73476459, 3.14176999, 4.41461278]]), 'cost': -0.8462687577981924}}, {'Position': array([[-1.08501121, -1.44499197, -3.52455533]]), 'cost': nan, 'velocity': array([[-0.7, -0.7, -0.7]]), 'best': {'Position': array([[3.73476459, 3.14176999, 4.41461278]]), 'cost': -0.8462687577981924}}, {'Position': array([[-2.66372634, -2.77025864, -1.17855304]]), 'cost': nan, 'velocity': array([[-0.7, -0.7, -0.7]]), 'best': {'Position': array([[3.73476459, 3.14176999, 4.41461278]]), 'cost': -0.8462687577981924}}, {'Position': array([[ 0.07048072, -3.7113155 , -0.21787674]]), 'cost': nan, 'velocity': array([[-0.7, -0.7, -0.7]]), 'best': {'Position': array([[3.73476459, 3.14176999, 4.41461278]]), 'cost': -0.8462687577981924}}, {'Position': array([[-4.39388153, -1.58386852, -2.49473988]]), 'cost': nan, 'velocity': array([[-0.7, -0.7, -0.7]]), 'best': {'Position': array([[3.73476459, 3.14176999, 4.41461278]]), 'cost': -0.8462687577981924}}, {'Position': array([[-0.25721009, -1.77751099, -1.03998104]]), 'cost': nan, 'velocity': array([[-0.7, -0.7, -0.7]]), 'best': {'Position': array([[3.73476459, 3.14176999, 4.41461278]]), 'cost': -0.8462687577981924}}, {'Position': array([[-1.2356294 , -1.87254939, -4.51276001]]), 'cost': nan, 'velocity': array([[-0.7, -0.7, -0.7]]), 'best': {'Position': array([[3.73476459, 3.14176999, 4.41461278]]), 'cost': -0.8462687577981924}}, {'Position': array([[ 1.18638521, -2.45710072, -3.09355883]]), 'cost': nan, 'velocity': array([[-0.7, -0.7, -0.7]]), 'best': {'Position': array([[3.73476459, 3.14176999, 4.41461278]]), 'cost': -0.8462687577981924}}, {'Position': array([[ 1.33126747, -5.10353759, -5.0750989 ]]), 'cost': nan, 'velocity': array([[-0.7, -0.7, -0.7]]), 'best': {'Position': array([[3.73476459, 3.14176999, 4.41461278]]), 'cost': -0.8462687577981924}}, {'Position': array([[-0.59792347, -1.26426166,  1.02454912]]), 'cost': nan, 'velocity': array([[-0.7, -0.7, -0.7]]), 'best': {'Position': array([[3.73476459, 3.14176999, 4.41461278]]), 'cost': -0.8462687577981924}}, {'Position': array([[-0.7116428 , -3.2941223 , -4.19780335]]), 'cost': nan, 'velocity': array([[-0.7, -0.7, -0.7]]), 'best': {'Position': array([[3.73476459, 3.14176999, 4.41461278]]), 'cost': -0.8462687577981924}}, {'Position': array([[-4.77616041,  1.0649755 ,  0.05970419]]), 'cost': nan, 'velocity': array([[-0.7, -0.7, -0.7]]), 'best': {'Position': array([[3.73476459, 3.14176999, 4.41461278]]), 'cost': -0.8462687577981924}}, {'Position': array([[-1.42522044, -0.03489202, -2.38494207]]), 'cost': nan, 'velocity': array([[-0.7, -0.7, -0.7]]), 'best': {'Position': array([[3.73476459, 3.14176999, 4.41461278]]), 'cost': -0.8462687577981924}}, {'Position': array([[-4.8471386 , -1.80554263, -1.41352224]]), 'cost': nan, 'velocity': array([[-0.7, -0.7, -0.7]]), 'best': {'Position': array([[3.73476459, 3.14176999, 4.41461278]]), 'cost': -0.8462687577981924}}, {'Position': array([[-2.4522605 , -2.04907632,  0.25592813]]), 'cost': nan, 'velocity': array([[-0.7, -0.7, -0.7]]), 'best': {'Position': array([[3.73476459, 3.14176999, 4.41461278]]), 'cost': -0.8462687577981924}}, {'Position': array([[ 0.74081267, -1.27617999, -3.72963221]]), 'cost': nan, 'velocity': array([[-0.7, -0.7, -0.7]]), 'best': {'Position': array([[3.73476459, 3.14176999, 4.41461278]]), 'cost': -0.8462687577981924}}, {'Position': array([[-2.93089356, -3.78783942,  0.4310811 ]]), 'cost': nan, 'velocity': array([[-0.7, -0.7, -0.7]]), 'best': {'Position': array([[3.73476459, 3.14176999, 4.41461278]]), 'cost': -0.8462687577981924}}, {'Position': array([[-0.71960582, -3.90251326,  1.09849867]]), 'cost': nan, 'velocity': array([[-0.7, -0.7, -0.7]]), 'best': {'Position': array([[3.73476459, 3.14176999, 4.41461278]]), 'cost': -0.8462687577981924}}, {'Position': array([[ 0.21970691, -4.24597301, -1.02169031]]), 'cost': nan, 'velocity': array([[-0.7, -0.7, -0.7]]), 'best': {'Position': array([[3.73476459, 3.14176999, 4.41461278]]), 'cost': -0.8462687577981924}}, {'Position': array([[-1.93179667, -3.26096726, -0.68115081]]), 'cost': nan, 'velocity': array([[-0.7, -0.7, -0.7]]), 'best': {'Position': array([[3.73476459, 3.14176999, 4.41461278]]), 'cost': -0.8462687577981924}}, {'Position': array([[ 1.65949874, -4.02276681, -1.90242401]]), 'cost': nan, 'velocity': array([[-0.7, -0.7, -0.7]]), 'best': {'Position': array([[3.73476459, 3.14176999, 4.41461278]]), 'cost': -0.8462687577981924}}, {'Position': array([[-4.03756656,  1.65743498, -0.1899822 ]]), 'cost': nan, 'velocity': array([[-0.7, -0.7, -0.7]]), 'best': {'Position': array([[3.73476459, 3.14176999, 4.41461278]]), 'cost': -0.8462687577981924}}, {'Position': array([[ 1.36581294, -2.04499692, -4.88893977]]), 'cost': nan, 'velocity': array([[-0.7, -0.7, -0.7]]), 'best': {'Position': array([[3.73476459, 3.14176999, 4.41461278]]), 'cost': -0.8462687577981924}}, {'Position': array([[-0.86623781, -0.75844978,  1.07984576]]), 'cost': nan, 'velocity': array([[-0.7, -0.7, -0.7]]), 'best': {'Position': array([[3.73476459, 3.14176999, 4.41461278]]), 'cost': -0.8462687577981924}}, {'Position': array([[-0.36464785, -0.05682373, -4.35714896]]), 'cost': nan, 'velocity': array([[-0.7, -0.7, -0.7]]), 'best': {'Position': array([[3.73476459, 3.14176999, 4.41461278]]), 'cost': -0.8462687577981924}}, {'Position': array([[-2.50851683, -1.908286  ,  1.60015157]]), 'cost': nan, 'velocity': array([[-0.7, -0.7, -0.7]]), 'best': {'Position': array([[3.73476459, 3.14176999, 4.41461278]]), 'cost': -0.8462687577981924}}, {'Position': array([[-2.59767694,  0.18515673, -1.03930433]]), 'cost': nan, 'velocity': array([[-0.7, -0.7, -0.7]]), 'best': {'Position': array([[3.73476459, 3.14176999, 4.41461278]]), 'cost': -0.8462687577981924}}, {'Position': array([[-2.34112699,  0.54173953, -5.08778752]]), 'cost': nan, 'velocity': array([[-0.7, -0.7, -0.7]]), 'best': {'Position': array([[3.73476459, 3.14176999, 4.41461278]]), 'cost': -0.8462687577981924}}, {'Position': array([[-1.55924445, -5.05856211, -4.44861302]]), 'cost': nan, 'velocity': array([[-0.7, -0.7, -0.7]]), 'best': {'Position': array([[3.73476459, 3.14176999, 4.41461278]]), 'cost': -0.8462687577981924}}, {'Position': array([[ 0.69631606,  0.27476539, -4.96050063]]), 'cost': nan, 'velocity': array([[-0.7, -0.7, -0.7]]), 'best': {'Position': array([[3.73476459, 3.14176999, 4.41461278]]), 'cost': -0.8462687577981924}}, {'Position': array([[-1.83930016, -0.79712193, -0.49264443]]), 'cost': nan, 'velocity': array([[-0.7, -0.7, -0.7]]), 'best': {'Position': array([[3.73476459, 3.14176999, 4.41461278]]), 'cost': -0.8462687577981924}}, {'Position': array([[ 1.22724305, -2.71834215, -0.81656347]]), 'cost': nan, 'velocity': array([[-0.7, -0.7, -0.7]]), 'best': {'Position': array([[3.73476459, 3.14176999, 4.41461278]]), 'cost': -0.8462687577981924}}, {'Position': array([[-2.11636032, -1.54520894, -4.64573041]]), 'cost': nan, 'velocity': array([[-0.7, -0.7, -0.7]]), 'best': {'Position': array([[3.73476459, 3.14176999, 4.41461278]]), 'cost': -0.8462687577981924}}, {'Position': array([[ 1.66561987, -0.31408693, -2.16901452]]), 'cost': nan, 'velocity': array([[-0.7, -0.7, -0.7]]), 'best': {'Position': array([[3.73476459, 3.14176999, 4.41461278]]), 'cost': -0.8462687577981924}}, {'Position': array([[-3.99986202, -4.79455355, -4.29289528]]), 'cost': nan, 'velocity': array([[-0.7, -0.7, -0.7]]), 'best': {'Position': array([[3.73476459, 3.14176999, 4.41461278]]), 'cost': -0.8462687577981924}}, {'Position': array([[-2.46737979, -1.31991308,  0.57302796]]), 'cost': nan, 'velocity': array([[-0.7, -0.7, -0.7]]), 'best': {'Position': array([[3.73476459, 3.14176999, 4.41461278]]), 'cost': -0.8462687577981924}}, {'Position': array([[-2.24276582,  0.6561356 , -4.88476241]]), 'cost': nan, 'velocity': array([[-0.7, -0.7, -0.7]]), 'best': {'Position': array([[3.73476459, 3.14176999, 4.41461278]]), 'cost': -0.8462687577981924}}, {'Position': array([[ 0.59040823, -4.09476381, -1.39653066]]), 'cost': nan, 'velocity': array([[-0.7, -0.7, -0.7]]), 'best': {'Position': array([[3.73476459, 3.14176999, 4.41461278]]), 'cost': -0.8462687577981924}}, {'Position': array([[-2.01693512, -4.13449842, -1.28314306]]), 'cost': nan, 'velocity': array([[-0.7, -0.7, -0.7]]), 'best': {'Position': array([[3.73476459, 3.14176999, 4.41461278]]), 'cost': -0.8462687577981924}}, {'Position': array([[-0.22067809, -3.50722729,  1.79589314]]), 'cost': nan, 'velocity': array([[-0.7, -0.7, -0.7]]), 'best': {'Position': array([[3.73476459, 3.14176999, 4.41461278]]), 'cost': -0.8462687577981924}}]\n",
      "\n",
      " [{'Position': array([[-5.78727844, -4.39831253, -1.92281587]]), 'cost': nan, 'velocity': array([[-0.7, -0.7, -0.7]]), 'best': {'Position': array([[3.73476459, 3.14176999, 4.41461278]]), 'cost': -0.8462687577981924}}, {'Position': array([[-2.23205371, -3.46670707, -4.35422898]]), 'cost': nan, 'velocity': array([[-0.7, -0.7, -0.7]]), 'best': {'Position': array([[3.73476459, 3.14176999, 4.41461278]]), 'cost': -0.8462687577981924}}, {'Position': array([[-4.81134298, -0.1726241 , -3.17330542]]), 'cost': nan, 'velocity': array([[-0.7, -0.7, -0.7]]), 'best': {'Position': array([[3.73476459, 3.14176999, 4.41461278]]), 'cost': -0.8462687577981924}}, {'Position': array([[-4.06942378, -0.94587339, -4.24210578]]), 'cost': nan, 'velocity': array([[-0.7, -0.7, -0.7]]), 'best': {'Position': array([[3.73476459, 3.14176999, 4.41461278]]), 'cost': -0.8462687577981924}}, {'Position': array([[-4.16184573, -5.07189838,  0.96844581]]), 'cost': nan, 'velocity': array([[-0.7, -0.7, -0.7]]), 'best': {'Position': array([[3.73476459, 3.14176999, 4.41461278]]), 'cost': -0.8462687577981924}}, {'Position': array([[-5.00495185, -3.54103937, -4.10768923]]), 'cost': nan, 'velocity': array([[-0.7, -0.7, -0.7]]), 'best': {'Position': array([[3.73476459, 3.14176999, 4.41461278]]), 'cost': -0.8462687577981924}}, {'Position': array([[-3.96756758, -1.20833451, -4.23572479]]), 'cost': nan, 'velocity': array([[-0.7, -0.7, -0.7]]), 'best': {'Position': array([[3.73476459, 3.14176999, 4.41461278]]), 'cost': -0.8462687577981924}}, {'Position': array([[-4.66451253, -0.47991645, -1.74040277]]), 'cost': nan, 'velocity': array([[-0.7, -0.7, -0.7]]), 'best': {'Position': array([[3.73476459, 3.14176999, 4.41461278]]), 'cost': -0.8462687577981924}}, {'Position': array([[-0.5992313 ,  0.80998477, -2.17286021]]), 'cost': nan, 'velocity': array([[-0.7, -0.7, -0.7]]), 'best': {'Position': array([[3.73476459, 3.14176999, 4.41461278]]), 'cost': -0.8462687577981924}}, {'Position': array([[-0.11645252, -5.64683215, -4.8778023 ]]), 'cost': nan, 'velocity': array([[-0.7, -0.7, -0.7]]), 'best': {'Position': array([[3.73476459, 3.14176999, 4.41461278]]), 'cost': -0.8462687577981924}}, {'Position': array([[-3.5277473 , -5.56511211, -5.19687368]]), 'cost': nan, 'velocity': array([[-0.7, -0.7, -0.7]]), 'best': {'Position': array([[3.73476459, 3.14176999, 4.41461278]]), 'cost': -0.8462687577981924}}, {'Position': array([[-2.37284417, -1.10848329,  0.56989717]]), 'cost': nan, 'velocity': array([[-0.7, -0.7, -0.7]]), 'best': {'Position': array([[3.73476459, 3.14176999, 4.41461278]]), 'cost': -0.8462687577981924}}, {'Position': array([[-4.92529027,  0.1101899 , -1.95705267]]), 'cost': nan, 'velocity': array([[-0.7, -0.7, -0.7]]), 'best': {'Position': array([[3.73476459, 3.14176999, 4.41461278]]), 'cost': -0.8462687577981924}}, {'Position': array([[-4.98711035, -3.61030677, -1.6815492 ]]), 'cost': nan, 'velocity': array([[-0.7, -0.7, -0.7]]), 'best': {'Position': array([[3.73476459, 3.14176999, 4.41461278]]), 'cost': -0.8462687577981924}}, {'Position': array([[-0.42526435, -4.54532922, -2.0905398 ]]), 'cost': nan, 'velocity': array([[-0.7, -0.7, -0.7]]), 'best': {'Position': array([[3.73476459, 3.14176999, 4.41461278]]), 'cost': -0.8462687577981924}}, {'Position': array([[-3.11534911, -3.20365722, -1.7259245 ]]), 'cost': nan, 'velocity': array([[-0.7, -0.7, -0.7]]), 'best': {'Position': array([[3.73476459, 3.14176999, 4.41461278]]), 'cost': -0.8462687577981924}}, {'Position': array([[-0.26869242, -0.52373096, -2.80727317]]), 'cost': nan, 'velocity': array([[-0.7, -0.7, -0.7]]), 'best': {'Position': array([[3.73476459, 3.14176999, 4.41461278]]), 'cost': -0.8462687577981924}}, {'Position': array([[-5.36056069, -3.71070198, -3.46394845]]), 'cost': nan, 'velocity': array([[-0.7, -0.7, -0.7]]), 'best': {'Position': array([[3.73476459, 3.14176999, 4.41461278]]), 'cost': -0.8462687577981924}}, {'Position': array([[-4.22723892, -0.93164774, -1.3207363 ]]), 'cost': nan, 'velocity': array([[-0.7, -0.7, -0.7]]), 'best': {'Position': array([[3.73476459, 3.14176999, 4.41461278]]), 'cost': -0.8462687577981924}}, {'Position': array([[ 0.69550064, -4.98021946, -1.41866827]]), 'cost': nan, 'velocity': array([[-0.7, -0.7, -0.7]]), 'best': {'Position': array([[3.73476459, 3.14176999, 4.41461278]]), 'cost': -0.8462687577981924}}, {'Position': array([[-4.08962431, -1.34824406, -3.56245093]]), 'cost': nan, 'velocity': array([[-0.7, -0.7, -0.7]]), 'best': {'Position': array([[3.73476459, 3.14176999, 4.41461278]]), 'cost': -0.8462687577981924}}, {'Position': array([[-2.18323912, -5.29944072, -4.32857407]]), 'cost': nan, 'velocity': array([[-0.7, -0.7, -0.7]]), 'best': {'Position': array([[3.73476459, 3.14176999, 4.41461278]]), 'cost': -0.8462687577981924}}, {'Position': array([[-0.03872026, -4.39977984, -3.73313156]]), 'cost': nan, 'velocity': array([[-0.7, -0.7, -0.7]]), 'best': {'Position': array([[3.73476459, 3.14176999, 4.41461278]]), 'cost': -0.8462687577981924}}, {'Position': array([[-5.16991215, -2.97242539, -2.34331197]]), 'cost': nan, 'velocity': array([[-0.7, -0.7, -0.7]]), 'best': {'Position': array([[3.73476459, 3.14176999, 4.41461278]]), 'cost': -0.8462687577981924}}, {'Position': array([[-2.68315059, -2.09660983, -0.67494254]]), 'cost': nan, 'velocity': array([[-0.7, -0.7, -0.7]]), 'best': {'Position': array([[3.73476459, 3.14176999, 4.41461278]]), 'cost': -0.8462687577981924}}, {'Position': array([[-1.69057265, -2.11747679, -0.20295968]]), 'cost': nan, 'velocity': array([[-0.7, -0.7, -0.7]]), 'best': {'Position': array([[3.73476459, 3.14176999, 4.41461278]]), 'cost': -0.8462687577981924}}, {'Position': array([[-3.27863135, -0.12806573, -1.00425537]]), 'cost': nan, 'velocity': array([[-0.7, -0.7, -0.7]]), 'best': {'Position': array([[3.73476459, 3.14176999, 4.41461278]]), 'cost': -0.8462687577981924}}, {'Position': array([[ 0.42041239, -4.14700835, -3.10710806]]), 'cost': nan, 'velocity': array([[-0.7, -0.7, -0.7]]), 'best': {'Position': array([[3.73476459, 3.14176999, 4.41461278]]), 'cost': -0.8462687577981924}}, {'Position': array([[-5.59875204, -2.28525638,  0.47693586]]), 'cost': nan, 'velocity': array([[-0.7, -0.7, -0.7]]), 'best': {'Position': array([[3.73476459, 3.14176999, 4.41461278]]), 'cost': -0.8462687577981924}}, {'Position': array([[-3.93548676, -2.6003853 , -5.11342755]]), 'cost': nan, 'velocity': array([[-0.7, -0.7, -0.7]]), 'best': {'Position': array([[3.73476459, 3.14176999, 4.41461278]]), 'cost': -0.8462687577981924}}, {'Position': array([[-0.36325344, -3.08120013, -1.10370592]]), 'cost': nan, 'velocity': array([[-0.7, -0.7, -0.7]]), 'best': {'Position': array([[3.73476459, 3.14176999, 4.41461278]]), 'cost': -0.8462687577981924}}, {'Position': array([[ 0.60358088, -3.83942278, -4.99622676]]), 'cost': nan, 'velocity': array([[-0.7, -0.7, -0.7]]), 'best': {'Position': array([[3.73476459, 3.14176999, 4.41461278]]), 'cost': -0.8462687577981924}}, {'Position': array([[-4.57830306, -1.72119221, -1.04614901]]), 'cost': nan, 'velocity': array([[-0.7, -0.7, -0.7]]), 'best': {'Position': array([[3.73476459, 3.14176999, 4.41461278]]), 'cost': -0.8462687577981924}}, {'Position': array([[-5.48981476, -5.65937397, -2.1005466 ]]), 'cost': nan, 'velocity': array([[-0.7, -0.7, -0.7]]), 'best': {'Position': array([[3.73476459, 3.14176999, 4.41461278]]), 'cost': -0.8462687577981924}}, {'Position': array([[-3.21200331, -5.60297969, -0.95389685]]), 'cost': nan, 'velocity': array([[-0.7, -0.7, -0.7]]), 'best': {'Position': array([[3.73476459, 3.14176999, 4.41461278]]), 'cost': -0.8462687577981924}}, {'Position': array([[-2.01852123,  0.05124731, -3.86540595]]), 'cost': nan, 'velocity': array([[-0.7, -0.7, -0.7]]), 'best': {'Position': array([[3.73476459, 3.14176999, 4.41461278]]), 'cost': -0.8462687577981924}}, {'Position': array([[-2.08575852, -3.58002177, -2.61529185]]), 'cost': nan, 'velocity': array([[-0.7, -0.7, -0.7]]), 'best': {'Position': array([[3.73476459, 3.14176999, 4.41461278]]), 'cost': -0.8462687577981924}}, {'Position': array([[-1.82789292, -4.49087577, -4.27732498]]), 'cost': nan, 'velocity': array([[-0.7, -0.7, -0.7]]), 'best': {'Position': array([[3.73476459, 3.14176999, 4.41461278]]), 'cost': -0.8462687577981924}}, {'Position': array([[-0.21756064, -2.03786767, -4.48907246]]), 'cost': nan, 'velocity': array([[-0.7, -0.7, -0.7]]), 'best': {'Position': array([[3.73476459, 3.14176999, 4.41461278]]), 'cost': -0.8462687577981924}}, {'Position': array([[-5.42921786, -2.1507198 , -4.47683268]]), 'cost': nan, 'velocity': array([[-0.7, -0.7, -0.7]]), 'best': {'Position': array([[3.73476459, 3.14176999, 4.41461278]]), 'cost': -0.8462687577981924}}, {'Position': array([[-1.92939979, -5.79969658, -4.35841065]]), 'cost': nan, 'velocity': array([[-0.7, -0.7, -0.7]]), 'best': {'Position': array([[3.73476459, 3.14176999, 4.41461278]]), 'cost': -0.8462687577981924}}, {'Position': array([[-0.81959158, -2.7680958 , -3.35863102]]), 'cost': nan, 'velocity': array([[-0.7, -0.7, -0.7]]), 'best': {'Position': array([[3.73476459, 3.14176999, 4.41461278]]), 'cost': -0.8462687577981924}}, {'Position': array([[ 0.52044323, -5.7596541 , -2.13549165]]), 'cost': nan, 'velocity': array([[-0.7, -0.7, -0.7]]), 'best': {'Position': array([[3.73476459, 3.14176999, 4.41461278]]), 'cost': -0.8462687577981924}}, {'Position': array([[-5.40695072, -5.02766017, -5.30300585]]), 'cost': nan, 'velocity': array([[-0.7, -0.7, -0.7]]), 'best': {'Position': array([[3.73476459, 3.14176999, 4.41461278]]), 'cost': -0.8462687577981924}}, {'Position': array([[-2.50626015, -4.14998611,  0.12050453]]), 'cost': nan, 'velocity': array([[-0.7, -0.7, -0.7]]), 'best': {'Position': array([[3.73476459, 3.14176999, 4.41461278]]), 'cost': -0.8462687577981924}}, {'Position': array([[-3.77496924, -1.03498445, -0.72276813]]), 'cost': nan, 'velocity': array([[-0.7, -0.7, -0.7]]), 'best': {'Position': array([[3.73476459, 3.14176999, 4.41461278]]), 'cost': -0.8462687577981924}}, {'Position': array([[ 0.21495251, -3.72068303, -0.61909953]]), 'cost': nan, 'velocity': array([[-0.7, -0.7, -0.7]]), 'best': {'Position': array([[3.73476459, 3.14176999, 4.41461278]]), 'cost': -0.8462687577981924}}, {'Position': array([[-2.93440112, -0.79989646, -3.49520982]]), 'cost': nan, 'velocity': array([[-0.7, -0.7, -0.7]]), 'best': {'Position': array([[3.73476459, 3.14176999, 4.41461278]]), 'cost': -0.8462687577981924}}, {'Position': array([[-2.73197143, -0.38303748,  0.69641471]]), 'cost': nan, 'velocity': array([[-0.7, -0.7, -0.7]]), 'best': {'Position': array([[3.73476459, 3.14176999, 4.41461278]]), 'cost': -0.8462687577981924}}, {'Position': array([[-0.4287839 , -0.62108583, -1.7461658 ]]), 'cost': nan, 'velocity': array([[-0.7, -0.7, -0.7]]), 'best': {'Position': array([[3.73476459, 3.14176999, 4.41461278]]), 'cost': -0.8462687577981924}}, {'Position': array([[-5.73577118, -5.181576  , -3.8778737 ]]), 'cost': nan, 'velocity': array([[-0.7, -0.7, -0.7]]), 'best': {'Position': array([[3.73476459, 3.14176999, 4.41461278]]), 'cost': -0.8462687577981924}}, {'Position': array([[-0.46523541, -1.05823001,  0.21461278]]), 'cost': nan, 'velocity': array([[-0.7, -0.7, -0.7]]), 'best': {'Position': array([[3.73476459, 3.14176999, 4.41461278]]), 'cost': -0.8462687577981924}}, {'Position': array([[ 0.53791187,  1.01797674, -0.96201361]]), 'cost': nan, 'velocity': array([[-0.7, -0.7, -0.7]]), 'best': {'Position': array([[3.73476459, 3.14176999, 4.41461278]]), 'cost': -0.8462687577981924}}, {'Position': array([[ 0.88596856, -4.43739362, -4.93035242]]), 'cost': nan, 'velocity': array([[-0.7, -0.7, -0.7]]), 'best': {'Position': array([[3.73476459, 3.14176999, 4.41461278]]), 'cost': -0.8462687577981924}}, {'Position': array([[-0.28526265, -2.10360119, -0.47146037]]), 'cost': nan, 'velocity': array([[-0.7, -0.7, -0.7]]), 'best': {'Position': array([[3.73476459, 3.14176999, 4.41461278]]), 'cost': -0.8462687577981924}}, {'Position': array([[-5.6242297 , -4.86319059, -5.3287103 ]]), 'cost': nan, 'velocity': array([[-0.7, -0.7, -0.7]]), 'best': {'Position': array([[3.73476459, 3.14176999, 4.41461278]]), 'cost': -0.8462687577981924}}, {'Position': array([[-3.20370111, -0.63004422, -1.94981169]]), 'cost': nan, 'velocity': array([[-0.7, -0.7, -0.7]]), 'best': {'Position': array([[3.73476459, 3.14176999, 4.41461278]]), 'cost': -0.8462687577981924}}, {'Position': array([[-1.24768751, -0.20565322, -5.80593393]]), 'cost': nan, 'velocity': array([[-0.7, -0.7, -0.7]]), 'best': {'Position': array([[3.73476459, 3.14176999, 4.41461278]]), 'cost': -0.8462687577981924}}, {'Position': array([[-1.60929258,  0.67558272, -4.31340488]]), 'cost': nan, 'velocity': array([[-0.7, -0.7, -0.7]]), 'best': {'Position': array([[3.73476459, 3.14176999, 4.41461278]]), 'cost': -0.8462687577981924}}, {'Position': array([[-3.77829448, -4.76367122, -0.72609559]]), 'cost': nan, 'velocity': array([[-0.7, -0.7, -0.7]]), 'best': {'Position': array([[3.73476459, 3.14176999, 4.41461278]]), 'cost': -0.8462687577981924}}, {'Position': array([[ 0.45775456, -3.63905387, -3.31134247]]), 'cost': nan, 'velocity': array([[-0.7, -0.7, -0.7]]), 'best': {'Position': array([[3.73476459, 3.14176999, 4.41461278]]), 'cost': -0.8462687577981924}}, {'Position': array([[-1.78501121, -2.14499197, -4.22455533]]), 'cost': nan, 'velocity': array([[-0.7, -0.7, -0.7]]), 'best': {'Position': array([[3.73476459, 3.14176999, 4.41461278]]), 'cost': -0.8462687577981924}}, {'Position': array([[-3.36372634, -3.47025864, -1.87855304]]), 'cost': nan, 'velocity': array([[-0.7, -0.7, -0.7]]), 'best': {'Position': array([[3.73476459, 3.14176999, 4.41461278]]), 'cost': -0.8462687577981924}}, {'Position': array([[-0.62951928, -4.4113155 , -0.91787674]]), 'cost': nan, 'velocity': array([[-0.7, -0.7, -0.7]]), 'best': {'Position': array([[3.73476459, 3.14176999, 4.41461278]]), 'cost': -0.8462687577981924}}, {'Position': array([[-5.09388153, -2.28386852, -3.19473988]]), 'cost': nan, 'velocity': array([[-0.7, -0.7, -0.7]]), 'best': {'Position': array([[3.73476459, 3.14176999, 4.41461278]]), 'cost': -0.8462687577981924}}, {'Position': array([[-0.95721009, -2.47751099, -1.73998104]]), 'cost': nan, 'velocity': array([[-0.7, -0.7, -0.7]]), 'best': {'Position': array([[3.73476459, 3.14176999, 4.41461278]]), 'cost': -0.8462687577981924}}, {'Position': array([[-1.9356294 , -2.57254939, -5.21276001]]), 'cost': nan, 'velocity': array([[-0.7, -0.7, -0.7]]), 'best': {'Position': array([[3.73476459, 3.14176999, 4.41461278]]), 'cost': -0.8462687577981924}}, {'Position': array([[ 0.48638521, -3.15710072, -3.79355883]]), 'cost': nan, 'velocity': array([[-0.7, -0.7, -0.7]]), 'best': {'Position': array([[3.73476459, 3.14176999, 4.41461278]]), 'cost': -0.8462687577981924}}, {'Position': array([[ 0.63126747, -5.80353759, -5.7750989 ]]), 'cost': nan, 'velocity': array([[-0.7, -0.7, -0.7]]), 'best': {'Position': array([[3.73476459, 3.14176999, 4.41461278]]), 'cost': -0.8462687577981924}}, {'Position': array([[-1.29792347, -1.96426166,  0.32454912]]), 'cost': nan, 'velocity': array([[-0.7, -0.7, -0.7]]), 'best': {'Position': array([[3.73476459, 3.14176999, 4.41461278]]), 'cost': -0.8462687577981924}}, {'Position': array([[-1.4116428 , -3.9941223 , -4.89780335]]), 'cost': nan, 'velocity': array([[-0.7, -0.7, -0.7]]), 'best': {'Position': array([[3.73476459, 3.14176999, 4.41461278]]), 'cost': -0.8462687577981924}}, {'Position': array([[-5.47616041,  0.3649755 , -0.64029581]]), 'cost': nan, 'velocity': array([[-0.7, -0.7, -0.7]]), 'best': {'Position': array([[3.73476459, 3.14176999, 4.41461278]]), 'cost': -0.8462687577981924}}, {'Position': array([[-2.12522044, -0.73489202, -3.08494207]]), 'cost': nan, 'velocity': array([[-0.7, -0.7, -0.7]]), 'best': {'Position': array([[3.73476459, 3.14176999, 4.41461278]]), 'cost': -0.8462687577981924}}, {'Position': array([[-5.5471386 , -2.50554263, -2.11352224]]), 'cost': nan, 'velocity': array([[-0.7, -0.7, -0.7]]), 'best': {'Position': array([[3.73476459, 3.14176999, 4.41461278]]), 'cost': -0.8462687577981924}}, {'Position': array([[-3.1522605 , -2.74907632, -0.44407187]]), 'cost': nan, 'velocity': array([[-0.7, -0.7, -0.7]]), 'best': {'Position': array([[3.73476459, 3.14176999, 4.41461278]]), 'cost': -0.8462687577981924}}, {'Position': array([[ 0.04081267, -1.97617999, -4.42963221]]), 'cost': nan, 'velocity': array([[-0.7, -0.7, -0.7]]), 'best': {'Position': array([[3.73476459, 3.14176999, 4.41461278]]), 'cost': -0.8462687577981924}}, {'Position': array([[-3.63089356, -4.48783942, -0.2689189 ]]), 'cost': nan, 'velocity': array([[-0.7, -0.7, -0.7]]), 'best': {'Position': array([[3.73476459, 3.14176999, 4.41461278]]), 'cost': -0.8462687577981924}}, {'Position': array([[-1.41960582, -4.60251326,  0.39849867]]), 'cost': nan, 'velocity': array([[-0.7, -0.7, -0.7]]), 'best': {'Position': array([[3.73476459, 3.14176999, 4.41461278]]), 'cost': -0.8462687577981924}}, {'Position': array([[-0.48029309, -4.94597301, -1.72169031]]), 'cost': nan, 'velocity': array([[-0.7, -0.7, -0.7]]), 'best': {'Position': array([[3.73476459, 3.14176999, 4.41461278]]), 'cost': -0.8462687577981924}}, {'Position': array([[-2.63179667, -3.96096726, -1.38115081]]), 'cost': nan, 'velocity': array([[-0.7, -0.7, -0.7]]), 'best': {'Position': array([[3.73476459, 3.14176999, 4.41461278]]), 'cost': -0.8462687577981924}}, {'Position': array([[ 0.95949874, -4.72276681, -2.60242401]]), 'cost': nan, 'velocity': array([[-0.7, -0.7, -0.7]]), 'best': {'Position': array([[3.73476459, 3.14176999, 4.41461278]]), 'cost': -0.8462687577981924}}, {'Position': array([[-4.73756656,  0.95743498, -0.8899822 ]]), 'cost': nan, 'velocity': array([[-0.7, -0.7, -0.7]]), 'best': {'Position': array([[3.73476459, 3.14176999, 4.41461278]]), 'cost': -0.8462687577981924}}, {'Position': array([[ 0.66581294, -2.74499692, -5.58893977]]), 'cost': nan, 'velocity': array([[-0.7, -0.7, -0.7]]), 'best': {'Position': array([[3.73476459, 3.14176999, 4.41461278]]), 'cost': -0.8462687577981924}}, {'Position': array([[-1.56623781, -1.45844978,  0.37984576]]), 'cost': nan, 'velocity': array([[-0.7, -0.7, -0.7]]), 'best': {'Position': array([[3.73476459, 3.14176999, 4.41461278]]), 'cost': -0.8462687577981924}}, {'Position': array([[-1.06464785, -0.75682373, -5.05714896]]), 'cost': nan, 'velocity': array([[-0.7, -0.7, -0.7]]), 'best': {'Position': array([[3.73476459, 3.14176999, 4.41461278]]), 'cost': -0.8462687577981924}}, {'Position': array([[-3.20851683, -2.608286  ,  0.90015157]]), 'cost': nan, 'velocity': array([[-0.7, -0.7, -0.7]]), 'best': {'Position': array([[3.73476459, 3.14176999, 4.41461278]]), 'cost': -0.8462687577981924}}, {'Position': array([[-3.29767694, -0.51484327, -1.73930433]]), 'cost': nan, 'velocity': array([[-0.7, -0.7, -0.7]]), 'best': {'Position': array([[3.73476459, 3.14176999, 4.41461278]]), 'cost': -0.8462687577981924}}, {'Position': array([[-3.04112699, -0.15826047, -5.78778752]]), 'cost': nan, 'velocity': array([[-0.7, -0.7, -0.7]]), 'best': {'Position': array([[3.73476459, 3.14176999, 4.41461278]]), 'cost': -0.8462687577981924}}, {'Position': array([[-2.25924445, -5.75856211, -5.14861302]]), 'cost': nan, 'velocity': array([[-0.7, -0.7, -0.7]]), 'best': {'Position': array([[3.73476459, 3.14176999, 4.41461278]]), 'cost': -0.8462687577981924}}, {'Position': array([[-3.68394390e-03, -4.25234610e-01, -5.66050063e+00]]), 'cost': nan, 'velocity': array([[-0.7, -0.7, -0.7]]), 'best': {'Position': array([[3.73476459, 3.14176999, 4.41461278]]), 'cost': -0.8462687577981924}}, {'Position': array([[-2.53930016, -1.49712193, -1.19264443]]), 'cost': nan, 'velocity': array([[-0.7, -0.7, -0.7]]), 'best': {'Position': array([[3.73476459, 3.14176999, 4.41461278]]), 'cost': -0.8462687577981924}}, {'Position': array([[ 0.52724305, -3.41834215, -1.51656347]]), 'cost': nan, 'velocity': array([[-0.7, -0.7, -0.7]]), 'best': {'Position': array([[3.73476459, 3.14176999, 4.41461278]]), 'cost': -0.8462687577981924}}, {'Position': array([[-2.81636032, -2.24520894, -5.34573041]]), 'cost': nan, 'velocity': array([[-0.7, -0.7, -0.7]]), 'best': {'Position': array([[3.73476459, 3.14176999, 4.41461278]]), 'cost': -0.8462687577981924}}, {'Position': array([[ 0.96561987, -1.01408693, -2.86901452]]), 'cost': nan, 'velocity': array([[-0.7, -0.7, -0.7]]), 'best': {'Position': array([[3.73476459, 3.14176999, 4.41461278]]), 'cost': -0.8462687577981924}}, {'Position': array([[-4.69986202, -5.49455355, -4.99289528]]), 'cost': nan, 'velocity': array([[-0.7, -0.7, -0.7]]), 'best': {'Position': array([[3.73476459, 3.14176999, 4.41461278]]), 'cost': -0.8462687577981924}}, {'Position': array([[-3.16737979, -2.01991308, -0.12697204]]), 'cost': nan, 'velocity': array([[-0.7, -0.7, -0.7]]), 'best': {'Position': array([[3.73476459, 3.14176999, 4.41461278]]), 'cost': -0.8462687577981924}}, {'Position': array([[-2.94276582, -0.0438644 , -5.58476241]]), 'cost': nan, 'velocity': array([[-0.7, -0.7, -0.7]]), 'best': {'Position': array([[3.73476459, 3.14176999, 4.41461278]]), 'cost': -0.8462687577981924}}, {'Position': array([[-0.10959177, -4.79476381, -2.09653066]]), 'cost': nan, 'velocity': array([[-0.7, -0.7, -0.7]]), 'best': {'Position': array([[3.73476459, 3.14176999, 4.41461278]]), 'cost': -0.8462687577981924}}, {'Position': array([[-2.71693512, -4.83449842, -1.98314306]]), 'cost': nan, 'velocity': array([[-0.7, -0.7, -0.7]]), 'best': {'Position': array([[3.73476459, 3.14176999, 4.41461278]]), 'cost': -0.8462687577981924}}, {'Position': array([[-0.92067809, -4.20722729,  1.09589314]]), 'cost': nan, 'velocity': array([[-0.7, -0.7, -0.7]]), 'best': {'Position': array([[3.73476459, 3.14176999, 4.41461278]]), 'cost': -0.8462687577981924}}]\n",
      "\n",
      " [{'Position': array([[-6.48727844, -5.09831253, -2.62281587]]), 'cost': nan, 'velocity': array([[-0.7, -0.7, -0.7]]), 'best': {'Position': array([[3.73476459, 3.14176999, 4.41461278]]), 'cost': -0.8462687577981924}}, {'Position': array([[-2.93205371, -4.16670707, -5.05422898]]), 'cost': nan, 'velocity': array([[-0.7, -0.7, -0.7]]), 'best': {'Position': array([[3.73476459, 3.14176999, 4.41461278]]), 'cost': -0.8462687577981924}}, {'Position': array([[-5.51134298, -0.8726241 , -3.87330542]]), 'cost': nan, 'velocity': array([[-0.7, -0.7, -0.7]]), 'best': {'Position': array([[3.73476459, 3.14176999, 4.41461278]]), 'cost': -0.8462687577981924}}, {'Position': array([[-4.76942378, -1.64587339, -4.94210578]]), 'cost': nan, 'velocity': array([[-0.7, -0.7, -0.7]]), 'best': {'Position': array([[3.73476459, 3.14176999, 4.41461278]]), 'cost': -0.8462687577981924}}, {'Position': array([[-4.86184573, -5.77189838,  0.26844581]]), 'cost': nan, 'velocity': array([[-0.7, -0.7, -0.7]]), 'best': {'Position': array([[3.73476459, 3.14176999, 4.41461278]]), 'cost': -0.8462687577981924}}, {'Position': array([[-5.70495185, -4.24103937, -4.80768923]]), 'cost': nan, 'velocity': array([[-0.7, -0.7, -0.7]]), 'best': {'Position': array([[3.73476459, 3.14176999, 4.41461278]]), 'cost': -0.8462687577981924}}, {'Position': array([[-4.66756758, -1.90833451, -4.93572479]]), 'cost': nan, 'velocity': array([[-0.7, -0.7, -0.7]]), 'best': {'Position': array([[3.73476459, 3.14176999, 4.41461278]]), 'cost': -0.8462687577981924}}, {'Position': array([[-5.36451253, -1.17991645, -2.44040277]]), 'cost': nan, 'velocity': array([[-0.7, -0.7, -0.7]]), 'best': {'Position': array([[3.73476459, 3.14176999, 4.41461278]]), 'cost': -0.8462687577981924}}, {'Position': array([[-1.2992313 ,  0.10998477, -2.87286021]]), 'cost': nan, 'velocity': array([[-0.7, -0.7, -0.7]]), 'best': {'Position': array([[3.73476459, 3.14176999, 4.41461278]]), 'cost': -0.8462687577981924}}, {'Position': array([[-0.81645252, -6.34683215, -5.5778023 ]]), 'cost': nan, 'velocity': array([[-0.7, -0.7, -0.7]]), 'best': {'Position': array([[3.73476459, 3.14176999, 4.41461278]]), 'cost': -0.8462687577981924}}, {'Position': array([[-4.2277473 , -6.26511211, -5.89687368]]), 'cost': nan, 'velocity': array([[-0.7, -0.7, -0.7]]), 'best': {'Position': array([[3.73476459, 3.14176999, 4.41461278]]), 'cost': -0.8462687577981924}}, {'Position': array([[-3.07284417, -1.80848329, -0.13010283]]), 'cost': nan, 'velocity': array([[-0.7, -0.7, -0.7]]), 'best': {'Position': array([[3.73476459, 3.14176999, 4.41461278]]), 'cost': -0.8462687577981924}}, {'Position': array([[-5.62529027, -0.5898101 , -2.65705267]]), 'cost': nan, 'velocity': array([[-0.7, -0.7, -0.7]]), 'best': {'Position': array([[3.73476459, 3.14176999, 4.41461278]]), 'cost': -0.8462687577981924}}, {'Position': array([[-5.68711035, -4.31030677, -2.3815492 ]]), 'cost': nan, 'velocity': array([[-0.7, -0.7, -0.7]]), 'best': {'Position': array([[3.73476459, 3.14176999, 4.41461278]]), 'cost': -0.8462687577981924}}, {'Position': array([[-1.12526435, -5.24532922, -2.7905398 ]]), 'cost': nan, 'velocity': array([[-0.7, -0.7, -0.7]]), 'best': {'Position': array([[3.73476459, 3.14176999, 4.41461278]]), 'cost': -0.8462687577981924}}, {'Position': array([[-3.81534911, -3.90365722, -2.4259245 ]]), 'cost': nan, 'velocity': array([[-0.7, -0.7, -0.7]]), 'best': {'Position': array([[3.73476459, 3.14176999, 4.41461278]]), 'cost': -0.8462687577981924}}, {'Position': array([[-0.96869242, -1.22373096, -3.50727317]]), 'cost': nan, 'velocity': array([[-0.7, -0.7, -0.7]]), 'best': {'Position': array([[3.73476459, 3.14176999, 4.41461278]]), 'cost': -0.8462687577981924}}, {'Position': array([[-6.06056069, -4.41070198, -4.16394845]]), 'cost': nan, 'velocity': array([[-0.7, -0.7, -0.7]]), 'best': {'Position': array([[3.73476459, 3.14176999, 4.41461278]]), 'cost': -0.8462687577981924}}, {'Position': array([[-4.92723892, -1.63164774, -2.0207363 ]]), 'cost': nan, 'velocity': array([[-0.7, -0.7, -0.7]]), 'best': {'Position': array([[3.73476459, 3.14176999, 4.41461278]]), 'cost': -0.8462687577981924}}, {'Position': array([[-4.49935819e-03, -5.68021946e+00, -2.11866827e+00]]), 'cost': nan, 'velocity': array([[-0.7, -0.7, -0.7]]), 'best': {'Position': array([[3.73476459, 3.14176999, 4.41461278]]), 'cost': -0.8462687577981924}}, {'Position': array([[-4.78962431, -2.04824406, -4.26245093]]), 'cost': nan, 'velocity': array([[-0.7, -0.7, -0.7]]), 'best': {'Position': array([[3.73476459, 3.14176999, 4.41461278]]), 'cost': -0.8462687577981924}}, {'Position': array([[-2.88323912, -5.99944072, -5.02857407]]), 'cost': nan, 'velocity': array([[-0.7, -0.7, -0.7]]), 'best': {'Position': array([[3.73476459, 3.14176999, 4.41461278]]), 'cost': -0.8462687577981924}}, {'Position': array([[-0.73872026, -5.09977984, -4.43313156]]), 'cost': nan, 'velocity': array([[-0.7, -0.7, -0.7]]), 'best': {'Position': array([[3.73476459, 3.14176999, 4.41461278]]), 'cost': -0.8462687577981924}}, {'Position': array([[-5.86991215, -3.67242539, -3.04331197]]), 'cost': nan, 'velocity': array([[-0.7, -0.7, -0.7]]), 'best': {'Position': array([[3.73476459, 3.14176999, 4.41461278]]), 'cost': -0.8462687577981924}}, {'Position': array([[-3.38315059, -2.79660983, -1.37494254]]), 'cost': nan, 'velocity': array([[-0.7, -0.7, -0.7]]), 'best': {'Position': array([[3.73476459, 3.14176999, 4.41461278]]), 'cost': -0.8462687577981924}}, {'Position': array([[-2.39057265, -2.81747679, -0.90295968]]), 'cost': nan, 'velocity': array([[-0.7, -0.7, -0.7]]), 'best': {'Position': array([[3.73476459, 3.14176999, 4.41461278]]), 'cost': -0.8462687577981924}}, {'Position': array([[-3.97863135, -0.82806573, -1.70425537]]), 'cost': nan, 'velocity': array([[-0.7, -0.7, -0.7]]), 'best': {'Position': array([[3.73476459, 3.14176999, 4.41461278]]), 'cost': -0.8462687577981924}}, {'Position': array([[-0.27958761, -4.84700835, -3.80710806]]), 'cost': nan, 'velocity': array([[-0.7, -0.7, -0.7]]), 'best': {'Position': array([[3.73476459, 3.14176999, 4.41461278]]), 'cost': -0.8462687577981924}}, {'Position': array([[-6.29875204, -2.98525638, -0.22306414]]), 'cost': nan, 'velocity': array([[-0.7, -0.7, -0.7]]), 'best': {'Position': array([[3.73476459, 3.14176999, 4.41461278]]), 'cost': -0.8462687577981924}}, {'Position': array([[-4.63548676, -3.3003853 , -5.81342755]]), 'cost': nan, 'velocity': array([[-0.7, -0.7, -0.7]]), 'best': {'Position': array([[3.73476459, 3.14176999, 4.41461278]]), 'cost': -0.8462687577981924}}, {'Position': array([[-1.06325344, -3.78120013, -1.80370592]]), 'cost': nan, 'velocity': array([[-0.7, -0.7, -0.7]]), 'best': {'Position': array([[3.73476459, 3.14176999, 4.41461278]]), 'cost': -0.8462687577981924}}, {'Position': array([[-0.09641912, -4.53942278, -5.69622676]]), 'cost': nan, 'velocity': array([[-0.7, -0.7, -0.7]]), 'best': {'Position': array([[3.73476459, 3.14176999, 4.41461278]]), 'cost': -0.8462687577981924}}, {'Position': array([[-5.27830306, -2.42119221, -1.74614901]]), 'cost': nan, 'velocity': array([[-0.7, -0.7, -0.7]]), 'best': {'Position': array([[3.73476459, 3.14176999, 4.41461278]]), 'cost': -0.8462687577981924}}, {'Position': array([[-6.18981476, -6.35937397, -2.8005466 ]]), 'cost': nan, 'velocity': array([[-0.7, -0.7, -0.7]]), 'best': {'Position': array([[3.73476459, 3.14176999, 4.41461278]]), 'cost': -0.8462687577981924}}, {'Position': array([[-3.91200331, -6.30297969, -1.65389685]]), 'cost': nan, 'velocity': array([[-0.7, -0.7, -0.7]]), 'best': {'Position': array([[3.73476459, 3.14176999, 4.41461278]]), 'cost': -0.8462687577981924}}, {'Position': array([[-2.71852123, -0.64875269, -4.56540595]]), 'cost': nan, 'velocity': array([[-0.7, -0.7, -0.7]]), 'best': {'Position': array([[3.73476459, 3.14176999, 4.41461278]]), 'cost': -0.8462687577981924}}, {'Position': array([[-2.78575852, -4.28002177, -3.31529185]]), 'cost': nan, 'velocity': array([[-0.7, -0.7, -0.7]]), 'best': {'Position': array([[3.73476459, 3.14176999, 4.41461278]]), 'cost': -0.8462687577981924}}, {'Position': array([[-2.52789292, -5.19087577, -4.97732498]]), 'cost': nan, 'velocity': array([[-0.7, -0.7, -0.7]]), 'best': {'Position': array([[3.73476459, 3.14176999, 4.41461278]]), 'cost': -0.8462687577981924}}, {'Position': array([[-0.91756064, -2.73786767, -5.18907246]]), 'cost': nan, 'velocity': array([[-0.7, -0.7, -0.7]]), 'best': {'Position': array([[3.73476459, 3.14176999, 4.41461278]]), 'cost': -0.8462687577981924}}, {'Position': array([[-6.12921786, -2.8507198 , -5.17683268]]), 'cost': nan, 'velocity': array([[-0.7, -0.7, -0.7]]), 'best': {'Position': array([[3.73476459, 3.14176999, 4.41461278]]), 'cost': -0.8462687577981924}}, {'Position': array([[-2.62939979, -6.49969658, -5.05841065]]), 'cost': nan, 'velocity': array([[-0.7, -0.7, -0.7]]), 'best': {'Position': array([[3.73476459, 3.14176999, 4.41461278]]), 'cost': -0.8462687577981924}}, {'Position': array([[-1.51959158, -3.4680958 , -4.05863102]]), 'cost': nan, 'velocity': array([[-0.7, -0.7, -0.7]]), 'best': {'Position': array([[3.73476459, 3.14176999, 4.41461278]]), 'cost': -0.8462687577981924}}, {'Position': array([[-0.17955677, -6.4596541 , -2.83549165]]), 'cost': nan, 'velocity': array([[-0.7, -0.7, -0.7]]), 'best': {'Position': array([[3.73476459, 3.14176999, 4.41461278]]), 'cost': -0.8462687577981924}}, {'Position': array([[-6.10695072, -5.72766017, -6.00300585]]), 'cost': nan, 'velocity': array([[-0.7, -0.7, -0.7]]), 'best': {'Position': array([[3.73476459, 3.14176999, 4.41461278]]), 'cost': -0.8462687577981924}}, {'Position': array([[-3.20626015, -4.84998611, -0.57949547]]), 'cost': nan, 'velocity': array([[-0.7, -0.7, -0.7]]), 'best': {'Position': array([[3.73476459, 3.14176999, 4.41461278]]), 'cost': -0.8462687577981924}}, {'Position': array([[-4.47496924, -1.73498445, -1.42276813]]), 'cost': nan, 'velocity': array([[-0.7, -0.7, -0.7]]), 'best': {'Position': array([[3.73476459, 3.14176999, 4.41461278]]), 'cost': -0.8462687577981924}}, {'Position': array([[-0.48504749, -4.42068303, -1.31909953]]), 'cost': nan, 'velocity': array([[-0.7, -0.7, -0.7]]), 'best': {'Position': array([[3.73476459, 3.14176999, 4.41461278]]), 'cost': -0.8462687577981924}}, {'Position': array([[-3.63440112, -1.49989646, -4.19520982]]), 'cost': nan, 'velocity': array([[-0.7, -0.7, -0.7]]), 'best': {'Position': array([[3.73476459, 3.14176999, 4.41461278]]), 'cost': -0.8462687577981924}}, {'Position': array([[-3.43197143, -1.08303748, -0.00358529]]), 'cost': nan, 'velocity': array([[-0.7, -0.7, -0.7]]), 'best': {'Position': array([[3.73476459, 3.14176999, 4.41461278]]), 'cost': -0.8462687577981924}}, {'Position': array([[-1.1287839 , -1.32108583, -2.4461658 ]]), 'cost': nan, 'velocity': array([[-0.7, -0.7, -0.7]]), 'best': {'Position': array([[3.73476459, 3.14176999, 4.41461278]]), 'cost': -0.8462687577981924}}, {'Position': array([[-6.43577118, -5.881576  , -4.5778737 ]]), 'cost': nan, 'velocity': array([[-0.7, -0.7, -0.7]]), 'best': {'Position': array([[3.73476459, 3.14176999, 4.41461278]]), 'cost': -0.8462687577981924}}, {'Position': array([[-1.16523541, -1.75823001, -0.48538722]]), 'cost': nan, 'velocity': array([[-0.7, -0.7, -0.7]]), 'best': {'Position': array([[3.73476459, 3.14176999, 4.41461278]]), 'cost': -0.8462687577981924}}, {'Position': array([[-0.16208813,  0.31797674, -1.66201361]]), 'cost': nan, 'velocity': array([[-0.7, -0.7, -0.7]]), 'best': {'Position': array([[3.73476459, 3.14176999, 4.41461278]]), 'cost': -0.8462687577981924}}, {'Position': array([[ 0.18596856, -5.13739362, -5.63035242]]), 'cost': nan, 'velocity': array([[-0.7, -0.7, -0.7]]), 'best': {'Position': array([[3.73476459, 3.14176999, 4.41461278]]), 'cost': -0.8462687577981924}}, {'Position': array([[-0.98526265, -2.80360119, -1.17146037]]), 'cost': nan, 'velocity': array([[-0.7, -0.7, -0.7]]), 'best': {'Position': array([[3.73476459, 3.14176999, 4.41461278]]), 'cost': -0.8462687577981924}}, {'Position': array([[-6.3242297 , -5.56319059, -6.0287103 ]]), 'cost': nan, 'velocity': array([[-0.7, -0.7, -0.7]]), 'best': {'Position': array([[3.73476459, 3.14176999, 4.41461278]]), 'cost': -0.8462687577981924}}, {'Position': array([[-3.90370111, -1.33004422, -2.64981169]]), 'cost': nan, 'velocity': array([[-0.7, -0.7, -0.7]]), 'best': {'Position': array([[3.73476459, 3.14176999, 4.41461278]]), 'cost': -0.8462687577981924}}, {'Position': array([[-1.94768751, -0.90565322, -6.50593393]]), 'cost': nan, 'velocity': array([[-0.7, -0.7, -0.7]]), 'best': {'Position': array([[3.73476459, 3.14176999, 4.41461278]]), 'cost': -0.8462687577981924}}, {'Position': array([[-2.30929258, -0.02441728, -5.01340488]]), 'cost': nan, 'velocity': array([[-0.7, -0.7, -0.7]]), 'best': {'Position': array([[3.73476459, 3.14176999, 4.41461278]]), 'cost': -0.8462687577981924}}, {'Position': array([[-4.47829448, -5.46367122, -1.42609559]]), 'cost': nan, 'velocity': array([[-0.7, -0.7, -0.7]]), 'best': {'Position': array([[3.73476459, 3.14176999, 4.41461278]]), 'cost': -0.8462687577981924}}, {'Position': array([[-0.24224544, -4.33905387, -4.01134247]]), 'cost': nan, 'velocity': array([[-0.7, -0.7, -0.7]]), 'best': {'Position': array([[3.73476459, 3.14176999, 4.41461278]]), 'cost': -0.8462687577981924}}, {'Position': array([[-2.48501121, -2.84499197, -4.92455533]]), 'cost': nan, 'velocity': array([[-0.7, -0.7, -0.7]]), 'best': {'Position': array([[3.73476459, 3.14176999, 4.41461278]]), 'cost': -0.8462687577981924}}, {'Position': array([[-4.06372634, -4.17025864, -2.57855304]]), 'cost': nan, 'velocity': array([[-0.7, -0.7, -0.7]]), 'best': {'Position': array([[3.73476459, 3.14176999, 4.41461278]]), 'cost': -0.8462687577981924}}, {'Position': array([[-1.32951928, -5.1113155 , -1.61787674]]), 'cost': nan, 'velocity': array([[-0.7, -0.7, -0.7]]), 'best': {'Position': array([[3.73476459, 3.14176999, 4.41461278]]), 'cost': -0.8462687577981924}}, {'Position': array([[-5.79388153, -2.98386852, -3.89473988]]), 'cost': nan, 'velocity': array([[-0.7, -0.7, -0.7]]), 'best': {'Position': array([[3.73476459, 3.14176999, 4.41461278]]), 'cost': -0.8462687577981924}}, {'Position': array([[-1.65721009, -3.17751099, -2.43998104]]), 'cost': nan, 'velocity': array([[-0.7, -0.7, -0.7]]), 'best': {'Position': array([[3.73476459, 3.14176999, 4.41461278]]), 'cost': -0.8462687577981924}}, {'Position': array([[-2.6356294 , -3.27254939, -5.91276001]]), 'cost': nan, 'velocity': array([[-0.7, -0.7, -0.7]]), 'best': {'Position': array([[3.73476459, 3.14176999, 4.41461278]]), 'cost': -0.8462687577981924}}, {'Position': array([[-0.21361479, -3.85710072, -4.49355883]]), 'cost': nan, 'velocity': array([[-0.7, -0.7, -0.7]]), 'best': {'Position': array([[3.73476459, 3.14176999, 4.41461278]]), 'cost': -0.8462687577981924}}, {'Position': array([[-0.06873253, -6.50353759, -6.4750989 ]]), 'cost': nan, 'velocity': array([[-0.7, -0.7, -0.7]]), 'best': {'Position': array([[3.73476459, 3.14176999, 4.41461278]]), 'cost': -0.8462687577981924}}, {'Position': array([[-1.99792347, -2.66426166, -0.37545088]]), 'cost': nan, 'velocity': array([[-0.7, -0.7, -0.7]]), 'best': {'Position': array([[3.73476459, 3.14176999, 4.41461278]]), 'cost': -0.8462687577981924}}, {'Position': array([[-2.1116428 , -4.6941223 , -5.59780335]]), 'cost': nan, 'velocity': array([[-0.7, -0.7, -0.7]]), 'best': {'Position': array([[3.73476459, 3.14176999, 4.41461278]]), 'cost': -0.8462687577981924}}, {'Position': array([[-6.17616041, -0.3350245 , -1.34029581]]), 'cost': nan, 'velocity': array([[-0.7, -0.7, -0.7]]), 'best': {'Position': array([[3.73476459, 3.14176999, 4.41461278]]), 'cost': -0.8462687577981924}}, {'Position': array([[-2.82522044, -1.43489202, -3.78494207]]), 'cost': nan, 'velocity': array([[-0.7, -0.7, -0.7]]), 'best': {'Position': array([[3.73476459, 3.14176999, 4.41461278]]), 'cost': -0.8462687577981924}}, {'Position': array([[-6.2471386 , -3.20554263, -2.81352224]]), 'cost': nan, 'velocity': array([[-0.7, -0.7, -0.7]]), 'best': {'Position': array([[3.73476459, 3.14176999, 4.41461278]]), 'cost': -0.8462687577981924}}, {'Position': array([[-3.8522605 , -3.44907632, -1.14407187]]), 'cost': nan, 'velocity': array([[-0.7, -0.7, -0.7]]), 'best': {'Position': array([[3.73476459, 3.14176999, 4.41461278]]), 'cost': -0.8462687577981924}}, {'Position': array([[-0.65918733, -2.67617999, -5.12963221]]), 'cost': nan, 'velocity': array([[-0.7, -0.7, -0.7]]), 'best': {'Position': array([[3.73476459, 3.14176999, 4.41461278]]), 'cost': -0.8462687577981924}}, {'Position': array([[-4.33089356, -5.18783942, -0.9689189 ]]), 'cost': nan, 'velocity': array([[-0.7, -0.7, -0.7]]), 'best': {'Position': array([[3.73476459, 3.14176999, 4.41461278]]), 'cost': -0.8462687577981924}}, {'Position': array([[-2.11960582, -5.30251326, -0.30150133]]), 'cost': nan, 'velocity': array([[-0.7, -0.7, -0.7]]), 'best': {'Position': array([[3.73476459, 3.14176999, 4.41461278]]), 'cost': -0.8462687577981924}}, {'Position': array([[-1.18029309, -5.64597301, -2.42169031]]), 'cost': nan, 'velocity': array([[-0.7, -0.7, -0.7]]), 'best': {'Position': array([[3.73476459, 3.14176999, 4.41461278]]), 'cost': -0.8462687577981924}}, {'Position': array([[-3.33179667, -4.66096726, -2.08115081]]), 'cost': nan, 'velocity': array([[-0.7, -0.7, -0.7]]), 'best': {'Position': array([[3.73476459, 3.14176999, 4.41461278]]), 'cost': -0.8462687577981924}}, {'Position': array([[ 0.25949874, -5.42276681, -3.30242401]]), 'cost': nan, 'velocity': array([[-0.7, -0.7, -0.7]]), 'best': {'Position': array([[3.73476459, 3.14176999, 4.41461278]]), 'cost': -0.8462687577981924}}, {'Position': array([[-5.43756656,  0.25743498, -1.5899822 ]]), 'cost': nan, 'velocity': array([[-0.7, -0.7, -0.7]]), 'best': {'Position': array([[3.73476459, 3.14176999, 4.41461278]]), 'cost': -0.8462687577981924}}, {'Position': array([[-0.03418706, -3.44499692, -6.28893977]]), 'cost': nan, 'velocity': array([[-0.7, -0.7, -0.7]]), 'best': {'Position': array([[3.73476459, 3.14176999, 4.41461278]]), 'cost': -0.8462687577981924}}, {'Position': array([[-2.26623781, -2.15844978, -0.32015424]]), 'cost': nan, 'velocity': array([[-0.7, -0.7, -0.7]]), 'best': {'Position': array([[3.73476459, 3.14176999, 4.41461278]]), 'cost': -0.8462687577981924}}, {'Position': array([[-1.76464785, -1.45682373, -5.75714896]]), 'cost': nan, 'velocity': array([[-0.7, -0.7, -0.7]]), 'best': {'Position': array([[3.73476459, 3.14176999, 4.41461278]]), 'cost': -0.8462687577981924}}, {'Position': array([[-3.90851683, -3.308286  ,  0.20015157]]), 'cost': nan, 'velocity': array([[-0.7, -0.7, -0.7]]), 'best': {'Position': array([[3.73476459, 3.14176999, 4.41461278]]), 'cost': -0.8462687577981924}}, {'Position': array([[-3.99767694, -1.21484327, -2.43930433]]), 'cost': nan, 'velocity': array([[-0.7, -0.7, -0.7]]), 'best': {'Position': array([[3.73476459, 3.14176999, 4.41461278]]), 'cost': -0.8462687577981924}}, {'Position': array([[-3.74112699, -0.85826047, -6.48778752]]), 'cost': nan, 'velocity': array([[-0.7, -0.7, -0.7]]), 'best': {'Position': array([[3.73476459, 3.14176999, 4.41461278]]), 'cost': -0.8462687577981924}}, {'Position': array([[-2.95924445, -6.45856211, -5.84861302]]), 'cost': nan, 'velocity': array([[-0.7, -0.7, -0.7]]), 'best': {'Position': array([[3.73476459, 3.14176999, 4.41461278]]), 'cost': -0.8462687577981924}}, {'Position': array([[-0.70368394, -1.12523461, -6.36050063]]), 'cost': nan, 'velocity': array([[-0.7, -0.7, -0.7]]), 'best': {'Position': array([[3.73476459, 3.14176999, 4.41461278]]), 'cost': -0.8462687577981924}}, {'Position': array([[-3.23930016, -2.19712193, -1.89264443]]), 'cost': nan, 'velocity': array([[-0.7, -0.7, -0.7]]), 'best': {'Position': array([[3.73476459, 3.14176999, 4.41461278]]), 'cost': -0.8462687577981924}}, {'Position': array([[-0.17275695, -4.11834215, -2.21656347]]), 'cost': nan, 'velocity': array([[-0.7, -0.7, -0.7]]), 'best': {'Position': array([[3.73476459, 3.14176999, 4.41461278]]), 'cost': -0.8462687577981924}}, {'Position': array([[-3.51636032, -2.94520894, -6.04573041]]), 'cost': nan, 'velocity': array([[-0.7, -0.7, -0.7]]), 'best': {'Position': array([[3.73476459, 3.14176999, 4.41461278]]), 'cost': -0.8462687577981924}}, {'Position': array([[ 0.26561987, -1.71408693, -3.56901452]]), 'cost': nan, 'velocity': array([[-0.7, -0.7, -0.7]]), 'best': {'Position': array([[3.73476459, 3.14176999, 4.41461278]]), 'cost': -0.8462687577981924}}, {'Position': array([[-5.39986202, -6.19455355, -5.69289528]]), 'cost': nan, 'velocity': array([[-0.7, -0.7, -0.7]]), 'best': {'Position': array([[3.73476459, 3.14176999, 4.41461278]]), 'cost': -0.8462687577981924}}, {'Position': array([[-3.86737979, -2.71991308, -0.82697204]]), 'cost': nan, 'velocity': array([[-0.7, -0.7, -0.7]]), 'best': {'Position': array([[3.73476459, 3.14176999, 4.41461278]]), 'cost': -0.8462687577981924}}, {'Position': array([[-3.64276582, -0.7438644 , -6.28476241]]), 'cost': nan, 'velocity': array([[-0.7, -0.7, -0.7]]), 'best': {'Position': array([[3.73476459, 3.14176999, 4.41461278]]), 'cost': -0.8462687577981924}}, {'Position': array([[-0.80959177, -5.49476381, -2.79653066]]), 'cost': nan, 'velocity': array([[-0.7, -0.7, -0.7]]), 'best': {'Position': array([[3.73476459, 3.14176999, 4.41461278]]), 'cost': -0.8462687577981924}}, {'Position': array([[-3.41693512, -5.53449842, -2.68314306]]), 'cost': nan, 'velocity': array([[-0.7, -0.7, -0.7]]), 'best': {'Position': array([[3.73476459, 3.14176999, 4.41461278]]), 'cost': -0.8462687577981924}}, {'Position': array([[-1.62067809, -4.90722729,  0.39589314]]), 'cost': nan, 'velocity': array([[-0.7, -0.7, -0.7]]), 'best': {'Position': array([[3.73476459, 3.14176999, 4.41461278]]), 'cost': -0.8462687577981924}}]\n",
      "\n",
      " [{'Position': array([[-7.18727844, -5.79831253, -3.32281587]]), 'cost': nan, 'velocity': array([[-0.7, -0.7, -0.7]]), 'best': {'Position': array([[3.73476459, 3.14176999, 4.41461278]]), 'cost': -0.8462687577981924}}, {'Position': array([[-3.63205371, -4.86670707, -5.75422898]]), 'cost': nan, 'velocity': array([[-0.7, -0.7, -0.7]]), 'best': {'Position': array([[3.73476459, 3.14176999, 4.41461278]]), 'cost': -0.8462687577981924}}, {'Position': array([[-6.21134298, -1.5726241 , -4.57330542]]), 'cost': nan, 'velocity': array([[-0.7, -0.7, -0.7]]), 'best': {'Position': array([[3.73476459, 3.14176999, 4.41461278]]), 'cost': -0.8462687577981924}}, {'Position': array([[-5.46942378, -2.34587339, -5.64210578]]), 'cost': nan, 'velocity': array([[-0.7, -0.7, -0.7]]), 'best': {'Position': array([[3.73476459, 3.14176999, 4.41461278]]), 'cost': -0.8462687577981924}}, {'Position': array([[-5.56184573, -6.47189838, -0.43155419]]), 'cost': nan, 'velocity': array([[-0.7, -0.7, -0.7]]), 'best': {'Position': array([[3.73476459, 3.14176999, 4.41461278]]), 'cost': -0.8462687577981924}}, {'Position': array([[-6.40495185, -4.94103937, -5.50768923]]), 'cost': nan, 'velocity': array([[-0.7, -0.7, -0.7]]), 'best': {'Position': array([[3.73476459, 3.14176999, 4.41461278]]), 'cost': -0.8462687577981924}}, {'Position': array([[-5.36756758, -2.60833451, -5.63572479]]), 'cost': nan, 'velocity': array([[-0.7, -0.7, -0.7]]), 'best': {'Position': array([[3.73476459, 3.14176999, 4.41461278]]), 'cost': -0.8462687577981924}}, {'Position': array([[-6.06451253, -1.87991645, -3.14040277]]), 'cost': nan, 'velocity': array([[-0.7, -0.7, -0.7]]), 'best': {'Position': array([[3.73476459, 3.14176999, 4.41461278]]), 'cost': -0.8462687577981924}}, {'Position': array([[-1.9992313 , -0.59001523, -3.57286021]]), 'cost': nan, 'velocity': array([[-0.7, -0.7, -0.7]]), 'best': {'Position': array([[3.73476459, 3.14176999, 4.41461278]]), 'cost': -0.8462687577981924}}, {'Position': array([[-1.51645252, -7.04683215, -6.2778023 ]]), 'cost': nan, 'velocity': array([[-0.7, -0.7, -0.7]]), 'best': {'Position': array([[3.73476459, 3.14176999, 4.41461278]]), 'cost': -0.8462687577981924}}, {'Position': array([[-4.9277473 , -6.96511211, -6.59687368]]), 'cost': nan, 'velocity': array([[-0.7, -0.7, -0.7]]), 'best': {'Position': array([[3.73476459, 3.14176999, 4.41461278]]), 'cost': -0.8462687577981924}}, {'Position': array([[-3.77284417, -2.50848329, -0.83010283]]), 'cost': nan, 'velocity': array([[-0.7, -0.7, -0.7]]), 'best': {'Position': array([[3.73476459, 3.14176999, 4.41461278]]), 'cost': -0.8462687577981924}}, {'Position': array([[-6.32529027, -1.2898101 , -3.35705267]]), 'cost': nan, 'velocity': array([[-0.7, -0.7, -0.7]]), 'best': {'Position': array([[3.73476459, 3.14176999, 4.41461278]]), 'cost': -0.8462687577981924}}, {'Position': array([[-6.38711035, -5.01030677, -3.0815492 ]]), 'cost': nan, 'velocity': array([[-0.7, -0.7, -0.7]]), 'best': {'Position': array([[3.73476459, 3.14176999, 4.41461278]]), 'cost': -0.8462687577981924}}, {'Position': array([[-1.82526435, -5.94532922, -3.4905398 ]]), 'cost': nan, 'velocity': array([[-0.7, -0.7, -0.7]]), 'best': {'Position': array([[3.73476459, 3.14176999, 4.41461278]]), 'cost': -0.8462687577981924}}, {'Position': array([[-4.51534911, -4.60365722, -3.1259245 ]]), 'cost': nan, 'velocity': array([[-0.7, -0.7, -0.7]]), 'best': {'Position': array([[3.73476459, 3.14176999, 4.41461278]]), 'cost': -0.8462687577981924}}, {'Position': array([[-1.66869242, -1.92373096, -4.20727317]]), 'cost': nan, 'velocity': array([[-0.7, -0.7, -0.7]]), 'best': {'Position': array([[3.73476459, 3.14176999, 4.41461278]]), 'cost': -0.8462687577981924}}, {'Position': array([[-6.76056069, -5.11070198, -4.86394845]]), 'cost': nan, 'velocity': array([[-0.7, -0.7, -0.7]]), 'best': {'Position': array([[3.73476459, 3.14176999, 4.41461278]]), 'cost': -0.8462687577981924}}, {'Position': array([[-5.62723892, -2.33164774, -2.7207363 ]]), 'cost': nan, 'velocity': array([[-0.7, -0.7, -0.7]]), 'best': {'Position': array([[3.73476459, 3.14176999, 4.41461278]]), 'cost': -0.8462687577981924}}, {'Position': array([[-0.70449936, -6.38021946, -2.81866827]]), 'cost': nan, 'velocity': array([[-0.7, -0.7, -0.7]]), 'best': {'Position': array([[3.73476459, 3.14176999, 4.41461278]]), 'cost': -0.8462687577981924}}, {'Position': array([[-5.48962431, -2.74824406, -4.96245093]]), 'cost': nan, 'velocity': array([[-0.7, -0.7, -0.7]]), 'best': {'Position': array([[3.73476459, 3.14176999, 4.41461278]]), 'cost': -0.8462687577981924}}, {'Position': array([[-3.58323912, -6.69944072, -5.72857407]]), 'cost': nan, 'velocity': array([[-0.7, -0.7, -0.7]]), 'best': {'Position': array([[3.73476459, 3.14176999, 4.41461278]]), 'cost': -0.8462687577981924}}, {'Position': array([[-1.43872026, -5.79977984, -5.13313156]]), 'cost': nan, 'velocity': array([[-0.7, -0.7, -0.7]]), 'best': {'Position': array([[3.73476459, 3.14176999, 4.41461278]]), 'cost': -0.8462687577981924}}, {'Position': array([[-6.56991215, -4.37242539, -3.74331197]]), 'cost': nan, 'velocity': array([[-0.7, -0.7, -0.7]]), 'best': {'Position': array([[3.73476459, 3.14176999, 4.41461278]]), 'cost': -0.8462687577981924}}, {'Position': array([[-4.08315059, -3.49660983, -2.07494254]]), 'cost': nan, 'velocity': array([[-0.7, -0.7, -0.7]]), 'best': {'Position': array([[3.73476459, 3.14176999, 4.41461278]]), 'cost': -0.8462687577981924}}, {'Position': array([[-3.09057265, -3.51747679, -1.60295968]]), 'cost': nan, 'velocity': array([[-0.7, -0.7, -0.7]]), 'best': {'Position': array([[3.73476459, 3.14176999, 4.41461278]]), 'cost': -0.8462687577981924}}, {'Position': array([[-4.67863135, -1.52806573, -2.40425537]]), 'cost': nan, 'velocity': array([[-0.7, -0.7, -0.7]]), 'best': {'Position': array([[3.73476459, 3.14176999, 4.41461278]]), 'cost': -0.8462687577981924}}, {'Position': array([[-0.97958761, -5.54700835, -4.50710806]]), 'cost': nan, 'velocity': array([[-0.7, -0.7, -0.7]]), 'best': {'Position': array([[3.73476459, 3.14176999, 4.41461278]]), 'cost': -0.8462687577981924}}, {'Position': array([[-6.99875204, -3.68525638, -0.92306414]]), 'cost': nan, 'velocity': array([[-0.7, -0.7, -0.7]]), 'best': {'Position': array([[3.73476459, 3.14176999, 4.41461278]]), 'cost': -0.8462687577981924}}, {'Position': array([[-5.33548676, -4.0003853 , -6.51342755]]), 'cost': nan, 'velocity': array([[-0.7, -0.7, -0.7]]), 'best': {'Position': array([[3.73476459, 3.14176999, 4.41461278]]), 'cost': -0.8462687577981924}}, {'Position': array([[-1.76325344, -4.48120013, -2.50370592]]), 'cost': nan, 'velocity': array([[-0.7, -0.7, -0.7]]), 'best': {'Position': array([[3.73476459, 3.14176999, 4.41461278]]), 'cost': -0.8462687577981924}}, {'Position': array([[-0.79641912, -5.23942278, -6.39622676]]), 'cost': nan, 'velocity': array([[-0.7, -0.7, -0.7]]), 'best': {'Position': array([[3.73476459, 3.14176999, 4.41461278]]), 'cost': -0.8462687577981924}}, {'Position': array([[-5.97830306, -3.12119221, -2.44614901]]), 'cost': nan, 'velocity': array([[-0.7, -0.7, -0.7]]), 'best': {'Position': array([[3.73476459, 3.14176999, 4.41461278]]), 'cost': -0.8462687577981924}}, {'Position': array([[-6.88981476, -7.05937397, -3.5005466 ]]), 'cost': nan, 'velocity': array([[-0.7, -0.7, -0.7]]), 'best': {'Position': array([[3.73476459, 3.14176999, 4.41461278]]), 'cost': -0.8462687577981924}}, {'Position': array([[-4.61200331, -7.00297969, -2.35389685]]), 'cost': nan, 'velocity': array([[-0.7, -0.7, -0.7]]), 'best': {'Position': array([[3.73476459, 3.14176999, 4.41461278]]), 'cost': -0.8462687577981924}}, {'Position': array([[-3.41852123, -1.34875269, -5.26540595]]), 'cost': nan, 'velocity': array([[-0.7, -0.7, -0.7]]), 'best': {'Position': array([[3.73476459, 3.14176999, 4.41461278]]), 'cost': -0.8462687577981924}}, {'Position': array([[-3.48575852, -4.98002177, -4.01529185]]), 'cost': nan, 'velocity': array([[-0.7, -0.7, -0.7]]), 'best': {'Position': array([[3.73476459, 3.14176999, 4.41461278]]), 'cost': -0.8462687577981924}}, {'Position': array([[-3.22789292, -5.89087577, -5.67732498]]), 'cost': nan, 'velocity': array([[-0.7, -0.7, -0.7]]), 'best': {'Position': array([[3.73476459, 3.14176999, 4.41461278]]), 'cost': -0.8462687577981924}}, {'Position': array([[-1.61756064, -3.43786767, -5.88907246]]), 'cost': nan, 'velocity': array([[-0.7, -0.7, -0.7]]), 'best': {'Position': array([[3.73476459, 3.14176999, 4.41461278]]), 'cost': -0.8462687577981924}}, {'Position': array([[-6.82921786, -3.5507198 , -5.87683268]]), 'cost': nan, 'velocity': array([[-0.7, -0.7, -0.7]]), 'best': {'Position': array([[3.73476459, 3.14176999, 4.41461278]]), 'cost': -0.8462687577981924}}, {'Position': array([[-3.32939979, -7.19969658, -5.75841065]]), 'cost': nan, 'velocity': array([[-0.7, -0.7, -0.7]]), 'best': {'Position': array([[3.73476459, 3.14176999, 4.41461278]]), 'cost': -0.8462687577981924}}, {'Position': array([[-2.21959158, -4.1680958 , -4.75863102]]), 'cost': nan, 'velocity': array([[-0.7, -0.7, -0.7]]), 'best': {'Position': array([[3.73476459, 3.14176999, 4.41461278]]), 'cost': -0.8462687577981924}}, {'Position': array([[-0.87955677, -7.1596541 , -3.53549165]]), 'cost': nan, 'velocity': array([[-0.7, -0.7, -0.7]]), 'best': {'Position': array([[3.73476459, 3.14176999, 4.41461278]]), 'cost': -0.8462687577981924}}, {'Position': array([[-6.80695072, -6.42766017, -6.70300585]]), 'cost': nan, 'velocity': array([[-0.7, -0.7, -0.7]]), 'best': {'Position': array([[3.73476459, 3.14176999, 4.41461278]]), 'cost': -0.8462687577981924}}, {'Position': array([[-3.90626015, -5.54998611, -1.27949547]]), 'cost': nan, 'velocity': array([[-0.7, -0.7, -0.7]]), 'best': {'Position': array([[3.73476459, 3.14176999, 4.41461278]]), 'cost': -0.8462687577981924}}, {'Position': array([[-5.17496924, -2.43498445, -2.12276813]]), 'cost': nan, 'velocity': array([[-0.7, -0.7, -0.7]]), 'best': {'Position': array([[3.73476459, 3.14176999, 4.41461278]]), 'cost': -0.8462687577981924}}, {'Position': array([[-1.18504749, -5.12068303, -2.01909953]]), 'cost': nan, 'velocity': array([[-0.7, -0.7, -0.7]]), 'best': {'Position': array([[3.73476459, 3.14176999, 4.41461278]]), 'cost': -0.8462687577981924}}, {'Position': array([[-4.33440112, -2.19989646, -4.89520982]]), 'cost': nan, 'velocity': array([[-0.7, -0.7, -0.7]]), 'best': {'Position': array([[3.73476459, 3.14176999, 4.41461278]]), 'cost': -0.8462687577981924}}, {'Position': array([[-4.13197143, -1.78303748, -0.70358529]]), 'cost': nan, 'velocity': array([[-0.7, -0.7, -0.7]]), 'best': {'Position': array([[3.73476459, 3.14176999, 4.41461278]]), 'cost': -0.8462687577981924}}, {'Position': array([[-1.8287839 , -2.02108583, -3.1461658 ]]), 'cost': nan, 'velocity': array([[-0.7, -0.7, -0.7]]), 'best': {'Position': array([[3.73476459, 3.14176999, 4.41461278]]), 'cost': -0.8462687577981924}}, {'Position': array([[-7.13577118, -6.581576  , -5.2778737 ]]), 'cost': nan, 'velocity': array([[-0.7, -0.7, -0.7]]), 'best': {'Position': array([[3.73476459, 3.14176999, 4.41461278]]), 'cost': -0.8462687577981924}}, {'Position': array([[-1.86523541, -2.45823001, -1.18538722]]), 'cost': nan, 'velocity': array([[-0.7, -0.7, -0.7]]), 'best': {'Position': array([[3.73476459, 3.14176999, 4.41461278]]), 'cost': -0.8462687577981924}}, {'Position': array([[-0.86208813, -0.38202326, -2.36201361]]), 'cost': nan, 'velocity': array([[-0.7, -0.7, -0.7]]), 'best': {'Position': array([[3.73476459, 3.14176999, 4.41461278]]), 'cost': -0.8462687577981924}}, {'Position': array([[-0.51403144, -5.83739362, -6.33035242]]), 'cost': nan, 'velocity': array([[-0.7, -0.7, -0.7]]), 'best': {'Position': array([[3.73476459, 3.14176999, 4.41461278]]), 'cost': -0.8462687577981924}}, {'Position': array([[-1.68526265, -3.50360119, -1.87146037]]), 'cost': nan, 'velocity': array([[-0.7, -0.7, -0.7]]), 'best': {'Position': array([[3.73476459, 3.14176999, 4.41461278]]), 'cost': -0.8462687577981924}}, {'Position': array([[-7.0242297 , -6.26319059, -6.7287103 ]]), 'cost': nan, 'velocity': array([[-0.7, -0.7, -0.7]]), 'best': {'Position': array([[3.73476459, 3.14176999, 4.41461278]]), 'cost': -0.8462687577981924}}, {'Position': array([[-4.60370111, -2.03004422, -3.34981169]]), 'cost': nan, 'velocity': array([[-0.7, -0.7, -0.7]]), 'best': {'Position': array([[3.73476459, 3.14176999, 4.41461278]]), 'cost': -0.8462687577981924}}, {'Position': array([[-2.64768751, -1.60565322, -7.20593393]]), 'cost': nan, 'velocity': array([[-0.7, -0.7, -0.7]]), 'best': {'Position': array([[3.73476459, 3.14176999, 4.41461278]]), 'cost': -0.8462687577981924}}, {'Position': array([[-3.00929258, -0.72441728, -5.71340488]]), 'cost': nan, 'velocity': array([[-0.7, -0.7, -0.7]]), 'best': {'Position': array([[3.73476459, 3.14176999, 4.41461278]]), 'cost': -0.8462687577981924}}, {'Position': array([[-5.17829448, -6.16367122, -2.12609559]]), 'cost': nan, 'velocity': array([[-0.7, -0.7, -0.7]]), 'best': {'Position': array([[3.73476459, 3.14176999, 4.41461278]]), 'cost': -0.8462687577981924}}, {'Position': array([[-0.94224544, -5.03905387, -4.71134247]]), 'cost': nan, 'velocity': array([[-0.7, -0.7, -0.7]]), 'best': {'Position': array([[3.73476459, 3.14176999, 4.41461278]]), 'cost': -0.8462687577981924}}, {'Position': array([[-3.18501121, -3.54499197, -5.62455533]]), 'cost': nan, 'velocity': array([[-0.7, -0.7, -0.7]]), 'best': {'Position': array([[3.73476459, 3.14176999, 4.41461278]]), 'cost': -0.8462687577981924}}, {'Position': array([[-4.76372634, -4.87025864, -3.27855304]]), 'cost': nan, 'velocity': array([[-0.7, -0.7, -0.7]]), 'best': {'Position': array([[3.73476459, 3.14176999, 4.41461278]]), 'cost': -0.8462687577981924}}, {'Position': array([[-2.02951928, -5.8113155 , -2.31787674]]), 'cost': nan, 'velocity': array([[-0.7, -0.7, -0.7]]), 'best': {'Position': array([[3.73476459, 3.14176999, 4.41461278]]), 'cost': -0.8462687577981924}}, {'Position': array([[-6.49388153, -3.68386852, -4.59473988]]), 'cost': nan, 'velocity': array([[-0.7, -0.7, -0.7]]), 'best': {'Position': array([[3.73476459, 3.14176999, 4.41461278]]), 'cost': -0.8462687577981924}}, {'Position': array([[-2.35721009, -3.87751099, -3.13998104]]), 'cost': nan, 'velocity': array([[-0.7, -0.7, -0.7]]), 'best': {'Position': array([[3.73476459, 3.14176999, 4.41461278]]), 'cost': -0.8462687577981924}}, {'Position': array([[-3.3356294 , -3.97254939, -6.61276001]]), 'cost': nan, 'velocity': array([[-0.7, -0.7, -0.7]]), 'best': {'Position': array([[3.73476459, 3.14176999, 4.41461278]]), 'cost': -0.8462687577981924}}, {'Position': array([[-0.91361479, -4.55710072, -5.19355883]]), 'cost': nan, 'velocity': array([[-0.7, -0.7, -0.7]]), 'best': {'Position': array([[3.73476459, 3.14176999, 4.41461278]]), 'cost': -0.8462687577981924}}, {'Position': array([[-0.76873253, -7.20353759, -7.1750989 ]]), 'cost': nan, 'velocity': array([[-0.7, -0.7, -0.7]]), 'best': {'Position': array([[3.73476459, 3.14176999, 4.41461278]]), 'cost': -0.8462687577981924}}, {'Position': array([[-2.69792347, -3.36426166, -1.07545088]]), 'cost': nan, 'velocity': array([[-0.7, -0.7, -0.7]]), 'best': {'Position': array([[3.73476459, 3.14176999, 4.41461278]]), 'cost': -0.8462687577981924}}, {'Position': array([[-2.8116428 , -5.3941223 , -6.29780335]]), 'cost': nan, 'velocity': array([[-0.7, -0.7, -0.7]]), 'best': {'Position': array([[3.73476459, 3.14176999, 4.41461278]]), 'cost': -0.8462687577981924}}, {'Position': array([[-6.87616041, -1.0350245 , -2.04029581]]), 'cost': nan, 'velocity': array([[-0.7, -0.7, -0.7]]), 'best': {'Position': array([[3.73476459, 3.14176999, 4.41461278]]), 'cost': -0.8462687577981924}}, {'Position': array([[-3.52522044, -2.13489202, -4.48494207]]), 'cost': nan, 'velocity': array([[-0.7, -0.7, -0.7]]), 'best': {'Position': array([[3.73476459, 3.14176999, 4.41461278]]), 'cost': -0.8462687577981924}}, {'Position': array([[-6.9471386 , -3.90554263, -3.51352224]]), 'cost': nan, 'velocity': array([[-0.7, -0.7, -0.7]]), 'best': {'Position': array([[3.73476459, 3.14176999, 4.41461278]]), 'cost': -0.8462687577981924}}, {'Position': array([[-4.5522605 , -4.14907632, -1.84407187]]), 'cost': nan, 'velocity': array([[-0.7, -0.7, -0.7]]), 'best': {'Position': array([[3.73476459, 3.14176999, 4.41461278]]), 'cost': -0.8462687577981924}}, {'Position': array([[-1.35918733, -3.37617999, -5.82963221]]), 'cost': nan, 'velocity': array([[-0.7, -0.7, -0.7]]), 'best': {'Position': array([[3.73476459, 3.14176999, 4.41461278]]), 'cost': -0.8462687577981924}}, {'Position': array([[-5.03089356, -5.88783942, -1.6689189 ]]), 'cost': nan, 'velocity': array([[-0.7, -0.7, -0.7]]), 'best': {'Position': array([[3.73476459, 3.14176999, 4.41461278]]), 'cost': -0.8462687577981924}}, {'Position': array([[-2.81960582, -6.00251326, -1.00150133]]), 'cost': nan, 'velocity': array([[-0.7, -0.7, -0.7]]), 'best': {'Position': array([[3.73476459, 3.14176999, 4.41461278]]), 'cost': -0.8462687577981924}}, {'Position': array([[-1.88029309, -6.34597301, -3.12169031]]), 'cost': nan, 'velocity': array([[-0.7, -0.7, -0.7]]), 'best': {'Position': array([[3.73476459, 3.14176999, 4.41461278]]), 'cost': -0.8462687577981924}}, {'Position': array([[-4.03179667, -5.36096726, -2.78115081]]), 'cost': nan, 'velocity': array([[-0.7, -0.7, -0.7]]), 'best': {'Position': array([[3.73476459, 3.14176999, 4.41461278]]), 'cost': -0.8462687577981924}}, {'Position': array([[-0.44050126, -6.12276681, -4.00242401]]), 'cost': nan, 'velocity': array([[-0.7, -0.7, -0.7]]), 'best': {'Position': array([[3.73476459, 3.14176999, 4.41461278]]), 'cost': -0.8462687577981924}}, {'Position': array([[-6.13756656, -0.44256502, -2.2899822 ]]), 'cost': nan, 'velocity': array([[-0.7, -0.7, -0.7]]), 'best': {'Position': array([[3.73476459, 3.14176999, 4.41461278]]), 'cost': -0.8462687577981924}}, {'Position': array([[-0.73418706, -4.14499692, -6.98893977]]), 'cost': nan, 'velocity': array([[-0.7, -0.7, -0.7]]), 'best': {'Position': array([[3.73476459, 3.14176999, 4.41461278]]), 'cost': -0.8462687577981924}}, {'Position': array([[-2.96623781, -2.85844978, -1.02015424]]), 'cost': nan, 'velocity': array([[-0.7, -0.7, -0.7]]), 'best': {'Position': array([[3.73476459, 3.14176999, 4.41461278]]), 'cost': -0.8462687577981924}}, {'Position': array([[-2.46464785, -2.15682373, -6.45714896]]), 'cost': nan, 'velocity': array([[-0.7, -0.7, -0.7]]), 'best': {'Position': array([[3.73476459, 3.14176999, 4.41461278]]), 'cost': -0.8462687577981924}}, {'Position': array([[-4.60851683, -4.008286  , -0.49984843]]), 'cost': nan, 'velocity': array([[-0.7, -0.7, -0.7]]), 'best': {'Position': array([[3.73476459, 3.14176999, 4.41461278]]), 'cost': -0.8462687577981924}}, {'Position': array([[-4.69767694, -1.91484327, -3.13930433]]), 'cost': nan, 'velocity': array([[-0.7, -0.7, -0.7]]), 'best': {'Position': array([[3.73476459, 3.14176999, 4.41461278]]), 'cost': -0.8462687577981924}}, {'Position': array([[-4.44112699, -1.55826047, -7.18778752]]), 'cost': nan, 'velocity': array([[-0.7, -0.7, -0.7]]), 'best': {'Position': array([[3.73476459, 3.14176999, 4.41461278]]), 'cost': -0.8462687577981924}}, {'Position': array([[-3.65924445, -7.15856211, -6.54861302]]), 'cost': nan, 'velocity': array([[-0.7, -0.7, -0.7]]), 'best': {'Position': array([[3.73476459, 3.14176999, 4.41461278]]), 'cost': -0.8462687577981924}}, {'Position': array([[-1.40368394, -1.82523461, -7.06050063]]), 'cost': nan, 'velocity': array([[-0.7, -0.7, -0.7]]), 'best': {'Position': array([[3.73476459, 3.14176999, 4.41461278]]), 'cost': -0.8462687577981924}}, {'Position': array([[-3.93930016, -2.89712193, -2.59264443]]), 'cost': nan, 'velocity': array([[-0.7, -0.7, -0.7]]), 'best': {'Position': array([[3.73476459, 3.14176999, 4.41461278]]), 'cost': -0.8462687577981924}}, {'Position': array([[-0.87275695, -4.81834215, -2.91656347]]), 'cost': nan, 'velocity': array([[-0.7, -0.7, -0.7]]), 'best': {'Position': array([[3.73476459, 3.14176999, 4.41461278]]), 'cost': -0.8462687577981924}}, {'Position': array([[-4.21636032, -3.64520894, -6.74573041]]), 'cost': nan, 'velocity': array([[-0.7, -0.7, -0.7]]), 'best': {'Position': array([[3.73476459, 3.14176999, 4.41461278]]), 'cost': -0.8462687577981924}}, {'Position': array([[-0.43438013, -2.41408693, -4.26901452]]), 'cost': nan, 'velocity': array([[-0.7, -0.7, -0.7]]), 'best': {'Position': array([[3.73476459, 3.14176999, 4.41461278]]), 'cost': -0.8462687577981924}}, {'Position': array([[-6.09986202, -6.89455355, -6.39289528]]), 'cost': nan, 'velocity': array([[-0.7, -0.7, -0.7]]), 'best': {'Position': array([[3.73476459, 3.14176999, 4.41461278]]), 'cost': -0.8462687577981924}}, {'Position': array([[-4.56737979, -3.41991308, -1.52697204]]), 'cost': nan, 'velocity': array([[-0.7, -0.7, -0.7]]), 'best': {'Position': array([[3.73476459, 3.14176999, 4.41461278]]), 'cost': -0.8462687577981924}}, {'Position': array([[-4.34276582, -1.4438644 , -6.98476241]]), 'cost': nan, 'velocity': array([[-0.7, -0.7, -0.7]]), 'best': {'Position': array([[3.73476459, 3.14176999, 4.41461278]]), 'cost': -0.8462687577981924}}, {'Position': array([[-1.50959177, -6.19476381, -3.49653066]]), 'cost': nan, 'velocity': array([[-0.7, -0.7, -0.7]]), 'best': {'Position': array([[3.73476459, 3.14176999, 4.41461278]]), 'cost': -0.8462687577981924}}, {'Position': array([[-4.11693512, -6.23449842, -3.38314306]]), 'cost': nan, 'velocity': array([[-0.7, -0.7, -0.7]]), 'best': {'Position': array([[3.73476459, 3.14176999, 4.41461278]]), 'cost': -0.8462687577981924}}, {'Position': array([[-2.32067809, -5.60722729, -0.30410686]]), 'cost': nan, 'velocity': array([[-0.7, -0.7, -0.7]]), 'best': {'Position': array([[3.73476459, 3.14176999, 4.41461278]]), 'cost': -0.8462687577981924}}]\n",
      "\n",
      " [{'Position': array([[-7.88727844, -6.49831253, -4.02281587]]), 'cost': nan, 'velocity': array([[-0.7, -0.7, -0.7]]), 'best': {'Position': array([[3.73476459, 3.14176999, 4.41461278]]), 'cost': -0.8462687577981924}}, {'Position': array([[-4.33205371, -5.56670707, -6.45422898]]), 'cost': nan, 'velocity': array([[-0.7, -0.7, -0.7]]), 'best': {'Position': array([[3.73476459, 3.14176999, 4.41461278]]), 'cost': -0.8462687577981924}}, {'Position': array([[-6.91134298, -2.2726241 , -5.27330542]]), 'cost': nan, 'velocity': array([[-0.7, -0.7, -0.7]]), 'best': {'Position': array([[3.73476459, 3.14176999, 4.41461278]]), 'cost': -0.8462687577981924}}, {'Position': array([[-6.16942378, -3.04587339, -6.34210578]]), 'cost': nan, 'velocity': array([[-0.7, -0.7, -0.7]]), 'best': {'Position': array([[3.73476459, 3.14176999, 4.41461278]]), 'cost': -0.8462687577981924}}, {'Position': array([[-6.26184573, -7.17189838, -1.13155419]]), 'cost': nan, 'velocity': array([[-0.7, -0.7, -0.7]]), 'best': {'Position': array([[3.73476459, 3.14176999, 4.41461278]]), 'cost': -0.8462687577981924}}, {'Position': array([[-7.10495185, -5.64103937, -6.20768923]]), 'cost': nan, 'velocity': array([[-0.7, -0.7, -0.7]]), 'best': {'Position': array([[3.73476459, 3.14176999, 4.41461278]]), 'cost': -0.8462687577981924}}, {'Position': array([[-6.06756758, -3.30833451, -6.33572479]]), 'cost': nan, 'velocity': array([[-0.7, -0.7, -0.7]]), 'best': {'Position': array([[3.73476459, 3.14176999, 4.41461278]]), 'cost': -0.8462687577981924}}, {'Position': array([[-6.76451253, -2.57991645, -3.84040277]]), 'cost': nan, 'velocity': array([[-0.7, -0.7, -0.7]]), 'best': {'Position': array([[3.73476459, 3.14176999, 4.41461278]]), 'cost': -0.8462687577981924}}, {'Position': array([[-2.6992313 , -1.29001523, -4.27286021]]), 'cost': nan, 'velocity': array([[-0.7, -0.7, -0.7]]), 'best': {'Position': array([[3.73476459, 3.14176999, 4.41461278]]), 'cost': -0.8462687577981924}}, {'Position': array([[-2.21645252, -7.74683215, -6.9778023 ]]), 'cost': nan, 'velocity': array([[-0.7, -0.7, -0.7]]), 'best': {'Position': array([[3.73476459, 3.14176999, 4.41461278]]), 'cost': -0.8462687577981924}}, {'Position': array([[-5.6277473 , -7.66511211, -7.29687368]]), 'cost': nan, 'velocity': array([[-0.7, -0.7, -0.7]]), 'best': {'Position': array([[3.73476459, 3.14176999, 4.41461278]]), 'cost': -0.8462687577981924}}, {'Position': array([[-4.47284417, -3.20848329, -1.53010283]]), 'cost': nan, 'velocity': array([[-0.7, -0.7, -0.7]]), 'best': {'Position': array([[3.73476459, 3.14176999, 4.41461278]]), 'cost': -0.8462687577981924}}, {'Position': array([[-7.02529027, -1.9898101 , -4.05705267]]), 'cost': nan, 'velocity': array([[-0.7, -0.7, -0.7]]), 'best': {'Position': array([[3.73476459, 3.14176999, 4.41461278]]), 'cost': -0.8462687577981924}}, {'Position': array([[-7.08711035, -5.71030677, -3.7815492 ]]), 'cost': nan, 'velocity': array([[-0.7, -0.7, -0.7]]), 'best': {'Position': array([[3.73476459, 3.14176999, 4.41461278]]), 'cost': -0.8462687577981924}}, {'Position': array([[-2.52526435, -6.64532922, -4.1905398 ]]), 'cost': nan, 'velocity': array([[-0.7, -0.7, -0.7]]), 'best': {'Position': array([[3.73476459, 3.14176999, 4.41461278]]), 'cost': -0.8462687577981924}}, {'Position': array([[-5.21534911, -5.30365722, -3.8259245 ]]), 'cost': nan, 'velocity': array([[-0.7, -0.7, -0.7]]), 'best': {'Position': array([[3.73476459, 3.14176999, 4.41461278]]), 'cost': -0.8462687577981924}}, {'Position': array([[-2.36869242, -2.62373096, -4.90727317]]), 'cost': nan, 'velocity': array([[-0.7, -0.7, -0.7]]), 'best': {'Position': array([[3.73476459, 3.14176999, 4.41461278]]), 'cost': -0.8462687577981924}}, {'Position': array([[-7.46056069, -5.81070198, -5.56394845]]), 'cost': nan, 'velocity': array([[-0.7, -0.7, -0.7]]), 'best': {'Position': array([[3.73476459, 3.14176999, 4.41461278]]), 'cost': -0.8462687577981924}}, {'Position': array([[-6.32723892, -3.03164774, -3.4207363 ]]), 'cost': nan, 'velocity': array([[-0.7, -0.7, -0.7]]), 'best': {'Position': array([[3.73476459, 3.14176999, 4.41461278]]), 'cost': -0.8462687577981924}}, {'Position': array([[-1.40449936, -7.08021946, -3.51866827]]), 'cost': nan, 'velocity': array([[-0.7, -0.7, -0.7]]), 'best': {'Position': array([[3.73476459, 3.14176999, 4.41461278]]), 'cost': -0.8462687577981924}}, {'Position': array([[-6.18962431, -3.44824406, -5.66245093]]), 'cost': nan, 'velocity': array([[-0.7, -0.7, -0.7]]), 'best': {'Position': array([[3.73476459, 3.14176999, 4.41461278]]), 'cost': -0.8462687577981924}}, {'Position': array([[-4.28323912, -7.39944072, -6.42857407]]), 'cost': nan, 'velocity': array([[-0.7, -0.7, -0.7]]), 'best': {'Position': array([[3.73476459, 3.14176999, 4.41461278]]), 'cost': -0.8462687577981924}}, {'Position': array([[-2.13872026, -6.49977984, -5.83313156]]), 'cost': nan, 'velocity': array([[-0.7, -0.7, -0.7]]), 'best': {'Position': array([[3.73476459, 3.14176999, 4.41461278]]), 'cost': -0.8462687577981924}}, {'Position': array([[-7.26991215, -5.07242539, -4.44331197]]), 'cost': nan, 'velocity': array([[-0.7, -0.7, -0.7]]), 'best': {'Position': array([[3.73476459, 3.14176999, 4.41461278]]), 'cost': -0.8462687577981924}}, {'Position': array([[-4.78315059, -4.19660983, -2.77494254]]), 'cost': nan, 'velocity': array([[-0.7, -0.7, -0.7]]), 'best': {'Position': array([[3.73476459, 3.14176999, 4.41461278]]), 'cost': -0.8462687577981924}}, {'Position': array([[-3.79057265, -4.21747679, -2.30295968]]), 'cost': nan, 'velocity': array([[-0.7, -0.7, -0.7]]), 'best': {'Position': array([[3.73476459, 3.14176999, 4.41461278]]), 'cost': -0.8462687577981924}}, {'Position': array([[-5.37863135, -2.22806573, -3.10425537]]), 'cost': nan, 'velocity': array([[-0.7, -0.7, -0.7]]), 'best': {'Position': array([[3.73476459, 3.14176999, 4.41461278]]), 'cost': -0.8462687577981924}}, {'Position': array([[-1.67958761, -6.24700835, -5.20710806]]), 'cost': nan, 'velocity': array([[-0.7, -0.7, -0.7]]), 'best': {'Position': array([[3.73476459, 3.14176999, 4.41461278]]), 'cost': -0.8462687577981924}}, {'Position': array([[-7.69875204, -4.38525638, -1.62306414]]), 'cost': nan, 'velocity': array([[-0.7, -0.7, -0.7]]), 'best': {'Position': array([[3.73476459, 3.14176999, 4.41461278]]), 'cost': -0.8462687577981924}}, {'Position': array([[-6.03548676, -4.7003853 , -7.21342755]]), 'cost': nan, 'velocity': array([[-0.7, -0.7, -0.7]]), 'best': {'Position': array([[3.73476459, 3.14176999, 4.41461278]]), 'cost': -0.8462687577981924}}, {'Position': array([[-2.46325344, -5.18120013, -3.20370592]]), 'cost': nan, 'velocity': array([[-0.7, -0.7, -0.7]]), 'best': {'Position': array([[3.73476459, 3.14176999, 4.41461278]]), 'cost': -0.8462687577981924}}, {'Position': array([[-1.49641912, -5.93942278, -7.09622676]]), 'cost': nan, 'velocity': array([[-0.7, -0.7, -0.7]]), 'best': {'Position': array([[3.73476459, 3.14176999, 4.41461278]]), 'cost': -0.8462687577981924}}, {'Position': array([[-6.67830306, -3.82119221, -3.14614901]]), 'cost': nan, 'velocity': array([[-0.7, -0.7, -0.7]]), 'best': {'Position': array([[3.73476459, 3.14176999, 4.41461278]]), 'cost': -0.8462687577981924}}, {'Position': array([[-7.58981476, -7.75937397, -4.2005466 ]]), 'cost': nan, 'velocity': array([[-0.7, -0.7, -0.7]]), 'best': {'Position': array([[3.73476459, 3.14176999, 4.41461278]]), 'cost': -0.8462687577981924}}, {'Position': array([[-5.31200331, -7.70297969, -3.05389685]]), 'cost': nan, 'velocity': array([[-0.7, -0.7, -0.7]]), 'best': {'Position': array([[3.73476459, 3.14176999, 4.41461278]]), 'cost': -0.8462687577981924}}, {'Position': array([[-4.11852123, -2.04875269, -5.96540595]]), 'cost': nan, 'velocity': array([[-0.7, -0.7, -0.7]]), 'best': {'Position': array([[3.73476459, 3.14176999, 4.41461278]]), 'cost': -0.8462687577981924}}, {'Position': array([[-4.18575852, -5.68002177, -4.71529185]]), 'cost': nan, 'velocity': array([[-0.7, -0.7, -0.7]]), 'best': {'Position': array([[3.73476459, 3.14176999, 4.41461278]]), 'cost': -0.8462687577981924}}, {'Position': array([[-3.92789292, -6.59087577, -6.37732498]]), 'cost': nan, 'velocity': array([[-0.7, -0.7, -0.7]]), 'best': {'Position': array([[3.73476459, 3.14176999, 4.41461278]]), 'cost': -0.8462687577981924}}, {'Position': array([[-2.31756064, -4.13786767, -6.58907246]]), 'cost': nan, 'velocity': array([[-0.7, -0.7, -0.7]]), 'best': {'Position': array([[3.73476459, 3.14176999, 4.41461278]]), 'cost': -0.8462687577981924}}, {'Position': array([[-7.52921786, -4.2507198 , -6.57683268]]), 'cost': nan, 'velocity': array([[-0.7, -0.7, -0.7]]), 'best': {'Position': array([[3.73476459, 3.14176999, 4.41461278]]), 'cost': -0.8462687577981924}}, {'Position': array([[-4.02939979, -7.89969658, -6.45841065]]), 'cost': nan, 'velocity': array([[-0.7, -0.7, -0.7]]), 'best': {'Position': array([[3.73476459, 3.14176999, 4.41461278]]), 'cost': -0.8462687577981924}}, {'Position': array([[-2.91959158, -4.8680958 , -5.45863102]]), 'cost': nan, 'velocity': array([[-0.7, -0.7, -0.7]]), 'best': {'Position': array([[3.73476459, 3.14176999, 4.41461278]]), 'cost': -0.8462687577981924}}, {'Position': array([[-1.57955677, -7.8596541 , -4.23549165]]), 'cost': nan, 'velocity': array([[-0.7, -0.7, -0.7]]), 'best': {'Position': array([[3.73476459, 3.14176999, 4.41461278]]), 'cost': -0.8462687577981924}}, {'Position': array([[-7.50695072, -7.12766017, -7.40300585]]), 'cost': nan, 'velocity': array([[-0.7, -0.7, -0.7]]), 'best': {'Position': array([[3.73476459, 3.14176999, 4.41461278]]), 'cost': -0.8462687577981924}}, {'Position': array([[-4.60626015, -6.24998611, -1.97949547]]), 'cost': nan, 'velocity': array([[-0.7, -0.7, -0.7]]), 'best': {'Position': array([[3.73476459, 3.14176999, 4.41461278]]), 'cost': -0.8462687577981924}}, {'Position': array([[-5.87496924, -3.13498445, -2.82276813]]), 'cost': nan, 'velocity': array([[-0.7, -0.7, -0.7]]), 'best': {'Position': array([[3.73476459, 3.14176999, 4.41461278]]), 'cost': -0.8462687577981924}}, {'Position': array([[-1.88504749, -5.82068303, -2.71909953]]), 'cost': nan, 'velocity': array([[-0.7, -0.7, -0.7]]), 'best': {'Position': array([[3.73476459, 3.14176999, 4.41461278]]), 'cost': -0.8462687577981924}}, {'Position': array([[-5.03440112, -2.89989646, -5.59520982]]), 'cost': nan, 'velocity': array([[-0.7, -0.7, -0.7]]), 'best': {'Position': array([[3.73476459, 3.14176999, 4.41461278]]), 'cost': -0.8462687577981924}}, {'Position': array([[-4.83197143, -2.48303748, -1.40358529]]), 'cost': nan, 'velocity': array([[-0.7, -0.7, -0.7]]), 'best': {'Position': array([[3.73476459, 3.14176999, 4.41461278]]), 'cost': -0.8462687577981924}}, {'Position': array([[-2.5287839 , -2.72108583, -3.8461658 ]]), 'cost': nan, 'velocity': array([[-0.7, -0.7, -0.7]]), 'best': {'Position': array([[3.73476459, 3.14176999, 4.41461278]]), 'cost': -0.8462687577981924}}, {'Position': array([[-7.83577118, -7.281576  , -5.9778737 ]]), 'cost': nan, 'velocity': array([[-0.7, -0.7, -0.7]]), 'best': {'Position': array([[3.73476459, 3.14176999, 4.41461278]]), 'cost': -0.8462687577981924}}, {'Position': array([[-2.56523541, -3.15823001, -1.88538722]]), 'cost': nan, 'velocity': array([[-0.7, -0.7, -0.7]]), 'best': {'Position': array([[3.73476459, 3.14176999, 4.41461278]]), 'cost': -0.8462687577981924}}, {'Position': array([[-1.56208813, -1.08202326, -3.06201361]]), 'cost': nan, 'velocity': array([[-0.7, -0.7, -0.7]]), 'best': {'Position': array([[3.73476459, 3.14176999, 4.41461278]]), 'cost': -0.8462687577981924}}, {'Position': array([[-1.21403144, -6.53739362, -7.03035242]]), 'cost': nan, 'velocity': array([[-0.7, -0.7, -0.7]]), 'best': {'Position': array([[3.73476459, 3.14176999, 4.41461278]]), 'cost': -0.8462687577981924}}, {'Position': array([[-2.38526265, -4.20360119, -2.57146037]]), 'cost': nan, 'velocity': array([[-0.7, -0.7, -0.7]]), 'best': {'Position': array([[3.73476459, 3.14176999, 4.41461278]]), 'cost': -0.8462687577981924}}, {'Position': array([[-7.7242297 , -6.96319059, -7.4287103 ]]), 'cost': nan, 'velocity': array([[-0.7, -0.7, -0.7]]), 'best': {'Position': array([[3.73476459, 3.14176999, 4.41461278]]), 'cost': -0.8462687577981924}}, {'Position': array([[-5.30370111, -2.73004422, -4.04981169]]), 'cost': nan, 'velocity': array([[-0.7, -0.7, -0.7]]), 'best': {'Position': array([[3.73476459, 3.14176999, 4.41461278]]), 'cost': -0.8462687577981924}}, {'Position': array([[-3.34768751, -2.30565322, -7.90593393]]), 'cost': nan, 'velocity': array([[-0.7, -0.7, -0.7]]), 'best': {'Position': array([[3.73476459, 3.14176999, 4.41461278]]), 'cost': -0.8462687577981924}}, {'Position': array([[-3.70929258, -1.42441728, -6.41340488]]), 'cost': nan, 'velocity': array([[-0.7, -0.7, -0.7]]), 'best': {'Position': array([[3.73476459, 3.14176999, 4.41461278]]), 'cost': -0.8462687577981924}}, {'Position': array([[-5.87829448, -6.86367122, -2.82609559]]), 'cost': nan, 'velocity': array([[-0.7, -0.7, -0.7]]), 'best': {'Position': array([[3.73476459, 3.14176999, 4.41461278]]), 'cost': -0.8462687577981924}}, {'Position': array([[-1.64224544, -5.73905387, -5.41134247]]), 'cost': nan, 'velocity': array([[-0.7, -0.7, -0.7]]), 'best': {'Position': array([[3.73476459, 3.14176999, 4.41461278]]), 'cost': -0.8462687577981924}}, {'Position': array([[-3.88501121, -4.24499197, -6.32455533]]), 'cost': nan, 'velocity': array([[-0.7, -0.7, -0.7]]), 'best': {'Position': array([[3.73476459, 3.14176999, 4.41461278]]), 'cost': -0.8462687577981924}}, {'Position': array([[-5.46372634, -5.57025864, -3.97855304]]), 'cost': nan, 'velocity': array([[-0.7, -0.7, -0.7]]), 'best': {'Position': array([[3.73476459, 3.14176999, 4.41461278]]), 'cost': -0.8462687577981924}}, {'Position': array([[-2.72951928, -6.5113155 , -3.01787674]]), 'cost': nan, 'velocity': array([[-0.7, -0.7, -0.7]]), 'best': {'Position': array([[3.73476459, 3.14176999, 4.41461278]]), 'cost': -0.8462687577981924}}, {'Position': array([[-7.19388153, -4.38386852, -5.29473988]]), 'cost': nan, 'velocity': array([[-0.7, -0.7, -0.7]]), 'best': {'Position': array([[3.73476459, 3.14176999, 4.41461278]]), 'cost': -0.8462687577981924}}, {'Position': array([[-3.05721009, -4.57751099, -3.83998104]]), 'cost': nan, 'velocity': array([[-0.7, -0.7, -0.7]]), 'best': {'Position': array([[3.73476459, 3.14176999, 4.41461278]]), 'cost': -0.8462687577981924}}, {'Position': array([[-4.0356294 , -4.67254939, -7.31276001]]), 'cost': nan, 'velocity': array([[-0.7, -0.7, -0.7]]), 'best': {'Position': array([[3.73476459, 3.14176999, 4.41461278]]), 'cost': -0.8462687577981924}}, {'Position': array([[-1.61361479, -5.25710072, -5.89355883]]), 'cost': nan, 'velocity': array([[-0.7, -0.7, -0.7]]), 'best': {'Position': array([[3.73476459, 3.14176999, 4.41461278]]), 'cost': -0.8462687577981924}}, {'Position': array([[-1.46873253, -7.90353759, -7.8750989 ]]), 'cost': nan, 'velocity': array([[-0.7, -0.7, -0.7]]), 'best': {'Position': array([[3.73476459, 3.14176999, 4.41461278]]), 'cost': -0.8462687577981924}}, {'Position': array([[-3.39792347, -4.06426166, -1.77545088]]), 'cost': nan, 'velocity': array([[-0.7, -0.7, -0.7]]), 'best': {'Position': array([[3.73476459, 3.14176999, 4.41461278]]), 'cost': -0.8462687577981924}}, {'Position': array([[-3.5116428 , -6.0941223 , -6.99780335]]), 'cost': nan, 'velocity': array([[-0.7, -0.7, -0.7]]), 'best': {'Position': array([[3.73476459, 3.14176999, 4.41461278]]), 'cost': -0.8462687577981924}}, {'Position': array([[-7.57616041, -1.7350245 , -2.74029581]]), 'cost': nan, 'velocity': array([[-0.7, -0.7, -0.7]]), 'best': {'Position': array([[3.73476459, 3.14176999, 4.41461278]]), 'cost': -0.8462687577981924}}, {'Position': array([[-4.22522044, -2.83489202, -5.18494207]]), 'cost': nan, 'velocity': array([[-0.7, -0.7, -0.7]]), 'best': {'Position': array([[3.73476459, 3.14176999, 4.41461278]]), 'cost': -0.8462687577981924}}, {'Position': array([[-7.6471386 , -4.60554263, -4.21352224]]), 'cost': nan, 'velocity': array([[-0.7, -0.7, -0.7]]), 'best': {'Position': array([[3.73476459, 3.14176999, 4.41461278]]), 'cost': -0.8462687577981924}}, {'Position': array([[-5.2522605 , -4.84907632, -2.54407187]]), 'cost': nan, 'velocity': array([[-0.7, -0.7, -0.7]]), 'best': {'Position': array([[3.73476459, 3.14176999, 4.41461278]]), 'cost': -0.8462687577981924}}, {'Position': array([[-2.05918733, -4.07617999, -6.52963221]]), 'cost': nan, 'velocity': array([[-0.7, -0.7, -0.7]]), 'best': {'Position': array([[3.73476459, 3.14176999, 4.41461278]]), 'cost': -0.8462687577981924}}, {'Position': array([[-5.73089356, -6.58783942, -2.3689189 ]]), 'cost': nan, 'velocity': array([[-0.7, -0.7, -0.7]]), 'best': {'Position': array([[3.73476459, 3.14176999, 4.41461278]]), 'cost': -0.8462687577981924}}, {'Position': array([[-3.51960582, -6.70251326, -1.70150133]]), 'cost': nan, 'velocity': array([[-0.7, -0.7, -0.7]]), 'best': {'Position': array([[3.73476459, 3.14176999, 4.41461278]]), 'cost': -0.8462687577981924}}, {'Position': array([[-2.58029309, -7.04597301, -3.82169031]]), 'cost': nan, 'velocity': array([[-0.7, -0.7, -0.7]]), 'best': {'Position': array([[3.73476459, 3.14176999, 4.41461278]]), 'cost': -0.8462687577981924}}, {'Position': array([[-4.73179667, -6.06096726, -3.48115081]]), 'cost': nan, 'velocity': array([[-0.7, -0.7, -0.7]]), 'best': {'Position': array([[3.73476459, 3.14176999, 4.41461278]]), 'cost': -0.8462687577981924}}, {'Position': array([[-1.14050126, -6.82276681, -4.70242401]]), 'cost': nan, 'velocity': array([[-0.7, -0.7, -0.7]]), 'best': {'Position': array([[3.73476459, 3.14176999, 4.41461278]]), 'cost': -0.8462687577981924}}, {'Position': array([[-6.83756656, -1.14256502, -2.9899822 ]]), 'cost': nan, 'velocity': array([[-0.7, -0.7, -0.7]]), 'best': {'Position': array([[3.73476459, 3.14176999, 4.41461278]]), 'cost': -0.8462687577981924}}, {'Position': array([[-1.43418706, -4.84499692, -7.68893977]]), 'cost': nan, 'velocity': array([[-0.7, -0.7, -0.7]]), 'best': {'Position': array([[3.73476459, 3.14176999, 4.41461278]]), 'cost': -0.8462687577981924}}, {'Position': array([[-3.66623781, -3.55844978, -1.72015424]]), 'cost': nan, 'velocity': array([[-0.7, -0.7, -0.7]]), 'best': {'Position': array([[3.73476459, 3.14176999, 4.41461278]]), 'cost': -0.8462687577981924}}, {'Position': array([[-3.16464785, -2.85682373, -7.15714896]]), 'cost': nan, 'velocity': array([[-0.7, -0.7, -0.7]]), 'best': {'Position': array([[3.73476459, 3.14176999, 4.41461278]]), 'cost': -0.8462687577981924}}, {'Position': array([[-5.30851683, -4.708286  , -1.19984843]]), 'cost': nan, 'velocity': array([[-0.7, -0.7, -0.7]]), 'best': {'Position': array([[3.73476459, 3.14176999, 4.41461278]]), 'cost': -0.8462687577981924}}, {'Position': array([[-5.39767694, -2.61484327, -3.83930433]]), 'cost': nan, 'velocity': array([[-0.7, -0.7, -0.7]]), 'best': {'Position': array([[3.73476459, 3.14176999, 4.41461278]]), 'cost': -0.8462687577981924}}, {'Position': array([[-5.14112699, -2.25826047, -7.88778752]]), 'cost': nan, 'velocity': array([[-0.7, -0.7, -0.7]]), 'best': {'Position': array([[3.73476459, 3.14176999, 4.41461278]]), 'cost': -0.8462687577981924}}, {'Position': array([[-4.35924445, -7.85856211, -7.24861302]]), 'cost': nan, 'velocity': array([[-0.7, -0.7, -0.7]]), 'best': {'Position': array([[3.73476459, 3.14176999, 4.41461278]]), 'cost': -0.8462687577981924}}, {'Position': array([[-2.10368394, -2.52523461, -7.76050063]]), 'cost': nan, 'velocity': array([[-0.7, -0.7, -0.7]]), 'best': {'Position': array([[3.73476459, 3.14176999, 4.41461278]]), 'cost': -0.8462687577981924}}, {'Position': array([[-4.63930016, -3.59712193, -3.29264443]]), 'cost': nan, 'velocity': array([[-0.7, -0.7, -0.7]]), 'best': {'Position': array([[3.73476459, 3.14176999, 4.41461278]]), 'cost': -0.8462687577981924}}, {'Position': array([[-1.57275695, -5.51834215, -3.61656347]]), 'cost': nan, 'velocity': array([[-0.7, -0.7, -0.7]]), 'best': {'Position': array([[3.73476459, 3.14176999, 4.41461278]]), 'cost': -0.8462687577981924}}, {'Position': array([[-4.91636032, -4.34520894, -7.44573041]]), 'cost': nan, 'velocity': array([[-0.7, -0.7, -0.7]]), 'best': {'Position': array([[3.73476459, 3.14176999, 4.41461278]]), 'cost': -0.8462687577981924}}, {'Position': array([[-1.13438013, -3.11408693, -4.96901452]]), 'cost': nan, 'velocity': array([[-0.7, -0.7, -0.7]]), 'best': {'Position': array([[3.73476459, 3.14176999, 4.41461278]]), 'cost': -0.8462687577981924}}, {'Position': array([[-6.79986202, -7.59455355, -7.09289528]]), 'cost': nan, 'velocity': array([[-0.7, -0.7, -0.7]]), 'best': {'Position': array([[3.73476459, 3.14176999, 4.41461278]]), 'cost': -0.8462687577981924}}, {'Position': array([[-5.26737979, -4.11991308, -2.22697204]]), 'cost': nan, 'velocity': array([[-0.7, -0.7, -0.7]]), 'best': {'Position': array([[3.73476459, 3.14176999, 4.41461278]]), 'cost': -0.8462687577981924}}, {'Position': array([[-5.04276582, -2.1438644 , -7.68476241]]), 'cost': nan, 'velocity': array([[-0.7, -0.7, -0.7]]), 'best': {'Position': array([[3.73476459, 3.14176999, 4.41461278]]), 'cost': -0.8462687577981924}}, {'Position': array([[-2.20959177, -6.89476381, -4.19653066]]), 'cost': nan, 'velocity': array([[-0.7, -0.7, -0.7]]), 'best': {'Position': array([[3.73476459, 3.14176999, 4.41461278]]), 'cost': -0.8462687577981924}}, {'Position': array([[-4.81693512, -6.93449842, -4.08314306]]), 'cost': nan, 'velocity': array([[-0.7, -0.7, -0.7]]), 'best': {'Position': array([[3.73476459, 3.14176999, 4.41461278]]), 'cost': -0.8462687577981924}}, {'Position': array([[-3.02067809, -6.30722729, -1.00410686]]), 'cost': nan, 'velocity': array([[-0.7, -0.7, -0.7]]), 'best': {'Position': array([[3.73476459, 3.14176999, 4.41461278]]), 'cost': -0.8462687577981924}}]\n",
      "\n",
      " global best cost :\n",
      " -0.8462687577981924 ,\n",
      "\n",
      " global best location :\n",
      " [[3.73476459 3.14176999 4.41461278]],\n",
      "\n",
      " bestcost :\n",
      " [{'gcost': -0.8462687577981924, 'gposition': array([[3.73476459, 3.14176999, 4.41461278]])}, {'gcost': -0.8462687577981924, 'gposition': array([[3.73476459, 3.14176999, 4.41461278]])}, {'gcost': -0.8462687577981924, 'gposition': array([[3.73476459, 3.14176999, 4.41461278]])}, {'gcost': -0.8462687577981924, 'gposition': array([[3.73476459, 3.14176999, 4.41461278]])}, {'gcost': -0.8462687577981924, 'gposition': array([[3.73476459, 3.14176999, 4.41461278]])}, {'gcost': -0.8462687577981924, 'gposition': array([[3.73476459, 3.14176999, 4.41461278]])}, {'gcost': -0.8462687577981924, 'gposition': array([[3.73476459, 3.14176999, 4.41461278]])}, {'gcost': -0.8462687577981924, 'gposition': array([[3.73476459, 3.14176999, 4.41461278]])}, {'gcost': -0.8462687577981924, 'gposition': array([[3.73476459, 3.14176999, 4.41461278]])}, {'gcost': -0.8462687577981924, 'gposition': array([[3.73476459, 3.14176999, 4.41461278]])}]\n"
     ]
    },
    {
     "data": {
      "image/png": "[encoded data removed]",
      "text/plain": [
       "<matplotlib.figure.Figure at 0x194d20f5080>"
      ]
     },
     "metadata": {},
     "output_type": "display_data"
    }
   ],
   "source": [
    "pso(fun2,3,-1,6,10,100,True)"
   ]
  },
  {
   "cell_type": "code",
   "execution_count": 510,
   "metadata": {},
   "outputs": [
    {
     "name": "stdout",
     "output_type": "stream",
     "text": [
      "empty particle\n",
      ": []\n",
      "{'Position': array([[-0.56005545, -0.3810341 , -0.214901  ]]), 'cost': 0.5050315332083514, 'velocity': array([[0., 0., 0.]]), 'best': {'Position': array([[-0.56005545, -0.3810341 , -0.214901  ]]), 'cost': 0.5050315332083514}}\n",
      "\n",
      "\n",
      "{'Position': array([[0.55308399, 0.65384374, 0.40340195]]), 'cost': 0.89614665939452, 'velocity': array([[0., 0., 0.]]), 'best': {'Position': array([[0.55308399, 0.65384374, 0.40340195]]), 'cost': 0.89614665939452}}\n",
      "\n",
      "\n",
      "{'Position': array([[ 0.42611357, -0.697931  ,  0.14988635]]), 'cost': 0.6911463805659042, 'velocity': array([[0., 0., 0.]]), 'best': {'Position': array([[ 0.42611357, -0.697931  ,  0.14988635]]), 'cost': 0.6911463805659042}}\n",
      "\n",
      "\n",
      "{'Position': array([[ 0.75269262, -0.69538606, -0.34360309]]), 'cost': 1.1681710416856597, 'velocity': array([[0., 0., 0.]]), 'best': {'Position': array([[ 0.75269262, -0.69538606, -0.34360309]]), 'cost': 1.1681710416856597}}\n",
      "\n",
      "\n",
      "{'Position': array([[ 0.7644507 ,  0.35160138, -0.78797758]]), 'cost': 1.3289170834078972, 'velocity': array([[0., 0., 0.]]), 'best': {'Position': array([[ 0.7644507 ,  0.35160138, -0.78797758]]), 'cost': 1.3289170834078972}}\n",
      "\n",
      "\n",
      "After initialization:\n",
      "[{'Position': array([[-0.56005545, -0.3810341 , -0.214901  ]]), 'cost': 0.5050315332083514, 'velocity': array([[0., 0., 0.]]), 'best': {'Position': array([[ 0.7644507 ,  0.35160138, -0.78797758]]), 'cost': 1.3289170834078972}}, {'Position': array([[0.55308399, 0.65384374, 0.40340195]]), 'cost': 0.89614665939452, 'velocity': array([[0., 0., 0.]]), 'best': {'Position': array([[ 0.7644507 ,  0.35160138, -0.78797758]]), 'cost': 1.3289170834078972}}, {'Position': array([[ 0.42611357, -0.697931  ,  0.14988635]]), 'cost': 0.6911463805659042, 'velocity': array([[0., 0., 0.]]), 'best': {'Position': array([[ 0.7644507 ,  0.35160138, -0.78797758]]), 'cost': 1.3289170834078972}}, {'Position': array([[ 0.75269262, -0.69538606, -0.34360309]]), 'cost': 1.1681710416856597, 'velocity': array([[0., 0., 0.]]), 'best': {'Position': array([[ 0.7644507 ,  0.35160138, -0.78797758]]), 'cost': 1.3289170834078972}}, {'Position': array([[ 0.7644507 ,  0.35160138, -0.78797758]]), 'cost': 1.3289170834078972, 'velocity': array([[0., 0., 0.]]), 'best': {'Position': array([[ 0.7644507 ,  0.35160138, -0.78797758]]), 'cost': 1.3289170834078972}}]\n",
      "Personal cost:1.0874277531088625, Global best cost:1.3289170834078972\n",
      "Personal cost:0.37201479085999284, Global best cost:1.0874277531088625\n",
      "\n",
      " [{'Position': array([[-0.76005545, -0.5810341 , -0.414901  ]]), 'cost': 1.0874277531088625, 'velocity': array([[-0.2, -0.2, -0.2]]), 'best': {'Position': array([[0.35308399, 0.45384374, 0.20340195]]), 'cost': 0.37201479085999284}}, {'Position': array([[0.35308399, 0.45384374, 0.20340195]]), 'cost': 0.37201479085999284, 'velocity': array([[-0.2, -0.2, -0.2]]), 'best': {'Position': array([[0.35308399, 0.45384374, 0.20340195]]), 'cost': 0.37201479085999284}}, {'Position': array([[ 0.22611357, -0.897931  , -0.05011365]]), 'cost': 0.8599188114635699, 'velocity': array([[-0.2, -0.2, -0.2]]), 'best': {'Position': array([[0.35308399, 0.45384374, 0.20340195]]), 'cost': 0.37201479085999284}}, {'Position': array([[ 0.55269262, -0.89538606, -0.54360309]]), 'cost': 1.4026896547384733, 'velocity': array([[-0.2, -0.2, -0.2]]), 'best': {'Position': array([[0.35308399, 0.45384374, 0.20340195]]), 'cost': 0.37201479085999284}}, {'Position': array([[ 0.5644507 ,  0.15160138, -0.98797758]]), 'cost': 1.3176872810862887, 'velocity': array([[-0.2, -0.2, -0.2]]), 'best': {'Position': array([[0.35308399, 0.45384374, 0.20340195]]), 'cost': 0.37201479085999284}}]\n",
      "Personal cost:0.08788292232546566, Global best cost:0.37201479085999284\n",
      "\n",
      " [{'Position': array([[-0.96005545, -0.7810341 , -0.614901  ]]), 'cost': 1.9098239730093736, 'velocity': array([[-0.2, -0.2, -0.2]]), 'best': {'Position': array([[0.15308399, 0.25384374, 0.00340195]]), 'cost': 0.08788292232546566}}, {'Position': array([[0.15308399, 0.25384374, 0.00340195]]), 'cost': 0.08788292232546566, 'velocity': array([[-0.2, -0.2, -0.2]]), 'best': {'Position': array([[0.15308399, 0.25384374, 0.00340195]]), 'cost': 0.08788292232546566}}, {'Position': array([[ 0.02611357, -1.097931  , -0.25011365]]), 'cost': 1.2686912423612355, 'velocity': array([[-0.2, -0.2, -0.2]]), 'best': {'Position': array([[0.15308399, 0.25384374, 0.00340195]]), 'cost': 0.08788292232546566}}, {'Position': array([[ 0.35269262, -1.09538606, -0.74360309]]), 'cost': 1.877208267791287, 'velocity': array([[-0.2, -0.2, -0.2]]), 'best': {'Position': array([[0.15308399, 0.25384374, 0.00340195]]), 'cost': 0.08788292232546566}}, {'Position': array([[ 0.3644507 , -0.04839862, -1.18797758]]), 'cost': 1.54645747876468, 'velocity': array([[-0.2, -0.2, -0.2]]), 'best': {'Position': array([[0.15308399, 0.25384374, 0.00340195]]), 'cost': 0.08788292232546566}}]\n",
      "Personal cost:0.04375105379093847, Global best cost:0.08788292232546566\n",
      "\n",
      " [{'Position': array([[-1.16005545, -0.9810341 , -0.814901  ]]), 'cost': 2.972220192909885, 'velocity': array([[-0.2, -0.2, -0.2]]), 'best': {'Position': array([[-0.04691601,  0.05384374, -0.19659805]]), 'cost': 0.04375105379093847}}, {'Position': array([[-0.04691601,  0.05384374, -0.19659805]]), 'cost': 0.04375105379093847, 'velocity': array([[-0.2, -0.2, -0.2]]), 'best': {'Position': array([[-0.04691601,  0.05384374, -0.19659805]]), 'cost': 0.04375105379093847}}, {'Position': array([[-0.17388643, -1.297931  , -0.45011365]]), 'cost': 1.9174636732589012, 'velocity': array([[-0.2, -0.2, -0.2]]), 'best': {'Position': array([[-0.04691601,  0.05384374, -0.19659805]]), 'cost': 0.04375105379093847}}, {'Position': array([[ 0.15269262, -1.29538606, -0.94360309]]), 'cost': 2.5917268808441003, 'velocity': array([[-0.2, -0.2, -0.2]]), 'best': {'Position': array([[-0.04691601,  0.05384374, -0.19659805]]), 'cost': 0.04375105379093847}}, {'Position': array([[ 0.1644507 , -0.24839862, -1.38797758]]), 'cost': 2.0152276764430717, 'velocity': array([[-0.2, -0.2, -0.2]]), 'best': {'Position': array([[-0.04691601,  0.05384374, -0.19659805]]), 'cost': 0.04375105379093847}}]\n",
      "\n",
      " [{'Position': array([[-1.36005545, -1.1810341 , -1.014901  ]]), 'cost': 4.274616412810396, 'velocity': array([[-0.2, -0.2, -0.2]]), 'best': {'Position': array([[-0.04691601,  0.05384374, -0.19659805]]), 'cost': 0.04375105379093847}}, {'Position': array([[-0.24691601, -0.14615626, -0.39659805]]), 'cost': 0.23961918525641135, 'velocity': array([[-0.2, -0.2, -0.2]]), 'best': {'Position': array([[-0.04691601,  0.05384374, -0.19659805]]), 'cost': 0.04375105379093847}}, {'Position': array([[-0.37388643, -1.497931  , -0.65011365]]), 'cost': 2.806236104156567, 'velocity': array([[-0.2, -0.2, -0.2]]), 'best': {'Position': array([[-0.04691601,  0.05384374, -0.19659805]]), 'cost': 0.04375105379093847}}, {'Position': array([[-0.04730738, -1.49538606, -1.14360309]]), 'cost': 3.5462454938969135, 'velocity': array([[-0.2, -0.2, -0.2]]), 'best': {'Position': array([[-0.04691601,  0.05384374, -0.19659805]]), 'cost': 0.04375105379093847}}, {'Position': array([[-0.0355493 , -0.44839862, -1.58797758]]), 'cost': 2.723997874121463, 'velocity': array([[-0.2, -0.2, -0.2]]), 'best': {'Position': array([[-0.04691601,  0.05384374, -0.19659805]]), 'cost': 0.04375105379093847}}]\n",
      "\n",
      " global best cost :\n",
      " 0.04375105379093847 ,\n",
      "\n",
      " global best location :\n",
      " [[-0.04691601  0.05384374 -0.19659805]],\n",
      "\n",
      " bestcost :\n",
      " [{'gcost': 0.04375105379093847, 'gposition': array([[-0.04691601,  0.05384374, -0.19659805]])}, {'gcost': 0.04375105379093847, 'gposition': array([[-0.04691601,  0.05384374, -0.19659805]])}, {'gcost': 0.04375105379093847, 'gposition': array([[-0.04691601,  0.05384374, -0.19659805]])}, {'gcost': 0.04375105379093847, 'gposition': array([[-0.04691601,  0.05384374, -0.19659805]])}]\n"
     ]
    },
    {
     "data": {
      "image/png": "[encoded data removed]",
      "text/plain": [
       "<matplotlib.figure.Figure at 0x194d1d20390>"
      ]
     },
     "metadata": {},
     "output_type": "display_data"
    }
   ],
   "source": [
    "pso(sphere,3,-1,1,4,5,True)"
   ]
  },
  {
   "cell_type": "code",
   "execution_count": 441,
   "metadata": {},
   "outputs": [
    {
     "data": {
      "text/plain": [
       "'global best cost :\\n 123'"
      ]
     },
     "execution_count": 441,
     "metadata": {},
     "output_type": "execute_result"
    }
   ],
   "source": [
    "'global best cost :\\n %s'%123"
   ]
  },
  {
   "cell_type": "code",
   "execution_count": 443,
   "metadata": {},
   "outputs": [
    {
     "name": "stdout",
     "output_type": "stream",
     "text": [
      "global best cost : \n",
      " 123\n"
     ]
    }
   ],
   "source": [
    "print('global best cost : \\n %s'%123)"
   ]
  },
  {
   "cell_type": "code",
   "execution_count": 516,
   "metadata": {},
   "outputs": [],
   "source": [
    "# define pso function\n",
    "\n",
    "def pso(costfunction,nvar,varmax,varmin,maxiter,nPop,constri_coeff):\n",
    "    \n",
    "    # nPop: Population Size (Swarm Size)\n",
    "    \n",
    "    # nvar: Number of Decision Variables (search space)\n",
    "    # each decision variable is the each particle's location\n",
    "    # type : tuple\n",
    "    varsize=(1,nvar)\n",
    "    \n",
    "    if constri_coeff:\n",
    "        #Constriction Coefficients\n",
    "        phi1=2.05\n",
    "        phi2=2.05\n",
    "        phi=phi1+phi2\n",
    "        chi=2/(phi-2+np.sqrt(phi**2-4*phi))\n",
    "        w=chi         \n",
    "        wdamp=1       \n",
    "        c1=chi*phi1   \n",
    "        c2=chi*phi2   \n",
    "    else:\n",
    "        w=1            # Inertia Weight\n",
    "        wdamp=0.99     # Inertia Weight Damping Ratio\n",
    "        c1=1.5         # Personal Learning Coefficient\n",
    "        c2=2.0         # Global Learning Coefficient\n",
    "    \n",
    "    # Velocity Limits\n",
    "    VelMax=0.1*(varmax-varmin)\n",
    "    VelMin= -VelMax\n",
    "    \n",
    "    # Initialization\n",
    "    empty_particle={}\n",
    "    best={}\n",
    "    \n",
    "    # only one! 沒有每一個particle都有，整體只有一個\n",
    "    # set initial global best to infinite\n",
    "    Globalbest={'gcost':np.inf,'gposition':None}\n",
    "    \n",
    "    Position=[]\n",
    "    cost=[]\n",
    "    velocity=[]\n",
    "    particle=[]\n",
    "    best.update({'Position':Position,'cost':cost})\n",
    "    \n",
    "    empty_particle.update({'Position':[],'cost':[],'velocity':[],'best':best})\n",
    "    \n",
    "    print('empty particle\\n: %s'%particle)\n",
    "    \n",
    "    #initialize population's position , velocity , evaluation\n",
    "    \n",
    "    for i in range(nPop):\n",
    "        \n",
    "        particle.append(empty_particle.copy())\n",
    "        \n",
    "        # initialize position\n",
    "        particle[i]['Position']= np.random.uniform(varmin,varmax,size=varsize)       \n",
    "        \n",
    "        # initialize velocity\n",
    "        particle[i]['velocity']=np.zeros(varsize)\n",
    "        \n",
    "        # evaluation\n",
    "        particle[i]['cost']= costfunction(particle[i]['Position'])\n",
    "        \n",
    "        print(particle[i])\n",
    "        \n",
    "        # update personal best\n",
    "        particle[i]['best']['Position']= particle[i]['Position'].copy()\n",
    "        particle[i]['best']['cost']=particle[i]['cost'].copy()\n",
    "        \n",
    "        # update global best\n",
    "        if (particle[i]['best']['cost']) <Globalbest['gcost']:\n",
    "            Globalbest['gcost'] = (particle[i]['best']['cost'].copy())\n",
    "            Globalbest['gposition'] = (particle[i]['best']['Position'].copy())\n",
    "\n",
    "        print(particle[i])\n",
    "        print('\\n')\n",
    "        \n",
    "    print('After initialization:\\n%s'%particle)\n",
    "\n",
    "    bestcost=[]\n",
    "    \n",
    "    for it in range(maxiter):\n",
    "        \n",
    "        for i in range(0, nPop):\n",
    "            \n",
    "            ## update velocity\n",
    "            \n",
    "            particle[i]['velocity'] = w*particle[i]['velocity'] +\\\n",
    "                        c1*np.random.random(varsize)*(particle[i]['best']['Position']-particle[i]['Position'])+\\\n",
    "                        c2*np.random.random(varsize)*(Globalbest['gposition']-particle[i]['Position'])\n",
    "            \n",
    "            # Apply Velocity Limits\n",
    "            particle[i]['velocity']=np.maximum(particle[i]['velocity'],VelMin)\n",
    "            particle[i]['velocity']=np.minimum(particle[i]['velocity'],VelMax)\n",
    "            \n",
    "            # Update Position\n",
    "            \n",
    "            particle[i]['Position'] += particle[i]['velocity']\n",
    "            \n",
    "            # Evaluation\n",
    "            \n",
    "            particle[i]['cost'] = costfunction(particle[i]['Position'])\n",
    "            \n",
    "            # Update Personal Best\n",
    "            \n",
    "            #print('cost:%s'%particle[i]['cost'])\n",
    "            #print('total cost:%s'%particle[i]['best']['cost'])\n",
    "            plt.plot(particle[i]['best']['cost'],color='r')\n",
    "            \n",
    "            if  particle[i]['cost'] < particle[i]['best']['cost']:\n",
    "                \n",
    "                print('Personal cost:%s'%particle[i]['cost']+', Global best cost:%s'%particle[i]['best']['cost'])\n",
    "                \n",
    "                particle[i]['best']['Position'] = particle[i]['Position'].copy()\n",
    "                particle[i]['best']['cost'] = particle[i]['cost'].copy()\n",
    "                \n",
    "                # Update Global Best\n",
    "                \n",
    "                if particle[i]['best']['cost'].sum()<Globalbest['gcost']:\n",
    "                    \n",
    "                    Globalbest['gcost']=particle[i]['best']['cost'].copy()\n",
    "                    Globalbest['gposition']=particle[i]['best']['Position'].copy()\n",
    "        \n",
    "        print('\\n %s'%particle)\n",
    "        bestcost.append(Globalbest)\n",
    "        \n",
    "        w=w*wdamp\n",
    "    \n",
    "    return print('\\n global best cost :\\n %s '%Globalbest['gcost']+',\\n\\n global best location :\\n %s'%Globalbest['gposition']+',\\n\\n bestcost :\\n %s'%bestcost)"
   ]
  },
  {
   "cell_type": "code",
   "execution_count": 205,
   "metadata": {},
   "outputs": [],
   "source": [
    "# define pso function\n",
    "\n",
    "def pso(costfunction,nvar,varmax,varmin,maxiter,nPop,constri_coeff):\n",
    "    \n",
    "    # type : tuple\n",
    "    varsize=(1,nvar)\n",
    "    \n",
    "    if constri_coeff:\n",
    "        #Constriction Coefficients\n",
    "        phi1=2.05\n",
    "        phi2=2.05\n",
    "        phi=phi1+phi2\n",
    "        chi=2/(phi-2+np.sqrt(phi**2-4*phi))\n",
    "        w=chi         \n",
    "        wdamp=1       \n",
    "        c1=chi*phi1   \n",
    "        c2=chi*phi2   \n",
    "    else:\n",
    "        w=1            # Inertia Weight\n",
    "        wdamp=0.99     # Inertia Weight Damping Ratio\n",
    "        c1=1.5         # Personal Learning Coefficient\n",
    "        c2=2.0         # Global Learning Coefficient\n",
    "    \n",
    "    # Velocity Limits\n",
    "    VelMax=0.1*(varmax-varmin)\n",
    "    VelMin= -VelMax\n",
    "    \n",
    "    # Initialization\n",
    "    empty_particle={}\n",
    "    best={}\n",
    "    #Globalbest={}\n",
    "    \n",
    "    Position=[]\n",
    "    cost=[]\n",
    "    velocity=[]\n",
    "    \n",
    "    best.update({'Position':Position,'cost':cost})\n",
    "    empty_particle.update({'Position':[],'cost':[],'velocity':[],'best':best})\n",
    "    #Globalbest.update('best':best)\n",
    "    \n",
    "    # Repeat copies of array\n",
    "    particle=np.tile(empty_particle,(nPop,))\n",
    "    print(particle)\n",
    "    print('----------------------')\n",
    "    # set initial global best to infinite\n",
    "    \n",
    "    Globalbest=np.inf\n",
    "    \n",
    "    #initialize position , velocity , evaluation\n",
    "    \n",
    "    for i in range(nPop):\n",
    "        \n",
    "        # initialize position\n",
    "        particle[i]['Position']= np.random.uniform(varmin,varmax,size=varsize)\n",
    "        #print(np.random.uniform(varmin,varmax,size=varsize))\n",
    "        \n",
    "        \n",
    "        # initialize velocity\n",
    "        particle[i]['velocity']=np.zeros(varsize)\n",
    "        print(particle[i]['velocity'])\n",
    "        \n",
    "        # evaluation\n",
    "        particle[i]['cost']=costfunction(particle[i]['Position'])\n",
    "        #print(particle)\n",
    "        \n",
    "        # update personal best\n",
    "        particle[i]['best']['Position']=particle[i]['Position']\n",
    "        particle[i]['best']['cost']=particle[i]['cost']\n",
    "        \n",
    "        #print(particle[i]['best']['cost'])\n",
    "        \n",
    "        # update global best\n",
    "        if (particle[i]['best']['cost']).any() <Globalbest:\n",
    "            Globalbest = (particle[i]['best']['cost']).any()\n",
    "    \n",
    "    print(particle)\n",
    "    bestcost=np.zeros(shape=(maxiter,1))\n",
    "    \n",
    "    for i in range(maxiter):\n",
    "        \n",
    "        ## update velocity\n",
    "        #particle[i]['velocity'] =w*particle[i]['velocity'] +\\\n",
    "        #c1*np.random.random(varsize)*(particle[i]['best']['Position']-particle[i]['Position'])+\\\n",
    "        #c2*np.random.random(varsize)*(Globalbest[i]['best']['Position']-particle[i]['Position'])\n",
    "        \n",
    "        # Apply Velocity Limits\n",
    "        particle[i]['velocity']=max(particle[i]['velocity'],VelMin)\n",
    "        particle[i]['velocity']=min(particle[i]['velocity'].any(),VelMax)\n",
    "        \n",
    "        # Update Position\n",
    "        \n",
    "        particle[i]['Position'] = particle[i]['Position'] + particle[i]['velocity']\n",
    "        \n",
    "        # Evaluation\n",
    "        \n",
    "        particle[i]['cost'] =costfunction(particle[i]['Position'])\n",
    "        \n",
    "        # Update Personal Best\n",
    "        \n",
    "        if  particle[i]['cost'] < particle[i]['best']['cost']:\n",
    "            \n",
    "            particle[i]['best']['position'] = particle[i]['Position']\n",
    "            particle[i]['best']['cost'] = particle[i]['cost']\n",
    "            \n",
    "            if particle[i]['best']['cost']<Globalbest:\n",
    "                \n",
    "                Globalbest=particle[i]['best']['cost']\n",
    "            \n",
    "        bestcost[i]=Globalbest\n",
    "        \n",
    "        w=w*wdamp\n",
    "    \n",
    "    Bestsol = Globalbest"
   ]
  },
  {
   "cell_type": "code",
   "execution_count": 310,
   "metadata": {},
   "outputs": [
    {
     "data": {
      "text/plain": [
       "5"
      ]
     },
     "execution_count": 310,
     "metadata": {},
     "output_type": "execute_result"
    }
   ],
   "source": [
    "sum(a)\n"
   ]
  },
  {
   "cell_type": "code",
   "execution_count": 266,
   "metadata": {},
   "outputs": [
    {
     "data": {
      "text/plain": [
       "[2, 3]"
      ]
     },
     "execution_count": 266,
     "metadata": {},
     "output_type": "execute_result"
    }
   ],
   "source": [
    "a=[]\n",
    "a.append(2)\n",
    "a.append(3)\n",
    "a"
   ]
  },
  {
   "cell_type": "code",
   "execution_count": 214,
   "metadata": {},
   "outputs": [
    {
     "data": {
      "text/plain": [
       "'global best cost : 12,24'"
      ]
     },
     "execution_count": 214,
     "metadata": {},
     "output_type": "execute_result"
    }
   ],
   "source": [
    "'global best cost : %s'%12+',%s'%24"
   ]
  },
  {
   "cell_type": "code",
   "execution_count": 205,
   "metadata": {},
   "outputs": [],
   "source": [
    "# define pso function\n",
    "\n",
    "def pso(costfunction,nvar,varmax,varmin,maxiter,nPop,constri_coeff):\n",
    "    \n",
    "    # type : tuple\n",
    "    varsize=(1,nvar)\n",
    "    \n",
    "    if constri_coeff:\n",
    "        #Constriction Coefficients\n",
    "        phi1=2.05\n",
    "        phi2=2.05\n",
    "        phi=phi1+phi2\n",
    "        chi=2/(phi-2+np.sqrt(phi**2-4*phi))\n",
    "        w=chi         \n",
    "        wdamp=1       \n",
    "        c1=chi*phi1   \n",
    "        c2=chi*phi2   \n",
    "    else:\n",
    "        w=1            # Inertia Weight\n",
    "        wdamp=0.99     # Inertia Weight Damping Ratio\n",
    "        c1=1.5         # Personal Learning Coefficient\n",
    "        c2=2.0         # Global Learning Coefficient\n",
    "    \n",
    "    # Velocity Limits\n",
    "    VelMax=0.1*(varmax-varmin)\n",
    "    VelMin= -VelMax\n",
    "    \n",
    "    # Initialization\n",
    "    empty_particle={}\n",
    "    best={}\n",
    "    #Globalbest={}\n",
    "    \n",
    "    Position=[]\n",
    "    cost=[]\n",
    "    velocity=[]\n",
    "    \n",
    "    best.update({'Position':Position,'cost':cost})\n",
    "    empty_particle.update({'Position':[],'cost':[],'velocity':[],'best':best})\n",
    "    #Globalbest.update('best':best)\n",
    "    \n",
    "    # Repeat copies of array\n",
    "    particle=np.tile(empty_particle,(nPop,))\n",
    "    print(particle)\n",
    "    print('----------------------')\n",
    "    # set initial global best to infinite\n",
    "    \n",
    "    Globalbest=np.inf\n",
    "    \n",
    "    #initialize position , velocity , evaluation\n",
    "    \n",
    "    for i in range(nPop):\n",
    "        \n",
    "        # initialize position\n",
    "        particle[i]['Position']= np.random.uniform(varmin,varmax,size=varsize)\n",
    "        #print(np.random.uniform(varmin,varmax,size=varsize))\n",
    "        \n",
    "        \n",
    "        # initialize velocity\n",
    "        particle[i]['velocity']=np.zeros(varsize)\n",
    "        print(particle[i]['velocity'])\n",
    "        \n",
    "        # evaluation\n",
    "        particle[i]['cost']=costfunction(particle[i]['Position'])\n",
    "        #print(particle)\n",
    "        \n",
    "        # update personal best\n",
    "        particle[i]['best']['Position']=particle[i]['Position']\n",
    "        particle[i]['best']['cost']=particle[i]['cost']\n",
    "        \n",
    "        #print(particle[i]['best']['cost'])\n",
    "        \n",
    "        # update global best\n",
    "        if (particle[i]['best']['cost']).any() <Globalbest:\n",
    "            Globalbest = (particle[i]['best']['cost']).any()\n",
    "    \n",
    "    print(particle)\n",
    "    bestcost=np.zeros(shape=(maxiter,1))\n",
    "    \n",
    "    for i in range(maxiter):\n",
    "        \n",
    "        ## update velocity\n",
    "        #particle[i]['velocity'] =w*particle[i]['velocity'] +\\\n",
    "        #c1*np.random.random(varsize)*(particle[i]['best']['Position']-particle[i]['Position'])+\\\n",
    "        #c2*np.random.random(varsize)*(Globalbest[i]['best']['Position']-particle[i]['Position'])\n",
    "        \n",
    "        # Apply Velocity Limits\n",
    "        particle[i]['velocity']=max(particle[i]['velocity'],VelMin)\n",
    "        particle[i]['velocity']=min(particle[i]['velocity'].any(),VelMax)\n",
    "        \n",
    "        # Update Position\n",
    "        \n",
    "        particle[i]['Position'] = particle[i]['Position'] + particle[i]['velocity']\n",
    "        \n",
    "        # Evaluation\n",
    "        \n",
    "        particle[i]['cost'] =costfunction(particle[i]['Position'])\n",
    "        \n",
    "        # Update Personal Best\n",
    "        \n",
    "        if  particle[i]['cost'] < particle[i]['best']['cost']:\n",
    "            \n",
    "            particle[i]['best']['position'] = particle[i]['Position']\n",
    "            particle[i]['best']['cost'] = particle[i]['cost']\n",
    "            \n",
    "            if particle[i]['best']['cost']<Globalbest:\n",
    "                \n",
    "                Globalbest=particle[i]['best']['cost']\n",
    "            \n",
    "        bestcost[i]=Globalbest\n",
    "        \n",
    "        w=w*wdamp\n",
    "    \n",
    "    Bestsol = Globalbest"
   ]
  }
 ],
 "metadata": {
  "kernelspec": {
   "display_name": "Python [default]",
   "language": "python",
   "name": "python3"
  },
  "language_info": {
   "codemirror_mode": {
    "name": "ipython",
    "version": 3
   },
   "file_extension": ".py",
   "mimetype": "text/x-python",
   "name": "python",
   "nbconvert_exporter": "python",
   "pygments_lexer": "ipython3",
   "version": "3.6.4"
  }
 },
 "nbformat": 4,
 "nbformat_minor": 2
}
